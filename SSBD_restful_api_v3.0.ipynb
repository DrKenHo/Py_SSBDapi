{
 "cells": [
  {
   "cell_type": "markdown",
   "metadata": {},
   "source": [
    "## Examples to access SSBD using REST API version 3.0\n",
    "\n",
    "The following are some examples of accessing SSBD via REST API directly using Python."
   ]
  },
  {
   "cell_type": "code",
   "execution_count": 1,
   "metadata": {
    "collapsed": true
   },
   "outputs": [],
   "source": [
    "%config InlineBackend.figure_formats=['png']"
   ]
  },
  {
   "cell_type": "code",
   "execution_count": 2,
   "metadata": {
    "collapsed": true
   },
   "outputs": [],
   "source": [
    "from IPython.display import display"
   ]
  },
  {
   "cell_type": "code",
   "execution_count": 3,
   "metadata": {
    "collapsed": true
   },
   "outputs": [],
   "source": [
    "import matplotlib.pyplot as plt\n",
    "import numpy as np\n",
    "import pandas as pd"
   ]
  },
  {
   "cell_type": "code",
   "execution_count": 4,
   "metadata": {
    "collapsed": true
   },
   "outputs": [],
   "source": [
    "from mpl_toolkits.mplot3d import Axes3D\n",
    "from mpl_toolkits.mplot3d import proj3d"
   ]
  },
  {
   "cell_type": "code",
   "execution_count": 5,
   "metadata": {
    "collapsed": false
   },
   "outputs": [],
   "source": [
    "%matplotlib inline"
   ]
  },
  {
   "cell_type": "code",
   "execution_count": 6,
   "metadata": {
    "collapsed": true
   },
   "outputs": [],
   "source": [
    "from math import sqrt"
   ]
  },
  {
   "cell_type": "markdown",
   "metadata": {},
   "source": [
    "## Loading ivisual library allows iPython to use VPython to display 3D graphics\n",
    "\n",
    "* Installing ivisual can be found here https://github.com/mwcraig/ivisual-notebook-info"
   ]
  },
  {
   "cell_type": "code",
   "execution_count": 7,
   "metadata": {
    "collapsed": false
   },
   "outputs": [
    {
     "data": {
      "text/html": [
       "<div id=\"scene0\"><div id=\"glowscript\" class=\"glowscript\"></div></div>"
      ],
      "text/plain": [
       "<IPython.core.display.HTML object>"
      ]
     },
     "metadata": {},
     "output_type": "display_data"
    },
    {
     "data": {
      "application/javascript": [
       "require.undef(\"nbextensions/glow.1.0.min\");"
      ],
      "text/plain": [
       "<IPython.core.display.Javascript object>"
      ]
     },
     "metadata": {},
     "output_type": "display_data"
    },
    {
     "data": {
      "application/javascript": [
       "require.undef(\"nbextensions/jquery-ui.custom.min\");"
      ],
      "text/plain": [
       "<IPython.core.display.Javascript object>"
      ]
     },
     "metadata": {},
     "output_type": "display_data"
    },
    {
     "data": {
      "application/javascript": [
       "require.undef(\"nbextensions/glow.1.1.min\");"
      ],
      "text/plain": [
       "<IPython.core.display.Javascript object>"
      ]
     },
     "metadata": {},
     "output_type": "display_data"
    },
    {
     "data": {
      "application/javascript": [
       "require.undef(\"nbextensions/glow.1.2.min\");"
      ],
      "text/plain": [
       "<IPython.core.display.Javascript object>"
      ]
     },
     "metadata": {},
     "output_type": "display_data"
    },
    {
     "data": {
      "application/javascript": [
       "require.undef(\"nbextensions/glow.2.0.min\");"
      ],
      "text/plain": [
       "<IPython.core.display.Javascript object>"
      ]
     },
     "metadata": {},
     "output_type": "display_data"
    },
    {
     "data": {
      "application/javascript": [
       "require.undef(\"nbextensions/glowcomm\");"
      ],
      "text/plain": [
       "<IPython.core.display.Javascript object>"
      ]
     },
     "metadata": {},
     "output_type": "display_data"
    },
    {
     "data": {
      "application/javascript": [
       "require.undef(\"nbextensions/ivglowcomm\");"
      ],
      "text/plain": [
       "<IPython.core.display.Javascript object>"
      ]
     },
     "metadata": {},
     "output_type": "display_data"
    },
    {
     "data": {
      "application/javascript": [
       "require([\"nbextensions/ivglowcomm\"], function(){console.log(\"ivisual glowcomm loaded\");})"
      ],
      "text/plain": [
       "<IPython.core.display.Javascript object>"
      ]
     },
     "metadata": {},
     "output_type": "display_data"
    }
   ],
   "source": [
    "from ivisual import *"
   ]
  },
  {
   "cell_type": "markdown",
   "metadata": {},
   "source": [
    "## Loading json library allows iPython to deal with JSON formatted data"
   ]
  },
  {
   "cell_type": "code",
   "execution_count": 8,
   "metadata": {
    "collapsed": true
   },
   "outputs": [],
   "source": [
    "import json"
   ]
  },
  {
   "cell_type": "markdown",
   "metadata": {},
   "source": [
    "## Loading requests to access REST API"
   ]
  },
  {
   "cell_type": "code",
   "execution_count": 9,
   "metadata": {
    "collapsed": true
   },
   "outputs": [],
   "source": [
    "import requests"
   ]
  },
  {
   "cell_type": "markdown",
   "metadata": {},
   "source": [
    "# Requesting SSBD_REST API\n",
    "* Using data\n",
    "* finding localID that contains the phrase wt (i.e. wild type)"
   ]
  },
  {
   "cell_type": "code",
   "execution_count": 10,
   "metadata": {
    "collapsed": false
   },
   "outputs": [
    {
     "name": "stderr",
     "output_type": "stream",
     "text": [
      "(MainThread) Starting new HTTP connection (1): ssbd.qbic.riken.jp\n",
      "(MainThread) http://ssbd.qbic.riken.jp:80 \"GET /SSBD/api/v3/data/?format=json;localID__icontains=wt HTTP/1.1\" 200 None\n"
     ]
    },
    {
     "name": "stdout",
     "output_type": "stream",
     "text": [
      "resp: <Response [200]>\n"
     ]
    }
   ],
   "source": [
    "resp = requests.get('http://ssbd.qbic.riken.jp/SSBD/api/v3/data/?format=json;localID__icontains=wt')\n",
    "print \"resp:\", resp\n",
    "if resp.status_code != 200:\n",
    "    # This means something went wrong.\n",
    "    raise ApiError('GET /tasks/ {}'.format(resp.status_code))\n",
    "\n",
    "#print resp.text\n",
    "bdmldata = resp.json()\n",
    "#for todo_item in bdmldata:\n",
    "#    print('{} {}'.format(todo_item['id'], todo_item['summary']))"
   ]
  },
  {
   "cell_type": "code",
   "execution_count": 11,
   "metadata": {
    "collapsed": false
   },
   "outputs": [
    {
     "name": "stdout",
     "output_type": "stream",
     "text": [
      "<type 'dict'>\n",
      "meta= {u'previous': None, u'total_count': 53, u'offset': 0, u'limit': 20, u'next': u'/SSBD/api/v3/data/?localID__icontains=wt&offset=20&limit=20&format=json'}\n",
      "total_count= 53\n",
      "description= quantitative information about nuclear division dynamics in wild-type embryo\n",
      "basedon= Experiment\n",
      "bdmlID= 203b5c86-2280-437b-8807-d97c8126f79a\n",
      "datatype= nuclear division dynamics\n",
      "dblink= http://so.qbic.riken.jp/wddd/\n",
      "gene= None\n",
      "license= CC BY-SA\n",
      "method_summary= See details in Kyoda et al. (2013) Nucleic Acids Res 41, D732-D737.\n",
      "organism= C. elegans\n",
      "localID= wt(N2)030131_01\n",
      "orf= None\n",
      "release= 2017-12-20\n",
      "schema_ver= 3.000\n",
      "------------------------\n",
      "description= quantitative information about nuclear division dynamics in wild-type embryo\n",
      "basedon= Experiment\n",
      "bdmlID= 44a49534-e76c-4641-b78f-762fb354c8d6\n",
      "datatype= nuclear division dynamics\n",
      "dblink= http://so.qbic.riken.jp/wddd/\n",
      "gene= None\n",
      "license= CC BY-SA\n",
      "method_summary= See details in Kyoda et al. (2013) Nucleic Acids Res 41, D732-D737.\n",
      "organism= C. elegans\n",
      "localID= wt(N2)030131_03\n",
      "orf= None\n",
      "release= 2017-12-20\n",
      "schema_ver= 3.000\n",
      "------------------------\n",
      "description= quantitative information about nuclear division dynamics in wild-type embryo\n",
      "basedon= Experiment\n",
      "bdmlID= bb1b2688-cad0-4dc6-a7a4-4ff6f34b275b\n",
      "datatype= nuclear division dynamics\n",
      "dblink= http://so.qbic.riken.jp/wddd/\n",
      "gene= None\n",
      "license= CC BY-SA\n",
      "method_summary= See details in Kyoda et al. (2013) Nucleic Acids Res 41, D732-D737.\n",
      "organism= C. elegans\n",
      "localID= wt(N2)030203_01\n",
      "orf= None\n",
      "release= 2017-12-20\n",
      "schema_ver= 3.000\n",
      "------------------------\n",
      "description= quantitative information about nuclear division dynamics in wild-type embryo\n",
      "basedon= Experiment\n",
      "bdmlID= 521ef3a0-3121-4de5-9022-8c48691ee4ce\n",
      "datatype= nuclear division dynamics\n",
      "dblink= http://so.qbic.riken.jp/wddd/\n",
      "gene= None\n",
      "license= CC BY-SA\n",
      "method_summary= See details in Kyoda et al. (2013) Nucleic Acids Res 41, D732-D737.\n",
      "organism= C. elegans\n",
      "localID= wt(N2)030116_02\n",
      "orf= None\n",
      "release= 2017-12-20\n",
      "schema_ver= 3.000\n",
      "------------------------\n",
      "description= quantitative information about nuclear division dynamics in wild-type embryo\n",
      "basedon= Experiment\n",
      "bdmlID= 38ae8179-5c65-4c8a-9fa8-2a892ac3eb9d\n",
      "datatype= nuclear division dynamics\n",
      "dblink= http://so.qbic.riken.jp/wddd/\n",
      "gene= None\n",
      "license= CC BY-SA\n",
      "method_summary= See details in Kyoda et al. (2013) Nucleic Acids Res 41, D732-D737.\n",
      "organism= C. elegans\n",
      "localID= wt(N2)030124_02\n",
      "orf= None\n",
      "release= 2017-12-20\n",
      "schema_ver= 3.000\n",
      "------------------------\n",
      "description= quantitative information about nuclear division dynamics in wild-type embryo\n",
      "basedon= Experiment\n",
      "bdmlID= 7e0d3df0-573b-48d2-9e5a-7736f78e9e55\n",
      "datatype= nuclear division dynamics\n",
      "dblink= http://so.qbic.riken.jp/wddd/\n",
      "gene= None\n",
      "license= CC BY-SA\n",
      "method_summary= See details in Kyoda et al. (2013) Nucleic Acids Res 41, D732-D737.\n",
      "organism= C. elegans\n",
      "localID= wt(N2)030127_01\n",
      "orf= None\n",
      "release= 2017-12-20\n",
      "schema_ver= 3.000\n",
      "------------------------\n",
      "description= quantitative information about nuclear division dynamics in wild-type embryo\n",
      "basedon= Experiment\n",
      "bdmlID= a423f384-9d39-4240-94ee-7f5c31581986\n",
      "datatype= nuclear division dynamics\n",
      "dblink= http://so.qbic.riken.jp/wddd/\n",
      "gene= None\n",
      "license= CC BY-SA\n",
      "method_summary= See details in Kyoda et al. (2013) Nucleic Acids Res 41, D732-D737.\n",
      "organism= C. elegans\n",
      "localID= wt(N2)030210_01\n",
      "orf= None\n",
      "release= 2017-12-20\n",
      "schema_ver= 3.000\n",
      "------------------------\n",
      "description= quantitative information about nuclear division dynamics in wild-type embryo\n",
      "basedon= Experiment\n",
      "bdmlID= ef48f7c4-c999-48ba-aae5-91e8d537b8ef\n",
      "datatype= nuclear division dynamics\n",
      "dblink= http://so.qbic.riken.jp/wddd/\n",
      "gene= None\n",
      "license= CC BY-SA\n",
      "method_summary= See details in Kyoda et al. (2013) Nucleic Acids Res 41, D732-D737.\n",
      "organism= C. elegans\n",
      "localID= wt(N2)030210_02\n",
      "orf= None\n",
      "release= 2017-12-20\n",
      "schema_ver= 3.000\n",
      "------------------------\n",
      "description= quantitative information about nuclear division dynamics in wild-type embryo\n",
      "basedon= Experiment\n",
      "bdmlID= cc5f358b-870d-44ee-9304-78f7c1d6ed5f\n",
      "datatype= nuclear division dynamics\n",
      "dblink= http://so.qbic.riken.jp/wddd/\n",
      "gene= None\n",
      "license= CC BY-SA\n",
      "method_summary= See details in Kyoda et al. (2013) Nucleic Acids Res 41, D732-D737.\n",
      "organism= C. elegans\n",
      "localID= wt(N2)030210_03\n",
      "orf= None\n",
      "release= 2017-12-20\n",
      "schema_ver= 3.000\n",
      "------------------------\n",
      "description= quantitative information about nuclear division dynamics in wild-type embryo\n",
      "basedon= Experiment\n",
      "bdmlID= 43250fa2-f24b-4aee-8f14-d752b5c995c4\n",
      "datatype= nuclear division dynamics\n",
      "dblink= http://so.qbic.riken.jp/wddd/\n",
      "gene= None\n",
      "license= CC BY-SA\n",
      "method_summary= See details in Kyoda et al. (2013) Nucleic Acids Res 41, D732-D737.\n",
      "organism= C. elegans\n",
      "localID= wt(N2)030212_01\n",
      "orf= None\n",
      "release= 2017-12-20\n",
      "schema_ver= 3.000\n",
      "------------------------\n",
      "description= quantitative information about nuclear division dynamics in wild-type embryo\n",
      "basedon= Experiment\n",
      "bdmlID= b460470d-df02-4b9f-a3e7-7b1a66b6e341\n",
      "datatype= nuclear division dynamics\n",
      "dblink= http://so.qbic.riken.jp/wddd/\n",
      "gene= None\n",
      "license= CC BY-SA\n",
      "method_summary= See details in Kyoda et al. (2013) Nucleic Acids Res 41, D732-D737.\n",
      "organism= C. elegans\n",
      "localID= wt(N2)030212_02\n",
      "orf= None\n",
      "release= 2017-12-20\n",
      "schema_ver= 3.000\n",
      "------------------------\n",
      "description= quantitative information about nuclear division dynamics in wild-type embryo\n",
      "basedon= Experiment\n",
      "bdmlID= 0c0a1c04-fb42-4271-94fd-b4600addfa9c\n",
      "datatype= nuclear division dynamics\n",
      "dblink= http://so.qbic.riken.jp/wddd/\n",
      "gene= None\n",
      "license= CC BY-SA\n",
      "method_summary= See details in Kyoda et al. (2013) Nucleic Acids Res 41, D732-D737.\n",
      "organism= C. elegans\n",
      "localID= wt(N2)030213_02\n",
      "orf= None\n",
      "release= 2017-12-20\n",
      "schema_ver= 3.000\n",
      "------------------------\n",
      "description= quantitative information about nuclear division dynamics in wild-type embryo\n",
      "basedon= Experiment\n",
      "bdmlID= 34574809-7b05-4167-857a-6e81bbbae160\n",
      "datatype= nuclear division dynamics\n",
      "dblink= http://so.qbic.riken.jp/wddd/\n",
      "gene= None\n",
      "license= CC BY-SA\n",
      "method_summary= See details in Kyoda et al. (2013) Nucleic Acids Res 41, D732-D737.\n",
      "organism= C. elegans\n",
      "localID= wt(N2)030204_03\n",
      "orf= None\n",
      "release= 2017-12-20\n",
      "schema_ver= 3.000\n",
      "------------------------\n",
      "description= quantitative information about nuclear division dynamics in wild-type embryo\n",
      "basedon= Experiment\n",
      "bdmlID= 52af1b59-f845-4836-a85c-d66f849dff70\n",
      "datatype= nuclear division dynamics\n",
      "dblink= http://so.qbic.riken.jp/wddd/\n",
      "gene= None\n",
      "license= CC BY-SA\n",
      "method_summary= See details in Kyoda et al. (2013) Nucleic Acids Res 41, D732-D737.\n",
      "organism= C. elegans\n",
      "localID= wt(N2)030207_01\n",
      "orf= None\n",
      "release= 2017-12-20\n",
      "schema_ver= 3.000\n",
      "------------------------\n",
      "description= quantitative information about nuclear division dynamics in wild-type embryo\n",
      "basedon= Experiment\n",
      "bdmlID= 570467a6-b06a-4446-8c16-0eb20c8cce61\n",
      "datatype= nuclear division dynamics\n",
      "dblink= http://so.qbic.riken.jp/wddd/\n",
      "gene= None\n",
      "license= CC BY-SA\n",
      "method_summary= See details in Kyoda et al. (2013) Nucleic Acids Res 41, D732-D737.\n",
      "organism= C. elegans\n",
      "localID= wt(N2)030207_02\n",
      "orf= None\n",
      "release= 2017-12-20\n",
      "schema_ver= 3.000\n",
      "------------------------\n",
      "description= quantitative information about nuclear division dynamics in wild-type embryo\n",
      "basedon= Experiment\n",
      "bdmlID= e68c4595-110b-4d62-b2fa-0f53a7c27b27\n",
      "datatype= nuclear division dynamics\n",
      "dblink= http://so.qbic.riken.jp/wddd/\n",
      "gene= None\n",
      "license= CC BY-SA\n",
      "method_summary= See details in Kyoda et al. (2013) Nucleic Acids Res 41, D732-D737.\n",
      "organism= C. elegans\n",
      "localID= wt(N2)030217_02\n",
      "orf= None\n",
      "release= 2017-12-20\n",
      "schema_ver= 3.000\n",
      "------------------------\n",
      "description= quantitative information about nuclear division dynamics in wild-type embryo\n",
      "basedon= Experiment\n",
      "bdmlID= 9c0f598c-5cb1-4d8c-8d78-7f2668ed1307\n",
      "datatype= nuclear division dynamics\n",
      "dblink= http://so.qbic.riken.jp/wddd/\n",
      "gene= None\n",
      "license= CC BY-SA\n",
      "method_summary= See details in Kyoda et al. (2013) Nucleic Acids Res 41, D732-D737.\n",
      "organism= C. elegans\n",
      "localID= wt(N2)030217_04\n",
      "orf= None\n",
      "release= 2017-12-20\n",
      "schema_ver= 3.000\n",
      "------------------------\n",
      "description= quantitative information about nuclear division dynamics in wild-type embryo\n",
      "basedon= Experiment\n",
      "bdmlID= 352f4bcb-6095-4cc4-a2fa-0451bae5f33d\n",
      "datatype= nuclear division dynamics\n",
      "dblink= http://so.qbic.riken.jp/wddd/\n",
      "gene= None\n",
      "license= CC BY-SA\n",
      "method_summary= See details in Kyoda et al. (2013) Nucleic Acids Res 41, D732-D737.\n",
      "organism= C. elegans\n",
      "localID= wt(N2)030218_01\n",
      "orf= None\n",
      "release= 2017-12-20\n",
      "schema_ver= 3.000\n",
      "------------------------\n",
      "description= quantitative information about nuclear division dynamics in wild-type embryo\n",
      "basedon= Experiment\n",
      "bdmlID= b415c4a6-b8a1-44c5-9411-9bad72d4d652\n",
      "datatype= nuclear division dynamics\n",
      "dblink= http://so.qbic.riken.jp/wddd/\n",
      "gene= None\n",
      "license= CC BY-SA\n",
      "method_summary= See details in Kyoda et al. (2013) Nucleic Acids Res 41, D732-D737.\n",
      "organism= C. elegans\n",
      "localID= wt(N2)030218_02\n",
      "orf= None\n",
      "release= 2017-12-20\n",
      "schema_ver= 3.000\n",
      "------------------------\n",
      "description= quantitative information about nuclear division dynamics in wild-type embryo\n",
      "basedon= Experiment\n",
      "bdmlID= efff89ef-a72a-4cfc-a90d-6ddf106eb4a5\n",
      "datatype= nuclear division dynamics\n",
      "dblink= http://so.qbic.riken.jp/wddd/\n",
      "gene= None\n",
      "license= CC BY-SA\n",
      "method_summary= See details in Kyoda et al. (2013) Nucleic Acids Res 41, D732-D737.\n",
      "organism= C. elegans\n",
      "localID= wt(N2)030218_04\n",
      "orf= None\n",
      "release= 2017-12-20\n",
      "schema_ver= 3.000\n",
      "------------------------\n"
     ]
    }
   ],
   "source": [
    "print type(bdmldata)\n",
    "#print \"bdmldata=\", bdmldata\n",
    "print \"meta=\", bdmldata['meta']\n",
    "print \"total_count=\", bdmldata['meta']['total_count']\n",
    "#print \"limit=\", bdmldata['meta']['limit']\n",
    "#print \"objects=\", bdmldata['objects']\n",
    "for i in bdmldata['objects']:\n",
    "#    print \"i=\", i\n",
    "    print \"description=\", i['description']\n",
    "    print \"basedon=\", i['basedon']\n",
    "    print \"bdmlID=\", i['bdmlID']\n",
    "    print \"datatype=\", i['datatype']\n",
    "    print \"dblink=\", i['dblink']\n",
    "    print \"gene=\", i['gene']\n",
    "    print \"license=\", i['license']\n",
    "    print \"method_summary=\", i['method_summary']\n",
    "    print \"organism=\", i['organism']\n",
    "    print \"localID=\", i['localID']\n",
    "    print \"orf=\", i['orf']\n",
    "    print \"release=\", i['release']\n",
    "    print \"schema_ver=\", i['schema_ver']\n",
    "    print \"------------------------\"\n",
    "    "
   ]
  },
  {
   "cell_type": "markdown",
   "metadata": {},
   "source": [
    "## Example of using REST API to get numerical data\n",
    "\n",
    "Display a time point in 3D\n",
    "Using data set from Bao et al. (2006) Automated cell lineage tracing in Caenorhabditis elegans. Proc. Natl. Acad. Sci. U.S.A., 103(8), 2707-2712  http://www.ncbi.nlm.nih.gov/pubmed/16477039\n",
    "\n",
    "http://ssbd.qbic.riken.jp/search3/800faa21-c28c-4b72-bd12-d41f2eed02e8/"
   ]
  },
  {
   "cell_type": "code",
   "execution_count": 17,
   "metadata": {
    "collapsed": false
   },
   "outputs": [
    {
     "name": "stderr",
     "output_type": "stream",
     "text": [
      "(MainThread) Starting new HTTP connection (1): ssbd1.qbic.riken.jp\n"
     ]
    },
    {
     "name": "stdout",
     "output_type": "stream",
     "text": [
      "mainurl= http://ssbd1.qbic.riken.jp:8000/SSBD/api/v3/bd5coords/?format=json;limit=500;offset=0;bdmlUUID=800faa21-c28c-4b72-bd12-d41f2eed02e8;ts=10\n"
     ]
    },
    {
     "name": "stderr",
     "output_type": "stream",
     "text": [
      "(MainThread) http://ssbd1.qbic.riken.jp:8000 \"GET /SSBD/api/v3/bd5coords/?format=json;limit=500;offset=0;bdmlUUID=800faa21-c28c-4b72-bd12-d41f2eed02e8;ts=10 HTTP/1.1\" 200 None\n"
     ]
    },
    {
     "name": "stdout",
     "output_type": "stream",
     "text": [
      "<Response [200]>\n",
      "i[x]= 292.0\n",
      "i[y]= 10.5\n",
      "i[z]= 3.15000009537\n",
      "i[t]= 11.0\n",
      "i[radius]= 1.16182028773e+27\n",
      "--------------\n",
      "i[x]= 302.0\n",
      "i[y]= 12.5\n",
      "i[z]= 3.15000009537\n",
      "i[t]= 11.0\n",
      "i[radius]= 1.08928473856e+27\n",
      "--------------\n",
      "i[x]= 287.0\n",
      "i[y]= 16.7999992371\n",
      "i[z]= 2.88000011444\n",
      "i[t]= 11.0\n",
      "i[radius]= 1.80487242205e-41\n",
      "--------------\n",
      "i[x]= 138.0\n",
      "i[y]= 17.7000007629\n",
      "i[z]= 3.15000009537\n",
      "i[t]= 11.0\n",
      "i[radius]= 4.46171028913e+30\n",
      "--------------\n",
      "i[x]= 359.0\n",
      "i[y]= 19.8999996185\n",
      "i[z]= 2.88000011444\n",
      "i[t]= 11.0\n",
      "i[radius]= 9.66895940384e-44\n",
      "--------------\n",
      "i[x]= 148.0\n",
      "i[y]= 22.5\n",
      "i[z]= 3.15000009537\n",
      "i[t]= 11.0\n",
      "i[radius]= 4.75881589856e+30\n",
      "--------------\n",
      "i[x]= 346.0\n",
      "i[y]= 23.8999996185\n",
      "i[z]= 2.78999996185\n",
      "i[t]= 11.0\n",
      "i[radius]= 2.98826897517e-41\n",
      "--------------\n",
      "i[x]= 341.0\n",
      "i[y]= 6.09999990463\n",
      "i[z]= 1.62000000477\n",
      "i[t]= 11.0\n",
      "i[radius]= 2.72591344971e+20\n",
      "--------------\n"
     ]
    }
   ],
   "source": [
    "# version 3.0\n",
    "urlbase = 'http://ssbd1.qbic.riken.jp:8000/SSBD/api/v3/'\n",
    "#urlbase = 'http://ssbd.qbic.riken.jp/SSBD/api/v3/'\n",
    "apifunc = 'bd5coords/?'\n",
    "# version 1.0\n",
    "#urlbase = 'http://ssbd.qbic.riken.jp/SSBD/api/v1/'\n",
    "#apifunc = 'coordsXYZ/?'\n",
    "fmt = 'format=json;'\n",
    "lmt = 500\n",
    "offst = 0\n",
    "timestep = 10\n",
    "#resp = requests.get(urlbase+apifunc+fmt+'limit=50000;bdml__bdml_ID__icontains=d15115;t=2')\n",
    "mainurl = urlbase+apifunc+fmt+'limit='+str(lmt)+';offset='+str(offst)+';bdmlUUID=800faa21-c28c-4b72-bd12-d41f2eed02e8;ts='+str(timestep)\n",
    "print \"mainurl=\", mainurl\n",
    "resp = requests.get(mainurl)\n",
    "print resp\n",
    "\n",
    "if resp.status_code != 200:\n",
    "    # This means something went wrong.\n",
    "    raise ApiError('GET /tasks/ {}'.format(resp.status_code))\n",
    "\n",
    "bdmldata = resp.json()\n",
    "for i in bdmldata['objects']:\n",
    "    print \"i[x]=\", i['x']\n",
    "    print \"i[y]=\", i['y']\n",
    "    print \"i[z]=\", i['z']\n",
    "    print \"i[t]=\", i['t']\n",
    "    print \"i[radius]=\", i['radius']\n",
    "    print \"--------------\""
   ]
  },
  {
   "cell_type": "markdown",
   "metadata": {},
   "source": [
    "## Display 3D positions"
   ]
  },
  {
   "cell_type": "code",
   "execution_count": 14,
   "metadata": {
    "collapsed": false
   },
   "outputs": [
    {
     "data": {
      "text/html": [
       "<div id=\"scene0\"><div id=\"glowscript\" class=\"glowscript\"></div></div>"
      ],
      "text/plain": [
       "<IPython.core.display.HTML object>"
      ]
     },
     "metadata": {},
     "output_type": "display_data"
    },
    {
     "data": {
      "application/javascript": [
       "window.__context = { glowscript_container: $(\"#glowscript\").removeAttr(\"id\")}"
      ],
      "text/plain": [
       "<IPython.core.display.Javascript object>"
      ]
     },
     "metadata": {},
     "output_type": "display_data"
    }
   ],
   "source": [
    "canvas(title=\"Displaying 3D graphics\", background=(0.8,0.8,0.8) )\n",
    "c = color.red\n",
    "r = 0.1\n",
    "x = 0\n",
    "y = 0\n",
    "Z = 0"
   ]
  },
  {
   "cell_type": "code",
   "execution_count": 15,
   "metadata": {
    "collapsed": false
   },
   "outputs": [
    {
     "name": "stdout",
     "output_type": "stream",
     "text": [
      "i[x]= 292.0  i[y]= 10.5 i[z]= 3.15000009537 i[t]= 11.0 1.16182028773e+27\n",
      "i[x]= 302.0  i[y]= 12.5 i[z]= 3.15000009537 i[t]= 11.0 1.08928473856e+27\n",
      "i[x]= 287.0  i[y]= 16.7999992371 i[z]= 2.88000011444 i[t]= 11.0 1.80487242205e-41\n",
      "i[x]= 138.0  i[y]= 17.7000007629 i[z]= 3.15000009537 i[t]= 11.0 4.46171028913e+30\n",
      "i[x]= 359.0  i[y]= 19.8999996185 i[z]= 2.88000011444 i[t]= 11.0 9.66895940384e-44\n",
      "i[x]= 148.0  i[y]= 22.5 i[z]= 3.15000009537 i[t]= 11.0 4.75881589856e+30\n",
      "i[x]= 346.0  i[y]= 23.8999996185 i[z]= 2.78999996185 i[t]= 11.0 2.98826897517e-41\n",
      "i[x]= 341.0  i[y]= 6.09999990463 i[z]= 1.62000000477 i[t]= 11.0 2.72591344971e+20\n",
      "[<26.280000, 0.945000, 3.150000>, <27.180000, 1.125000, 3.150000>, <25.830000, 1.512000, 2.880000>, <12.420000, 1.593000, 3.150000>, <32.310000, 1.791000, 2.880000>, <13.320000, 2.025000, 3.150000>, <31.140000, 2.151000, 2.790000>, <30.690000, 0.549000, 1.620000>]\n"
     ]
    },
    {
     "data": {
      "text/plain": [
       "<ivisual.visual.points at 0x7f3a9a36d990>"
      ]
     },
     "execution_count": 15,
     "metadata": {},
     "output_type": "execute_result"
    }
   ],
   "source": [
    "s = []\n",
    "for i in bdmldata['objects']:\n",
    "        print \"i[x]=\", i['x'],\" i[y]=\", i['y'], \"i[z]=\", i['z'], \"i[t]=\", i['t'], i['radius']\n",
    "# Known bug: scale information is currently unavailable\n",
    "        s.append(vector(i['x']*0.09, i['y']*0.09, i['z']))\n",
    "#        s.append(vector(i['x'], i['y'], i['z']))\n",
    "# Assemble into a list of vectors s    \n",
    "print s\n",
    "\n",
    "# Displaying the center of the nucleus as a set of points (a sphere with default radius). Currently not using radius information\n",
    "points(pos=s, color=c)"
   ]
  },
  {
   "cell_type": "code",
   "execution_count": null,
   "metadata": {
    "collapsed": true
   },
   "outputs": [],
   "source": []
  }
 ],
 "metadata": {
  "kernelspec": {
   "display_name": "Python 2",
   "language": "python",
   "name": "python2"
  },
  "language_info": {
   "codemirror_mode": {
    "name": "ipython",
    "version": 2
   },
   "file_extension": ".py",
   "mimetype": "text/x-python",
   "name": "python",
   "nbconvert_exporter": "python",
   "pygments_lexer": "ipython2",
   "version": "2.7.6"
  }
 },
 "nbformat": 4,
 "nbformat_minor": 0
}
