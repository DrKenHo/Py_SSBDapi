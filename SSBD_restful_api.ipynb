{
 "cells": [
  {
   "cell_type": "markdown",
   "metadata": {},
   "source": [
    "## Examples to access SSBD using REST API version 3.0\n",
    "\n",
    "The following are some examples of accessing SSBD via REST API directly using Python."
   ]
  },
  {
   "cell_type": "code",
   "execution_count": 1,
   "metadata": {
    "collapsed": true
   },
   "outputs": [],
   "source": [
    "%config InlineBackend.figure_formats=['png']"
   ]
  },
  {
   "cell_type": "code",
   "execution_count": 2,
   "metadata": {
    "collapsed": true
   },
   "outputs": [],
   "source": [
    "from IPython.display import display"
   ]
  },
  {
   "cell_type": "code",
   "execution_count": 3,
   "metadata": {
    "collapsed": true
   },
   "outputs": [],
   "source": [
    "import matplotlib.pyplot as plt\n",
    "import numpy as np\n",
    "import pandas as pd"
   ]
  },
  {
   "cell_type": "code",
   "execution_count": 4,
   "metadata": {
    "collapsed": true
   },
   "outputs": [],
   "source": [
    "from mpl_toolkits.mplot3d import Axes3D\n",
    "from mpl_toolkits.mplot3d import proj3d"
   ]
  },
  {
   "cell_type": "code",
   "execution_count": 5,
   "metadata": {
    "collapsed": false
   },
   "outputs": [],
   "source": [
    "%matplotlib inline"
   ]
  },
  {
   "cell_type": "code",
   "execution_count": 6,
   "metadata": {
    "collapsed": true
   },
   "outputs": [],
   "source": [
    "from math import sqrt"
   ]
  },
  {
   "cell_type": "markdown",
   "metadata": {},
   "source": [
    "## Loading ivisual library allows iPython to use VPython to display 3D graphics\n",
    "\n",
    "* Installing ivisual can be found here https://github.com/mwcraig/ivisual-notebook-info"
   ]
  },
  {
   "cell_type": "code",
   "execution_count": 7,
   "metadata": {
    "collapsed": false
   },
   "outputs": [
    {
     "data": {
      "text/html": [
       "<div id=\"scene0\"><div id=\"glowscript\" class=\"glowscript\"></div></div>"
      ],
      "text/plain": [
       "<IPython.core.display.HTML object>"
      ]
     },
     "metadata": {},
     "output_type": "display_data"
    },
    {
     "data": {
      "application/javascript": [
       "require.undef(\"nbextensions/glow.1.0.min\");"
      ],
      "text/plain": [
       "<IPython.core.display.Javascript object>"
      ]
     },
     "metadata": {},
     "output_type": "display_data"
    },
    {
     "data": {
      "application/javascript": [
       "require.undef(\"nbextensions/jquery-ui.custom.min\");"
      ],
      "text/plain": [
       "<IPython.core.display.Javascript object>"
      ]
     },
     "metadata": {},
     "output_type": "display_data"
    },
    {
     "data": {
      "application/javascript": [
       "require.undef(\"nbextensions/glow.1.1.min\");"
      ],
      "text/plain": [
       "<IPython.core.display.Javascript object>"
      ]
     },
     "metadata": {},
     "output_type": "display_data"
    },
    {
     "data": {
      "application/javascript": [
       "require.undef(\"nbextensions/glow.1.2.min\");"
      ],
      "text/plain": [
       "<IPython.core.display.Javascript object>"
      ]
     },
     "metadata": {},
     "output_type": "display_data"
    },
    {
     "data": {
      "application/javascript": [
       "require.undef(\"nbextensions/glow.2.0.min\");"
      ],
      "text/plain": [
       "<IPython.core.display.Javascript object>"
      ]
     },
     "metadata": {},
     "output_type": "display_data"
    },
    {
     "data": {
      "application/javascript": [
       "require.undef(\"nbextensions/glowcomm\");"
      ],
      "text/plain": [
       "<IPython.core.display.Javascript object>"
      ]
     },
     "metadata": {},
     "output_type": "display_data"
    },
    {
     "data": {
      "application/javascript": [
       "require.undef(\"nbextensions/ivglowcomm\");"
      ],
      "text/plain": [
       "<IPython.core.display.Javascript object>"
      ]
     },
     "metadata": {},
     "output_type": "display_data"
    },
    {
     "data": {
      "application/javascript": [
       "require([\"nbextensions/ivglowcomm\"], function(){console.log(\"ivisual glowcomm loaded\");})"
      ],
      "text/plain": [
       "<IPython.core.display.Javascript object>"
      ]
     },
     "metadata": {},
     "output_type": "display_data"
    }
   ],
   "source": [
    "from ivisual import *"
   ]
  },
  {
   "cell_type": "markdown",
   "metadata": {},
   "source": [
    "## Loading json library allows iPython to deal with JSON formatted data"
   ]
  },
  {
   "cell_type": "code",
   "execution_count": 8,
   "metadata": {
    "collapsed": true
   },
   "outputs": [],
   "source": [
    "import json"
   ]
  },
  {
   "cell_type": "markdown",
   "metadata": {},
   "source": [
    "## Loading requests to access REST API"
   ]
  },
  {
   "cell_type": "code",
   "execution_count": 9,
   "metadata": {
    "collapsed": true
   },
   "outputs": [],
   "source": [
    "import requests"
   ]
  },
  {
   "cell_type": "markdown",
   "metadata": {},
   "source": [
    "# Requesting SSBD_REST API\n",
    "* Using data\n",
    "* finding localID that contains the phrase wt (i.e. wild type)"
   ]
  },
  {
   "cell_type": "code",
   "execution_count": 10,
   "metadata": {
    "collapsed": false
   },
   "outputs": [
    {
     "name": "stderr",
     "output_type": "stream",
     "text": [
      "(MainThread) Starting new HTTP connection (1): ssbd.qbic.riken.jp\n",
      "(MainThread) http://ssbd.qbic.riken.jp:80 \"GET /SSBD/api/v3/data/?format=json;localID__icontains=wt HTTP/1.1\" 200 None\n"
     ]
    },
    {
     "name": "stdout",
     "output_type": "stream",
     "text": [
      "resp: <Response [200]>\n"
     ]
    }
   ],
   "source": [
    "#resp = requests.get('http://ssbd.qbic.riken.jp/SSBD/api/v1/data/?format=json;bdmlID__icontains=1594')\n",
    "resp = requests.get('http://ssbd.qbic.riken.jp/SSBD/api/v3/data/?format=json;localID__icontains=wt')\n",
    "#resp = requests.get('http://ssbd.qbic.riken.jp/SSBD/api/v3/data/?format=json;bdmlID=6b0978f2-1594-4f8f-9560-e9e26b66a06d').json\n",
    "\n",
    "print \"resp:\", resp\n",
    "if resp.status_code != 200:\n",
    "    # This means something went wrong.\n",
    "    raise ApiError('GET /tasks/ {}'.format(resp.status_code))\n",
    "\n",
    "#print resp.text\n",
    "bdmldata = resp.json()\n",
    "#for todo_item in bdmldata:\n",
    "#    print('{} {}'.format(todo_item['id'], todo_item['summary']))"
   ]
  },
  {
   "cell_type": "code",
   "execution_count": 11,
   "metadata": {
    "collapsed": false
   },
   "outputs": [
    {
     "name": "stdout",
     "output_type": "stream",
     "text": [
      "<type 'dict'>\n",
      "meta= {u'previous': None, u'total_count': 53, u'offset': 0, u'limit': 20, u'next': u'/SSBD/api/v3/data/?localID__icontains=wt&offset=20&limit=20&format=json'}\n",
      "total_count= 53\n",
      "description= quantitative information about nuclear division dynamics in wild-type embryo\n",
      "basedon= Experiment\n",
      "bdmlID= 203b5c86-2280-437b-8807-d97c8126f79a\n",
      "datatype= nuclear division dynamics\n",
      "dblink= http://so.qbic.riken.jp/wddd/\n",
      "gene= None\n",
      "license= CC BY-SA\n",
      "method_summary= See details in Kyoda et al. (2013) Nucleic Acids Res 41, D732-D737.\n",
      "organism= C. elegans\n",
      "localID= wt(N2)030131_01\n",
      "orf= None\n",
      "release= 2017-12-20\n",
      "schema_ver= 3.000\n",
      "------------------------\n",
      "description= quantitative information about nuclear division dynamics in wild-type embryo\n",
      "basedon= Experiment\n",
      "bdmlID= 44a49534-e76c-4641-b78f-762fb354c8d6\n",
      "datatype= nuclear division dynamics\n",
      "dblink= http://so.qbic.riken.jp/wddd/\n",
      "gene= None\n",
      "license= CC BY-SA\n",
      "method_summary= See details in Kyoda et al. (2013) Nucleic Acids Res 41, D732-D737.\n",
      "organism= C. elegans\n",
      "localID= wt(N2)030131_03\n",
      "orf= None\n",
      "release= 2017-12-20\n",
      "schema_ver= 3.000\n",
      "------------------------\n",
      "description= quantitative information about nuclear division dynamics in wild-type embryo\n",
      "basedon= Experiment\n",
      "bdmlID= bb1b2688-cad0-4dc6-a7a4-4ff6f34b275b\n",
      "datatype= nuclear division dynamics\n",
      "dblink= http://so.qbic.riken.jp/wddd/\n",
      "gene= None\n",
      "license= CC BY-SA\n",
      "method_summary= See details in Kyoda et al. (2013) Nucleic Acids Res 41, D732-D737.\n",
      "organism= C. elegans\n",
      "localID= wt(N2)030203_01\n",
      "orf= None\n",
      "release= 2017-12-20\n",
      "schema_ver= 3.000\n",
      "------------------------\n",
      "description= quantitative information about nuclear division dynamics in wild-type embryo\n",
      "basedon= Experiment\n",
      "bdmlID= 521ef3a0-3121-4de5-9022-8c48691ee4ce\n",
      "datatype= nuclear division dynamics\n",
      "dblink= http://so.qbic.riken.jp/wddd/\n",
      "gene= None\n",
      "license= CC BY-SA\n",
      "method_summary= See details in Kyoda et al. (2013) Nucleic Acids Res 41, D732-D737.\n",
      "organism= C. elegans\n",
      "localID= wt(N2)030116_02\n",
      "orf= None\n",
      "release= 2017-12-20\n",
      "schema_ver= 3.000\n",
      "------------------------\n",
      "description= quantitative information about nuclear division dynamics in wild-type embryo\n",
      "basedon= Experiment\n",
      "bdmlID= 38ae8179-5c65-4c8a-9fa8-2a892ac3eb9d\n",
      "datatype= nuclear division dynamics\n",
      "dblink= http://so.qbic.riken.jp/wddd/\n",
      "gene= None\n",
      "license= CC BY-SA\n",
      "method_summary= See details in Kyoda et al. (2013) Nucleic Acids Res 41, D732-D737.\n",
      "organism= C. elegans\n",
      "localID= wt(N2)030124_02\n",
      "orf= None\n",
      "release= 2017-12-20\n",
      "schema_ver= 3.000\n",
      "------------------------\n",
      "description= quantitative information about nuclear division dynamics in wild-type embryo\n",
      "basedon= Experiment\n",
      "bdmlID= 7e0d3df0-573b-48d2-9e5a-7736f78e9e55\n",
      "datatype= nuclear division dynamics\n",
      "dblink= http://so.qbic.riken.jp/wddd/\n",
      "gene= None\n",
      "license= CC BY-SA\n",
      "method_summary= See details in Kyoda et al. (2013) Nucleic Acids Res 41, D732-D737.\n",
      "organism= C. elegans\n",
      "localID= wt(N2)030127_01\n",
      "orf= None\n",
      "release= 2017-12-20\n",
      "schema_ver= 3.000\n",
      "------------------------\n",
      "description= quantitative information about nuclear division dynamics in wild-type embryo\n",
      "basedon= Experiment\n",
      "bdmlID= a423f384-9d39-4240-94ee-7f5c31581986\n",
      "datatype= nuclear division dynamics\n",
      "dblink= http://so.qbic.riken.jp/wddd/\n",
      "gene= None\n",
      "license= CC BY-SA\n",
      "method_summary= See details in Kyoda et al. (2013) Nucleic Acids Res 41, D732-D737.\n",
      "organism= C. elegans\n",
      "localID= wt(N2)030210_01\n",
      "orf= None\n",
      "release= 2017-12-20\n",
      "schema_ver= 3.000\n",
      "------------------------\n",
      "description= quantitative information about nuclear division dynamics in wild-type embryo\n",
      "basedon= Experiment\n",
      "bdmlID= ef48f7c4-c999-48ba-aae5-91e8d537b8ef\n",
      "datatype= nuclear division dynamics\n",
      "dblink= http://so.qbic.riken.jp/wddd/\n",
      "gene= None\n",
      "license= CC BY-SA\n",
      "method_summary= See details in Kyoda et al. (2013) Nucleic Acids Res 41, D732-D737.\n",
      "organism= C. elegans\n",
      "localID= wt(N2)030210_02\n",
      "orf= None\n",
      "release= 2017-12-20\n",
      "schema_ver= 3.000\n",
      "------------------------\n",
      "description= quantitative information about nuclear division dynamics in wild-type embryo\n",
      "basedon= Experiment\n",
      "bdmlID= cc5f358b-870d-44ee-9304-78f7c1d6ed5f\n",
      "datatype= nuclear division dynamics\n",
      "dblink= http://so.qbic.riken.jp/wddd/\n",
      "gene= None\n",
      "license= CC BY-SA\n",
      "method_summary= See details in Kyoda et al. (2013) Nucleic Acids Res 41, D732-D737.\n",
      "organism= C. elegans\n",
      "localID= wt(N2)030210_03\n",
      "orf= None\n",
      "release= 2017-12-20\n",
      "schema_ver= 3.000\n",
      "------------------------\n",
      "description= quantitative information about nuclear division dynamics in wild-type embryo\n",
      "basedon= Experiment\n",
      "bdmlID= 43250fa2-f24b-4aee-8f14-d752b5c995c4\n",
      "datatype= nuclear division dynamics\n",
      "dblink= http://so.qbic.riken.jp/wddd/\n",
      "gene= None\n",
      "license= CC BY-SA\n",
      "method_summary= See details in Kyoda et al. (2013) Nucleic Acids Res 41, D732-D737.\n",
      "organism= C. elegans\n",
      "localID= wt(N2)030212_01\n",
      "orf= None\n",
      "release= 2017-12-20\n",
      "schema_ver= 3.000\n",
      "------------------------\n",
      "description= quantitative information about nuclear division dynamics in wild-type embryo\n",
      "basedon= Experiment\n",
      "bdmlID= b460470d-df02-4b9f-a3e7-7b1a66b6e341\n",
      "datatype= nuclear division dynamics\n",
      "dblink= http://so.qbic.riken.jp/wddd/\n",
      "gene= None\n",
      "license= CC BY-SA\n",
      "method_summary= See details in Kyoda et al. (2013) Nucleic Acids Res 41, D732-D737.\n",
      "organism= C. elegans\n",
      "localID= wt(N2)030212_02\n",
      "orf= None\n",
      "release= 2017-12-20\n",
      "schema_ver= 3.000\n",
      "------------------------\n",
      "description= quantitative information about nuclear division dynamics in wild-type embryo\n",
      "basedon= Experiment\n",
      "bdmlID= 0c0a1c04-fb42-4271-94fd-b4600addfa9c\n",
      "datatype= nuclear division dynamics\n",
      "dblink= http://so.qbic.riken.jp/wddd/\n",
      "gene= None\n",
      "license= CC BY-SA\n",
      "method_summary= See details in Kyoda et al. (2013) Nucleic Acids Res 41, D732-D737.\n",
      "organism= C. elegans\n",
      "localID= wt(N2)030213_02\n",
      "orf= None\n",
      "release= 2017-12-20\n",
      "schema_ver= 3.000\n",
      "------------------------\n",
      "description= quantitative information about nuclear division dynamics in wild-type embryo\n",
      "basedon= Experiment\n",
      "bdmlID= 34574809-7b05-4167-857a-6e81bbbae160\n",
      "datatype= nuclear division dynamics\n",
      "dblink= http://so.qbic.riken.jp/wddd/\n",
      "gene= None\n",
      "license= CC BY-SA\n",
      "method_summary= See details in Kyoda et al. (2013) Nucleic Acids Res 41, D732-D737.\n",
      "organism= C. elegans\n",
      "localID= wt(N2)030204_03\n",
      "orf= None\n",
      "release= 2017-12-20\n",
      "schema_ver= 3.000\n",
      "------------------------\n",
      "description= quantitative information about nuclear division dynamics in wild-type embryo\n",
      "basedon= Experiment\n",
      "bdmlID= 52af1b59-f845-4836-a85c-d66f849dff70\n",
      "datatype= nuclear division dynamics\n",
      "dblink= http://so.qbic.riken.jp/wddd/\n",
      "gene= None\n",
      "license= CC BY-SA\n",
      "method_summary= See details in Kyoda et al. (2013) Nucleic Acids Res 41, D732-D737.\n",
      "organism= C. elegans\n",
      "localID= wt(N2)030207_01\n",
      "orf= None\n",
      "release= 2017-12-20\n",
      "schema_ver= 3.000\n",
      "------------------------\n",
      "description= quantitative information about nuclear division dynamics in wild-type embryo\n",
      "basedon= Experiment\n",
      "bdmlID= 570467a6-b06a-4446-8c16-0eb20c8cce61\n",
      "datatype= nuclear division dynamics\n",
      "dblink= http://so.qbic.riken.jp/wddd/\n",
      "gene= None\n",
      "license= CC BY-SA\n",
      "method_summary= See details in Kyoda et al. (2013) Nucleic Acids Res 41, D732-D737.\n",
      "organism= C. elegans\n",
      "localID= wt(N2)030207_02\n",
      "orf= None\n",
      "release= 2017-12-20\n",
      "schema_ver= 3.000\n",
      "------------------------\n",
      "description= quantitative information about nuclear division dynamics in wild-type embryo\n",
      "basedon= Experiment\n",
      "bdmlID= e68c4595-110b-4d62-b2fa-0f53a7c27b27\n",
      "datatype= nuclear division dynamics\n",
      "dblink= http://so.qbic.riken.jp/wddd/\n",
      "gene= None\n",
      "license= CC BY-SA\n",
      "method_summary= See details in Kyoda et al. (2013) Nucleic Acids Res 41, D732-D737.\n",
      "organism= C. elegans\n",
      "localID= wt(N2)030217_02\n",
      "orf= None\n",
      "release= 2017-12-20\n",
      "schema_ver= 3.000\n",
      "------------------------\n",
      "description= quantitative information about nuclear division dynamics in wild-type embryo\n",
      "basedon= Experiment\n",
      "bdmlID= 9c0f598c-5cb1-4d8c-8d78-7f2668ed1307\n",
      "datatype= nuclear division dynamics\n",
      "dblink= http://so.qbic.riken.jp/wddd/\n",
      "gene= None\n",
      "license= CC BY-SA\n",
      "method_summary= See details in Kyoda et al. (2013) Nucleic Acids Res 41, D732-D737.\n",
      "organism= C. elegans\n",
      "localID= wt(N2)030217_04\n",
      "orf= None\n",
      "release= 2017-12-20\n",
      "schema_ver= 3.000\n",
      "------------------------\n",
      "description= quantitative information about nuclear division dynamics in wild-type embryo\n",
      "basedon= Experiment\n",
      "bdmlID= 352f4bcb-6095-4cc4-a2fa-0451bae5f33d\n",
      "datatype= nuclear division dynamics\n",
      "dblink= http://so.qbic.riken.jp/wddd/\n",
      "gene= None\n",
      "license= CC BY-SA\n",
      "method_summary= See details in Kyoda et al. (2013) Nucleic Acids Res 41, D732-D737.\n",
      "organism= C. elegans\n",
      "localID= wt(N2)030218_01\n",
      "orf= None\n",
      "release= 2017-12-20\n",
      "schema_ver= 3.000\n",
      "------------------------\n",
      "description= quantitative information about nuclear division dynamics in wild-type embryo\n",
      "basedon= Experiment\n",
      "bdmlID= b415c4a6-b8a1-44c5-9411-9bad72d4d652\n",
      "datatype= nuclear division dynamics\n",
      "dblink= http://so.qbic.riken.jp/wddd/\n",
      "gene= None\n",
      "license= CC BY-SA\n",
      "method_summary= See details in Kyoda et al. (2013) Nucleic Acids Res 41, D732-D737.\n",
      "organism= C. elegans\n",
      "localID= wt(N2)030218_02\n",
      "orf= None\n",
      "release= 2017-12-20\n",
      "schema_ver= 3.000\n",
      "------------------------\n",
      "description= quantitative information about nuclear division dynamics in wild-type embryo\n",
      "basedon= Experiment\n",
      "bdmlID= efff89ef-a72a-4cfc-a90d-6ddf106eb4a5\n",
      "datatype= nuclear division dynamics\n",
      "dblink= http://so.qbic.riken.jp/wddd/\n",
      "gene= None\n",
      "license= CC BY-SA\n",
      "method_summary= See details in Kyoda et al. (2013) Nucleic Acids Res 41, D732-D737.\n",
      "organism= C. elegans\n",
      "localID= wt(N2)030218_04\n",
      "orf= None\n",
      "release= 2017-12-20\n",
      "schema_ver= 3.000\n",
      "------------------------\n"
     ]
    }
   ],
   "source": [
    "print type(bdmldata)\n",
    "#print \"bdmldata=\", bdmldata\n",
    "print \"meta=\", bdmldata['meta']\n",
    "print \"total_count=\", bdmldata['meta']['total_count']\n",
    "#print \"limit=\", bdmldata['meta']['limit']\n",
    "#print \"objects=\", bdmldata['objects']\n",
    "for i in bdmldata['objects']:\n",
    "#    print \"i=\", i\n",
    "    print \"description=\", i['description']\n",
    "    print \"basedon=\", i['basedon']\n",
    "    print \"bdmlID=\", i['bdmlID']\n",
    "    print \"datatype=\", i['datatype']\n",
    "    print \"dblink=\", i['dblink']\n",
    "    print \"gene=\", i['gene']\n",
    "    print \"license=\", i['license']\n",
    "    print \"method_summary=\", i['method_summary']\n",
    "    print \"organism=\", i['organism']\n",
    "    print \"localID=\", i['localID']\n",
    "    print \"orf=\", i['orf']\n",
    "    print \"release=\", i['release']\n",
    "    print \"schema_ver=\", i['schema_ver']\n",
    "    print \"------------------------\"\n",
    "    "
   ]
  },
  {
   "cell_type": "code",
   "execution_count": 16,
   "metadata": {
    "collapsed": false
   },
   "outputs": [
    {
     "name": "stderr",
     "output_type": "stream",
     "text": [
      "(MainThread) Starting new HTTP connection (1): ssbd.qbic.riken.jp\n",
      "(MainThread) http://ssbd.qbic.riken.jp:80 \"GET /SSBD/api/v3/scale/?format=json;bdmlUUID=203b5c86-2280-437b-8807-d97c8126f79a HTTP/1.1\" 404 None\n"
     ]
    },
    {
     "ename": "NameError",
     "evalue": "name 'ApiError' is not defined",
     "output_type": "error",
     "traceback": [
      "\u001b[1;31m---------------------------------------------------------------------------\u001b[0m",
      "\u001b[1;31mNameError\u001b[0m                                 Traceback (most recent call last)",
      "\u001b[1;32m<ipython-input-16-db2b83ed2849>\u001b[0m in \u001b[0;36m<module>\u001b[1;34m()\u001b[0m\n\u001b[0;32m      2\u001b[0m \u001b[1;32mif\u001b[0m \u001b[0mresp\u001b[0m\u001b[1;33m.\u001b[0m\u001b[0mstatus_code\u001b[0m \u001b[1;33m!=\u001b[0m \u001b[1;36m200\u001b[0m\u001b[1;33m:\u001b[0m\u001b[1;33m\u001b[0m\u001b[0m\n\u001b[0;32m      3\u001b[0m     \u001b[1;31m# This means something went wrong.\u001b[0m\u001b[1;33m\u001b[0m\u001b[1;33m\u001b[0m\u001b[0m\n\u001b[1;32m----> 4\u001b[1;33m     \u001b[1;32mraise\u001b[0m \u001b[0mApiError\u001b[0m\u001b[1;33m(\u001b[0m\u001b[1;34m'GET /tasks/ {}'\u001b[0m\u001b[1;33m.\u001b[0m\u001b[0mformat\u001b[0m\u001b[1;33m(\u001b[0m\u001b[0mresp\u001b[0m\u001b[1;33m.\u001b[0m\u001b[0mstatus_code\u001b[0m\u001b[1;33m)\u001b[0m\u001b[1;33m)\u001b[0m\u001b[1;33m\u001b[0m\u001b[0m\n\u001b[0m\u001b[0;32m      5\u001b[0m \u001b[0mscaledata\u001b[0m \u001b[1;33m=\u001b[0m \u001b[0mresp\u001b[0m\u001b[1;33m.\u001b[0m\u001b[0mjson\u001b[0m\u001b[1;33m(\u001b[0m\u001b[1;33m)\u001b[0m\u001b[1;33m\u001b[0m\u001b[0m\n\u001b[0;32m      6\u001b[0m \u001b[1;31m#print type(bdmldata)\u001b[0m\u001b[1;33m\u001b[0m\u001b[1;33m\u001b[0m\u001b[0m\n",
      "\u001b[1;31mNameError\u001b[0m: name 'ApiError' is not defined"
     ]
    }
   ],
   "source": [
    "resp = requests.get('http://ssbd.qbic.riken.jp/SSBD/api/v3/scale/?format=json;bdmlUUID=203b5c86-2280-437b-8807-d97c8126f79a')\n",
    "if resp.status_code != 200:\n",
    "    # This means something went wrong.\n",
    "    raise ApiError('GET /tasks/ {}'.format(resp.status_code))\n",
    "scaledata = resp.json()\n",
    "#print type(bdmldata)\n",
    "#print \"bdmldata=\", bdmldata\n",
    "#print \"meta=\", bdmldata['meta']\n",
    "print \"total_count=\", scaledata['meta']['total_count']\n",
    "#print \"objects=\", bdmldata['objects']\n",
    "for j in scaledata['objects']:\n",
    "#    print \"i=\", i    \n",
    "    print \"Scale: \", j['xScale'], j['yScale'], j['zScale']"
   ]
  },
  {
   "cell_type": "markdown",
   "metadata": {},
   "source": [
    "## Example of using REST API to get numerical data"
   ]
  },
  {
   "cell_type": "code",
   "execution_count": 16,
   "metadata": {
    "collapsed": false
   },
   "outputs": [
    {
     "name": "stderr",
     "output_type": "stream",
     "text": [
      "(MainThread) Starting new HTTP connection (1): ssbd.qbic.riken.jp\n"
     ]
    },
    {
     "name": "stdout",
     "output_type": "stream",
     "text": [
      "mainurl= http://ssbd.qbic.riken.jp/SSBD/api/v3/bd5coords/?format=json;limit=100;offset=50;bdmlUUID=203b5c86-2280-437b-8807-d97c8126f79a;t=2\n"
     ]
    },
    {
     "name": "stderr",
     "output_type": "stream",
     "text": [
      "(MainThread) http://ssbd.qbic.riken.jp:80 \"GET /SSBD/api/v3/bd5coords/?format=json;limit=100;offset=50;bdmlUUID=203b5c86-2280-437b-8807-d97c8126f79a;t=2 HTTP/1.1\" 200 None\n"
     ]
    },
    {
     "name": "stdout",
     "output_type": "stream",
     "text": [
      "<Response [200]>\n",
      "<type 'dict'>\n",
      "i[x]= 264.0\n",
      "i[y]= 274.0\n",
      "i[z]= 19.0\n",
      "i[t]= 1.0\n",
      "i[x]= 264.0\n",
      "i[y]= 275.0\n",
      "i[z]= 19.0\n",
      "i[t]= 1.0\n",
      "i[x]= 264.0\n",
      "i[y]= 276.0\n",
      "i[z]= 19.0\n",
      "i[t]= 1.0\n",
      "i[x]= 265.0\n",
      "i[y]= 277.0\n",
      "i[z]= 19.0\n",
      "i[t]= 1.0\n",
      "i[x]= 266.0\n",
      "i[y]= 277.0\n",
      "i[z]= 19.0\n",
      "i[t]= 1.0\n",
      "i[x]= 267.0\n",
      "i[y]= 277.0\n",
      "i[z]= 19.0\n",
      "i[t]= 1.0\n",
      "i[x]= 268.0\n",
      "i[y]= 277.0\n",
      "i[z]= 19.0\n",
      "i[t]= 1.0\n",
      "i[x]= 269.0\n",
      "i[y]= 277.0\n",
      "i[z]= 19.0\n",
      "i[t]= 1.0\n",
      "i[x]= 270.0\n",
      "i[y]= 277.0\n",
      "i[z]= 19.0\n",
      "i[t]= 1.0\n",
      "i[x]= 271.0\n",
      "i[y]= 278.0\n",
      "i[z]= 19.0\n",
      "i[t]= 1.0\n",
      "i[x]= 272.0\n",
      "i[y]= 278.0\n",
      "i[z]= 19.0\n",
      "i[t]= 1.0\n",
      "i[x]= 273.0\n",
      "i[y]= 279.0\n",
      "i[z]= 19.0\n",
      "i[t]= 1.0\n",
      "i[x]= 274.0\n",
      "i[y]= 279.0\n",
      "i[z]= 19.0\n",
      "i[t]= 1.0\n",
      "i[x]= 275.0\n",
      "i[y]= 280.0\n",
      "i[z]= 19.0\n",
      "i[t]= 1.0\n",
      "i[x]= 276.0\n",
      "i[y]= 280.0\n",
      "i[z]= 19.0\n",
      "i[t]= 1.0\n",
      "i[x]= 277.0\n",
      "i[y]= 281.0\n",
      "i[z]= 19.0\n",
      "i[t]= 1.0\n",
      "i[x]= 278.0\n",
      "i[y]= 282.0\n",
      "i[z]= 19.0\n",
      "i[t]= 1.0\n",
      "i[x]= 279.0\n",
      "i[y]= 283.0\n",
      "i[z]= 19.0\n",
      "i[t]= 1.0\n",
      "i[x]= 280.0\n",
      "i[y]= 283.0\n",
      "i[z]= 19.0\n",
      "i[t]= 1.0\n",
      "i[x]= 281.0\n",
      "i[y]= 284.0\n",
      "i[z]= 19.0\n",
      "i[t]= 1.0\n",
      "i[x]= 281.0\n",
      "i[y]= 285.0\n",
      "i[z]= 19.0\n",
      "i[t]= 1.0\n",
      "i[x]= 281.0\n",
      "i[y]= 286.0\n",
      "i[z]= 19.0\n",
      "i[t]= 1.0\n",
      "i[x]= 281.0\n",
      "i[y]= 287.0\n",
      "i[z]= 19.0\n",
      "i[t]= 1.0\n",
      "i[x]= 281.0\n",
      "i[y]= 288.0\n",
      "i[z]= 19.0\n",
      "i[t]= 1.0\n",
      "i[x]= 280.0\n",
      "i[y]= 289.0\n",
      "i[z]= 19.0\n",
      "i[t]= 1.0\n",
      "i[x]= 279.0\n",
      "i[y]= 290.0\n",
      "i[z]= 19.0\n",
      "i[t]= 1.0\n",
      "i[x]= 278.0\n",
      "i[y]= 291.0\n",
      "i[z]= 19.0\n",
      "i[t]= 1.0\n",
      "i[x]= 277.0\n",
      "i[y]= 291.0\n",
      "i[z]= 19.0\n",
      "i[t]= 1.0\n",
      "i[x]= 277.0\n",
      "i[y]= 292.0\n",
      "i[z]= 19.0\n",
      "i[t]= 1.0\n",
      "i[x]= 277.0\n",
      "i[y]= 293.0\n",
      "i[z]= 19.0\n",
      "i[t]= 1.0\n",
      "i[x]= 277.0\n",
      "i[y]= 294.0\n",
      "i[z]= 19.0\n",
      "i[t]= 1.0\n",
      "i[x]= 277.0\n",
      "i[y]= 295.0\n",
      "i[z]= 19.0\n",
      "i[t]= 1.0\n",
      "i[x]= 277.0\n",
      "i[y]= 296.0\n",
      "i[z]= 19.0\n",
      "i[t]= 1.0\n",
      "i[x]= 276.0\n",
      "i[y]= 297.0\n",
      "i[z]= 19.0\n",
      "i[t]= 1.0\n",
      "i[x]= 277.0\n",
      "i[y]= 298.0\n",
      "i[z]= 19.0\n",
      "i[t]= 1.0\n",
      "i[x]= 277.0\n",
      "i[y]= 299.0\n",
      "i[z]= 19.0\n",
      "i[t]= 1.0\n",
      "i[x]= 278.0\n",
      "i[y]= 300.0\n",
      "i[z]= 19.0\n",
      "i[t]= 1.0\n",
      "i[x]= 279.0\n",
      "i[y]= 301.0\n",
      "i[z]= 19.0\n",
      "i[t]= 1.0\n",
      "i[x]= 280.0\n",
      "i[y]= 302.0\n",
      "i[z]= 19.0\n",
      "i[t]= 1.0\n",
      "i[x]= 281.0\n",
      "i[y]= 303.0\n",
      "i[z]= 19.0\n",
      "i[t]= 1.0\n",
      "i[x]= 281.0\n",
      "i[y]= 304.0\n",
      "i[z]= 19.0\n",
      "i[t]= 1.0\n",
      "i[x]= 282.0\n",
      "i[y]= 305.0\n",
      "i[z]= 19.0\n",
      "i[t]= 1.0\n",
      "i[x]= 282.0\n",
      "i[y]= 306.0\n",
      "i[z]= 19.0\n",
      "i[t]= 1.0\n",
      "i[x]= 283.0\n",
      "i[y]= 307.0\n",
      "i[z]= 19.0\n",
      "i[t]= 1.0\n",
      "i[x]= 284.0\n",
      "i[y]= 307.0\n",
      "i[z]= 19.0\n",
      "i[t]= 1.0\n",
      "i[x]= 285.0\n",
      "i[y]= 308.0\n",
      "i[z]= 19.0\n",
      "i[t]= 1.0\n",
      "i[x]= 286.0\n",
      "i[y]= 308.0\n",
      "i[z]= 19.0\n",
      "i[t]= 1.0\n",
      "i[x]= 286.0\n",
      "i[y]= 307.0\n",
      "i[z]= 19.0\n",
      "i[t]= 1.0\n",
      "i[x]= 287.0\n",
      "i[y]= 306.0\n",
      "i[z]= 19.0\n",
      "i[t]= 1.0\n",
      "i[x]= 287.0\n",
      "i[y]= 305.0\n",
      "i[z]= 19.0\n",
      "i[t]= 1.0\n"
     ]
    }
   ],
   "source": [
    "# version 3.0\n",
    "urlbase = 'http://ssbd.qbic.riken.jp/SSBD/api/v3/'\n",
    "apifunc = 'bd5coords/?'\n",
    "# version 1.0\n",
    "#urlbase = 'http://ssbd.qbic.riken.jp/SSBD/api/v1/'\n",
    "#apifunc = 'coordsXYZ/?'\n",
    "fmt = 'format=json;'\n",
    "lmt = 100\n",
    "offst = 50\n",
    "#resp = requests.get(urlbase+apifunc+fmt+'limit=50000;bdml__bdml_ID__icontains=d15115;t=2')\n",
    "mainurl = urlbase+apifunc+fmt+'limit='+str(lmt)+';offset='+str(offst)+';bdmlUUID=203b5c86-2280-437b-8807-d97c8126f79a;t=2'\n",
    "print \"mainurl=\", mainurl\n",
    "resp = requests.get(mainurl)\n",
    "print resp\n",
    "\n",
    "if resp.status_code != 200:\n",
    "    # This means something went wrong.\n",
    "    raise ApiError('GET /tasks/ {}'.format(resp.status_code))\n",
    "#for todo_item in resp.json():\n",
    "#    print('{} {}'.format(todo_item['id'], todo_item['summary']))\n",
    "bdmldata = resp.json()\n",
    "print type(bdmldata)\n",
    "#print \"bdmldata=\", bdmldata\n",
    "#print \"meta=\", bdmldata['meta']\n",
    "#print \"limit=\", bdmldata['meta']['limit']\n",
    "#print \"objects=\", bdmldata['objects']\n",
    "for i in bdmldata['objects']:\n",
    "#    print \"i=\", i\n",
    "#    print \"bdmlUUID\", i['bdmlUUID']\n",
    "#    print \"i[bdml]=\", i['bdml']\n",
    "    print \"i[x]=\", i['x']\n",
    "    print \"i[y]=\", i['y']\n",
    "    print \"i[z]=\", i['z']\n",
    "    print \"i[t]=\", i['t']"
   ]
  },
  {
   "cell_type": "markdown",
   "metadata": {},
   "source": [
    "## Display 3D positions"
   ]
  },
  {
   "cell_type": "code",
   "execution_count": 17,
   "metadata": {
    "collapsed": false
   },
   "outputs": [
    {
     "data": {
      "text/html": [
       "<div id=\"scene0\"><div id=\"glowscript\" class=\"glowscript\"></div></div>"
      ],
      "text/plain": [
       "<IPython.core.display.HTML object>"
      ]
     },
     "metadata": {},
     "output_type": "display_data"
    },
    {
     "data": {
      "application/javascript": [
       "window.__context = { glowscript_container: $(\"#glowscript\").removeAttr(\"id\")}"
      ],
      "text/plain": [
       "<IPython.core.display.Javascript object>"
      ]
     },
     "metadata": {},
     "output_type": "display_data"
    }
   ],
   "source": [
    "canvas(title=\"Displaying 3D graphics\", background=(0.8,0.8,0.8) )\n",
    "c = color.red\n",
    "r = 0.1\n",
    "x = 0\n",
    "y = 0\n",
    "Z = 0"
   ]
  },
  {
   "cell_type": "code",
   "execution_count": null,
   "metadata": {
    "collapsed": false
   },
   "outputs": [],
   "source": [
    "for j in scaledata['objects']:\n",
    "    print j['xScale'], j['yScale'], j['zScale']\n",
    "    sx = j['xScale']\n",
    "    sy = j['yScale']\n",
    "    sz = j['zScale']\n",
    "    sr = j['xScale']\n",
    "\n",
    "for i in bdmldata['objects']:\n",
    "#        print \"i[x]=\", i['x'],\" i[y]=\", i['y'], \"i[z]=\", i['z'], \"i[t]=\", i['t']\n",
    "        sphere(pos=(i['x']*sx, i['y']*sy, i['z']*sz), color=c, radius=i['radius'])"
   ]
  },
  {
   "cell_type": "code",
   "execution_count": null,
   "metadata": {
    "collapsed": true
   },
   "outputs": [],
   "source": []
  }
 ],
 "metadata": {
  "kernelspec": {
   "display_name": "Python 2",
   "language": "python",
   "name": "python2"
  },
  "language_info": {
   "codemirror_mode": {
    "name": "ipython",
    "version": 2
   },
   "file_extension": ".py",
   "mimetype": "text/x-python",
   "name": "python",
   "nbconvert_exporter": "python",
   "pygments_lexer": "ipython2",
   "version": "2.7.6"
  }
 },
 "nbformat": 4,
 "nbformat_minor": 0
}
