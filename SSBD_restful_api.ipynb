{
 "cells": [
  {
   "cell_type": "markdown",
   "metadata": {},
   "source": [
    "## Examples to access SSBD using REST API\n",
    "\n",
    "The following are some examples of accessing SSBD via REST API directly using Python."
   ]
  },
  {
   "cell_type": "code",
   "execution_count": 1,
   "metadata": {
    "collapsed": true
   },
   "outputs": [],
   "source": [
    "%config InlineBackend.figure_formats=['png']"
   ]
  },
  {
   "cell_type": "code",
   "execution_count": 2,
   "metadata": {
    "collapsed": true
   },
   "outputs": [],
   "source": [
    "from IPython.display import display"
   ]
  },
  {
   "cell_type": "code",
   "execution_count": 3,
   "metadata": {
    "collapsed": true
   },
   "outputs": [],
   "source": [
    "import matplotlib.pyplot as plt\n",
    "import numpy as np\n",
    "import pandas as pd"
   ]
  },
  {
   "cell_type": "code",
   "execution_count": 4,
   "metadata": {
    "collapsed": true
   },
   "outputs": [],
   "source": [
    "from mpl_toolkits.mplot3d import Axes3D\n",
    "from mpl_toolkits.mplot3d import proj3d"
   ]
  },
  {
   "cell_type": "code",
   "execution_count": 5,
   "metadata": {
    "collapsed": false
   },
   "outputs": [],
   "source": [
    "%matplotlib inline"
   ]
  },
  {
   "cell_type": "code",
   "execution_count": 6,
   "metadata": {
    "collapsed": true
   },
   "outputs": [],
   "source": [
    "from math import sqrt"
   ]
  },
  {
   "cell_type": "markdown",
   "metadata": {},
   "source": [
    "## Loading ivisual library allows iPython to use VPython to display 3D graphics\n",
    "\n",
    "* Installing ivisual can be found here https://github.com/mwcraig/ivisual-notebook-info"
   ]
  },
  {
   "cell_type": "code",
   "execution_count": 7,
   "metadata": {
    "collapsed": false
   },
   "outputs": [
    {
     "data": {
      "text/html": [
       "<div id=\"scene0\"><div id=\"glowscript\" class=\"glowscript\"></div></div>"
      ],
      "text/plain": [
       "<IPython.core.display.HTML object>"
      ]
     },
     "metadata": {},
     "output_type": "display_data"
    },
    {
     "data": {
      "application/javascript": [
       "require.undef(\"nbextensions/glow.1.0.min\");"
      ],
      "text/plain": [
       "<IPython.core.display.Javascript object>"
      ]
     },
     "metadata": {},
     "output_type": "display_data"
    },
    {
     "data": {
      "application/javascript": [
       "require.undef(\"nbextensions/jquery-ui.custom.min\");"
      ],
      "text/plain": [
       "<IPython.core.display.Javascript object>"
      ]
     },
     "metadata": {},
     "output_type": "display_data"
    },
    {
     "data": {
      "application/javascript": [
       "require.undef(\"nbextensions/glow.1.1.min\");"
      ],
      "text/plain": [
       "<IPython.core.display.Javascript object>"
      ]
     },
     "metadata": {},
     "output_type": "display_data"
    },
    {
     "data": {
      "application/javascript": [
       "require.undef(\"nbextensions/glowcomm\");"
      ],
      "text/plain": [
       "<IPython.core.display.Javascript object>"
      ]
     },
     "metadata": {},
     "output_type": "display_data"
    },
    {
     "data": {
      "application/javascript": [
       "require([\"nbextensions/glowcomm\"], function(){console.log(\"glowcomm loaded\");})"
      ],
      "text/plain": [
       "<IPython.core.display.Javascript object>"
      ]
     },
     "metadata": {},
     "output_type": "display_data"
    }
   ],
   "source": [
    "from ivisual import *"
   ]
  },
  {
   "cell_type": "markdown",
   "metadata": {},
   "source": [
    "## Loading json library allows iPython to deal with JSON formatted data"
   ]
  },
  {
   "cell_type": "code",
   "execution_count": 8,
   "metadata": {
    "collapsed": true
   },
   "outputs": [],
   "source": [
    "import json"
   ]
  },
  {
   "cell_type": "markdown",
   "metadata": {},
   "source": [
    "## Loading requests to access REST API"
   ]
  },
  {
   "cell_type": "code",
   "execution_count": 9,
   "metadata": {
    "collapsed": true
   },
   "outputs": [],
   "source": [
    "import requests"
   ]
  },
  {
   "cell_type": "code",
   "execution_count": 10,
   "metadata": {
    "collapsed": false
   },
   "outputs": [
    {
     "name": "stdout",
     "output_type": "stream",
     "text": [
      "meta= {u'previous': None, u'total_count': 1, u'offset': 0, u'limit': 20, u'next': None}\n",
      "total_count= 1\n",
      "bdmlUUID= a1a96ee3-fd58-48f8-a892-4f17c1d15115\n",
      "E_mail= waterston@gs.washington.edu\n",
      "name= Robert H. Waterston\n"
     ]
    }
   ],
   "source": [
    "resp = requests.get('http://ssbd.qbic.riken.jp/SSBD/api/v1/data/?format=json;bdmlUUID__icontains=d15115')\n",
    "if resp.status_code != 200:\n",
    "    # This means something went wrong.\n",
    "    raise ApiError('GET /tasks/ {}'.format(resp.status_code))\n",
    "#for todo_item in resp.json():\n",
    "#    print('{} {}'.format(todo_item['id'], todo_item['summary']))\n",
    "bdmldata = resp.json()\n",
    "#print type(bdmldata)\n",
    "#print \"bdmldata=\", bdmldata\n",
    "print \"meta=\", bdmldata['meta']\n",
    "print \"total_count=\", bdmldata['meta']['total_count']\n",
    "#print \"limit=\", bdmldata['meta']['limit']\n",
    "#print \"objects=\", bdmldata['objects']\n",
    "for i in bdmldata['objects']:\n",
    "#    print \"i=\", i\n",
    "#   print \"i[meta_data]=\", i['meta_data']\n",
    "    print \"bdmlUUID=\", i['bdmlUUID']\n",
    "    print \"E_mail=\", i['meta_data']['E_mail']\n",
    "    print \"name=\", i['meta_data']['name']"
   ]
  },
  {
   "cell_type": "code",
   "execution_count": 11,
   "metadata": {
    "collapsed": false
   },
   "outputs": [
    {
     "name": "stdout",
     "output_type": "stream",
     "text": [
      "total_count= 1\n",
      "Scale:  0.09 0.09 1.0\n"
     ]
    }
   ],
   "source": [
    "resp = requests.get('http://ssbd.qbic.riken.jp/SSBD/api/v1/scale/?format=json;bdml__bdml_ID__icontains=d15115')\n",
    "if resp.status_code != 200:\n",
    "    # This means something went wrong.\n",
    "    raise ApiError('GET /tasks/ {}'.format(resp.status_code))\n",
    "scaledata = resp.json()\n",
    "#print type(bdmldata)\n",
    "#print \"bdmldata=\", bdmldata\n",
    "#print \"meta=\", bdmldata['meta']\n",
    "print \"total_count=\", scaledata['meta']['total_count']\n",
    "#print \"objects=\", bdmldata['objects']\n",
    "for j in scaledata['objects']:\n",
    "#    print \"i=\", i    \n",
    "    print \"Scale: \", j['xScale'], j['yScale'], j['zScale']"
   ]
  },
  {
   "cell_type": "markdown",
   "metadata": {},
   "source": [
    "## Example of using REST API to get numerical data"
   ]
  },
  {
   "cell_type": "code",
   "execution_count": 12,
   "metadata": {
    "collapsed": false
   },
   "outputs": [
    {
     "name": "stdout",
     "output_type": "stream",
     "text": [
      "<type 'dict'>\n",
      "i[x]= 163.0\n",
      "i[y]= 343.0\n",
      "i[z]= 6.1\n",
      "i[t]= 2.0\n",
      "i[x]= 395.0\n",
      "i[y]= 163.0\n",
      "i[z]= 16.1\n",
      "i[t]= 2.0\n",
      "i[x]= 190.0\n",
      "i[y]= 226.0\n",
      "i[z]= 17.0\n",
      "i[t]= 2.0\n",
      "i[x]= 365.0\n",
      "i[y]= 385.0\n",
      "i[z]= 17.1\n",
      "i[t]= 2.0\n",
      "i[x]= 556.0\n",
      "i[y]= 254.0\n",
      "i[z]= 18.1\n",
      "i[t]= 2.0\n"
     ]
    }
   ],
   "source": [
    "urlbase = 'http://ssbd.qbic.riken.jp/SSBD/api/v1/'\n",
    "#urlbase = 'http://172.21.20.198:8000/SSBD/api/v1/'\n",
    "\n",
    "apifunc = 'coordsXYZ/?'\n",
    "fmt = 'format=json;'\n",
    "resp = requests.get(urlbase+apifunc+fmt+'limit=50000;bdml__bdml_ID__icontains=d15115;t=2')\n",
    "if resp.status_code != 200:\n",
    "    # This means something went wrong.\n",
    "    raise ApiError('GET /tasks/ {}'.format(resp.status_code))\n",
    "#for todo_item in resp.json():\n",
    "#    print('{} {}'.format(todo_item['id'], todo_item['summary']))\n",
    "bdmldata = resp.json()\n",
    "print type(bdmldata)\n",
    "#print \"bdmldata=\", bdmldata\n",
    "#print \"meta=\", bdmldata['meta']\n",
    "#print \"limit=\", bdmldata['meta']['limit']\n",
    "#print \"objects=\", bdmldata['objects']\n",
    "for i in bdmldata['objects']:\n",
    "#    print \"i=\", i\n",
    "#    print \"bdmlUUID\", i['bdmlUUID']\n",
    "#    print \"i[bdml]=\", i['bdml']\n",
    "    print \"i[x]=\", i['x']\n",
    "    print \"i[y]=\", i['y']\n",
    "    print \"i[z]=\", i['z']\n",
    "    print \"i[t]=\", i['t']"
   ]
  },
  {
   "cell_type": "markdown",
   "metadata": {},
   "source": [
    "## Display 3D positions"
   ]
  },
  {
   "cell_type": "code",
   "execution_count": 13,
   "metadata": {
    "collapsed": false
   },
   "outputs": [
    {
     "data": {
      "text/html": [
       "<div id=\"scene0\"><div id=\"glowscript\" class=\"glowscript\"></div></div>"
      ],
      "text/plain": [
       "<IPython.core.display.HTML object>"
      ]
     },
     "metadata": {},
     "output_type": "display_data"
    },
    {
     "data": {
      "application/javascript": [
       "window.__context = { glowscript_container: $(\"#glowscript\").removeAttr(\"id\")}"
      ],
      "text/plain": [
       "<IPython.core.display.Javascript object>"
      ]
     },
     "metadata": {},
     "output_type": "display_data"
    }
   ],
   "source": [
    "canvas(title=\"Displaying 3D graphics\", background=(0.8,0.8,0.8) )\n",
    "c = color.red\n",
    "r = 0.1\n",
    "x = 0\n",
    "y = 0\n",
    "Z = 0"
   ]
  },
  {
   "cell_type": "code",
   "execution_count": 14,
   "metadata": {
    "collapsed": false
   },
   "outputs": [
    {
     "name": "stdout",
     "output_type": "stream",
     "text": [
      "0.09 0.09 1.0\n"
     ]
    }
   ],
   "source": [
    "for j in scaledata['objects']:\n",
    "    print j['xScale'], j['yScale'], j['zScale']\n",
    "    sx = j['xScale']\n",
    "    sy = j['yScale']\n",
    "    sz = j['zScale']\n",
    "    sr = j['xScale']\n",
    "\n",
    "for i in bdmldata['objects']:\n",
    "#        print \"i[x]=\", i['x'],\" i[y]=\", i['y'], \"i[z]=\", i['z'], \"i[t]=\", i['t']\n",
    "        sphere(pos=(i['x']*sx, i['y']*sy, i['z']*sz), color=c, radius=i['radius'])"
   ]
  },
  {
   "cell_type": "code",
   "execution_count": null,
   "metadata": {
    "collapsed": true
   },
   "outputs": [],
   "source": []
  }
 ],
 "metadata": {
  "kernelspec": {
   "display_name": "Python 2",
   "language": "python",
   "name": "python2"
  },
  "language_info": {
   "codemirror_mode": {
    "name": "ipython",
    "version": 2
   },
   "file_extension": ".py",
   "mimetype": "text/x-python",
   "name": "python",
   "nbconvert_exporter": "python",
   "pygments_lexer": "ipython2",
   "version": "2.7.10"
  }
 },
 "nbformat": 4,
 "nbformat_minor": 0
}
