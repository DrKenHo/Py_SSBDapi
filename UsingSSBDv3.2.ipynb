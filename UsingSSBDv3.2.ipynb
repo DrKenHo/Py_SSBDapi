{
 "cells": [
  {
   "cell_type": "markdown",
   "metadata": {},
   "source": [
    "# Using Python SSBDapi v3.2 to access SSBD data for visualization and analysis"
   ]
  },
  {
   "cell_type": "markdown",
   "metadata": {},
   "source": [
    "Updated: 2018-12-27"
   ]
  },
  {
   "cell_type": "code",
   "execution_count": 1,
   "metadata": {},
   "outputs": [],
   "source": [
    "%config InlineBackend.figure_formats=['png']"
   ]
  },
  {
   "cell_type": "code",
   "execution_count": 2,
   "metadata": {},
   "outputs": [],
   "source": [
    "from IPython.display import display"
   ]
  },
  {
   "cell_type": "code",
   "execution_count": 3,
   "metadata": {},
   "outputs": [],
   "source": [
    "import matplotlib.pyplot as plt"
   ]
  },
  {
   "cell_type": "code",
   "execution_count": 4,
   "metadata": {},
   "outputs": [],
   "source": [
    "import numpy as np\n",
    "import pandas as pd"
   ]
  },
  {
   "cell_type": "code",
   "execution_count": 5,
   "metadata": {},
   "outputs": [],
   "source": [
    "from mpl_toolkits.mplot3d import Axes3D\n",
    "from mpl_toolkits.mplot3d import proj3d"
   ]
  },
  {
   "cell_type": "code",
   "execution_count": 6,
   "metadata": {},
   "outputs": [],
   "source": [
    "%matplotlib inline"
   ]
  },
  {
   "cell_type": "markdown",
   "metadata": {},
   "source": [
    "## Loading ivisual library allows iPython to use VPython to display 3D graphics\n",
    "\n",
    "* Installing ivisual can be found here https://github.com/mwcraig/ivisual-notebook-info"
   ]
  },
  {
   "cell_type": "code",
   "execution_count": 7,
   "metadata": {},
   "outputs": [
    {
     "data": {
      "text/html": [
       "<div id=\"scene0\"><div id=\"glowscript\" class=\"glowscript\"></div></div>"
      ],
      "text/plain": [
       "<IPython.core.display.HTML object>"
      ]
     },
     "metadata": {},
     "output_type": "display_data"
    },
    {
     "data": {
      "application/javascript": [
       "require.undef(\"nbextensions/glow.1.0.min\");"
      ],
      "text/plain": [
       "<IPython.core.display.Javascript object>"
      ]
     },
     "metadata": {},
     "output_type": "display_data"
    },
    {
     "data": {
      "application/javascript": [
       "require.undef(\"nbextensions/jquery-ui.custom.min\");"
      ],
      "text/plain": [
       "<IPython.core.display.Javascript object>"
      ]
     },
     "metadata": {},
     "output_type": "display_data"
    },
    {
     "data": {
      "application/javascript": [
       "require.undef(\"nbextensions/glow.1.1.min\");"
      ],
      "text/plain": [
       "<IPython.core.display.Javascript object>"
      ]
     },
     "metadata": {},
     "output_type": "display_data"
    },
    {
     "data": {
      "application/javascript": [
       "require.undef(\"nbextensions/glow.1.2.min\");"
      ],
      "text/plain": [
       "<IPython.core.display.Javascript object>"
      ]
     },
     "metadata": {},
     "output_type": "display_data"
    },
    {
     "data": {
      "application/javascript": [
       "require.undef(\"nbextensions/glow.2.0.min\");"
      ],
      "text/plain": [
       "<IPython.core.display.Javascript object>"
      ]
     },
     "metadata": {},
     "output_type": "display_data"
    },
    {
     "data": {
      "application/javascript": [
       "require.undef(\"nbextensions/glowcomm\");"
      ],
      "text/plain": [
       "<IPython.core.display.Javascript object>"
      ]
     },
     "metadata": {},
     "output_type": "display_data"
    },
    {
     "data": {
      "application/javascript": [
       "require.undef(\"nbextensions/ivglowcomm\");"
      ],
      "text/plain": [
       "<IPython.core.display.Javascript object>"
      ]
     },
     "metadata": {},
     "output_type": "display_data"
    },
    {
     "data": {
      "application/javascript": [
       "require([\"nbextensions/ivglowcomm\"], function(){console.log(\"ivisual glowcomm loaded\");})"
      ],
      "text/plain": [
       "<IPython.core.display.Javascript object>"
      ]
     },
     "metadata": {},
     "output_type": "display_data"
    }
   ],
   "source": [
    "from ivisual import *"
   ]
  },
  {
   "cell_type": "markdown",
   "metadata": {},
   "source": [
    "## Loading json library allows iPython to deal with JSON formatted data"
   ]
  },
  {
   "cell_type": "code",
   "execution_count": 8,
   "metadata": {},
   "outputs": [],
   "source": [
    "import json"
   ]
  },
  {
   "cell_type": "markdown",
   "metadata": {},
   "source": [
    "# Loading SSBDapi Library"
   ]
  },
  {
   "cell_type": "code",
   "execution_count": 9,
   "metadata": {},
   "outputs": [],
   "source": [
    "import SSBDapi3_2 as ssbdapi"
   ]
  },
  {
   "cell_type": "markdown",
   "metadata": {},
   "source": [
    "## Using ssbdapi function 'data' to search for  'sim' in the field 'basedon'"
   ]
  },
  {
   "cell_type": "code",
   "execution_count": 10,
   "metadata": {},
   "outputs": [
    {
     "name": "stderr",
     "output_type": "stream",
     "text": [
      "(MainThread) Starting new HTTP connection (1): ssbd1.qbic.riken.jp\n",
      "(MainThread) http://ssbd1.qbic.riken.jp:80 \"GET /SSBD/api/v3/data/?format=json;basedon__icontains=sim; HTTP/1.1\" 200 None\n"
     ]
    },
    {
     "name": "stdout",
     "output_type": "stream",
     "text": [
      "display=True\n",
      "display= True\n",
      "parameter= http://ssbd1.qbic.riken.jp/SSBD/api/v3/data/?format=json;basedon__icontains=sim;\n",
      "meta= {'limit': 20, 'next': '/SSBD/api/v3/data/?basedon__icontains=sim&offset=20&limit=20&format=json', 'offset': 0, 'previous': None, 'total_count': 108}\n",
      "found= 108\n",
      "limit= 20\n",
      "No.: 1\n",
      "    PMID : 28256240\n",
      "    SID : 73\n",
      "    basedon : Simulation\n",
      "    bdmlID : 156dc81b-6220-4339-93e4-3b46db62e6a9\n",
      "    citation : None\n",
      "    contributors : Masashi Fujii, Kaoru Ohashi, Yasuaki Karasawa, Minori Hikichi, Shinya Kuroda\n",
      "    datatype : molecular dynamics\n",
      "    dblink : None\n",
      "    description : quantiative information about the simple stochastic model of Ca2+ increasing in the cell volume\n",
      "    gene : None\n",
      "    license : CC BY-SA\n",
      "    localID : seed.7\n",
      "    method_summary : See details in Fujii et al. (2017) Biophys J., 112(4): 813-8286.\n",
      "    orf : None\n",
      "    organism : None\n",
      "    release : 2018-11-14\n",
      "    schema_ver : 3.000\n",
      "    title : BDML file for quantiative information about the simple stochastic model of Ca2+ increasing in the cell volume\n",
      "No.: 2\n",
      "    PMID : 28256240\n",
      "    SID : 73\n",
      "    basedon : Simulation\n",
      "    bdmlID : 2e02b72f-e558-415e-bed1-38ae103a1f26\n",
      "    citation : None\n",
      "    contributors : Masashi Fujii, Kaoru Ohashi, Yasuaki Karasawa, Minori Hikichi, Shinya Kuroda\n",
      "    datatype : molecular dynamics\n",
      "    dblink : None\n",
      "    description : quantiative information about the simple stochastic model of Ca2+ increasing in the spine volume\n",
      "    gene : None\n",
      "    license : CC BY-SA\n",
      "    localID : 1seed.8\n",
      "    method_summary : See details in Fujii et al. (2017) Biophys J., 112(4): 813-8286.\n",
      "    orf : None\n",
      "    organism : None\n",
      "    release : 2018-11-14\n",
      "    schema_ver : 3.000\n",
      "    title : BDML file for quantiative information about the simple stochastic model of Ca2+ increasing in the spine volume\n",
      "No.: 3\n",
      "    PMID : 28256240\n",
      "    SID : 73\n",
      "    basedon : Simulation\n",
      "    bdmlID : 10751ed7-9784-4de3-82f0-0b5ba546c221\n",
      "    citation : None\n",
      "    contributors : Masashi Fujii, Kaoru Ohashi, Yasuaki Karasawa, Minori Hikichi, Shinya Kuroda\n",
      "    datatype : molecular dynamics\n",
      "    dblink : None\n",
      "    description : quantiative information about the simple stochastic model of Ca2+ increasing in the cell volume\n",
      "    gene : None\n",
      "    license : CC BY-SA\n",
      "    localID : seed.24\n",
      "    method_summary : See details in Fujii et al. (2017) Biophys J., 112(4): 813-8286.\n",
      "    orf : None\n",
      "    organism : None\n",
      "    release : 2018-11-14\n",
      "    schema_ver : 3.000\n",
      "    title : BDML file for quantiative information about the simple stochastic model of Ca2+ increasing in the cell volume\n",
      "No.: 4\n",
      "    PMID : 28256240\n",
      "    SID : 73\n",
      "    basedon : Simulation\n",
      "    bdmlID : 01438885-c396-469a-ab1e-f2ea901e6686\n",
      "    citation : None\n",
      "    contributors : Masashi Fujii, Kaoru Ohashi, Yasuaki Karasawa, Minori Hikichi, Shinya Kuroda\n",
      "    datatype : molecular dynamics\n",
      "    dblink : None\n",
      "    description : quantiative information about the simple stochastic model of Ca2+ increasing in the cell volume\n",
      "    gene : None\n",
      "    license : CC BY-SA\n",
      "    localID : seed.26\n",
      "    method_summary : See details in Fujii et al. (2017) Biophys J., 112(4): 813-8286.\n",
      "    orf : None\n",
      "    organism : None\n",
      "    release : 2018-11-14\n",
      "    schema_ver : 3.000\n",
      "    title : BDML file for quantiative information about the simple stochastic model of Ca2+ increasing in the cell volume\n",
      "No.: 5\n",
      "    PMID : 28256240\n",
      "    SID : 73\n",
      "    basedon : Simulation\n",
      "    bdmlID : 31acc1c9-ac73-472a-b669-377d282c4e10\n",
      "    citation : None\n",
      "    contributors : Masashi Fujii, Kaoru Ohashi, Yasuaki Karasawa, Minori Hikichi, Shinya Kuroda\n",
      "    datatype : molecular dynamics\n",
      "    dblink : None\n",
      "    description : quantiative information about the simple stochastic model of Ca2+ increasing in the cell volume\n",
      "    gene : None\n",
      "    license : CC BY-SA\n",
      "    localID : seed.27\n",
      "    method_summary : See details in Fujii et al. (2017) Biophys J., 112(4): 813-8286.\n",
      "    orf : None\n",
      "    organism : None\n",
      "    release : 2018-11-14\n",
      "    schema_ver : 3.000\n",
      "    title : BDML file for quantiative information about the simple stochastic model of Ca2+ increasing in the cell volume\n",
      "No.: 6\n",
      "    PMID : 28256240\n",
      "    SID : 73\n",
      "    basedon : Simulation\n",
      "    bdmlID : 58bcf542-4542-41c3-a69d-3d403077778d\n",
      "    citation : None\n",
      "    contributors : Masashi Fujii, Kaoru Ohashi, Yasuaki Karasawa, Minori Hikichi, Shinya Kuroda\n",
      "    datatype : molecular dynamics\n",
      "    dblink : None\n",
      "    description : quantiative information about the simple stochastic model of Ca2+ increasing in the cell volume\n",
      "    gene : None\n",
      "    license : CC BY-SA\n",
      "    localID : seed.28\n",
      "    method_summary : See details in Fujii et al. (2017) Biophys J., 112(4): 813-8286.\n",
      "    orf : None\n",
      "    organism : None\n",
      "    release : 2018-11-14\n",
      "    schema_ver : 3.000\n",
      "    title : BDML file for quantiative information about the simple stochastic model of Ca2+ increasing in the cell volume\n",
      "No.: 7\n",
      "    PMID : 28256240\n",
      "    SID : 73\n",
      "    basedon : Simulation\n",
      "    bdmlID : 9d943365-a91b-4842-b28f-66155bf46b6a\n",
      "    citation : None\n",
      "    contributors : Masashi Fujii, Kaoru Ohashi, Yasuaki Karasawa, Minori Hikichi, Shinya Kuroda\n",
      "    datatype : molecular dynamics\n",
      "    dblink : None\n",
      "    description : quantiative information about the simple stochastic model of Ca2+ increasing in the cell volume\n",
      "    gene : None\n",
      "    license : CC BY-SA\n",
      "    localID : seed.30\n",
      "    method_summary : See details in Fujii et al. (2017) Biophys J., 112(4): 813-8286.\n",
      "    orf : None\n",
      "    organism : None\n",
      "    release : 2018-11-14\n",
      "    schema_ver : 3.000\n",
      "    title : BDML file for quantiative information about the simple stochastic model of Ca2+ increasing in the cell volume\n",
      "No.: 8\n",
      "    PMID : 28256240\n",
      "    SID : 73\n",
      "    basedon : Simulation\n",
      "    bdmlID : 77e11976-56b6-4559-b436-ef222868942c\n",
      "    citation : None\n",
      "    contributors : Masashi Fujii, Kaoru Ohashi, Yasuaki Karasawa, Minori Hikichi, Shinya Kuroda\n",
      "    datatype : molecular dynamics\n",
      "    dblink : None\n",
      "    description : quantiative information about the simple stochastic model of Ca2+ increasing in the cell volume\n",
      "    gene : None\n",
      "    license : CC BY-SA\n",
      "    localID : seed.32\n",
      "    method_summary : See details in Fujii et al. (2017) Biophys J., 112(4): 813-8286.\n",
      "    orf : None\n",
      "    organism : None\n",
      "    release : 2018-11-14\n",
      "    schema_ver : 3.000\n",
      "    title : BDML file for quantiative information about the simple stochastic model of Ca2+ increasing in the cell volume\n",
      "No.: 9\n",
      "    PMID : 23246002\n",
      "    SID : 44\n",
      "    basedon : Simulation\n",
      "    bdmlID : 98b84fc3-2a81-48fb-8cfb-50ed86b1fb56\n",
      "    citation : None\n",
      "    contributors : Saera Hihara, Chan-Gi Pack, Kazunari Kaizu, Tomomi Tani, Tomo Hanafusa, Tadasu Nozaki, Satoko Takemoto, Tomohiko Yoshimi, Hideo Yokota, Naoko Imamoto, Yasushi Sako, Masataka Kinjo, Koichi Takahashi, Takeharu Nagai, Kazuhiro Maeshima\n",
      "    datatype : single molecule dynamics\n",
      "    dblink : http://www.ncbi.nlm.nih.gov/pubmed/23246002\n",
      "    description : the result of the Monte Carlo computer simulation of nucleosome dynamics in EGFP-pentamers (parameters: 13 nm spheres representing EGFP-pentamers  in free 0.1mM 10 nm spheres representing a nucleosome)\n",
      "    gene : None\n",
      "    license : CC BY\n",
      "    localID : nuc_0.1_0\n",
      "    method_summary : See details in Hihara et al. (2012) Cell Reports, 2(6): 1645-1656.\n",
      "    orf : None\n",
      "    organism : None\n",
      "    release : 2017-12-20\n",
      "    schema_ver : 3.000\n",
      "    title : BDML file for the result of the Monte Carlo computer simulation of nucleosome dynamics in EGFP-pentamers (parameters: 13 nm spheres representing EGFP-pentamers  in free 0.1mM 10 nm spheres representing a nucleosome)\n",
      "No.: 10\n",
      "    PMID : 26147508\n",
      "    SID : 13\n",
      "    basedon : Simulation\n",
      "    bdmlID : 0fb25694-2e40-423c-8c2a-3c993841b7a3\n",
      "    citation : None\n",
      "    contributors : Masaki Watabe, Satya Arjunan, Seiya Fukushima, Kazunori Iwamoto, Jun Kozuka, Satomi Matsuoka, Yuki Shindo, Masahiro Ueda, Koichi Takahashi\n",
      "    datatype : single molecule dynamics\n",
      "    dblink : http://www.ncbi.nlm.nih.gov/pubmed/26147508\n",
      "    description : quantitative information about ERK nuclear translocation dynamics obtained by the laser-scanning confocal microscopy (LSCM) simulation module\n",
      "    gene : None\n",
      "    license : CC BY\n",
      "    localID : NA_TMR_TIRFM_SIM\n",
      "    method_summary : See details in Watabe et al. (2015) PLoS One, 10(7): e0130089\n",
      "    orf : None\n",
      "    organism : NA\n",
      "    release : 2017-12-20\n",
      "    schema_ver : 3.000\n",
      "    title : BDML file for quantitative information about ERK nuclear translocation dynamics obtained by the laser-scanning confocal microscopy (LSCM) simulation module\n",
      "No.: 11\n",
      "    PMID : 23246002\n",
      "    SID : 44\n",
      "    basedon : Simulation\n",
      "    bdmlID : c7a8b399-3e17-447f-8ccb-51b46006ac2d\n",
      "    citation : None\n",
      "    contributors : Saera Hihara, Chan-Gi Pack, Kazunari Kaizu, Tomomi Tani, Tomo Hanafusa, Tadasu Nozaki, Satoko Takemoto, Tomohiko Yoshimi, Hideo Yokota, Naoko Imamoto, Yasushi Sako, Masataka Kinjo, Koichi Takahashi, Takeharu Nagai, Kazuhiro Maeshima\n",
      "    datatype : single molecule dynamics\n",
      "    dblink : http://www.ncbi.nlm.nih.gov/pubmed/23246002\n",
      "    description : the result of the Monte Carlo computer simulation of nucleosome dynamics in EGFP-pentamers (parameters: 13 nm spheres representing EGFP-pentamers in  0.5 mM 10 nm spheres representing a nucleosome, which are restricted within 20 nm)\n",
      "    gene : None\n",
      "    license : CC BY\n",
      "    localID : nuc_0.5_20\n",
      "    method_summary : See details in Hihara et al. (2012) Cell Reports, 2(6): 1645-1656.\n",
      "    orf : None\n",
      "    organism : None\n",
      "    release : 2017-12-20\n",
      "    schema_ver : 3.000\n",
      "    title : BDML file for the result of the Monte Carlo computer simulation of nucleosome dynamics in EGFP-pentamers (parameters: 13 nm spheres representing EGFP-pentamers in  0.5 mM 10 nm spheres representing a nucleosome, which are restricted within 20 nm)\n",
      "No.: 12\n",
      "    PMID : 28256240\n",
      "    SID : 73\n",
      "    basedon : Simulation\n",
      "    bdmlID : d8b27e43-d433-44d6-bccf-5f11311c9a43\n",
      "    citation : None\n",
      "    contributors : Masashi Fujii, Kaoru Ohashi, Yasuaki Karasawa, Minori Hikichi, Shinya Kuroda\n",
      "    datatype : molecular dynamics\n",
      "    dblink : None\n",
      "    description : quantiative information about the simple stochastic model of Ca2+ increasing in the cell volume\n",
      "    gene : None\n",
      "    license : CC BY-SA\n",
      "    localID : seed.23\n",
      "    method_summary : See details in Fujii et al. (2017) Biophys J., 112(4): 813-8286.\n",
      "    orf : None\n",
      "    organism : None\n",
      "    release : 2018-11-14\n",
      "    schema_ver : 3.000\n",
      "    title : BDML file for quantiative information about the simple stochastic model of Ca2+ increasing in the cell volume\n",
      "No.: 13\n",
      "    PMID : 28256240\n"
     ]
    },
    {
     "name": "stdout",
     "output_type": "stream",
     "text": [
      "    SID : 73\n",
      "    basedon : Simulation\n",
      "    bdmlID : cf11289d-26a2-49ab-94c8-8a53dadeb6ec\n",
      "    citation : None\n",
      "    contributors : Masashi Fujii, Kaoru Ohashi, Yasuaki Karasawa, Minori Hikichi, Shinya Kuroda\n",
      "    datatype : molecular dynamics\n",
      "    dblink : None\n",
      "    description : quantiative information about the simple stochastic model of Ca2+ increasing in the cell volume\n",
      "    gene : None\n",
      "    license : CC BY-SA\n",
      "    localID : seed.33\n",
      "    method_summary : See details in Fujii et al. (2017) Biophys J., 112(4): 813-8286.\n",
      "    orf : None\n",
      "    organism : None\n",
      "    release : 2018-11-14\n",
      "    schema_ver : 3.000\n",
      "    title : BDML file for quantiative information about the simple stochastic model of Ca2+ increasing in the cell volume\n",
      "No.: 14\n",
      "    PMID : 28256240\n",
      "    SID : 73\n",
      "    basedon : Simulation\n",
      "    bdmlID : 4ad7e3b2-dc80-4f70-98f5-65130ee33780\n",
      "    citation : None\n",
      "    contributors : Masashi Fujii, Kaoru Ohashi, Yasuaki Karasawa, Minori Hikichi, Shinya Kuroda\n",
      "    datatype : molecular dynamics\n",
      "    dblink : None\n",
      "    description : quantiative information about the simple stochastic model of Ca2+ increasing in the cell volume\n",
      "    gene : None\n",
      "    license : CC BY-SA\n",
      "    localID : seed.15\n",
      "    method_summary : See details in Fujii et al. (2017) Biophys J., 112(4): 813-8286.\n",
      "    orf : None\n",
      "    organism : None\n",
      "    release : 2018-11-14\n",
      "    schema_ver : 3.000\n",
      "    title : BDML file for quantiative information about the simple stochastic model of Ca2+ increasing in the cell volume\n",
      "No.: 15\n",
      "    PMID : 28256240\n",
      "    SID : 73\n",
      "    basedon : Simulation\n",
      "    bdmlID : b629255f-5e8a-4434-83ed-8beb4b86ca26\n",
      "    citation : None\n",
      "    contributors : Masashi Fujii, Kaoru Ohashi, Yasuaki Karasawa, Minori Hikichi, Shinya Kuroda\n",
      "    datatype : molecular dynamics\n",
      "    dblink : None\n",
      "    description : quantiative information about the simple stochastic model of Ca2+ increasing in the cell volume\n",
      "    gene : None\n",
      "    license : CC BY-SA\n",
      "    localID : seed.17\n",
      "    method_summary : See details in Fujii et al. (2017) Biophys J., 112(4): 813-8286.\n",
      "    orf : None\n",
      "    organism : None\n",
      "    release : 2018-11-14\n",
      "    schema_ver : 3.000\n",
      "    title : BDML file for quantiative information about the simple stochastic model of Ca2+ increasing in the cell volume\n",
      "No.: 16\n",
      "    PMID : 26147508\n",
      "    SID : 13\n",
      "    basedon : Simulation\n",
      "    bdmlID : 9628af50-5a46-4d57-b4f3-73175775776d\n",
      "    citation : None\n",
      "    contributors : Masaki Watabe, Satya Arjunan, Seiya Fukushima, Kazunori Iwamoto, Jun Kozuka, Satomi Matsuoka, Yuki Shindo, Masahiro Ueda, Koichi Takahashi\n",
      "    datatype : single molecule dynamics\n",
      "    dblink : http://www.ncbi.nlm.nih.gov/pubmed/26147508\n",
      "    description : quantitative information about PTEN self-organizing dynamics obtained by the laser-scanning confocal microscopy (LSCM) simulation module\n",
      "    gene : None\n",
      "    license : CC BY\n",
      "    localID : Ddi_PTEN_LSCM_SIM\n",
      "    method_summary : See details in Watabe et al. (2015) PLoS One, 10(7): e0130089\n",
      "    orf : None\n",
      "    organism : D. discoideum\n",
      "    release : 2017-12-20\n",
      "    schema_ver : 3.000\n",
      "    title : BDML file for quantitative information about PTEN self-organizing dynamics obtained by the laser-scanning confocal microscopy (LSCM) simulation module\n",
      "No.: 17\n",
      "    PMID : 26147508\n",
      "    SID : 13\n",
      "    basedon : Simulation\n",
      "    bdmlID : 9cff553d-47e5-4e71-9d82-e5bb0172ea89\n",
      "    citation : None\n",
      "    contributors : Masaki Watabe, Satya Arjunan, Seiya Fukushima, Kazunori Iwamoto, Jun Kozuka, Satomi Matsuoka, Yuki Shindo, Masahiro Ueda, Koichi Takahashi\n",
      "    datatype : single molecule dynamics\n",
      "    dblink : http://www.ncbi.nlm.nih.gov/pubmed/26147508\n",
      "    description : quantitative information about ERK nuclear translocation dynamics obtained by the laser-scanning confocal microscopy (LSCM) simulation module\n",
      "    gene : None\n",
      "    license : CC BY\n",
      "    localID : NA_TMR_LSCM_SIM\n",
      "    method_summary : See details in Watabe et al. (2015) PLoS One, 10(7): e0130089\n",
      "    orf : None\n",
      "    organism : NA\n",
      "    release : 2017-12-20\n",
      "    schema_ver : 3.000\n",
      "    title : BDML file for quantitative information about ERK nuclear translocation dynamics obtained by the laser-scanning confocal microscopy (LSCM) simulation module\n",
      "No.: 18\n",
      "    PMID : 26147508\n",
      "    SID : 13\n",
      "    basedon : Simulation\n",
      "    bdmlID : 6cc0313a-e257-4e93-bcfb-eade98b93c62\n",
      "    citation : None\n",
      "    contributors : Masaki Watabe, Satya Arjunan, Seiya Fukushima, Kazunori Iwamoto, Jun Kozuka, Satomi Matsuoka, Yuki Shindo, Masahiro Ueda, Koichi Takahashi\n",
      "    datatype : single molecule dynamics\n",
      "    dblink : http://www.ncbi.nlm.nih.gov/pubmed/26147508\n",
      "    description : quantitative information about ERK nuclear translocation dynamics obtained by the laser-scanning confocal microscopy (LSCM) simulation module\n",
      "    gene : None\n",
      "    license : CC BY\n",
      "    localID : Rat_ERK_LSCM_SIM\n",
      "    method_summary : See details in Watabe et al. (2015) PLoS One, 10(7): e0130089\n",
      "    orf : None\n",
      "    organism : R. norvegicus\n",
      "    release : 2017-12-20\n",
      "    schema_ver : 3.000\n",
      "    title : BDML file for quantitative information about ERK nuclear translocation dynamics obtained by the laser-scanning confocal microscopy (LSCM) simulation module\n",
      "No.: 19\n",
      "    PMID : 20012222\n",
      "    SID : 6\n",
      "    basedon : Simulation\n",
      "    bdmlID : 94d2e828-6a63-46f3-bb36-f954eec4f8d7\n",
      "    citation : None\n",
      "    contributors : Satya Arjunan, Masaru Tomita\n",
      "    datatype : single molecule dynamics\n",
      "    dblink : http://www.ncbi.nlm.nih.gov/pubmed/20012222\n",
      "    description : quantitative single molecule dynamics of Min proteins (MinEE, MinDEE, MinDEED, and MinD) in E. coli wild-type\n",
      "    gene : None\n",
      "    license : CC BY-NC-SA\n",
      "    localID : Eco_MinE_AS\n",
      "    method_summary : See details in Arjunan et al. (2010) Syst Synth Biol 4, 35-53.\n",
      "    orf : None\n",
      "    organism : E. coli\n",
      "    release : 2017-12-20\n",
      "    schema_ver : 3.000\n",
      "    title : BDML file for quantitative information about single molecule dynamics of E. coli wild-type\n",
      "No.: 20\n",
      "    PMID : 28256240\n",
      "    SID : 73\n",
      "    basedon : Simulation\n",
      "    bdmlID : d52c8731-10b1-4992-90ec-201624d2bac7\n",
      "    citation : None\n",
      "    contributors : Masashi Fujii, Kaoru Ohashi, Yasuaki Karasawa, Minori Hikichi, Shinya Kuroda\n",
      "    datatype : molecular dynamics\n",
      "    dblink : None\n",
      "    description : quantiative information about the simple stochastic model of Ca2+ increasing in the cell volume\n",
      "    gene : None\n",
      "    license : CC BY-SA\n",
      "    localID : seed.18\n",
      "    method_summary : See details in Fujii et al. (2017) Biophys J., 112(4): 813-8286.\n",
      "    orf : None\n",
      "    organism : None\n",
      "    release : 2018-11-14\n",
      "    schema_ver : 3.000\n",
      "    title : BDML file for quantiative information about the simple stochastic model of Ca2+ increasing in the cell volume\n"
     ]
    }
   ],
   "source": [
    "q=ssbdapi.ssbd()\n",
    "q.set_display('on')\n",
    "resultdata = q.data('basedon', 'sim')"
   ]
  },
  {
   "cell_type": "markdown",
   "metadata": {},
   "source": [
    "## Using ssbdapi function 'data' to search for  'D. rerio' in the field 'organism'"
   ]
  },
  {
   "cell_type": "code",
   "execution_count": 11,
   "metadata": {},
   "outputs": [
    {
     "name": "stderr",
     "output_type": "stream",
     "text": [
      "(MainThread) Starting new HTTP connection (1): ssbd1.qbic.riken.jp\n",
      "(MainThread) http://ssbd1.qbic.riken.jp:80 \"GET /SSBD/api/v3/data/?format=json;organism__icontains=D.%20rerio; HTTP/1.1\" 200 None\n"
     ]
    },
    {
     "name": "stdout",
     "output_type": "stream",
     "text": [
      "display=True\n",
      "display= True\n",
      "parameter= http://ssbd1.qbic.riken.jp/SSBD/api/v3/data/?format=json;organism__icontains=D. rerio;\n",
      "meta= {'limit': 20, 'next': None, 'offset': 0, 'previous': None, 'total_count': 7}\n",
      "found= 7\n",
      "limit= 20\n",
      "No.: 1\n",
      "    PMID : 18845710\n",
      "    SID : 5\n",
      "    basedon : Experiment\n",
      "    bdmlID : 320e02ee-1c6c-4e03-a6da-75b5c413b6a3\n",
      "    citation : None\n",
      "    contributors : Philipp Keller, Annette Schmidt, Joachim Wittbrodt, Ernst Stelzer\n",
      "    datatype : nuclear positions\n",
      "    dblink : http://www.embl.de/digitalembryo/fish.html\n",
      "    description : in toto reconstruction of zebrafish MZoep mutant development\n",
      "    gene : None\n",
      "    license : CC BY-NC-SA\n",
      "    localID : zebrafish_in_toto_mzoep.mat\n",
      "    method_summary : See details in Keller et al. (2008) Science 322, 1065-1069.\n",
      "    orf : None\n",
      "    organism : D. rerio\n",
      "    release : 2017-12-20\n",
      "    schema_ver : 3.000\n",
      "    title : BDML file for in toto reconstruction of zebrafish MZoep mutant development\n",
      "No.: 2\n",
      "    PMID : 18845710\n",
      "    SID : 5\n",
      "    basedon : Experiment\n",
      "    bdmlID : bad5c56c-2a1d-4393-b1a5-ac9fd67c9999\n",
      "    citation : None\n",
      "    contributors : Philipp Keller, Annette Schmidt, Joachim Wittbrodt, Ernst Stelzer\n",
      "    datatype : nuclear positions\n",
      "    dblink : http://www.embl.de/digitalembryo/fish.html\n",
      "    description : reconstruction of the zebrafish ventral hemisphere\n",
      "    gene : None\n",
      "    license : CC BY-NC-SA\n",
      "    localID : zebrafish_ventral.mat\n",
      "    method_summary : See details in Keller et al. (2008) Science 322, 1065-1069.\n",
      "    orf : None\n",
      "    organism : D. rerio\n",
      "    release : 2017-12-20\n",
      "    schema_ver : 3.000\n",
      "    title : BDML file for reconstruction of the zebrafish ventral hemisphere\n",
      "No.: 3\n",
      "    PMID : 18845710\n",
      "    SID : 5\n",
      "    basedon : Experiment\n",
      "    bdmlID : 0f6f9f39-6df6-430a-a5a9-45461093a040\n",
      "    citation : None\n",
      "    contributors : Philipp Keller, Annette Schmidt, Joachim Wittbrodt, Ernst Stelzer\n",
      "    datatype : nuclear positions\n",
      "    dblink : http://www.embl.de/digitalembryo/fish.html\n",
      "    description : reconstruction of the zebrafish animal hemisphere (B)\n",
      "    gene : None\n",
      "    license : CC BY-NC-SA\n",
      "    localID : zebrafish_animal_b.mat\n",
      "    method_summary : See details in Keller et al. (2008) Science 322, 1065-1069.\n",
      "    orf : None\n",
      "    organism : D. rerio\n",
      "    release : 2017-12-20\n",
      "    schema_ver : 3.000\n",
      "    title : BDML file for reconstruction of the zebrafish animal hemisphere (B)\n",
      "No.: 4\n",
      "    PMID : 18845710\n",
      "    SID : 5\n",
      "    basedon : Experiment\n",
      "    bdmlID : 1ccea5dc-7141-4f4d-8deb-459289d58c28\n",
      "    citation : None\n",
      "    contributors : Philipp Keller, Annette Schmidt, Joachim Wittbrodt, Ernst Stelzer\n",
      "    datatype : nuclear positions\n",
      "    dblink : http://www.embl.de/digitalembryo/fish.html\n",
      "    description : reconstruction of the zebrafish animal hemisphere (C)\n",
      "    gene : None\n",
      "    license : CC BY-NC-SA\n",
      "    localID : zebrafish_animal_c.mat\n",
      "    method_summary : See details in Keller et al. (2008) Science 322, 1065-1069.\n",
      "    orf : None\n",
      "    organism : D. rerio\n",
      "    release : 2017-12-20\n",
      "    schema_ver : 3.000\n",
      "    title : BDML file for reconstruction of the zebrafish animal hemisphere (C)\n",
      "No.: 5\n",
      "    PMID : 18845710\n",
      "    SID : 5\n",
      "    basedon : Experiment\n",
      "    bdmlID : 8c6522d3-3444-4195-a7b6-83d0dec65174\n",
      "    citation : None\n",
      "    contributors : Philipp Keller, Annette Schmidt, Joachim Wittbrodt, Ernst Stelzer\n",
      "    datatype : nuclear positions\n",
      "    dblink : http://www.embl.de/digitalembryo/fish.html\n",
      "    description : reconstruction of the zebrafish dorsal hemisphere\n",
      "    gene : None\n",
      "    license : CC BY-NC-SA\n",
      "    localID : zebrafish_dorsal.mat\n",
      "    method_summary : See details in Keller et al. (2008) Science 322, 1065-1069.\n",
      "    orf : None\n",
      "    organism : D. rerio\n",
      "    release : 2017-12-20\n",
      "    schema_ver : 3.000\n",
      "    title : BDML file for reconstruction of the zebrafish dorsal hemisphere\n",
      "No.: 6\n",
      "    PMID : 18845710\n",
      "    SID : 5\n",
      "    basedon : Experiment\n",
      "    bdmlID : f076c9ea-1bf2-475a-9ec2-4fcfbfe3a3ac\n",
      "    citation : None\n",
      "    contributors : Philipp Keller, Annette Schmidt, Joachim Wittbrodt, Ernst Stelzer\n",
      "    datatype : nuclear positions\n",
      "    dblink : http://www.embl.de/digitalembryo/fish.html\n",
      "    description : in toto reconstruction of zebrafish wild-type development\n",
      "    gene : None\n",
      "    license : CC BY-NC-SA\n",
      "    localID : zebrafish_in_toto_wt.mat\n",
      "    method_summary : See details in Keller et al. (2008) Science 322, 1065-1069.\n",
      "    orf : None\n",
      "    organism : D. rerio\n",
      "    release : 2017-12-20\n",
      "    schema_ver : 3.000\n",
      "    title : BDML file for in toto reconstruction of zebrafish wild-type development\n",
      "No.: 7\n",
      "    PMID : 18845710\n",
      "    SID : 5\n",
      "    basedon : Experiment\n",
      "    bdmlID : f1711c49-3cfc-4144-943f-c7d649419ae1\n",
      "    citation : None\n",
      "    contributors : Philipp Keller, Annette Schmidt, Joachim Wittbrodt, Ernst Stelzer\n",
      "    datatype : nuclear positions\n",
      "    dblink : http://www.embl.de/digitalembryo/fish.html\n",
      "    description : reconstruction of the zebrafish animal hemisphere (A)\n",
      "    gene : None\n",
      "    license : CC BY-NC-SA\n",
      "    localID : zebrafish_animal_a.mat\n",
      "    method_summary : See details in Keller et al. (2008) Science 322, 1065-1069.\n",
      "    orf : None\n",
      "    organism : D. rerio\n",
      "    release : 2017-12-20\n",
      "    schema_ver : 3.000\n",
      "    title : BDML file for reconstruction of the zebrafish animal hemisphere (A)\n"
     ]
    }
   ],
   "source": [
    "q=ssbdapi.ssbd()\n",
    "q.set_display('on')\n",
    "resultdata = q.data('organism', 'D. rerio')"
   ]
  },
  {
   "cell_type": "markdown",
   "metadata": {},
   "source": [
    "## Using ssbdapi function 'data' to search for  'rer' in the field 'organism'"
   ]
  },
  {
   "cell_type": "code",
   "execution_count": 12,
   "metadata": {},
   "outputs": [
    {
     "name": "stderr",
     "output_type": "stream",
     "text": [
      "(MainThread) Starting new HTTP connection (1): ssbd1.qbic.riken.jp\n",
      "(MainThread) http://ssbd1.qbic.riken.jp:80 \"GET /SSBD/api/v3/data/?format=json;organism__icontains=rer; HTTP/1.1\" 200 None\n"
     ]
    },
    {
     "name": "stdout",
     "output_type": "stream",
     "text": [
      "display=True\n",
      "display= True\n",
      "parameter= http://ssbd1.qbic.riken.jp/SSBD/api/v3/data/?format=json;organism__icontains=rer;\n",
      "meta= {'limit': 20, 'next': None, 'offset': 0, 'previous': None, 'total_count': 7}\n",
      "found= 7\n",
      "limit= 20\n",
      "No.: 1\n",
      "    PMID : 18845710\n",
      "    SID : 5\n",
      "    basedon : Experiment\n",
      "    bdmlID : 320e02ee-1c6c-4e03-a6da-75b5c413b6a3\n",
      "    citation : None\n",
      "    contributors : Philipp Keller, Annette Schmidt, Joachim Wittbrodt, Ernst Stelzer\n",
      "    datatype : nuclear positions\n",
      "    dblink : http://www.embl.de/digitalembryo/fish.html\n",
      "    description : in toto reconstruction of zebrafish MZoep mutant development\n",
      "    gene : None\n",
      "    license : CC BY-NC-SA\n",
      "    localID : zebrafish_in_toto_mzoep.mat\n",
      "    method_summary : See details in Keller et al. (2008) Science 322, 1065-1069.\n",
      "    orf : None\n",
      "    organism : D. rerio\n",
      "    release : 2017-12-20\n",
      "    schema_ver : 3.000\n",
      "    title : BDML file for in toto reconstruction of zebrafish MZoep mutant development\n",
      "No.: 2\n",
      "    PMID : 18845710\n",
      "    SID : 5\n",
      "    basedon : Experiment\n",
      "    bdmlID : bad5c56c-2a1d-4393-b1a5-ac9fd67c9999\n",
      "    citation : None\n",
      "    contributors : Philipp Keller, Annette Schmidt, Joachim Wittbrodt, Ernst Stelzer\n",
      "    datatype : nuclear positions\n",
      "    dblink : http://www.embl.de/digitalembryo/fish.html\n",
      "    description : reconstruction of the zebrafish ventral hemisphere\n",
      "    gene : None\n",
      "    license : CC BY-NC-SA\n",
      "    localID : zebrafish_ventral.mat\n",
      "    method_summary : See details in Keller et al. (2008) Science 322, 1065-1069.\n",
      "    orf : None\n",
      "    organism : D. rerio\n",
      "    release : 2017-12-20\n",
      "    schema_ver : 3.000\n",
      "    title : BDML file for reconstruction of the zebrafish ventral hemisphere\n",
      "No.: 3\n",
      "    PMID : 18845710\n",
      "    SID : 5\n",
      "    basedon : Experiment\n",
      "    bdmlID : 0f6f9f39-6df6-430a-a5a9-45461093a040\n",
      "    citation : None\n",
      "    contributors : Philipp Keller, Annette Schmidt, Joachim Wittbrodt, Ernst Stelzer\n",
      "    datatype : nuclear positions\n",
      "    dblink : http://www.embl.de/digitalembryo/fish.html\n",
      "    description : reconstruction of the zebrafish animal hemisphere (B)\n",
      "    gene : None\n",
      "    license : CC BY-NC-SA\n",
      "    localID : zebrafish_animal_b.mat\n",
      "    method_summary : See details in Keller et al. (2008) Science 322, 1065-1069.\n",
      "    orf : None\n",
      "    organism : D. rerio\n",
      "    release : 2017-12-20\n",
      "    schema_ver : 3.000\n",
      "    title : BDML file for reconstruction of the zebrafish animal hemisphere (B)\n",
      "No.: 4\n",
      "    PMID : 18845710\n",
      "    SID : 5\n",
      "    basedon : Experiment\n",
      "    bdmlID : 1ccea5dc-7141-4f4d-8deb-459289d58c28\n",
      "    citation : None\n",
      "    contributors : Philipp Keller, Annette Schmidt, Joachim Wittbrodt, Ernst Stelzer\n",
      "    datatype : nuclear positions\n",
      "    dblink : http://www.embl.de/digitalembryo/fish.html\n",
      "    description : reconstruction of the zebrafish animal hemisphere (C)\n",
      "    gene : None\n",
      "    license : CC BY-NC-SA\n",
      "    localID : zebrafish_animal_c.mat\n",
      "    method_summary : See details in Keller et al. (2008) Science 322, 1065-1069.\n",
      "    orf : None\n",
      "    organism : D. rerio\n",
      "    release : 2017-12-20\n",
      "    schema_ver : 3.000\n",
      "    title : BDML file for reconstruction of the zebrafish animal hemisphere (C)\n",
      "No.: 5\n",
      "    PMID : 18845710\n",
      "    SID : 5\n",
      "    basedon : Experiment\n",
      "    bdmlID : 8c6522d3-3444-4195-a7b6-83d0dec65174\n",
      "    citation : None\n",
      "    contributors : Philipp Keller, Annette Schmidt, Joachim Wittbrodt, Ernst Stelzer\n",
      "    datatype : nuclear positions\n",
      "    dblink : http://www.embl.de/digitalembryo/fish.html\n",
      "    description : reconstruction of the zebrafish dorsal hemisphere\n",
      "    gene : None\n",
      "    license : CC BY-NC-SA\n",
      "    localID : zebrafish_dorsal.mat\n",
      "    method_summary : See details in Keller et al. (2008) Science 322, 1065-1069.\n",
      "    orf : None\n",
      "    organism : D. rerio\n",
      "    release : 2017-12-20\n",
      "    schema_ver : 3.000\n",
      "    title : BDML file for reconstruction of the zebrafish dorsal hemisphere\n",
      "No.: 6\n",
      "    PMID : 18845710\n",
      "    SID : 5\n",
      "    basedon : Experiment\n",
      "    bdmlID : f076c9ea-1bf2-475a-9ec2-4fcfbfe3a3ac\n",
      "    citation : None\n",
      "    contributors : Philipp Keller, Annette Schmidt, Joachim Wittbrodt, Ernst Stelzer\n",
      "    datatype : nuclear positions\n",
      "    dblink : http://www.embl.de/digitalembryo/fish.html\n",
      "    description : in toto reconstruction of zebrafish wild-type development\n",
      "    gene : None\n",
      "    license : CC BY-NC-SA\n",
      "    localID : zebrafish_in_toto_wt.mat\n",
      "    method_summary : See details in Keller et al. (2008) Science 322, 1065-1069.\n",
      "    orf : None\n",
      "    organism : D. rerio\n",
      "    release : 2017-12-20\n",
      "    schema_ver : 3.000\n",
      "    title : BDML file for in toto reconstruction of zebrafish wild-type development\n",
      "No.: 7\n",
      "    PMID : 18845710\n",
      "    SID : 5\n",
      "    basedon : Experiment\n",
      "    bdmlID : f1711c49-3cfc-4144-943f-c7d649419ae1\n",
      "    citation : None\n",
      "    contributors : Philipp Keller, Annette Schmidt, Joachim Wittbrodt, Ernst Stelzer\n",
      "    datatype : nuclear positions\n",
      "    dblink : http://www.embl.de/digitalembryo/fish.html\n",
      "    description : reconstruction of the zebrafish animal hemisphere (A)\n",
      "    gene : None\n",
      "    license : CC BY-NC-SA\n",
      "    localID : zebrafish_animal_a.mat\n",
      "    method_summary : See details in Keller et al. (2008) Science 322, 1065-1069.\n",
      "    orf : None\n",
      "    organism : D. rerio\n",
      "    release : 2017-12-20\n",
      "    schema_ver : 3.000\n",
      "    title : BDML file for reconstruction of the zebrafish animal hemisphere (A)\n"
     ]
    }
   ],
   "source": [
    "q=ssbdapi.ssbd()\n",
    "q.set_display('on')\n",
    "resultdata = q.data('organism', 'rer')"
   ]
  },
  {
   "cell_type": "markdown",
   "metadata": {},
   "source": [
    "## Using ssbdapi function 'data' to search for 'nucl' in the field 'title'"
   ]
  },
  {
   "cell_type": "code",
   "execution_count": 13,
   "metadata": {},
   "outputs": [
    {
     "name": "stderr",
     "output_type": "stream",
     "text": [
      "(MainThread) Starting new HTTP connection (1): ssbd1.qbic.riken.jp\n",
      "(MainThread) http://ssbd1.qbic.riken.jp:80 \"GET /SSBD/api/v3/data/?format=json;title__icontains=nucl; HTTP/1.1\" 200 None\n"
     ]
    },
    {
     "name": "stdout",
     "output_type": "stream",
     "text": [
      "display=True\n",
      "display= True\n",
      "parameter= http://ssbd1.qbic.riken.jp/SSBD/api/v3/data/?format=json;title__icontains=nucl;\n",
      "meta= {'limit': 20, 'next': '/SSBD/api/v3/data/?title__icontains=nucl&offset=20&limit=20&format=json', 'offset': 0, 'previous': None, 'total_count': 208}\n",
      "found= 208\n",
      "limit= 20\n",
      "No.: 1\n",
      "    PMID : 23172286\n",
      "    SID : 2\n",
      "    basedon : Experiment\n",
      "    bdmlID : 7e0d3df0-573b-48d2-9e5a-7736f78e9e55\n",
      "    citation : None\n",
      "    contributors : Koji Kyoda, Mari Furukawa, Ryoko Arai, Shuichi Onami\n",
      "    datatype : nuclear division dynamics\n",
      "    dblink : http://so.qbic.riken.jp/wddd/\n",
      "    description : quantitative information about nuclear division dynamics in wild-type embryo\n",
      "    gene : None\n",
      "    license : CC BY-SA\n",
      "    localID : wt(N2)030127_01\n",
      "    method_summary : See details in Kyoda et al. (2013) Nucleic Acids Res 41, D732-D737.\n",
      "    orf : None\n",
      "    organism : C. elegans\n",
      "    release : 2017-12-20\n",
      "    schema_ver : 3.000\n",
      "    title : BDML file for quantitative information about nuclear division dynamics of wild-type embryo\n",
      "No.: 2\n",
      "    PMID : 23172286\n",
      "    SID : 2\n",
      "    basedon : Experiment\n",
      "    bdmlID : 505c9e7b-2ffd-4073-8056-a308127b4822\n",
      "    citation : None\n",
      "    contributors : Koji Kyoda, Mari Furukawa, Ryoko Arai, Shuichi Onami\n",
      "    datatype : nuclear division dynamics\n",
      "    dblink : http://so.qbic.riken.jp/wddd/\n",
      "    description : quantitative information about nuclear division dynamics in C02F5.1(RNAi) embryo (knl-1(RNAi) embryo)\n",
      "    gene : None\n",
      "    license : CC BY-SA\n",
      "    localID : C02F5.1(gPCR)061219_02\n",
      "    method_summary : See details in Kyoda et al. (2013) Nucleic Acids Res 41, D732-D737.\n",
      "    orf : None\n",
      "    organism : C. elegans\n",
      "    release : 2017-12-20\n",
      "    schema_ver : 3.000\n",
      "    title : BDML file for quantitative information about nuclear division dynamics of C02F5.1(RNAi) embryo\n",
      "No.: 3\n",
      "    PMID : 23172286\n",
      "    SID : 2\n",
      "    basedon : Experiment\n",
      "    bdmlID : 53e20fb3-7939-45ac-946b-90272bd83540\n",
      "    citation : None\n",
      "    contributors : Koji Kyoda, Mari Furukawa, Ryoko Arai, Shuichi Onami\n",
      "    datatype : nuclear division dynamics\n",
      "    dblink : http://so.qbic.riken.jp/wddd/\n",
      "    description : quantitative information about nuclear division dynamics in B0464.7(RNAi) embryo (baf-1(RNAi) embryo)\n",
      "    gene : None\n",
      "    license : CC BY-SA\n",
      "    localID : B0464.7(gPCR)040518_02\n",
      "    method_summary : See details in Kyoda et al. (2013) Nucleic Acids Res 41, D732-D737.\n",
      "    orf : None\n",
      "    organism : C. elegans\n",
      "    release : 2017-12-20\n",
      "    schema_ver : 3.000\n",
      "    title : BDML file for quantitative information about nuclear division dynamics of B0464.7(RNAi) embryo\n",
      "No.: 4\n",
      "    PMID : 23172286\n",
      "    SID : 2\n",
      "    basedon : Experiment\n",
      "    bdmlID : 30b3c581-c974-4168-a889-83d87a27ae17\n",
      "    citation : None\n",
      "    contributors : Koji Kyoda, Mari Furukawa, Ryoko Arai, Shuichi Onami\n",
      "    datatype : nuclear division dynamics\n",
      "    dblink : http://so.qbic.riken.jp/wddd/\n",
      "    description : quantitative information about nuclear division dynamics in B0464.7(RNAi) embryo (baf-1(RNAi) embryo)\n",
      "    gene : None\n",
      "    license : CC BY-SA\n",
      "    localID : B0464.7(gPCR)070605_01\n",
      "    method_summary : See details in Kyoda et al. (2013) Nucleic Acids Res 41, D732-D737.\n",
      "    orf : None\n",
      "    organism : C. elegans\n",
      "    release : 2017-12-20\n",
      "    schema_ver : 3.000\n",
      "    title : BDML file for quantitative information about nuclear division dynamics of B0464.7(RNAi) embryo\n",
      "No.: 5\n",
      "    PMID : 23172286\n",
      "    SID : 2\n",
      "    basedon : Experiment\n",
      "    bdmlID : 99751c16-7543-4682-9b14-39f2625356a0\n",
      "    citation : None\n",
      "    contributors : Koji Kyoda, Mari Furukawa, Ryoko Arai, Shuichi Onami\n",
      "    datatype : nuclear division dynamics\n",
      "    dblink : http://so.qbic.riken.jp/wddd/\n",
      "    description : quantitative information about nuclear division dynamics in C02F5.9(RNAi) embryo (pbs-6(RNAi) embryo)\n",
      "    gene : None\n",
      "    license : CC BY-SA\n",
      "    localID : C02F5.9(gPCR)040608_01\n",
      "    method_summary : See details in Kyoda et al. (2013) Nucleic Acids Res 41, D732-D737.\n",
      "    orf : None\n",
      "    organism : C. elegans\n",
      "    release : 2017-12-20\n",
      "    schema_ver : 3.000\n",
      "    title : BDML file for quantitative information about nuclear division dynamics of C02F5.9(RNAi) embryo\n",
      "No.: 6\n",
      "    PMID : 23172286\n",
      "    SID : 2\n",
      "    basedon : Experiment\n",
      "    bdmlID : a719bdfd-2123-4862-83dd-6156a6932968\n",
      "    citation : None\n",
      "    contributors : Koji Kyoda, Mari Furukawa, Ryoko Arai, Shuichi Onami\n",
      "    datatype : nuclear division dynamics\n",
      "    dblink : http://so.qbic.riken.jp/wddd/\n",
      "    description : quantitative information about nuclear division dynamics in C02F5.9(RNAi) embryo (pbs-6(RNAi) embryo)\n",
      "    gene : None\n",
      "    license : CC BY-SA\n",
      "    localID : C02F5.9(gPCR)070607_03\n",
      "    method_summary : See details in Kyoda et al. (2013) Nucleic Acids Res 41, D732-D737.\n",
      "    orf : None\n",
      "    organism : C. elegans\n",
      "    release : 2017-12-20\n",
      "    schema_ver : 3.000\n",
      "    title : BDML file for quantitative information about nuclear division dynamics of C02F5.9(RNAi) embryo\n",
      "No.: 7\n",
      "    PMID : 23172286\n",
      "    SID : 2\n",
      "    basedon : Experiment\n",
      "    bdmlID : 85d89db3-98db-4a4c-ae9b-87aa56fe2744\n",
      "    citation : None\n",
      "    contributors : Koji Kyoda, Mari Furukawa, Ryoko Arai, Shuichi Onami\n",
      "    datatype : nuclear division dynamics\n",
      "    dblink : http://so.qbic.riken.jp/wddd/\n",
      "    description : quantitative information about nuclear division dynamics in B0361.10(RNAi) embryo (ykt-6(RNAi) embryo)\n",
      "    gene : None\n",
      "    license : CC BY-SA\n",
      "    localID : B0361.10(gPCR)040518_01\n",
      "    method_summary : See details in Kyoda et al. (2013) Nucleic Acids Res 41, D732-D737.\n",
      "    orf : None\n",
      "    organism : C. elegans\n",
      "    release : 2017-12-20\n",
      "    schema_ver : 3.000\n",
      "    title : BDML file for quantitative information about nuclear division dynamics of B0361.10(RNAi) embryo\n",
      "No.: 8\n",
      "    PMID : 23172286\n",
      "    SID : 2\n",
      "    basedon : Experiment\n",
      "    bdmlID : 0fc7df19-15e8-4f7e-9f92-d3b11f9aee39\n",
      "    citation : None\n",
      "    contributors : Koji Kyoda, Mari Furukawa, Ryoko Arai, Shuichi Onami\n",
      "    datatype : nuclear division dynamics\n",
      "    dblink : http://so.qbic.riken.jp/wddd/\n",
      "    description : quantitative information about nuclear division dynamics in C05D11.3(RNAi) embryo (tag-170(RNAi) embryo)\n",
      "    gene : None\n",
      "    license : CC BY-SA\n",
      "    localID : C05D11.3(gPCR)040603_02\n",
      "    method_summary : See details in Kyoda et al. (2013) Nucleic Acids Res 41, D732-D737.\n",
      "    orf : None\n",
      "    organism : C. elegans\n",
      "    release : 2017-12-20\n",
      "    schema_ver : 3.000\n",
      "    title : BDML file for quantitative information about nuclear division dynamics of C05D11.3(RNAi) embryo\n",
      "No.: 9\n",
      "    PMID : 23172286\n",
      "    SID : 2\n",
      "    basedon : Experiment\n",
      "    bdmlID : e4f29995-070c-4a7c-a774-41739bb0a863\n",
      "    citation : None\n",
      "    contributors : Koji Kyoda, Mari Furukawa, Ryoko Arai, Shuichi Onami\n",
      "    datatype : nuclear division dynamics\n",
      "    dblink : http://so.qbic.riken.jp/wddd/\n",
      "    description : quantitative information about nuclear division dynamics in C07A9.3(RNAi) embryo (tlk-1(RNAi) embryo)\n",
      "    gene : None\n",
      "    license : CC BY-SA\n",
      "    localID : C07A9.3(gPCR)040617_01\n",
      "    method_summary : See details in Kyoda et al. (2013) Nucleic Acids Res 41, D732-D737.\n",
      "    orf : None\n",
      "    organism : C. elegans\n",
      "    release : 2017-12-20\n",
      "    schema_ver : 3.000\n",
      "    title : BDML file for quantitative information about nuclear division dynamics of C07A9.3(RNAi) embryo\n",
      "No.: 10\n",
      "    PMID : 23172286\n",
      "    SID : 2\n",
      "    basedon : Experiment\n",
      "    bdmlID : 3b9c9d17-5318-414b-a9cc-67f7e472ca40\n",
      "    citation : None\n",
      "    contributors : Koji Kyoda, Mari Furukawa, Ryoko Arai, Shuichi Onami\n",
      "    datatype : nuclear division dynamics\n",
      "    dblink : http://so.qbic.riken.jp/wddd/\n",
      "    description : quantitative information about nuclear division dynamics in C07A9.3(RNAi) embryo (tlk-1(RNAi) embryo)\n",
      "    gene : None\n",
      "    license : CC BY-SA\n",
      "    localID : C07A9.3(gPCR)040617_02\n",
      "    method_summary : See details in Kyoda et al. (2013) Nucleic Acids Res 41, D732-D737.\n",
      "    orf : None\n",
      "    organism : C. elegans\n",
      "    release : 2017-12-20\n",
      "    schema_ver : 3.000\n",
      "    title : BDML file for quantitative information about nuclear division dynamics of C07A9.3(RNAi) embryo\n",
      "No.: 11\n",
      "    PMID : 23172286\n",
      "    SID : 2\n",
      "    basedon : Experiment\n",
      "    bdmlID : 1ee5f749-3231-4087-8e40-f691460dbb0b\n",
      "    citation : None\n",
      "    contributors : Koji Kyoda, Mari Furukawa, Ryoko Arai, Shuichi Onami\n",
      "    datatype : nuclear division dynamics\n",
      "    dblink : http://so.qbic.riken.jp/wddd/\n",
      "    description : quantitative information about nuclear division dynamics in C16C10.6(RNAi) embryo (ccdc-55(RNAi) embryo)\n",
      "    gene : None\n",
      "    license : CC BY-SA\n",
      "    localID : C16C10.6(gPCR)040622_02\n",
      "    method_summary : See details in Kyoda et al. (2013) Nucleic Acids Res 41, D732-D737.\n",
      "    orf : None\n",
      "    organism : C. elegans\n",
      "    release : 2017-12-20\n",
      "    schema_ver : 3.000\n"
     ]
    },
    {
     "name": "stdout",
     "output_type": "stream",
     "text": [
      "    title : BDML file for quantitative information about nuclear division dynamics of C16C10.6(RNAi) embryo\n",
      "No.: 12\n",
      "    PMID : 23172286\n",
      "    SID : 2\n",
      "    basedon : Experiment\n",
      "    bdmlID : 5b2aad2a-5694-44a5-aa36-dccaad495dfb\n",
      "    citation : None\n",
      "    contributors : Koji Kyoda, Mari Furukawa, Ryoko Arai, Shuichi Onami\n",
      "    datatype : nuclear division dynamics\n",
      "    dblink : http://so.qbic.riken.jp/wddd/\n",
      "    description : quantitative information about nuclear division dynamics in C05D11.11(RNAi) embryo (mel-32(RNAi) embryo)\n",
      "    gene : None\n",
      "    license : CC BY-SA\n",
      "    localID : C05D11.11(gPCR)070612_02\n",
      "    method_summary : See details in Kyoda et al. (2013) Nucleic Acids Res 41, D732-D737.\n",
      "    orf : None\n",
      "    organism : C. elegans\n",
      "    release : 2017-12-20\n",
      "    schema_ver : 3.000\n",
      "    title : BDML file for quantitative information about nuclear division dynamics of C05D11.11(RNAi) embryo\n",
      "No.: 13\n",
      "    PMID : 23172286\n",
      "    SID : 2\n",
      "    basedon : Experiment\n",
      "    bdmlID : 259cf962-4652-4f82-bafa-561974ec38f2\n",
      "    citation : None\n",
      "    contributors : Koji Kyoda, Mari Furukawa, Ryoko Arai, Shuichi Onami\n",
      "    datatype : nuclear division dynamics\n",
      "    dblink : http://so.qbic.riken.jp/wddd/\n",
      "    description : quantitative information about nuclear division dynamics in C05D11.11(RNAi) embryo (mel-32(RNAi) embryo)\n",
      "    gene : None\n",
      "    license : CC BY-SA\n",
      "    localID : C05D11.11(gPCR)070612_03\n",
      "    method_summary : See details in Kyoda et al. (2013) Nucleic Acids Res 41, D732-D737.\n",
      "    orf : None\n",
      "    organism : C. elegans\n",
      "    release : 2017-12-20\n",
      "    schema_ver : 3.000\n",
      "    title : BDML file for quantitative information about nuclear division dynamics of C05D11.11(RNAi) embryo\n",
      "No.: 14\n",
      "    PMID : 23172286\n",
      "    SID : 2\n",
      "    basedon : Experiment\n",
      "    bdmlID : a655b26b-eff4-4950-9222-745c019e90e0\n",
      "    citation : None\n",
      "    contributors : Koji Kyoda, Mari Furukawa, Ryoko Arai, Shuichi Onami\n",
      "    datatype : nuclear division dynamics\n",
      "    dblink : http://so.qbic.riken.jp/wddd/\n",
      "    description : quantitative information about nuclear division dynamics in C29E4.8(RNAi) embryo (let-754(RNAi) embryo)\n",
      "    gene : None\n",
      "    license : CC BY-SA\n",
      "    localID : C29E4.8(gPCR)040610_02\n",
      "    method_summary : See details in Kyoda et al. (2013) Nucleic Acids Res 41, D732-D737.\n",
      "    orf : None\n",
      "    organism : C. elegans\n",
      "    release : 2017-12-20\n",
      "    schema_ver : 3.000\n",
      "    title : BDML file for quantitative information about nuclear division dynamics of C29E4.8(RNAi) embryo\n",
      "No.: 15\n",
      "    PMID : 23172286\n",
      "    SID : 2\n",
      "    basedon : Experiment\n",
      "    bdmlID : c3f585c2-7e04-4671-8337-58dc4a8bef10\n",
      "    citation : None\n",
      "    contributors : Koji Kyoda, Mari Furukawa, Ryoko Arai, Shuichi Onami\n",
      "    datatype : nuclear division dynamics\n",
      "    dblink : http://so.qbic.riken.jp/wddd/\n",
      "    description : quantitative information about nuclear division dynamics in C29F9.7(RNAi) embryo (pat-4(RNAi) embryo)\n",
      "    gene : None\n",
      "    license : CC BY-SA\n",
      "    localID : C29F9.7(gPCR)040615_01\n",
      "    method_summary : See details in Kyoda et al. (2013) Nucleic Acids Res 41, D732-D737.\n",
      "    orf : None\n",
      "    organism : C. elegans\n",
      "    release : 2017-12-20\n",
      "    schema_ver : 3.000\n",
      "    title : BDML file for quantitative information about nuclear division dynamics of C29F9.7(RNAi) embryo\n",
      "No.: 16\n",
      "    PMID : 23172286\n",
      "    SID : 2\n",
      "    basedon : Experiment\n",
      "    bdmlID : 5aadd870-e2d0-484d-8bf8-07af2807c49f\n",
      "    citation : None\n",
      "    contributors : Koji Kyoda, Mari Furukawa, Ryoko Arai, Shuichi Onami\n",
      "    datatype : nuclear division dynamics\n",
      "    dblink : http://so.qbic.riken.jp/wddd/\n",
      "    description : quantitative information about nuclear division dynamics in C34C12.8(RNAi) embryo\n",
      "    gene : None\n",
      "    license : CC BY-SA\n",
      "    localID : C34C12.8(gPCR)061226_03\n",
      "    method_summary : See details in Kyoda et al. (2013) Nucleic Acids Res 41, D732-D737.\n",
      "    orf : None\n",
      "    organism : C. elegans\n",
      "    release : 2017-12-20\n",
      "    schema_ver : 3.000\n",
      "    title : BDML file for quantitative information about nuclear division dynamics of C34C12.8(RNAi) embryo\n",
      "No.: 17\n",
      "    PMID : 23172286\n",
      "    SID : 2\n",
      "    basedon : Experiment\n",
      "    bdmlID : 0567cfa4-5844-4a9a-9ff6-ba6f5538f717\n",
      "    citation : None\n",
      "    contributors : Koji Kyoda, Mari Furukawa, Ryoko Arai, Shuichi Onami\n",
      "    datatype : nuclear division dynamics\n",
      "    dblink : http://so.qbic.riken.jp/wddd/\n",
      "    description : quantitative information about nuclear division dynamics in C34C12.8(RNAi) embryo\n",
      "    gene : None\n",
      "    license : CC BY-SA\n",
      "    localID : C34C12.8(gPCR)080325_02\n",
      "    method_summary : See details in Kyoda et al. (2013) Nucleic Acids Res 41, D732-D737.\n",
      "    orf : None\n",
      "    organism : C. elegans\n",
      "    release : 2017-12-20\n",
      "    schema_ver : 3.000\n",
      "    title : BDML file for quantitative information about nuclear division dynamics of C34C12.8(RNAi) embryo\n",
      "No.: 18\n",
      "    PMID : 23172286\n",
      "    SID : 2\n",
      "    basedon : Experiment\n",
      "    bdmlID : 9d61ce9d-9d7a-4d1d-9af7-9b7105877423\n",
      "    citation : None\n",
      "    contributors : Koji Kyoda, Mari Furukawa, Ryoko Arai, Shuichi Onami\n",
      "    datatype : nuclear division dynamics\n",
      "    dblink : http://so.qbic.riken.jp/wddd/\n",
      "    description : quantitative information about nuclear division dynamics in C26E6.4(RNAi) embryo (rpb-2(RNAi) embryo)\n",
      "    gene : None\n",
      "    license : CC BY-SA\n",
      "    localID : C26E6.4(gPCR)040601_02\n",
      "    method_summary : See details in Kyoda et al. (2013) Nucleic Acids Res 41, D732-D737.\n",
      "    orf : None\n",
      "    organism : C. elegans\n",
      "    release : 2017-12-20\n",
      "    schema_ver : 3.000\n",
      "    title : BDML file for quantitative information about nuclear division dynamics of C26E6.4(RNAi) embryo\n",
      "No.: 19\n",
      "    PMID : 23172286\n",
      "    SID : 2\n",
      "    basedon : Experiment\n",
      "    bdmlID : ba6d0eb0-1d7f-46a0-b9ea-3815ff772c89\n",
      "    citation : None\n",
      "    contributors : Koji Kyoda, Mari Furukawa, Ryoko Arai, Shuichi Onami\n",
      "    datatype : nuclear division dynamics\n",
      "    dblink : http://so.qbic.riken.jp/wddd/\n",
      "    description : quantitative information about nuclear division dynamics in C29E4.8(RNAi) embryo (let-754(RNAi) embryo)\n",
      "    gene : None\n",
      "    license : CC BY-SA\n",
      "    localID : C29E4.8(gPCR)040610_01\n",
      "    method_summary : See details in Kyoda et al. (2013) Nucleic Acids Res 41, D732-D737.\n",
      "    orf : None\n",
      "    organism : C. elegans\n",
      "    release : 2017-12-20\n",
      "    schema_ver : 3.000\n",
      "    title : BDML file for quantitative information about nuclear division dynamics of C29E4.8(RNAi) embryo\n",
      "No.: 20\n",
      "    PMID : 23172286\n",
      "    SID : 2\n",
      "    basedon : Experiment\n",
      "    bdmlID : 01d7dd39-43ab-41f0-8a29-5df682f94d29\n",
      "    citation : None\n",
      "    contributors : Koji Kyoda, Mari Furukawa, Ryoko Arai, Shuichi Onami\n",
      "    datatype : nuclear division dynamics\n",
      "    dblink : http://so.qbic.riken.jp/wddd/\n",
      "    description : quantitative information about nuclear division dynamics in C35D10.13(RNAi) embryo\n",
      "    gene : None\n",
      "    license : CC BY-SA\n",
      "    localID : C35D10.13(gPCR)070110_02\n",
      "    method_summary : See details in Kyoda et al. (2013) Nucleic Acids Res 41, D732-D737.\n",
      "    orf : None\n",
      "    organism : C. elegans\n",
      "    release : 2017-12-20\n",
      "    schema_ver : 3.000\n",
      "    title : BDML file for quantitative information about nuclear division dynamics of C35D10.13(RNAi) embryo\n"
     ]
    }
   ],
   "source": [
    "q=ssbdapi.ssbd()\n",
    "q.set_display('on')\n",
    "resultdata = q.data(field='title', search='nucl')"
   ]
  },
  {
   "cell_type": "markdown",
   "metadata": {},
   "source": [
    "## Using ssbdapi function 'data' to search for 'philip' in the field 'contributors'\n"
   ]
  },
  {
   "cell_type": "code",
   "execution_count": 14,
   "metadata": {},
   "outputs": [
    {
     "name": "stderr",
     "output_type": "stream",
     "text": [
      "(MainThread) Starting new HTTP connection (1): ssbd1.qbic.riken.jp\n",
      "(MainThread) http://ssbd1.qbic.riken.jp:80 \"GET /SSBD/api/v3/data/?format=json;contributors__icontains=philip; HTTP/1.1\" 200 None\n"
     ]
    },
    {
     "name": "stdout",
     "output_type": "stream",
     "text": [
      "display=True\n",
      "display= True\n",
      "parameter= http://ssbd1.qbic.riken.jp/SSBD/api/v3/data/?format=json;contributors__icontains=philip;\n",
      "meta= {'limit': 20, 'next': None, 'offset': 0, 'previous': None, 'total_count': 9}\n",
      "found= 9\n",
      "limit= 20\n",
      "No.: 1\n",
      "    PMID : 20601950\n",
      "    SID : 4\n",
      "    basedon : Experiment\n",
      "    bdmlID : 635a6b26-e142-408e-8946-5a8c49a42599\n",
      "    citation : None\n",
      "    contributors : Philipp Keller, Annette Schmidt, Anthony Santella, Khaled Khairy, Zhirong Bao, Joachim Wittbrodt, Ernst Stelzer\n",
      "    datatype : nuclear positions\n",
      "    dblink : http://www.embl.de/digitalembryo/fly.html\n",
      "    description : fused reconstruction of early Drosophila wild-type development\n",
      "    gene : None\n",
      "    license : CC BY-NC-SA\n",
      "    localID : drosophila_fused.mat\n",
      "    method_summary : See details in Keller et al. (2010) Nat Methods 7, 637-642.\n",
      "    orf : None\n",
      "    organism : D. melanogaster\n",
      "    release : 2017-12-20\n",
      "    schema_ver : 3.000\n",
      "    title : BDML file for fused reconstruction of early Drosophila wild-type development\n",
      "No.: 2\n",
      "    PMID : 20601950\n",
      "    SID : 4\n",
      "    basedon : Experiment\n",
      "    bdmlID : 71967006-0426-444a-9fcb-ce14423ddfb6\n",
      "    citation : None\n",
      "    contributors : Philipp Keller, Annette Schmidt, Anthony Santella, Khaled Khairy, Zhirong Bao, Joachim Wittbrodt, Ernst Stelzer\n",
      "    datatype : nuclear positions\n",
      "    dblink : http://www.embl.de/digitalembryo/fly.html\n",
      "    description : raw reconstruction of early Drosophila wild-type development\n",
      "    gene : None\n",
      "    license : CC BY-NC-SA\n",
      "    localID : drosophila_raw.mat\n",
      "    method_summary : See details in Keller et al. (2010) Nat Methods 7, 637-642.\n",
      "    orf : None\n",
      "    organism : D. melanogaster\n",
      "    release : 2017-12-20\n",
      "    schema_ver : 3.000\n",
      "    title : BDML file for raw reconstruction of early Drosophila wild-type development\n",
      "No.: 3\n",
      "    PMID : 18845710\n",
      "    SID : 5\n",
      "    basedon : Experiment\n",
      "    bdmlID : 320e02ee-1c6c-4e03-a6da-75b5c413b6a3\n",
      "    citation : None\n",
      "    contributors : Philipp Keller, Annette Schmidt, Joachim Wittbrodt, Ernst Stelzer\n",
      "    datatype : nuclear positions\n",
      "    dblink : http://www.embl.de/digitalembryo/fish.html\n",
      "    description : in toto reconstruction of zebrafish MZoep mutant development\n",
      "    gene : None\n",
      "    license : CC BY-NC-SA\n",
      "    localID : zebrafish_in_toto_mzoep.mat\n",
      "    method_summary : See details in Keller et al. (2008) Science 322, 1065-1069.\n",
      "    orf : None\n",
      "    organism : D. rerio\n",
      "    release : 2017-12-20\n",
      "    schema_ver : 3.000\n",
      "    title : BDML file for in toto reconstruction of zebrafish MZoep mutant development\n",
      "No.: 4\n",
      "    PMID : 18845710\n",
      "    SID : 5\n",
      "    basedon : Experiment\n",
      "    bdmlID : bad5c56c-2a1d-4393-b1a5-ac9fd67c9999\n",
      "    citation : None\n",
      "    contributors : Philipp Keller, Annette Schmidt, Joachim Wittbrodt, Ernst Stelzer\n",
      "    datatype : nuclear positions\n",
      "    dblink : http://www.embl.de/digitalembryo/fish.html\n",
      "    description : reconstruction of the zebrafish ventral hemisphere\n",
      "    gene : None\n",
      "    license : CC BY-NC-SA\n",
      "    localID : zebrafish_ventral.mat\n",
      "    method_summary : See details in Keller et al. (2008) Science 322, 1065-1069.\n",
      "    orf : None\n",
      "    organism : D. rerio\n",
      "    release : 2017-12-20\n",
      "    schema_ver : 3.000\n",
      "    title : BDML file for reconstruction of the zebrafish ventral hemisphere\n",
      "No.: 5\n",
      "    PMID : 18845710\n",
      "    SID : 5\n",
      "    basedon : Experiment\n",
      "    bdmlID : 0f6f9f39-6df6-430a-a5a9-45461093a040\n",
      "    citation : None\n",
      "    contributors : Philipp Keller, Annette Schmidt, Joachim Wittbrodt, Ernst Stelzer\n",
      "    datatype : nuclear positions\n",
      "    dblink : http://www.embl.de/digitalembryo/fish.html\n",
      "    description : reconstruction of the zebrafish animal hemisphere (B)\n",
      "    gene : None\n",
      "    license : CC BY-NC-SA\n",
      "    localID : zebrafish_animal_b.mat\n",
      "    method_summary : See details in Keller et al. (2008) Science 322, 1065-1069.\n",
      "    orf : None\n",
      "    organism : D. rerio\n",
      "    release : 2017-12-20\n",
      "    schema_ver : 3.000\n",
      "    title : BDML file for reconstruction of the zebrafish animal hemisphere (B)\n",
      "No.: 6\n",
      "    PMID : 18845710\n",
      "    SID : 5\n",
      "    basedon : Experiment\n",
      "    bdmlID : 1ccea5dc-7141-4f4d-8deb-459289d58c28\n",
      "    citation : None\n",
      "    contributors : Philipp Keller, Annette Schmidt, Joachim Wittbrodt, Ernst Stelzer\n",
      "    datatype : nuclear positions\n",
      "    dblink : http://www.embl.de/digitalembryo/fish.html\n",
      "    description : reconstruction of the zebrafish animal hemisphere (C)\n",
      "    gene : None\n",
      "    license : CC BY-NC-SA\n",
      "    localID : zebrafish_animal_c.mat\n",
      "    method_summary : See details in Keller et al. (2008) Science 322, 1065-1069.\n",
      "    orf : None\n",
      "    organism : D. rerio\n",
      "    release : 2017-12-20\n",
      "    schema_ver : 3.000\n",
      "    title : BDML file for reconstruction of the zebrafish animal hemisphere (C)\n",
      "No.: 7\n",
      "    PMID : 18845710\n",
      "    SID : 5\n",
      "    basedon : Experiment\n",
      "    bdmlID : 8c6522d3-3444-4195-a7b6-83d0dec65174\n",
      "    citation : None\n",
      "    contributors : Philipp Keller, Annette Schmidt, Joachim Wittbrodt, Ernst Stelzer\n",
      "    datatype : nuclear positions\n",
      "    dblink : http://www.embl.de/digitalembryo/fish.html\n",
      "    description : reconstruction of the zebrafish dorsal hemisphere\n",
      "    gene : None\n",
      "    license : CC BY-NC-SA\n",
      "    localID : zebrafish_dorsal.mat\n",
      "    method_summary : See details in Keller et al. (2008) Science 322, 1065-1069.\n",
      "    orf : None\n",
      "    organism : D. rerio\n",
      "    release : 2017-12-20\n",
      "    schema_ver : 3.000\n",
      "    title : BDML file for reconstruction of the zebrafish dorsal hemisphere\n",
      "No.: 8\n",
      "    PMID : 18845710\n",
      "    SID : 5\n",
      "    basedon : Experiment\n",
      "    bdmlID : f076c9ea-1bf2-475a-9ec2-4fcfbfe3a3ac\n",
      "    citation : None\n",
      "    contributors : Philipp Keller, Annette Schmidt, Joachim Wittbrodt, Ernst Stelzer\n",
      "    datatype : nuclear positions\n",
      "    dblink : http://www.embl.de/digitalembryo/fish.html\n",
      "    description : in toto reconstruction of zebrafish wild-type development\n",
      "    gene : None\n",
      "    license : CC BY-NC-SA\n",
      "    localID : zebrafish_in_toto_wt.mat\n",
      "    method_summary : See details in Keller et al. (2008) Science 322, 1065-1069.\n",
      "    orf : None\n",
      "    organism : D. rerio\n",
      "    release : 2017-12-20\n",
      "    schema_ver : 3.000\n",
      "    title : BDML file for in toto reconstruction of zebrafish wild-type development\n",
      "No.: 9\n",
      "    PMID : 18845710\n",
      "    SID : 5\n",
      "    basedon : Experiment\n",
      "    bdmlID : f1711c49-3cfc-4144-943f-c7d649419ae1\n",
      "    citation : None\n",
      "    contributors : Philipp Keller, Annette Schmidt, Joachim Wittbrodt, Ernst Stelzer\n",
      "    datatype : nuclear positions\n",
      "    dblink : http://www.embl.de/digitalembryo/fish.html\n",
      "    description : reconstruction of the zebrafish animal hemisphere (A)\n",
      "    gene : None\n",
      "    license : CC BY-NC-SA\n",
      "    localID : zebrafish_animal_a.mat\n",
      "    method_summary : See details in Keller et al. (2008) Science 322, 1065-1069.\n",
      "    orf : None\n",
      "    organism : D. rerio\n",
      "    release : 2017-12-20\n",
      "    schema_ver : 3.000\n",
      "    title : BDML file for reconstruction of the zebrafish animal hemisphere (A)\n"
     ]
    }
   ],
   "source": [
    "q=ssbdapi.ssbd()\n",
    "q.set_display('on')\n",
    "resultdata = q.data(field='contributors', search='philip')"
   ]
  },
  {
   "cell_type": "markdown",
   "metadata": {},
   "source": [
    "## Using ssbdapi function 'contact' to search for 'philip' in the field 'person_first_name'"
   ]
  },
  {
   "cell_type": "code",
   "execution_count": 15,
   "metadata": {},
   "outputs": [
    {
     "name": "stderr",
     "output_type": "stream",
     "text": [
      "(MainThread) Starting new HTTP connection (1): ssbd1.qbic.riken.jp\n"
     ]
    },
    {
     "name": "stdout",
     "output_type": "stream",
     "text": [
      "display=True\n",
      "display= True\n",
      "parameter= http://ssbd1.qbic.riken.jp/SSBD/api/v3/contact/?format=json;person__first_name__icontains=philip;\n"
     ]
    },
    {
     "name": "stderr",
     "output_type": "stream",
     "text": [
      "(MainThread) http://ssbd1.qbic.riken.jp:80 \"GET /SSBD/api/v3/contact/?format=json;person__first_name__icontains=philip; HTTP/1.1\" 200 None\n"
     ]
    },
    {
     "name": "stdout",
     "output_type": "stream",
     "text": [
      "meta= {'limit': 20, 'next': None, 'offset': 0, 'previous': None, 'total_count': 18}\n",
      "found= 18\n",
      "limit= 20\n",
      "No.: 1\n",
      "    affiliation : {'E_mail': 'keller@embl.de', 'URL': None, 'address': None, 'department': 'Cell Biology and Biophysics Unit', 'laboratory': None, 'organization': 'European Molecular Biology Laboratory', 'person': {'ORCID': '0000-0003-2896-4920', 'first_name': 'Philipp', 'last_name': 'Keller', 'middle_name': 'J.'}, 'phone': None}\n",
      "    data : {'PMID': '20601950', 'SID': 4, 'basedon': 'Experiment', 'bdmlID': 'c8597588-bbee-4b3c-bf7c-7e373f29199d', 'citation': None, 'contributors': 'Philipp Keller, Annette Schmidt, Anthony Santella, Khaled Khairy, Zhirong Bao, Joachim Wittbrodt, Ernst Stelzer', 'datatype': 'nuclear positions', 'dblink': 'http://www.embl.de/digitalembryo/fly.html', 'description': 'fused reconstruction of early Drosophila wild-type development', 'gene': None, 'license': 'CC BY-NC-SA', 'localID': 'drosophila_fused.mat', 'method_summary': 'See details in Keller et al. (2010) Nat Methods 7, 637-642.', 'orf': None, 'organism': 'D. melanogaster', 'release': '2017-10-03', 'schema_ver': '3.000', 'title': 'BDML file for fused reconstruction of early Drosophila wild-type development'}\n",
      "    person : {'ORCID': '0000-0003-2896-4920', 'first_name': 'Philipp', 'last_name': 'Keller', 'middle_name': 'J.'}\n",
      "No.: 2\n",
      "    affiliation : {'E_mail': 'keller@embl.de', 'URL': None, 'address': None, 'department': 'Cell Biology and Biophysics Unit', 'laboratory': None, 'organization': 'European Molecular Biology Laboratory', 'person': {'ORCID': '0000-0003-2896-4920', 'first_name': 'Philipp', 'last_name': 'Keller', 'middle_name': 'J.'}, 'phone': None}\n",
      "    data : {'PMID': '20601950', 'SID': 4, 'basedon': 'Experiment', 'bdmlID': '70e2fc76-5286-4d14-b5fb-5f8c857563f9', 'citation': None, 'contributors': 'Philipp Keller, Annette Schmidt, Anthony Santella, Khaled Khairy, Zhirong Bao, Joachim Wittbrodt, Ernst Stelzer', 'datatype': 'nuclear positions', 'dblink': 'http://www.embl.de/digitalembryo/fly.html', 'description': 'raw reconstruction of early Drosophila wild-type development', 'gene': None, 'license': 'CC BY-NC-SA', 'localID': 'drosophila_raw.mat', 'method_summary': 'See details in Keller et al. (2010) Nat Methods 7, 637-642.', 'orf': None, 'organism': 'D. melanogaster', 'release': '2017-10-03', 'schema_ver': '3.000', 'title': 'BDML file for raw reconstruction of early Drosophila wild-type development'}\n",
      "    person : {'ORCID': '0000-0003-2896-4920', 'first_name': 'Philipp', 'last_name': 'Keller', 'middle_name': 'J.'}\n",
      "No.: 3\n",
      "    affiliation : {'E_mail': 'keller@embl.de', 'URL': None, 'address': None, 'department': 'Cell Biology and Biophysics Unit', 'laboratory': None, 'organization': 'European Molecular Biology Laboratory', 'person': {'ORCID': '0000-0003-2896-4920', 'first_name': 'Philipp', 'last_name': 'Keller', 'middle_name': 'J.'}, 'phone': None}\n",
      "    data : {'PMID': '18845710', 'SID': 5, 'basedon': 'Experiment', 'bdmlID': '1c359eb4-9015-4bc2-abe6-c11a77a50ebc', 'citation': None, 'contributors': 'Philipp Keller, Annette Schmidt, Joachim Wittbrodt, Ernst Stelzer', 'datatype': 'nuclear positions', 'dblink': 'http://www.embl.de/digitalembryo/fish.html', 'description': 'reconstruction of the zebrafish animal hemisphere (A)', 'gene': None, 'license': 'CC BY-NC-SA', 'localID': 'zebrafish_animal_a.mat', 'method_summary': 'See details in Keller et al. (2008) Science 322, 1065-1069.', 'orf': None, 'organism': 'zebrafish', 'release': '2017-10-03', 'schema_ver': '3.000', 'title': 'BDML file for reconstruction of the zebrafish animal hemisphere (A)'}\n",
      "    person : {'ORCID': '0000-0003-2896-4920', 'first_name': 'Philipp', 'last_name': 'Keller', 'middle_name': 'J.'}\n",
      "No.: 4\n",
      "    affiliation : {'E_mail': 'keller@embl.de', 'URL': None, 'address': None, 'department': 'Cell Biology and Biophysics Unit', 'laboratory': None, 'organization': 'European Molecular Biology Laboratory', 'person': {'ORCID': '0000-0003-2896-4920', 'first_name': 'Philipp', 'last_name': 'Keller', 'middle_name': 'J.'}, 'phone': None}\n",
      "    data : {'PMID': '18845710', 'SID': 5, 'basedon': 'Experiment', 'bdmlID': 'd13c7e47-fe94-4756-a49e-6a2e56d6380b', 'citation': None, 'contributors': 'Philipp Keller, Annette Schmidt, Joachim Wittbrodt, Ernst Stelzer', 'datatype': 'nuclear positions', 'dblink': 'http://www.embl.de/digitalembryo/fish.html', 'description': 'reconstruction of the zebrafish animal hemisphere (B)', 'gene': None, 'license': 'CC BY-NC-SA', 'localID': 'zebrafish_animal_b.mat', 'method_summary': 'See details in Keller et al. (2008) Science 322, 1065-1069.', 'orf': None, 'organism': 'zebrafish', 'release': '2017-10-03', 'schema_ver': '3.000', 'title': 'BDML file for reconstruction of the zebrafish animal hemisphere (B)'}\n",
      "    person : {'ORCID': '0000-0003-2896-4920', 'first_name': 'Philipp', 'last_name': 'Keller', 'middle_name': 'J.'}\n",
      "No.: 5\n",
      "    affiliation : {'E_mail': 'keller@embl.de', 'URL': None, 'address': None, 'department': 'Cell Biology and Biophysics Unit', 'laboratory': None, 'organization': 'European Molecular Biology Laboratory', 'person': {'ORCID': '0000-0003-2896-4920', 'first_name': 'Philipp', 'last_name': 'Keller', 'middle_name': 'J.'}, 'phone': None}\n",
      "    data : {'PMID': '18845710', 'SID': 5, 'basedon': 'Experiment', 'bdmlID': '4a892331-fa43-4fd3-bd3a-1d5c988eb7e4', 'citation': None, 'contributors': 'Philipp Keller, Annette Schmidt, Joachim Wittbrodt, Ernst Stelzer', 'datatype': 'nuclear positions', 'dblink': 'http://www.embl.de/digitalembryo/fish.html', 'description': 'reconstruction of the zebrafish animal hemisphere (C)', 'gene': None, 'license': 'CC BY-NC-SA', 'localID': 'zebrafish_animal_c.mat', 'method_summary': 'See details in Keller et al. (2008) Science 322, 1065-1069.', 'orf': None, 'organism': 'zebrafish', 'release': '2017-10-03', 'schema_ver': '3.000', 'title': 'BDML file for reconstruction of the zebrafish animal hemisphere (C)'}\n",
      "    person : {'ORCID': '0000-0003-2896-4920', 'first_name': 'Philipp', 'last_name': 'Keller', 'middle_name': 'J.'}\n",
      "No.: 6\n",
      "    affiliation : {'E_mail': 'keller@embl.de', 'URL': None, 'address': None, 'department': 'Cell Biology and Biophysics Unit', 'laboratory': None, 'organization': 'European Molecular Biology Laboratory', 'person': {'ORCID': '0000-0003-2896-4920', 'first_name': 'Philipp', 'last_name': 'Keller', 'middle_name': 'J.'}, 'phone': None}\n",
      "    data : {'PMID': '18845710', 'SID': 5, 'basedon': 'Experiment', 'bdmlID': 'ef70090c-e8f4-47d0-aa48-16c3a408ae14', 'citation': None, 'contributors': 'Philipp Keller, Annette Schmidt, Joachim Wittbrodt, Ernst Stelzer', 'datatype': 'nuclear positions', 'dblink': 'http://www.embl.de/digitalembryo/fish.html', 'description': 'reconstruction of the zebrafish dorsal hemisphere', 'gene': None, 'license': 'CC BY-NC-SA', 'localID': 'zebrafish_dorsal.mat', 'method_summary': 'See details in Keller et al. (2008) Science 322, 1065-1069.', 'orf': None, 'organism': 'zebrafish', 'release': '2017-10-03', 'schema_ver': '3.000', 'title': 'BDML file for reconstruction of the zebrafish dorsal hemisphere'}\n",
      "    person : {'ORCID': '0000-0003-2896-4920', 'first_name': 'Philipp', 'last_name': 'Keller', 'middle_name': 'J.'}\n",
      "No.: 7\n",
      "    affiliation : {'E_mail': 'keller@embl.de', 'URL': None, 'address': None, 'department': 'Cell Biology and Biophysics Unit', 'laboratory': None, 'organization': 'European Molecular Biology Laboratory', 'person': {'ORCID': '0000-0003-2896-4920', 'first_name': 'Philipp', 'last_name': 'Keller', 'middle_name': 'J.'}, 'phone': None}\n",
      "    data : {'PMID': '18845710', 'SID': 5, 'basedon': 'Experiment', 'bdmlID': '11fe76be-ab01-46e5-9f45-fabcb6a9d5ea', 'citation': None, 'contributors': 'Philipp Keller, Annette Schmidt, Joachim Wittbrodt, Ernst Stelzer', 'datatype': 'nuclear positions', 'dblink': 'http://www.embl.de/digitalembryo/fish.html', 'description': 'in toto reconstruction of zebrafish MZoep mutant development', 'gene': None, 'license': 'CC BY-NC-SA', 'localID': 'zebrafish_in_toto_mzoep.mat', 'method_summary': 'See details in Keller et al. (2008) Science 322, 1065-1069.', 'orf': None, 'organism': 'zebrafish', 'release': '2017-10-03', 'schema_ver': '3.000', 'title': 'BDML file for in toto reconstruction of zebrafish MZoep mutant development'}\n",
      "    person : {'ORCID': '0000-0003-2896-4920', 'first_name': 'Philipp', 'last_name': 'Keller', 'middle_name': 'J.'}\n",
      "No.: 8\n",
      "    affiliation : {'E_mail': 'keller@embl.de', 'URL': None, 'address': None, 'department': 'Cell Biology and Biophysics Unit', 'laboratory': None, 'organization': 'European Molecular Biology Laboratory', 'person': {'ORCID': '0000-0003-2896-4920', 'first_name': 'Philipp', 'last_name': 'Keller', 'middle_name': 'J.'}, 'phone': None}\n",
      "    data : {'PMID': '18845710', 'SID': 5, 'basedon': 'Experiment', 'bdmlID': 'a16c40a4-4a1f-4c23-9ee6-a3d78ac06ec7', 'citation': None, 'contributors': 'Philipp Keller, Annette Schmidt, Joachim Wittbrodt, Ernst Stelzer', 'datatype': 'nuclear positions', 'dblink': 'http://www.embl.de/digitalembryo/fish.html', 'description': 'in toto reconstruction of zebrafish wild-type development', 'gene': None, 'license': 'CC BY-NC-SA', 'localID': 'zebrafish_in_toto_wt.mat', 'method_summary': 'See details in Keller et al. (2008) Science 322, 1065-1069.', 'orf': None, 'organism': 'zebrafish', 'release': '2017-10-03', 'schema_ver': '3.000', 'title': 'BDML file for in toto reconstruction of zebrafish wild-type development'}\n",
      "    person : {'ORCID': '0000-0003-2896-4920', 'first_name': 'Philipp', 'last_name': 'Keller', 'middle_name': 'J.'}\n",
      "No.: 9\n",
      "    affiliation : {'E_mail': 'keller@embl.de', 'URL': None, 'address': None, 'department': 'Cell Biology and Biophysics Unit', 'laboratory': None, 'organization': 'European Molecular Biology Laboratory', 'person': {'ORCID': '0000-0003-2896-4920', 'first_name': 'Philipp', 'last_name': 'Keller', 'middle_name': 'J.'}, 'phone': None}\n",
      "    data : {'PMID': '18845710', 'SID': 5, 'basedon': 'Experiment', 'bdmlID': 'c5120a17-0135-4fc9-aeee-343bb4675612', 'citation': None, 'contributors': 'Philipp Keller, Annette Schmidt, Joachim Wittbrodt, Ernst Stelzer', 'datatype': 'nuclear positions', 'dblink': 'http://www.embl.de/digitalembryo/fish.html', 'description': 'reconstruction of the zebrafish ventral hemisphere', 'gene': None, 'license': 'CC BY-NC-SA', 'localID': 'zebrafish_ventral.mat', 'method_summary': 'See details in Keller et al. (2008) Science 322, 1065-1069.', 'orf': None, 'organism': 'zebrafish', 'release': '2017-10-03', 'schema_ver': '3.000', 'title': 'BDML file for reconstruction of the zebrafish ventral hemisphere'}\n",
      "    person : {'ORCID': '0000-0003-2896-4920', 'first_name': 'Philipp', 'last_name': 'Keller', 'middle_name': 'J.'}\n",
      "No.: 10\n",
      "    affiliation : {'E_mail': 'keller@embl.de', 'URL': None, 'address': None, 'department': 'Cell Biology and Biophysics Unit', 'laboratory': None, 'organization': 'European Molecular Biology Laboratory', 'person': {'ORCID': '0000-0003-2896-4920', 'first_name': 'Philipp', 'last_name': 'Keller', 'middle_name': 'J.'}, 'phone': None}\n",
      "    data : {'PMID': '20601950', 'SID': 4, 'basedon': 'Experiment', 'bdmlID': '635a6b26-e142-408e-8946-5a8c49a42599', 'citation': None, 'contributors': 'Philipp Keller, Annette Schmidt, Anthony Santella, Khaled Khairy, Zhirong Bao, Joachim Wittbrodt, Ernst Stelzer', 'datatype': 'nuclear positions', 'dblink': 'http://www.embl.de/digitalembryo/fly.html', 'description': 'fused reconstruction of early Drosophila wild-type development', 'gene': None, 'license': 'CC BY-NC-SA', 'localID': 'drosophila_fused.mat', 'method_summary': 'See details in Keller et al. (2010) Nat Methods 7, 637-642.', 'orf': None, 'organism': 'D. melanogaster', 'release': '2017-12-20', 'schema_ver': '3.000', 'title': 'BDML file for fused reconstruction of early Drosophila wild-type development'}\n",
      "    person : {'ORCID': '0000-0003-2896-4920', 'first_name': 'Philipp', 'last_name': 'Keller', 'middle_name': 'J.'}\n",
      "No.: 11\n",
      "    affiliation : {'E_mail': 'keller@embl.de', 'URL': None, 'address': None, 'department': 'Cell Biology and Biophysics Unit', 'laboratory': None, 'organization': 'European Molecular Biology Laboratory', 'person': {'ORCID': '0000-0003-2896-4920', 'first_name': 'Philipp', 'last_name': 'Keller', 'middle_name': 'J.'}, 'phone': None}\n",
      "    data : {'PMID': '20601950', 'SID': 4, 'basedon': 'Experiment', 'bdmlID': '71967006-0426-444a-9fcb-ce14423ddfb6', 'citation': None, 'contributors': 'Philipp Keller, Annette Schmidt, Anthony Santella, Khaled Khairy, Zhirong Bao, Joachim Wittbrodt, Ernst Stelzer', 'datatype': 'nuclear positions', 'dblink': 'http://www.embl.de/digitalembryo/fly.html', 'description': 'raw reconstruction of early Drosophila wild-type development', 'gene': None, 'license': 'CC BY-NC-SA', 'localID': 'drosophila_raw.mat', 'method_summary': 'See details in Keller et al. (2010) Nat Methods 7, 637-642.', 'orf': None, 'organism': 'D. melanogaster', 'release': '2017-12-20', 'schema_ver': '3.000', 'title': 'BDML file for raw reconstruction of early Drosophila wild-type development'}\n",
      "    person : {'ORCID': '0000-0003-2896-4920', 'first_name': 'Philipp', 'last_name': 'Keller', 'middle_name': 'J.'}\n",
      "No.: 12\n",
      "    affiliation : {'E_mail': 'keller@embl.de', 'URL': None, 'address': None, 'department': 'Cell Biology and Biophysics Unit', 'laboratory': None, 'organization': 'European Molecular Biology Laboratory', 'person': {'ORCID': '0000-0003-2896-4920', 'first_name': 'Philipp', 'last_name': 'Keller', 'middle_name': 'J.'}, 'phone': None}\n",
      "    data : {'PMID': '18845710', 'SID': 5, 'basedon': 'Experiment', 'bdmlID': 'f1711c49-3cfc-4144-943f-c7d649419ae1', 'citation': None, 'contributors': 'Philipp Keller, Annette Schmidt, Joachim Wittbrodt, Ernst Stelzer', 'datatype': 'nuclear positions', 'dblink': 'http://www.embl.de/digitalembryo/fish.html', 'description': 'reconstruction of the zebrafish animal hemisphere (A)', 'gene': None, 'license': 'CC BY-NC-SA', 'localID': 'zebrafish_animal_a.mat', 'method_summary': 'See details in Keller et al. (2008) Science 322, 1065-1069.', 'orf': None, 'organism': 'D. rerio', 'release': '2017-12-20', 'schema_ver': '3.000', 'title': 'BDML file for reconstruction of the zebrafish animal hemisphere (A)'}\n",
      "    person : {'ORCID': '0000-0003-2896-4920', 'first_name': 'Philipp', 'last_name': 'Keller', 'middle_name': 'J.'}\n",
      "No.: 13\n",
      "    affiliation : {'E_mail': 'keller@embl.de', 'URL': None, 'address': None, 'department': 'Cell Biology and Biophysics Unit', 'laboratory': None, 'organization': 'European Molecular Biology Laboratory', 'person': {'ORCID': '0000-0003-2896-4920', 'first_name': 'Philipp', 'last_name': 'Keller', 'middle_name': 'J.'}, 'phone': None}\n",
      "    data : {'PMID': '18845710', 'SID': 5, 'basedon': 'Experiment', 'bdmlID': '0f6f9f39-6df6-430a-a5a9-45461093a040', 'citation': None, 'contributors': 'Philipp Keller, Annette Schmidt, Joachim Wittbrodt, Ernst Stelzer', 'datatype': 'nuclear positions', 'dblink': 'http://www.embl.de/digitalembryo/fish.html', 'description': 'reconstruction of the zebrafish animal hemisphere (B)', 'gene': None, 'license': 'CC BY-NC-SA', 'localID': 'zebrafish_animal_b.mat', 'method_summary': 'See details in Keller et al. (2008) Science 322, 1065-1069.', 'orf': None, 'organism': 'D. rerio', 'release': '2017-12-20', 'schema_ver': '3.000', 'title': 'BDML file for reconstruction of the zebrafish animal hemisphere (B)'}\n",
      "    person : {'ORCID': '0000-0003-2896-4920', 'first_name': 'Philipp', 'last_name': 'Keller', 'middle_name': 'J.'}\n",
      "No.: 14\n",
      "    affiliation : {'E_mail': 'keller@embl.de', 'URL': None, 'address': None, 'department': 'Cell Biology and Biophysics Unit', 'laboratory': None, 'organization': 'European Molecular Biology Laboratory', 'person': {'ORCID': '0000-0003-2896-4920', 'first_name': 'Philipp', 'last_name': 'Keller', 'middle_name': 'J.'}, 'phone': None}\n",
      "    data : {'PMID': '18845710', 'SID': 5, 'basedon': 'Experiment', 'bdmlID': '1ccea5dc-7141-4f4d-8deb-459289d58c28', 'citation': None, 'contributors': 'Philipp Keller, Annette Schmidt, Joachim Wittbrodt, Ernst Stelzer', 'datatype': 'nuclear positions', 'dblink': 'http://www.embl.de/digitalembryo/fish.html', 'description': 'reconstruction of the zebrafish animal hemisphere (C)', 'gene': None, 'license': 'CC BY-NC-SA', 'localID': 'zebrafish_animal_c.mat', 'method_summary': 'See details in Keller et al. (2008) Science 322, 1065-1069.', 'orf': None, 'organism': 'D. rerio', 'release': '2017-12-20', 'schema_ver': '3.000', 'title': 'BDML file for reconstruction of the zebrafish animal hemisphere (C)'}\n",
      "    person : {'ORCID': '0000-0003-2896-4920', 'first_name': 'Philipp', 'last_name': 'Keller', 'middle_name': 'J.'}\n",
      "No.: 15\n",
      "    affiliation : {'E_mail': 'keller@embl.de', 'URL': None, 'address': None, 'department': 'Cell Biology and Biophysics Unit', 'laboratory': None, 'organization': 'European Molecular Biology Laboratory', 'person': {'ORCID': '0000-0003-2896-4920', 'first_name': 'Philipp', 'last_name': 'Keller', 'middle_name': 'J.'}, 'phone': None}\n",
      "    data : {'PMID': '18845710', 'SID': 5, 'basedon': 'Experiment', 'bdmlID': '8c6522d3-3444-4195-a7b6-83d0dec65174', 'citation': None, 'contributors': 'Philipp Keller, Annette Schmidt, Joachim Wittbrodt, Ernst Stelzer', 'datatype': 'nuclear positions', 'dblink': 'http://www.embl.de/digitalembryo/fish.html', 'description': 'reconstruction of the zebrafish dorsal hemisphere', 'gene': None, 'license': 'CC BY-NC-SA', 'localID': 'zebrafish_dorsal.mat', 'method_summary': 'See details in Keller et al. (2008) Science 322, 1065-1069.', 'orf': None, 'organism': 'D. rerio', 'release': '2017-12-20', 'schema_ver': '3.000', 'title': 'BDML file for reconstruction of the zebrafish dorsal hemisphere'}\n",
      "    person : {'ORCID': '0000-0003-2896-4920', 'first_name': 'Philipp', 'last_name': 'Keller', 'middle_name': 'J.'}\n",
      "No.: 16\n",
      "    affiliation : {'E_mail': 'keller@embl.de', 'URL': None, 'address': None, 'department': 'Cell Biology and Biophysics Unit', 'laboratory': None, 'organization': 'European Molecular Biology Laboratory', 'person': {'ORCID': '0000-0003-2896-4920', 'first_name': 'Philipp', 'last_name': 'Keller', 'middle_name': 'J.'}, 'phone': None}\n",
      "    data : {'PMID': '18845710', 'SID': 5, 'basedon': 'Experiment', 'bdmlID': '320e02ee-1c6c-4e03-a6da-75b5c413b6a3', 'citation': None, 'contributors': 'Philipp Keller, Annette Schmidt, Joachim Wittbrodt, Ernst Stelzer', 'datatype': 'nuclear positions', 'dblink': 'http://www.embl.de/digitalembryo/fish.html', 'description': 'in toto reconstruction of zebrafish MZoep mutant development', 'gene': None, 'license': 'CC BY-NC-SA', 'localID': 'zebrafish_in_toto_mzoep.mat', 'method_summary': 'See details in Keller et al. (2008) Science 322, 1065-1069.', 'orf': None, 'organism': 'D. rerio', 'release': '2017-12-20', 'schema_ver': '3.000', 'title': 'BDML file for in toto reconstruction of zebrafish MZoep mutant development'}\n",
      "    person : {'ORCID': '0000-0003-2896-4920', 'first_name': 'Philipp', 'last_name': 'Keller', 'middle_name': 'J.'}\n",
      "No.: 17\n",
      "    affiliation : {'E_mail': 'keller@embl.de', 'URL': None, 'address': None, 'department': 'Cell Biology and Biophysics Unit', 'laboratory': None, 'organization': 'European Molecular Biology Laboratory', 'person': {'ORCID': '0000-0003-2896-4920', 'first_name': 'Philipp', 'last_name': 'Keller', 'middle_name': 'J.'}, 'phone': None}\n",
      "    data : {'PMID': '18845710', 'SID': 5, 'basedon': 'Experiment', 'bdmlID': 'f076c9ea-1bf2-475a-9ec2-4fcfbfe3a3ac', 'citation': None, 'contributors': 'Philipp Keller, Annette Schmidt, Joachim Wittbrodt, Ernst Stelzer', 'datatype': 'nuclear positions', 'dblink': 'http://www.embl.de/digitalembryo/fish.html', 'description': 'in toto reconstruction of zebrafish wild-type development', 'gene': None, 'license': 'CC BY-NC-SA', 'localID': 'zebrafish_in_toto_wt.mat', 'method_summary': 'See details in Keller et al. (2008) Science 322, 1065-1069.', 'orf': None, 'organism': 'D. rerio', 'release': '2017-12-20', 'schema_ver': '3.000', 'title': 'BDML file for in toto reconstruction of zebrafish wild-type development'}\n",
      "    person : {'ORCID': '0000-0003-2896-4920', 'first_name': 'Philipp', 'last_name': 'Keller', 'middle_name': 'J.'}\n",
      "No.: 18\n",
      "    affiliation : {'E_mail': 'keller@embl.de', 'URL': None, 'address': None, 'department': 'Cell Biology and Biophysics Unit', 'laboratory': None, 'organization': 'European Molecular Biology Laboratory', 'person': {'ORCID': '0000-0003-2896-4920', 'first_name': 'Philipp', 'last_name': 'Keller', 'middle_name': 'J.'}, 'phone': None}\n",
      "    data : {'PMID': '18845710', 'SID': 5, 'basedon': 'Experiment', 'bdmlID': 'bad5c56c-2a1d-4393-b1a5-ac9fd67c9999', 'citation': None, 'contributors': 'Philipp Keller, Annette Schmidt, Joachim Wittbrodt, Ernst Stelzer', 'datatype': 'nuclear positions', 'dblink': 'http://www.embl.de/digitalembryo/fish.html', 'description': 'reconstruction of the zebrafish ventral hemisphere', 'gene': None, 'license': 'CC BY-NC-SA', 'localID': 'zebrafish_ventral.mat', 'method_summary': 'See details in Keller et al. (2008) Science 322, 1065-1069.', 'orf': None, 'organism': 'D. rerio', 'release': '2017-12-20', 'schema_ver': '3.000', 'title': 'BDML file for reconstruction of the zebrafish ventral hemisphere'}\n",
      "    person : {'ORCID': '0000-0003-2896-4920', 'first_name': 'Philipp', 'last_name': 'Keller', 'middle_name': 'J.'}\n"
     ]
    }
   ],
   "source": [
    "q=ssbdapi.ssbd()\n",
    "q.set_display('on')\n",
    "resultdata = q.contact(field='person__first_name', search='philip')"
   ]
  },
  {
   "cell_type": "markdown",
   "metadata": {},
   "source": [
    "## Using ssbdapi function 'contributor' to search for 'philip' in the field 'person_first_name'"
   ]
  },
  {
   "cell_type": "code",
   "execution_count": 16,
   "metadata": {},
   "outputs": [
    {
     "name": "stderr",
     "output_type": "stream",
     "text": [
      "(MainThread) Starting new HTTP connection (1): ssbd1.qbic.riken.jp\n",
      "(MainThread) http://ssbd1.qbic.riken.jp:80 \"GET /SSBD/api/v3/contributor/?format=json;person__first_name__icontains=philip; HTTP/1.1\" 200 None\n"
     ]
    },
    {
     "name": "stdout",
     "output_type": "stream",
     "text": [
      "display=True\n",
      "display= True\n",
      "parameter= http://ssbd1.qbic.riken.jp/SSBD/api/v3/contributor/?format=json;person__first_name__icontains=philip;\n",
      "meta= {'limit': 20, 'next': None, 'offset': 0, 'previous': None, 'total_count': 18}\n",
      "found= 18\n",
      "limit= 20\n",
      "No.: 1\n",
      "    affiliation : {'E_mail': 'keller@embl.de', 'URL': None, 'address': None, 'department': 'Cell Biology and Biophysics Unit', 'laboratory': None, 'organization': 'European Molecular Biology Laboratory', 'person': {'ORCID': '0000-0003-2896-4920', 'first_name': 'Philipp', 'last_name': 'Keller', 'middle_name': 'J.'}, 'phone': None}\n",
      "    data : {'PMID': '20601950', 'SID': 4, 'basedon': 'Experiment', 'bdmlID': 'c8597588-bbee-4b3c-bf7c-7e373f29199d', 'citation': None, 'contributors': 'Philipp Keller, Annette Schmidt, Anthony Santella, Khaled Khairy, Zhirong Bao, Joachim Wittbrodt, Ernst Stelzer', 'datatype': 'nuclear positions', 'dblink': 'http://www.embl.de/digitalembryo/fly.html', 'description': 'fused reconstruction of early Drosophila wild-type development', 'gene': None, 'license': 'CC BY-NC-SA', 'localID': 'drosophila_fused.mat', 'method_summary': 'See details in Keller et al. (2010) Nat Methods 7, 637-642.', 'orf': None, 'organism': 'D. melanogaster', 'release': '2017-10-03', 'schema_ver': '3.000', 'title': 'BDML file for fused reconstruction of early Drosophila wild-type development'}\n",
      "    person : {'ORCID': '0000-0003-2896-4920', 'first_name': 'Philipp', 'last_name': 'Keller', 'middle_name': 'J.'}\n",
      "No.: 2\n",
      "    affiliation : {'E_mail': 'keller@embl.de', 'URL': None, 'address': None, 'department': 'Cell Biology and Biophysics Unit', 'laboratory': None, 'organization': 'European Molecular Biology Laboratory', 'person': {'ORCID': '0000-0003-2896-4920', 'first_name': 'Philipp', 'last_name': 'Keller', 'middle_name': 'J.'}, 'phone': None}\n",
      "    data : {'PMID': '20601950', 'SID': 4, 'basedon': 'Experiment', 'bdmlID': '70e2fc76-5286-4d14-b5fb-5f8c857563f9', 'citation': None, 'contributors': 'Philipp Keller, Annette Schmidt, Anthony Santella, Khaled Khairy, Zhirong Bao, Joachim Wittbrodt, Ernst Stelzer', 'datatype': 'nuclear positions', 'dblink': 'http://www.embl.de/digitalembryo/fly.html', 'description': 'raw reconstruction of early Drosophila wild-type development', 'gene': None, 'license': 'CC BY-NC-SA', 'localID': 'drosophila_raw.mat', 'method_summary': 'See details in Keller et al. (2010) Nat Methods 7, 637-642.', 'orf': None, 'organism': 'D. melanogaster', 'release': '2017-10-03', 'schema_ver': '3.000', 'title': 'BDML file for raw reconstruction of early Drosophila wild-type development'}\n",
      "    person : {'ORCID': '0000-0003-2896-4920', 'first_name': 'Philipp', 'last_name': 'Keller', 'middle_name': 'J.'}\n",
      "No.: 3\n",
      "    affiliation : {'E_mail': 'keller@embl.de', 'URL': None, 'address': None, 'department': 'Cell Biology and Biophysics Unit', 'laboratory': None, 'organization': 'European Molecular Biology Laboratory', 'person': {'ORCID': '0000-0003-2896-4920', 'first_name': 'Philipp', 'last_name': 'Keller', 'middle_name': 'J.'}, 'phone': None}\n",
      "    data : {'PMID': '18845710', 'SID': 5, 'basedon': 'Experiment', 'bdmlID': '1c359eb4-9015-4bc2-abe6-c11a77a50ebc', 'citation': None, 'contributors': 'Philipp Keller, Annette Schmidt, Joachim Wittbrodt, Ernst Stelzer', 'datatype': 'nuclear positions', 'dblink': 'http://www.embl.de/digitalembryo/fish.html', 'description': 'reconstruction of the zebrafish animal hemisphere (A)', 'gene': None, 'license': 'CC BY-NC-SA', 'localID': 'zebrafish_animal_a.mat', 'method_summary': 'See details in Keller et al. (2008) Science 322, 1065-1069.', 'orf': None, 'organism': 'zebrafish', 'release': '2017-10-03', 'schema_ver': '3.000', 'title': 'BDML file for reconstruction of the zebrafish animal hemisphere (A)'}\n",
      "    person : {'ORCID': '0000-0003-2896-4920', 'first_name': 'Philipp', 'last_name': 'Keller', 'middle_name': 'J.'}\n",
      "No.: 4\n",
      "    affiliation : {'E_mail': 'keller@embl.de', 'URL': None, 'address': None, 'department': 'Cell Biology and Biophysics Unit', 'laboratory': None, 'organization': 'European Molecular Biology Laboratory', 'person': {'ORCID': '0000-0003-2896-4920', 'first_name': 'Philipp', 'last_name': 'Keller', 'middle_name': 'J.'}, 'phone': None}\n",
      "    data : {'PMID': '18845710', 'SID': 5, 'basedon': 'Experiment', 'bdmlID': 'd13c7e47-fe94-4756-a49e-6a2e56d6380b', 'citation': None, 'contributors': 'Philipp Keller, Annette Schmidt, Joachim Wittbrodt, Ernst Stelzer', 'datatype': 'nuclear positions', 'dblink': 'http://www.embl.de/digitalembryo/fish.html', 'description': 'reconstruction of the zebrafish animal hemisphere (B)', 'gene': None, 'license': 'CC BY-NC-SA', 'localID': 'zebrafish_animal_b.mat', 'method_summary': 'See details in Keller et al. (2008) Science 322, 1065-1069.', 'orf': None, 'organism': 'zebrafish', 'release': '2017-10-03', 'schema_ver': '3.000', 'title': 'BDML file for reconstruction of the zebrafish animal hemisphere (B)'}\n",
      "    person : {'ORCID': '0000-0003-2896-4920', 'first_name': 'Philipp', 'last_name': 'Keller', 'middle_name': 'J.'}\n",
      "No.: 5\n",
      "    affiliation : {'E_mail': 'keller@embl.de', 'URL': None, 'address': None, 'department': 'Cell Biology and Biophysics Unit', 'laboratory': None, 'organization': 'European Molecular Biology Laboratory', 'person': {'ORCID': '0000-0003-2896-4920', 'first_name': 'Philipp', 'last_name': 'Keller', 'middle_name': 'J.'}, 'phone': None}\n",
      "    data : {'PMID': '18845710', 'SID': 5, 'basedon': 'Experiment', 'bdmlID': '4a892331-fa43-4fd3-bd3a-1d5c988eb7e4', 'citation': None, 'contributors': 'Philipp Keller, Annette Schmidt, Joachim Wittbrodt, Ernst Stelzer', 'datatype': 'nuclear positions', 'dblink': 'http://www.embl.de/digitalembryo/fish.html', 'description': 'reconstruction of the zebrafish animal hemisphere (C)', 'gene': None, 'license': 'CC BY-NC-SA', 'localID': 'zebrafish_animal_c.mat', 'method_summary': 'See details in Keller et al. (2008) Science 322, 1065-1069.', 'orf': None, 'organism': 'zebrafish', 'release': '2017-10-03', 'schema_ver': '3.000', 'title': 'BDML file for reconstruction of the zebrafish animal hemisphere (C)'}\n",
      "    person : {'ORCID': '0000-0003-2896-4920', 'first_name': 'Philipp', 'last_name': 'Keller', 'middle_name': 'J.'}\n",
      "No.: 6\n",
      "    affiliation : {'E_mail': 'keller@embl.de', 'URL': None, 'address': None, 'department': 'Cell Biology and Biophysics Unit', 'laboratory': None, 'organization': 'European Molecular Biology Laboratory', 'person': {'ORCID': '0000-0003-2896-4920', 'first_name': 'Philipp', 'last_name': 'Keller', 'middle_name': 'J.'}, 'phone': None}\n",
      "    data : {'PMID': '18845710', 'SID': 5, 'basedon': 'Experiment', 'bdmlID': 'ef70090c-e8f4-47d0-aa48-16c3a408ae14', 'citation': None, 'contributors': 'Philipp Keller, Annette Schmidt, Joachim Wittbrodt, Ernst Stelzer', 'datatype': 'nuclear positions', 'dblink': 'http://www.embl.de/digitalembryo/fish.html', 'description': 'reconstruction of the zebrafish dorsal hemisphere', 'gene': None, 'license': 'CC BY-NC-SA', 'localID': 'zebrafish_dorsal.mat', 'method_summary': 'See details in Keller et al. (2008) Science 322, 1065-1069.', 'orf': None, 'organism': 'zebrafish', 'release': '2017-10-03', 'schema_ver': '3.000', 'title': 'BDML file for reconstruction of the zebrafish dorsal hemisphere'}\n",
      "    person : {'ORCID': '0000-0003-2896-4920', 'first_name': 'Philipp', 'last_name': 'Keller', 'middle_name': 'J.'}\n",
      "No.: 7\n",
      "    affiliation : {'E_mail': 'keller@embl.de', 'URL': None, 'address': None, 'department': 'Cell Biology and Biophysics Unit', 'laboratory': None, 'organization': 'European Molecular Biology Laboratory', 'person': {'ORCID': '0000-0003-2896-4920', 'first_name': 'Philipp', 'last_name': 'Keller', 'middle_name': 'J.'}, 'phone': None}\n",
      "    data : {'PMID': '18845710', 'SID': 5, 'basedon': 'Experiment', 'bdmlID': '11fe76be-ab01-46e5-9f45-fabcb6a9d5ea', 'citation': None, 'contributors': 'Philipp Keller, Annette Schmidt, Joachim Wittbrodt, Ernst Stelzer', 'datatype': 'nuclear positions', 'dblink': 'http://www.embl.de/digitalembryo/fish.html', 'description': 'in toto reconstruction of zebrafish MZoep mutant development', 'gene': None, 'license': 'CC BY-NC-SA', 'localID': 'zebrafish_in_toto_mzoep.mat', 'method_summary': 'See details in Keller et al. (2008) Science 322, 1065-1069.', 'orf': None, 'organism': 'zebrafish', 'release': '2017-10-03', 'schema_ver': '3.000', 'title': 'BDML file for in toto reconstruction of zebrafish MZoep mutant development'}\n",
      "    person : {'ORCID': '0000-0003-2896-4920', 'first_name': 'Philipp', 'last_name': 'Keller', 'middle_name': 'J.'}\n",
      "No.: 8\n",
      "    affiliation : {'E_mail': 'keller@embl.de', 'URL': None, 'address': None, 'department': 'Cell Biology and Biophysics Unit', 'laboratory': None, 'organization': 'European Molecular Biology Laboratory', 'person': {'ORCID': '0000-0003-2896-4920', 'first_name': 'Philipp', 'last_name': 'Keller', 'middle_name': 'J.'}, 'phone': None}\n",
      "    data : {'PMID': '18845710', 'SID': 5, 'basedon': 'Experiment', 'bdmlID': 'a16c40a4-4a1f-4c23-9ee6-a3d78ac06ec7', 'citation': None, 'contributors': 'Philipp Keller, Annette Schmidt, Joachim Wittbrodt, Ernst Stelzer', 'datatype': 'nuclear positions', 'dblink': 'http://www.embl.de/digitalembryo/fish.html', 'description': 'in toto reconstruction of zebrafish wild-type development', 'gene': None, 'license': 'CC BY-NC-SA', 'localID': 'zebrafish_in_toto_wt.mat', 'method_summary': 'See details in Keller et al. (2008) Science 322, 1065-1069.', 'orf': None, 'organism': 'zebrafish', 'release': '2017-10-03', 'schema_ver': '3.000', 'title': 'BDML file for in toto reconstruction of zebrafish wild-type development'}\n",
      "    person : {'ORCID': '0000-0003-2896-4920', 'first_name': 'Philipp', 'last_name': 'Keller', 'middle_name': 'J.'}\n",
      "No.: 9\n",
      "    affiliation : {'E_mail': 'keller@embl.de', 'URL': None, 'address': None, 'department': 'Cell Biology and Biophysics Unit', 'laboratory': None, 'organization': 'European Molecular Biology Laboratory', 'person': {'ORCID': '0000-0003-2896-4920', 'first_name': 'Philipp', 'last_name': 'Keller', 'middle_name': 'J.'}, 'phone': None}\n",
      "    data : {'PMID': '18845710', 'SID': 5, 'basedon': 'Experiment', 'bdmlID': 'c5120a17-0135-4fc9-aeee-343bb4675612', 'citation': None, 'contributors': 'Philipp Keller, Annette Schmidt, Joachim Wittbrodt, Ernst Stelzer', 'datatype': 'nuclear positions', 'dblink': 'http://www.embl.de/digitalembryo/fish.html', 'description': 'reconstruction of the zebrafish ventral hemisphere', 'gene': None, 'license': 'CC BY-NC-SA', 'localID': 'zebrafish_ventral.mat', 'method_summary': 'See details in Keller et al. (2008) Science 322, 1065-1069.', 'orf': None, 'organism': 'zebrafish', 'release': '2017-10-03', 'schema_ver': '3.000', 'title': 'BDML file for reconstruction of the zebrafish ventral hemisphere'}\n",
      "    person : {'ORCID': '0000-0003-2896-4920', 'first_name': 'Philipp', 'last_name': 'Keller', 'middle_name': 'J.'}\n",
      "No.: 10\n",
      "    affiliation : {'E_mail': 'keller@embl.de', 'URL': None, 'address': None, 'department': 'Cell Biology and Biophysics Unit', 'laboratory': None, 'organization': 'European Molecular Biology Laboratory', 'person': {'ORCID': '0000-0003-2896-4920', 'first_name': 'Philipp', 'last_name': 'Keller', 'middle_name': 'J.'}, 'phone': None}\n",
      "    data : {'PMID': '20601950', 'SID': 4, 'basedon': 'Experiment', 'bdmlID': '635a6b26-e142-408e-8946-5a8c49a42599', 'citation': None, 'contributors': 'Philipp Keller, Annette Schmidt, Anthony Santella, Khaled Khairy, Zhirong Bao, Joachim Wittbrodt, Ernst Stelzer', 'datatype': 'nuclear positions', 'dblink': 'http://www.embl.de/digitalembryo/fly.html', 'description': 'fused reconstruction of early Drosophila wild-type development', 'gene': None, 'license': 'CC BY-NC-SA', 'localID': 'drosophila_fused.mat', 'method_summary': 'See details in Keller et al. (2010) Nat Methods 7, 637-642.', 'orf': None, 'organism': 'D. melanogaster', 'release': '2017-12-20', 'schema_ver': '3.000', 'title': 'BDML file for fused reconstruction of early Drosophila wild-type development'}\n",
      "    person : {'ORCID': '0000-0003-2896-4920', 'first_name': 'Philipp', 'last_name': 'Keller', 'middle_name': 'J.'}\n",
      "No.: 11\n",
      "    affiliation : {'E_mail': 'keller@embl.de', 'URL': None, 'address': None, 'department': 'Cell Biology and Biophysics Unit', 'laboratory': None, 'organization': 'European Molecular Biology Laboratory', 'person': {'ORCID': '0000-0003-2896-4920', 'first_name': 'Philipp', 'last_name': 'Keller', 'middle_name': 'J.'}, 'phone': None}\n",
      "    data : {'PMID': '20601950', 'SID': 4, 'basedon': 'Experiment', 'bdmlID': '71967006-0426-444a-9fcb-ce14423ddfb6', 'citation': None, 'contributors': 'Philipp Keller, Annette Schmidt, Anthony Santella, Khaled Khairy, Zhirong Bao, Joachim Wittbrodt, Ernst Stelzer', 'datatype': 'nuclear positions', 'dblink': 'http://www.embl.de/digitalembryo/fly.html', 'description': 'raw reconstruction of early Drosophila wild-type development', 'gene': None, 'license': 'CC BY-NC-SA', 'localID': 'drosophila_raw.mat', 'method_summary': 'See details in Keller et al. (2010) Nat Methods 7, 637-642.', 'orf': None, 'organism': 'D. melanogaster', 'release': '2017-12-20', 'schema_ver': '3.000', 'title': 'BDML file for raw reconstruction of early Drosophila wild-type development'}\n",
      "    person : {'ORCID': '0000-0003-2896-4920', 'first_name': 'Philipp', 'last_name': 'Keller', 'middle_name': 'J.'}\n",
      "No.: 12\n",
      "    affiliation : {'E_mail': 'keller@embl.de', 'URL': None, 'address': None, 'department': 'Cell Biology and Biophysics Unit', 'laboratory': None, 'organization': 'European Molecular Biology Laboratory', 'person': {'ORCID': '0000-0003-2896-4920', 'first_name': 'Philipp', 'last_name': 'Keller', 'middle_name': 'J.'}, 'phone': None}\n",
      "    data : {'PMID': '18845710', 'SID': 5, 'basedon': 'Experiment', 'bdmlID': 'f1711c49-3cfc-4144-943f-c7d649419ae1', 'citation': None, 'contributors': 'Philipp Keller, Annette Schmidt, Joachim Wittbrodt, Ernst Stelzer', 'datatype': 'nuclear positions', 'dblink': 'http://www.embl.de/digitalembryo/fish.html', 'description': 'reconstruction of the zebrafish animal hemisphere (A)', 'gene': None, 'license': 'CC BY-NC-SA', 'localID': 'zebrafish_animal_a.mat', 'method_summary': 'See details in Keller et al. (2008) Science 322, 1065-1069.', 'orf': None, 'organism': 'D. rerio', 'release': '2017-12-20', 'schema_ver': '3.000', 'title': 'BDML file for reconstruction of the zebrafish animal hemisphere (A)'}\n",
      "    person : {'ORCID': '0000-0003-2896-4920', 'first_name': 'Philipp', 'last_name': 'Keller', 'middle_name': 'J.'}\n",
      "No.: 13\n",
      "    affiliation : {'E_mail': 'keller@embl.de', 'URL': None, 'address': None, 'department': 'Cell Biology and Biophysics Unit', 'laboratory': None, 'organization': 'European Molecular Biology Laboratory', 'person': {'ORCID': '0000-0003-2896-4920', 'first_name': 'Philipp', 'last_name': 'Keller', 'middle_name': 'J.'}, 'phone': None}\n",
      "    data : {'PMID': '18845710', 'SID': 5, 'basedon': 'Experiment', 'bdmlID': '0f6f9f39-6df6-430a-a5a9-45461093a040', 'citation': None, 'contributors': 'Philipp Keller, Annette Schmidt, Joachim Wittbrodt, Ernst Stelzer', 'datatype': 'nuclear positions', 'dblink': 'http://www.embl.de/digitalembryo/fish.html', 'description': 'reconstruction of the zebrafish animal hemisphere (B)', 'gene': None, 'license': 'CC BY-NC-SA', 'localID': 'zebrafish_animal_b.mat', 'method_summary': 'See details in Keller et al. (2008) Science 322, 1065-1069.', 'orf': None, 'organism': 'D. rerio', 'release': '2017-12-20', 'schema_ver': '3.000', 'title': 'BDML file for reconstruction of the zebrafish animal hemisphere (B)'}\n",
      "    person : {'ORCID': '0000-0003-2896-4920', 'first_name': 'Philipp', 'last_name': 'Keller', 'middle_name': 'J.'}\n",
      "No.: 14\n",
      "    affiliation : {'E_mail': 'keller@embl.de', 'URL': None, 'address': None, 'department': 'Cell Biology and Biophysics Unit', 'laboratory': None, 'organization': 'European Molecular Biology Laboratory', 'person': {'ORCID': '0000-0003-2896-4920', 'first_name': 'Philipp', 'last_name': 'Keller', 'middle_name': 'J.'}, 'phone': None}\n",
      "    data : {'PMID': '18845710', 'SID': 5, 'basedon': 'Experiment', 'bdmlID': '1ccea5dc-7141-4f4d-8deb-459289d58c28', 'citation': None, 'contributors': 'Philipp Keller, Annette Schmidt, Joachim Wittbrodt, Ernst Stelzer', 'datatype': 'nuclear positions', 'dblink': 'http://www.embl.de/digitalembryo/fish.html', 'description': 'reconstruction of the zebrafish animal hemisphere (C)', 'gene': None, 'license': 'CC BY-NC-SA', 'localID': 'zebrafish_animal_c.mat', 'method_summary': 'See details in Keller et al. (2008) Science 322, 1065-1069.', 'orf': None, 'organism': 'D. rerio', 'release': '2017-12-20', 'schema_ver': '3.000', 'title': 'BDML file for reconstruction of the zebrafish animal hemisphere (C)'}\n",
      "    person : {'ORCID': '0000-0003-2896-4920', 'first_name': 'Philipp', 'last_name': 'Keller', 'middle_name': 'J.'}\n",
      "No.: 15\n",
      "    affiliation : {'E_mail': 'keller@embl.de', 'URL': None, 'address': None, 'department': 'Cell Biology and Biophysics Unit', 'laboratory': None, 'organization': 'European Molecular Biology Laboratory', 'person': {'ORCID': '0000-0003-2896-4920', 'first_name': 'Philipp', 'last_name': 'Keller', 'middle_name': 'J.'}, 'phone': None}\n",
      "    data : {'PMID': '18845710', 'SID': 5, 'basedon': 'Experiment', 'bdmlID': '8c6522d3-3444-4195-a7b6-83d0dec65174', 'citation': None, 'contributors': 'Philipp Keller, Annette Schmidt, Joachim Wittbrodt, Ernst Stelzer', 'datatype': 'nuclear positions', 'dblink': 'http://www.embl.de/digitalembryo/fish.html', 'description': 'reconstruction of the zebrafish dorsal hemisphere', 'gene': None, 'license': 'CC BY-NC-SA', 'localID': 'zebrafish_dorsal.mat', 'method_summary': 'See details in Keller et al. (2008) Science 322, 1065-1069.', 'orf': None, 'organism': 'D. rerio', 'release': '2017-12-20', 'schema_ver': '3.000', 'title': 'BDML file for reconstruction of the zebrafish dorsal hemisphere'}\n",
      "    person : {'ORCID': '0000-0003-2896-4920', 'first_name': 'Philipp', 'last_name': 'Keller', 'middle_name': 'J.'}\n",
      "No.: 16\n",
      "    affiliation : {'E_mail': 'keller@embl.de', 'URL': None, 'address': None, 'department': 'Cell Biology and Biophysics Unit', 'laboratory': None, 'organization': 'European Molecular Biology Laboratory', 'person': {'ORCID': '0000-0003-2896-4920', 'first_name': 'Philipp', 'last_name': 'Keller', 'middle_name': 'J.'}, 'phone': None}\n",
      "    data : {'PMID': '18845710', 'SID': 5, 'basedon': 'Experiment', 'bdmlID': '320e02ee-1c6c-4e03-a6da-75b5c413b6a3', 'citation': None, 'contributors': 'Philipp Keller, Annette Schmidt, Joachim Wittbrodt, Ernst Stelzer', 'datatype': 'nuclear positions', 'dblink': 'http://www.embl.de/digitalembryo/fish.html', 'description': 'in toto reconstruction of zebrafish MZoep mutant development', 'gene': None, 'license': 'CC BY-NC-SA', 'localID': 'zebrafish_in_toto_mzoep.mat', 'method_summary': 'See details in Keller et al. (2008) Science 322, 1065-1069.', 'orf': None, 'organism': 'D. rerio', 'release': '2017-12-20', 'schema_ver': '3.000', 'title': 'BDML file for in toto reconstruction of zebrafish MZoep mutant development'}\n",
      "    person : {'ORCID': '0000-0003-2896-4920', 'first_name': 'Philipp', 'last_name': 'Keller', 'middle_name': 'J.'}\n",
      "No.: 17\n",
      "    affiliation : {'E_mail': 'keller@embl.de', 'URL': None, 'address': None, 'department': 'Cell Biology and Biophysics Unit', 'laboratory': None, 'organization': 'European Molecular Biology Laboratory', 'person': {'ORCID': '0000-0003-2896-4920', 'first_name': 'Philipp', 'last_name': 'Keller', 'middle_name': 'J.'}, 'phone': None}\n",
      "    data : {'PMID': '18845710', 'SID': 5, 'basedon': 'Experiment', 'bdmlID': 'f076c9ea-1bf2-475a-9ec2-4fcfbfe3a3ac', 'citation': None, 'contributors': 'Philipp Keller, Annette Schmidt, Joachim Wittbrodt, Ernst Stelzer', 'datatype': 'nuclear positions', 'dblink': 'http://www.embl.de/digitalembryo/fish.html', 'description': 'in toto reconstruction of zebrafish wild-type development', 'gene': None, 'license': 'CC BY-NC-SA', 'localID': 'zebrafish_in_toto_wt.mat', 'method_summary': 'See details in Keller et al. (2008) Science 322, 1065-1069.', 'orf': None, 'organism': 'D. rerio', 'release': '2017-12-20', 'schema_ver': '3.000', 'title': 'BDML file for in toto reconstruction of zebrafish wild-type development'}\n",
      "    person : {'ORCID': '0000-0003-2896-4920', 'first_name': 'Philipp', 'last_name': 'Keller', 'middle_name': 'J.'}\n",
      "No.: 18\n",
      "    affiliation : {'E_mail': 'keller@embl.de', 'URL': None, 'address': None, 'department': 'Cell Biology and Biophysics Unit', 'laboratory': None, 'organization': 'European Molecular Biology Laboratory', 'person': {'ORCID': '0000-0003-2896-4920', 'first_name': 'Philipp', 'last_name': 'Keller', 'middle_name': 'J.'}, 'phone': None}\n",
      "    data : {'PMID': '18845710', 'SID': 5, 'basedon': 'Experiment', 'bdmlID': 'bad5c56c-2a1d-4393-b1a5-ac9fd67c9999', 'citation': None, 'contributors': 'Philipp Keller, Annette Schmidt, Joachim Wittbrodt, Ernst Stelzer', 'datatype': 'nuclear positions', 'dblink': 'http://www.embl.de/digitalembryo/fish.html', 'description': 'reconstruction of the zebrafish ventral hemisphere', 'gene': None, 'license': 'CC BY-NC-SA', 'localID': 'zebrafish_ventral.mat', 'method_summary': 'See details in Keller et al. (2008) Science 322, 1065-1069.', 'orf': None, 'organism': 'D. rerio', 'release': '2017-12-20', 'schema_ver': '3.000', 'title': 'BDML file for reconstruction of the zebrafish ventral hemisphere'}\n",
      "    person : {'ORCID': '0000-0003-2896-4920', 'first_name': 'Philipp', 'last_name': 'Keller', 'middle_name': 'J.'}\n"
     ]
    }
   ],
   "source": [
    "q=ssbdapi.ssbd()\n",
    "q.set_display('on')\n",
    "resultdata = q.contributor(field='person__first_name', search='philip')"
   ]
  },
  {
   "cell_type": "markdown",
   "metadata": {},
   "source": [
    "## Using ssbdapi function 'contact' to search for 'washington' in the field 'affiliation__organization'"
   ]
  },
  {
   "cell_type": "code",
   "execution_count": 17,
   "metadata": {},
   "outputs": [
    {
     "name": "stderr",
     "output_type": "stream",
     "text": [
      "(MainThread) Starting new HTTP connection (1): ssbd1.qbic.riken.jp\n",
      "(MainThread) http://ssbd1.qbic.riken.jp:80 \"GET /SSBD/api/v3/contact/?format=json;affiliation__organization__icontains=washington; HTTP/1.1\" 200 None\n"
     ]
    },
    {
     "name": "stdout",
     "output_type": "stream",
     "text": [
      "display=True\n",
      "display= True\n",
      "parameter= http://ssbd1.qbic.riken.jp/SSBD/api/v3/contact/?format=json;affiliation__organization__icontains=washington;\n",
      "meta= {'limit': 20, 'next': None, 'offset': 0, 'previous': None, 'total_count': 2}\n",
      "found= 2\n",
      "limit= 20\n",
      "No.: 1\n",
      "    affiliation : {'E_mail': 'waterston@gs.washington.edu', 'URL': None, 'address': None, 'department': 'Department of Genome Sciences', 'laboratory': None, 'organization': 'University of Washington', 'person': {'ORCID': None, 'first_name': 'Robert', 'last_name': 'Waterston', 'middle_name': 'H.'}, 'phone': None}\n",
      "    data : {'PMID': '16477039', 'SID': 1, 'basedon': 'Experiment', 'bdmlID': 'aeabe0e1-bcc3-4948-acb7-7c6736949404', 'citation': None, 'contributors': 'Bao Zhirong, John Murray, Thomas Boyle, Siew Loon Ooi, Matthew Sandel, Robert Waterston', 'datatype': 'nuclear division dynamics', 'dblink': 'http://waterston.gs.washington.edu/StarryNite.html', 'description': 'quantitative information about nuclear division dynamics in wild-type embryo', 'gene': None, 'license': 'CC BY-NC-SA', 'localID': '081505_L1', 'method_summary': 'See details in Bao et al. (2006) Proc Natl Acad Sci USA 103, 2707-2712.', 'orf': None, 'organism': 'C. elegans', 'release': '2017-10-03', 'schema_ver': '3.000', 'title': 'BDML file for quantitative information about nuclear division dynamics of wild-type embryo'}\n",
      "    person : {'ORCID': None, 'first_name': 'Robert', 'last_name': 'Waterston', 'middle_name': 'H.'}\n",
      "No.: 2\n",
      "    affiliation : {'E_mail': 'waterston@gs.washington.edu', 'URL': None, 'address': None, 'department': 'Department of Genome Sciences', 'laboratory': None, 'organization': 'University of Washington', 'person': {'ORCID': None, 'first_name': 'Robert', 'last_name': 'Waterston', 'middle_name': 'H.'}, 'phone': None}\n",
      "    data : {'PMID': '16477039', 'SID': 1, 'basedon': 'Experiment', 'bdmlID': '800faa21-c28c-4b72-bd12-d41f2eed02e8', 'citation': None, 'contributors': 'Bao Zhirong, John Murray, Thomas Boyle, Siew Loon Ooi, Matthew Sandel, Robert Waterston', 'datatype': 'nuclear division dynamics', 'dblink': 'http://waterston.gs.washington.edu/StarryNite.html', 'description': 'quantitative information about nuclear division dynamics in wild-type embryo', 'gene': None, 'license': 'CC BY-NC-SA', 'localID': '081505_L1', 'method_summary': 'See details in Bao et al. (2006) Proc Natl Acad Sci USA 103, 2707-2712.', 'orf': None, 'organism': 'C. elegans', 'release': '2017-12-20', 'schema_ver': '3.000', 'title': 'BDML file for quantitative information about nuclear division dynamics of wild-type embryo'}\n",
      "    person : {'ORCID': None, 'first_name': 'Robert', 'last_name': 'Waterston', 'middle_name': 'H.'}\n"
     ]
    }
   ],
   "source": [
    "q=ssbdapi.ssbd()\n",
    "q.set_display('on')\n",
    "resultdata = q.contact(field='affiliation__organization', search='washington')"
   ]
  },
  {
   "cell_type": "markdown",
   "metadata": {},
   "source": [
    "## Using ssbdapi function 'contact' to search for 'tokyo' in the field 'affiliation__address'"
   ]
  },
  {
   "cell_type": "code",
   "execution_count": 18,
   "metadata": {},
   "outputs": [
    {
     "name": "stderr",
     "output_type": "stream",
     "text": [
      "(MainThread) Starting new HTTP connection (1): ssbd1.qbic.riken.jp\n",
      "(MainThread) http://ssbd1.qbic.riken.jp:80 \"GET /SSBD/api/v3/contact/?format=json;affiliation__address__icontains=tokyo; HTTP/1.1\" 200 None\n"
     ]
    },
    {
     "name": "stdout",
     "output_type": "stream",
     "text": [
      "display=True\n",
      "display= True\n",
      "parameter= http://ssbd1.qbic.riken.jp/SSBD/api/v3/contact/?format=json;affiliation__address__icontains=tokyo;\n",
      "meta= {'limit': 20, 'next': '/SSBD/api/v3/contact/?affiliation__address__icontains=tokyo&limit=20&offset=20&format=json', 'offset': 0, 'previous': None, 'total_count': 222}\n",
      "found= 222\n",
      "limit= 20\n",
      "No.: 1\n",
      "    affiliation : {'E_mail': 'yoshito@sat.t.u-tokyo.ac.jp', 'URL': None, 'address': '4-6-1 Komaba, Meguro-ku, Tokyo 153-8505, Japan', 'department': 'Institute of Industrial Science', 'laboratory': None, 'organization': 'University of Tokyo', 'person': {'ORCID': '0000-0002-9245-2543', 'first_name': 'Yoshito', 'last_name': 'Hirata', 'middle_name': None}, 'phone': None}\n",
      "    data : {'PMID': '27725694', 'SID': 41, 'basedon': 'Experiment', 'bdmlID': '1927ea68-0479-4d4a-abfa-76c9dce8f314', 'citation': None, 'contributors': 'Yoshito Hirata, Arisa Oda, Kunihiro Ohta, Kazuyuki Aihara', 'datatype': 'chromosome structure', 'dblink': None, 'description': 'quantitative information about X chromosome structure from Hi-C data at 250-kb resolution for a male mouse T helper (TH1) cell #1', 'gene': None, 'license': 'CC BY-NC-SA', 'localID': 'Fig4c_C1', 'method_summary': 'See details in Hirata et al. (2016) Sci. Rep. 6, 34982.', 'orf': None, 'organism': 'Mus musculus', 'release': '2017-10-03', 'schema_ver': '3.000', 'title': 'BDML file for quantitative information about X chromosome structure from Hi-C data at 250-kb resolution for a male mouse T helper (TH1) cell #1'}\n",
      "    person : {'ORCID': '0000-0002-9245-2543', 'first_name': 'Yoshito', 'last_name': 'Hirata', 'middle_name': None}\n",
      "No.: 2\n",
      "    affiliation : {'E_mail': 'yoshito@sat.t.u-tokyo.ac.jp', 'URL': None, 'address': '4-6-1 Komaba, Meguro-ku, Tokyo 153-8505, Japan', 'department': 'Institute of Industrial Science', 'laboratory': None, 'organization': 'University of Tokyo', 'person': {'ORCID': '0000-0002-9245-2543', 'first_name': 'Yoshito', 'last_name': 'Hirata', 'middle_name': None}, 'phone': None}\n",
      "    data : {'PMID': '27725694', 'SID': 41, 'basedon': 'Experiment', 'bdmlID': '5be7d51e-06f3-4148-abea-66c539a382a6', 'citation': None, 'contributors': 'Yoshito Hirata, Arisa Oda, Kunihiro Ohta, Kazuyuki Aihara', 'datatype': 'chromosome structure', 'dblink': None, 'description': 'quantitative information about X chromosome structure from Hi-C data at 250-kb resolution for a male mouse T helper (TH1) cell #2', 'gene': None, 'license': 'CC BY-NC-SA', 'localID': 'Fig4c_C2', 'method_summary': 'See details in Hirata et al. (2016) Sci. Rep. 6, 34982.', 'orf': None, 'organism': 'Mus musculus', 'release': '2017-10-03', 'schema_ver': '3.000', 'title': 'BDML file for quantitative information about X chromosome structure from Hi-C data at 250-kb resolution for a male mouse T helper (TH1) cell #2'}\n",
      "    person : {'ORCID': '0000-0002-9245-2543', 'first_name': 'Yoshito', 'last_name': 'Hirata', 'middle_name': None}\n",
      "No.: 3\n",
      "    affiliation : {'E_mail': 'yoshito@sat.t.u-tokyo.ac.jp', 'URL': None, 'address': '4-6-1 Komaba, Meguro-ku, Tokyo 153-8505, Japan', 'department': 'Institute of Industrial Science', 'laboratory': None, 'organization': 'University of Tokyo', 'person': {'ORCID': '0000-0002-9245-2543', 'first_name': 'Yoshito', 'last_name': 'Hirata', 'middle_name': None}, 'phone': None}\n",
      "    data : {'PMID': '27725694', 'SID': 41, 'basedon': 'Experiment', 'bdmlID': '0e2690b6-7912-4de2-b58f-097f76ce5557', 'citation': None, 'contributors': 'Yoshito Hirata, Arisa Oda, Kunihiro Ohta, Kazuyuki Aihara', 'datatype': 'chromosome structure', 'dblink': None, 'description': 'quantitative information about X chromosome structure from Hi-C data at 250-kb resolution for a male mouse T helper (TH1) cell #3', 'gene': None, 'license': 'CC BY-NC-SA', 'localID': 'Fig4c_C3', 'method_summary': 'See details in Hirata et al. (2016) Sci. Rep. 6, 34982.', 'orf': None, 'organism': 'Mus musculus', 'release': '2017-10-03', 'schema_ver': '3.000', 'title': 'BDML file for quantitative information about X chromosome structure from Hi-C data at 250-kb resolution for a male mouse T helper (TH1) cell #3'}\n",
      "    person : {'ORCID': '0000-0002-9245-2543', 'first_name': 'Yoshito', 'last_name': 'Hirata', 'middle_name': None}\n",
      "No.: 4\n",
      "    affiliation : {'E_mail': 'yoshito@sat.t.u-tokyo.ac.jp', 'URL': None, 'address': '4-6-1 Komaba, Meguro-ku, Tokyo 153-8505, Japan', 'department': 'Institute of Industrial Science', 'laboratory': None, 'organization': 'University of Tokyo', 'person': {'ORCID': '0000-0002-9245-2543', 'first_name': 'Yoshito', 'last_name': 'Hirata', 'middle_name': None}, 'phone': None}\n",
      "    data : {'PMID': '27725694', 'SID': 41, 'basedon': 'Experiment', 'bdmlID': '331ce5e1-f5f5-486b-8598-7391ffffc9ab', 'citation': None, 'contributors': 'Yoshito Hirata, Arisa Oda, Kunihiro Ohta, Kazuyuki Aihara', 'datatype': 'chromosome structure', 'dblink': None, 'description': 'quantitative information about X chromosome structure from an ensemble (multi-cellular/population) Hi-C data at 250-kb resolution for male mouse T helper (TH1) cells', 'gene': None, 'license': 'CC BY-NC-SA', 'localID': 'Fig4c_E', 'method_summary': 'See details in Hirata et al. (2016) Sci. Rep. 6, 34982.', 'orf': None, 'organism': 'Mus musculus', 'release': '2017-10-03', 'schema_ver': '3.000', 'title': 'BDML file for quantitative information about X chromosome structure from an ensemble (multi-cellular/population) Hi-C data at 250-kb resolution for male mouse T helper (TH1) cells'}\n",
      "    person : {'ORCID': '0000-0002-9245-2543', 'first_name': 'Yoshito', 'last_name': 'Hirata', 'middle_name': None}\n",
      "No.: 5\n",
      "    affiliation : {'E_mail': 'yoshito@sat.t.u-tokyo.ac.jp', 'URL': None, 'address': '4-6-1 Komaba, Meguro-ku, Tokyo 153-8505, Japan', 'department': 'Institute of Industrial Science', 'laboratory': None, 'organization': 'University of Tokyo', 'person': {'ORCID': '0000-0002-9245-2543', 'first_name': 'Yoshito', 'last_name': 'Hirata', 'middle_name': None}, 'phone': None}\n",
      "    data : {'PMID': '27725694', 'SID': 41, 'basedon': 'Experiment', 'bdmlID': '7b83d08c-f707-48d1-9b90-959f2cfd4281', 'citation': None, 'contributors': 'Yoshito Hirata, Arisa Oda, Kunihiro Ohta, Kazuyuki Aihara', 'datatype': 'chromosome structure', 'dblink': None, 'description': 'quantitative information about X chromosome structure from Hi-C data at 250-kb resolution for a male mouse T helper (TH1) cell #10', 'gene': None, 'license': 'CC BY-NC-SA', 'localID': 'FigS2_C10', 'method_summary': 'See details in Hirata et al. (2016) Sci. Rep. 6, 34982.', 'orf': None, 'organism': 'Mus musculus', 'release': '2017-10-03', 'schema_ver': '3.000', 'title': 'BDML file for quantitative information about X chromosome structure from Hi-C data at 250-kb resolution for a male mouse T helper (TH1) cell #10'}\n",
      "    person : {'ORCID': '0000-0002-9245-2543', 'first_name': 'Yoshito', 'last_name': 'Hirata', 'middle_name': None}\n",
      "No.: 6\n",
      "    affiliation : {'E_mail': 'yoshito@sat.t.u-tokyo.ac.jp', 'URL': None, 'address': '4-6-1 Komaba, Meguro-ku, Tokyo 153-8505, Japan', 'department': 'Institute of Industrial Science', 'laboratory': None, 'organization': 'University of Tokyo', 'person': {'ORCID': '0000-0002-9245-2543', 'first_name': 'Yoshito', 'last_name': 'Hirata', 'middle_name': None}, 'phone': None}\n",
      "    data : {'PMID': '27725694', 'SID': 41, 'basedon': 'Experiment', 'bdmlID': '4fa3240f-7a1f-4de9-ac2b-bc15daedc906', 'citation': None, 'contributors': 'Yoshito Hirata, Arisa Oda, Kunihiro Ohta, Kazuyuki Aihara', 'datatype': 'chromosome structure', 'dblink': None, 'description': 'quantitative information about X chromosome structure from Hi-C data at 250-kb resolution for a male mouse T helper (TH1) cell #4', 'gene': None, 'license': 'CC BY-NC-SA', 'localID': 'FigS2_C4', 'method_summary': 'See details in Hirata et al. (2016) Sci. Rep. 6, 34982.', 'orf': None, 'organism': 'Mus musculus', 'release': '2017-10-03', 'schema_ver': '3.000', 'title': 'BDML file for quantitative information about X chromosome structure from Hi-C data at 250-kb resolution for a male mouse T helper (TH1) cell #4'}\n",
      "    person : {'ORCID': '0000-0002-9245-2543', 'first_name': 'Yoshito', 'last_name': 'Hirata', 'middle_name': None}\n",
      "No.: 7\n",
      "    affiliation : {'E_mail': 'yoshito@sat.t.u-tokyo.ac.jp', 'URL': None, 'address': '4-6-1 Komaba, Meguro-ku, Tokyo 153-8505, Japan', 'department': 'Institute of Industrial Science', 'laboratory': None, 'organization': 'University of Tokyo', 'person': {'ORCID': '0000-0002-9245-2543', 'first_name': 'Yoshito', 'last_name': 'Hirata', 'middle_name': None}, 'phone': None}\n",
      "    data : {'PMID': '27725694', 'SID': 41, 'basedon': 'Experiment', 'bdmlID': 'a4a7434b-7e2a-409e-ae75-4a491ee2d6f6', 'citation': None, 'contributors': 'Yoshito Hirata, Arisa Oda, Kunihiro Ohta, Kazuyuki Aihara', 'datatype': 'chromosome structure', 'dblink': None, 'description': 'quantitative information about X chromosome structure from Hi-C data at 250-kb resolution for a male mouse T helper (TH1) cell #5', 'gene': None, 'license': 'CC BY-NC-SA', 'localID': 'FigS2_C5', 'method_summary': 'See details in Hirata et al. (2016) Sci. Rep. 6, 34982.', 'orf': None, 'organism': 'Mus musculus', 'release': '2017-10-03', 'schema_ver': '3.000', 'title': 'BDML file for quantitative information about X chromosome structure from Hi-C data at 250-kb resolution for a male mouse T helper (TH1) cell #5'}\n",
      "    person : {'ORCID': '0000-0002-9245-2543', 'first_name': 'Yoshito', 'last_name': 'Hirata', 'middle_name': None}\n",
      "No.: 8\n",
      "    affiliation : {'E_mail': 'yoshito@sat.t.u-tokyo.ac.jp', 'URL': None, 'address': '4-6-1 Komaba, Meguro-ku, Tokyo 153-8505, Japan', 'department': 'Institute of Industrial Science', 'laboratory': None, 'organization': 'University of Tokyo', 'person': {'ORCID': '0000-0002-9245-2543', 'first_name': 'Yoshito', 'last_name': 'Hirata', 'middle_name': None}, 'phone': None}\n",
      "    data : {'PMID': '27725694', 'SID': 41, 'basedon': 'Experiment', 'bdmlID': '897d8212-f51a-410f-83b0-88a4d74efee6', 'citation': None, 'contributors': 'Yoshito Hirata, Arisa Oda, Kunihiro Ohta, Kazuyuki Aihara', 'datatype': 'chromosome structure', 'dblink': None, 'description': 'quantitative information about X chromosome structure from Hi-C data at 250-kb resolution for a male mouse T helper (TH1) cell #6', 'gene': None, 'license': 'CC BY-NC-SA', 'localID': 'FigS2_C6', 'method_summary': 'See details in Hirata et al. (2016) Sci. Rep. 6, 34982.', 'orf': None, 'organism': 'Mus musculus', 'release': '2017-10-03', 'schema_ver': '3.000', 'title': 'BDML file for quantitative information about X chromosome structure from Hi-C data at 250-kb resolution for a male mouse T helper (TH1) cell #6'}\n",
      "    person : {'ORCID': '0000-0002-9245-2543', 'first_name': 'Yoshito', 'last_name': 'Hirata', 'middle_name': None}\n",
      "No.: 9\n",
      "    affiliation : {'E_mail': 'yoshito@sat.t.u-tokyo.ac.jp', 'URL': None, 'address': '4-6-1 Komaba, Meguro-ku, Tokyo 153-8505, Japan', 'department': 'Institute of Industrial Science', 'laboratory': None, 'organization': 'University of Tokyo', 'person': {'ORCID': '0000-0002-9245-2543', 'first_name': 'Yoshito', 'last_name': 'Hirata', 'middle_name': None}, 'phone': None}\n",
      "    data : {'PMID': '27725694', 'SID': 41, 'basedon': 'Experiment', 'bdmlID': 'cae4a21c-52ff-4d16-9184-df378e38eb33', 'citation': None, 'contributors': 'Yoshito Hirata, Arisa Oda, Kunihiro Ohta, Kazuyuki Aihara', 'datatype': 'chromosome structure', 'dblink': None, 'description': 'quantitative information about X chromosome structure from Hi-C data at 250-kb resolution for a male mouse T helper (TH1) cell #7', 'gene': None, 'license': 'CC BY-NC-SA', 'localID': 'FigS2_C7', 'method_summary': 'See details in Hirata et al. (2016) Sci. Rep. 6, 34982.', 'orf': None, 'organism': 'Mus musculus', 'release': '2017-10-03', 'schema_ver': '3.000', 'title': 'BDML file for quantitative information about X chromosome structure from Hi-C data at 250-kb resolution for a male mouse T helper (TH1) cell #7'}\n",
      "    person : {'ORCID': '0000-0002-9245-2543', 'first_name': 'Yoshito', 'last_name': 'Hirata', 'middle_name': None}\n",
      "No.: 10\n",
      "    affiliation : {'E_mail': 'yoshito@sat.t.u-tokyo.ac.jp', 'URL': None, 'address': '4-6-1 Komaba, Meguro-ku, Tokyo 153-8505, Japan', 'department': 'Institute of Industrial Science', 'laboratory': None, 'organization': 'University of Tokyo', 'person': {'ORCID': '0000-0002-9245-2543', 'first_name': 'Yoshito', 'last_name': 'Hirata', 'middle_name': None}, 'phone': None}\n",
      "    data : {'PMID': '27725694', 'SID': 41, 'basedon': 'Experiment', 'bdmlID': '4e6be0f5-bf77-4dc4-9271-2e6c4c9a11fd', 'citation': None, 'contributors': 'Yoshito Hirata, Arisa Oda, Kunihiro Ohta, Kazuyuki Aihara', 'datatype': 'chromosome structure', 'dblink': None, 'description': 'quantitative information about X chromosome structure from Hi-C data at 250-kb resolution for a male mouse T helper (TH1) cell #8', 'gene': None, 'license': 'CC BY-NC-SA', 'localID': 'FigS2_C8', 'method_summary': 'See details in Hirata et al. (2016) Sci. Rep. 6, 34982.', 'orf': None, 'organism': 'Mus musculus', 'release': '2017-10-03', 'schema_ver': '3.000', 'title': 'BDML file for quantitative information about X chromosome structure from Hi-C data at 250-kb resolution for a male mouse T helper (TH1) cell #8'}\n",
      "    person : {'ORCID': '0000-0002-9245-2543', 'first_name': 'Yoshito', 'last_name': 'Hirata', 'middle_name': None}\n",
      "No.: 11\n",
      "    affiliation : {'E_mail': 'yoshito@sat.t.u-tokyo.ac.jp', 'URL': None, 'address': '4-6-1 Komaba, Meguro-ku, Tokyo 153-8505, Japan', 'department': 'Institute of Industrial Science', 'laboratory': None, 'organization': 'University of Tokyo', 'person': {'ORCID': '0000-0002-9245-2543', 'first_name': 'Yoshito', 'last_name': 'Hirata', 'middle_name': None}, 'phone': None}\n",
      "    data : {'PMID': '27725694', 'SID': 41, 'basedon': 'Experiment', 'bdmlID': '16cd9fbb-c4cd-4bfb-ab2d-5308eff0bff0', 'citation': None, 'contributors': 'Yoshito Hirata, Arisa Oda, Kunihiro Ohta, Kazuyuki Aihara', 'datatype': 'chromosome structure', 'dblink': None, 'description': 'quantitative information about X chromosome structure from Hi-C data at 250-kb resolution for a male mouse T helper (TH1) cell #9', 'gene': None, 'license': 'CC BY-NC-SA', 'localID': 'FigS2_C9', 'method_summary': 'See details in Hirata et al. (2016) Sci. Rep. 6, 34982.', 'orf': None, 'organism': 'Mus musculus', 'release': '2017-10-03', 'schema_ver': '3.000', 'title': 'BDML file for quantitative information about X chromosome structure from Hi-C data at 250-kb resolution for a male mouse T helper (TH1) cell #9'}\n",
      "    person : {'ORCID': '0000-0002-9245-2543', 'first_name': 'Yoshito', 'last_name': 'Hirata', 'middle_name': None}\n",
      "No.: 12\n",
      "    affiliation : {'E_mail': 'yoshito@sat.t.u-tokyo.ac.jp', 'URL': None, 'address': '4-6-1 Komaba, Meguro-ku, Tokyo 153-8505, Japan', 'department': 'Institute of Industrial Science', 'laboratory': None, 'organization': 'University of Tokyo', 'person': {'ORCID': '0000-0002-9245-2543', 'first_name': 'Yoshito', 'last_name': 'Hirata', 'middle_name': None}, 'phone': None}\n",
      "    data : {'PMID': '27725694', 'SID': 41, 'basedon': 'Experiment', 'bdmlID': '52eaaa54-9226-40b4-8a01-bc95a6d16be2', 'citation': None, 'contributors': 'Yoshito Hirata, Arisa Oda, Kunihiro Ohta, Kazuyuki Aihara', 'datatype': 'chromosome structure', 'dblink': None, 'description': 'quantitative information about X chromosome structure from Hi-C data at 250-kb resolution for a male mouse T helper (TH1) cell #1', 'gene': None, 'license': 'CC BY-NC-SA', 'localID': 'Fig4c_C1', 'method_summary': 'See details in Hirata et al. (2016) Sci. Rep. 6, 34982.', 'orf': None, 'organism': 'Mus musculus', 'release': '2017-12-20', 'schema_ver': '3.000', 'title': 'BDML file for quantitative information about X chromosome structure from Hi-C data at 250-kb resolution for a male mouse T helper (TH1) cell #1'}\n",
      "    person : {'ORCID': '0000-0002-9245-2543', 'first_name': 'Yoshito', 'last_name': 'Hirata', 'middle_name': None}\n",
      "No.: 13\n",
      "    affiliation : {'E_mail': 'yoshito@sat.t.u-tokyo.ac.jp', 'URL': None, 'address': '4-6-1 Komaba, Meguro-ku, Tokyo 153-8505, Japan', 'department': 'Institute of Industrial Science', 'laboratory': None, 'organization': 'University of Tokyo', 'person': {'ORCID': '0000-0002-9245-2543', 'first_name': 'Yoshito', 'last_name': 'Hirata', 'middle_name': None}, 'phone': None}\n",
      "    data : {'PMID': '27725694', 'SID': 41, 'basedon': 'Experiment', 'bdmlID': '4ca2e609-2b65-4644-8d63-5f9697d8f5ac', 'citation': None, 'contributors': 'Yoshito Hirata, Arisa Oda, Kunihiro Ohta, Kazuyuki Aihara', 'datatype': 'chromosome structure', 'dblink': None, 'description': 'quantitative information about X chromosome structure from Hi-C data at 250-kb resolution for a male mouse T helper (TH1) cell #2', 'gene': None, 'license': 'CC BY-NC-SA', 'localID': 'Fig4c_C2', 'method_summary': 'See details in Hirata et al. (2016) Sci. Rep. 6, 34982.', 'orf': None, 'organism': 'Mus musculus', 'release': '2017-12-20', 'schema_ver': '3.000', 'title': 'BDML file for quantitative information about X chromosome structure from Hi-C data at 250-kb resolution for a male mouse T helper (TH1) cell #2'}\n",
      "    person : {'ORCID': '0000-0002-9245-2543', 'first_name': 'Yoshito', 'last_name': 'Hirata', 'middle_name': None}\n",
      "No.: 14\n",
      "    affiliation : {'E_mail': 'yoshito@sat.t.u-tokyo.ac.jp', 'URL': None, 'address': '4-6-1 Komaba, Meguro-ku, Tokyo 153-8505, Japan', 'department': 'Institute of Industrial Science', 'laboratory': None, 'organization': 'University of Tokyo', 'person': {'ORCID': '0000-0002-9245-2543', 'first_name': 'Yoshito', 'last_name': 'Hirata', 'middle_name': None}, 'phone': None}\n",
      "    data : {'PMID': '27725694', 'SID': 41, 'basedon': 'Experiment', 'bdmlID': 'd0bd7730-2d40-43fb-af0c-be89e22643e2', 'citation': None, 'contributors': 'Yoshito Hirata, Arisa Oda, Kunihiro Ohta, Kazuyuki Aihara', 'datatype': 'chromosome structure', 'dblink': None, 'description': 'quantitative information about X chromosome structure from Hi-C data at 250-kb resolution for a male mouse T helper (TH1) cell #3', 'gene': None, 'license': 'CC BY-NC-SA', 'localID': 'Fig4c_C3', 'method_summary': 'See details in Hirata et al. (2016) Sci. Rep. 6, 34982.', 'orf': None, 'organism': 'Mus musculus', 'release': '2017-12-20', 'schema_ver': '3.000', 'title': 'BDML file for quantitative information about X chromosome structure from Hi-C data at 250-kb resolution for a male mouse T helper (TH1) cell #3'}\n",
      "    person : {'ORCID': '0000-0002-9245-2543', 'first_name': 'Yoshito', 'last_name': 'Hirata', 'middle_name': None}\n",
      "No.: 15\n",
      "    affiliation : {'E_mail': 'yoshito@sat.t.u-tokyo.ac.jp', 'URL': None, 'address': '4-6-1 Komaba, Meguro-ku, Tokyo 153-8505, Japan', 'department': 'Institute of Industrial Science', 'laboratory': None, 'organization': 'University of Tokyo', 'person': {'ORCID': '0000-0002-9245-2543', 'first_name': 'Yoshito', 'last_name': 'Hirata', 'middle_name': None}, 'phone': None}\n",
      "    data : {'PMID': '27725694', 'SID': 41, 'basedon': 'Experiment', 'bdmlID': 'dfe09a92-9115-4f22-9a30-3d87934d0839', 'citation': None, 'contributors': 'Yoshito Hirata, Arisa Oda, Kunihiro Ohta, Kazuyuki Aihara', 'datatype': 'chromosome structure', 'dblink': None, 'description': 'quantitative information about X chromosome structure from an ensemble (multi-cellular/population) Hi-C data at 250-kb resolution for male mouse T helper (TH1) cells', 'gene': None, 'license': 'CC BY-NC-SA', 'localID': 'Fig4c_E', 'method_summary': 'See details in Hirata et al. (2016) Sci. Rep. 6, 34982.', 'orf': None, 'organism': 'Mus musculus', 'release': '2017-12-20', 'schema_ver': '3.000', 'title': 'BDML file for quantitative information about X chromosome structure from an ensemble (multi-cellular/population) Hi-C data at 250-kb resolution for male mouse T helper (TH1) cells'}\n",
      "    person : {'ORCID': '0000-0002-9245-2543', 'first_name': 'Yoshito', 'last_name': 'Hirata', 'middle_name': None}\n",
      "No.: 16\n",
      "    affiliation : {'E_mail': 'yoshito@sat.t.u-tokyo.ac.jp', 'URL': None, 'address': '4-6-1 Komaba, Meguro-ku, Tokyo 153-8505, Japan', 'department': 'Institute of Industrial Science', 'laboratory': None, 'organization': 'University of Tokyo', 'person': {'ORCID': '0000-0002-9245-2543', 'first_name': 'Yoshito', 'last_name': 'Hirata', 'middle_name': None}, 'phone': None}\n",
      "    data : {'PMID': '27725694', 'SID': 41, 'basedon': 'Experiment', 'bdmlID': 'bbe8ed9c-605f-46e3-bc14-bd4f3093b405', 'citation': None, 'contributors': 'Yoshito Hirata, Arisa Oda, Kunihiro Ohta, Kazuyuki Aihara', 'datatype': 'chromosome structure', 'dblink': None, 'description': 'quantitative information about X chromosome structure from Hi-C data at 250-kb resolution for a male mouse T helper (TH1) cell #10', 'gene': None, 'license': 'CC BY-NC-SA', 'localID': 'FigS2_C10', 'method_summary': 'See details in Hirata et al. (2016) Sci. Rep. 6, 34982.', 'orf': None, 'organism': 'Mus musculus', 'release': '2017-12-20', 'schema_ver': '3.000', 'title': 'BDML file for quantitative information about X chromosome structure from Hi-C data at 250-kb resolution for a male mouse T helper (TH1) cell #10'}\n",
      "    person : {'ORCID': '0000-0002-9245-2543', 'first_name': 'Yoshito', 'last_name': 'Hirata', 'middle_name': None}\n"
     ]
    },
    {
     "name": "stdout",
     "output_type": "stream",
     "text": [
      "No.: 17\n",
      "    affiliation : {'E_mail': 'yoshito@sat.t.u-tokyo.ac.jp', 'URL': None, 'address': '4-6-1 Komaba, Meguro-ku, Tokyo 153-8505, Japan', 'department': 'Institute of Industrial Science', 'laboratory': None, 'organization': 'University of Tokyo', 'person': {'ORCID': '0000-0002-9245-2543', 'first_name': 'Yoshito', 'last_name': 'Hirata', 'middle_name': None}, 'phone': None}\n",
      "    data : {'PMID': '27725694', 'SID': 41, 'basedon': 'Experiment', 'bdmlID': '336cfdbc-18cb-4a24-a9f9-04ab851410ac', 'citation': None, 'contributors': 'Yoshito Hirata, Arisa Oda, Kunihiro Ohta, Kazuyuki Aihara', 'datatype': 'chromosome structure', 'dblink': None, 'description': 'quantitative information about X chromosome structure from Hi-C data at 250-kb resolution for a male mouse T helper (TH1) cell #4', 'gene': None, 'license': 'CC BY-NC-SA', 'localID': 'FigS2_C4', 'method_summary': 'See details in Hirata et al. (2016) Sci. Rep. 6, 34982.', 'orf': None, 'organism': 'Mus musculus', 'release': '2017-12-20', 'schema_ver': '3.000', 'title': 'BDML file for quantitative information about X chromosome structure from Hi-C data at 250-kb resolution for a male mouse T helper (TH1) cell #4'}\n",
      "    person : {'ORCID': '0000-0002-9245-2543', 'first_name': 'Yoshito', 'last_name': 'Hirata', 'middle_name': None}\n",
      "No.: 18\n",
      "    affiliation : {'E_mail': 'yoshito@sat.t.u-tokyo.ac.jp', 'URL': None, 'address': '4-6-1 Komaba, Meguro-ku, Tokyo 153-8505, Japan', 'department': 'Institute of Industrial Science', 'laboratory': None, 'organization': 'University of Tokyo', 'person': {'ORCID': '0000-0002-9245-2543', 'first_name': 'Yoshito', 'last_name': 'Hirata', 'middle_name': None}, 'phone': None}\n",
      "    data : {'PMID': '27725694', 'SID': 41, 'basedon': 'Experiment', 'bdmlID': '1a0b3ab7-fc17-45a4-a1d6-29d4cc03f4d5', 'citation': None, 'contributors': 'Yoshito Hirata, Arisa Oda, Kunihiro Ohta, Kazuyuki Aihara', 'datatype': 'chromosome structure', 'dblink': None, 'description': 'quantitative information about X chromosome structure from Hi-C data at 250-kb resolution for a male mouse T helper (TH1) cell #5', 'gene': None, 'license': 'CC BY-NC-SA', 'localID': 'FigS2_C5', 'method_summary': 'See details in Hirata et al. (2016) Sci. Rep. 6, 34982.', 'orf': None, 'organism': 'Mus musculus', 'release': '2017-12-20', 'schema_ver': '3.000', 'title': 'BDML file for quantitative information about X chromosome structure from Hi-C data at 250-kb resolution for a male mouse T helper (TH1) cell #5'}\n",
      "    person : {'ORCID': '0000-0002-9245-2543', 'first_name': 'Yoshito', 'last_name': 'Hirata', 'middle_name': None}\n",
      "No.: 19\n",
      "    affiliation : {'E_mail': 'yoshito@sat.t.u-tokyo.ac.jp', 'URL': None, 'address': '4-6-1 Komaba, Meguro-ku, Tokyo 153-8505, Japan', 'department': 'Institute of Industrial Science', 'laboratory': None, 'organization': 'University of Tokyo', 'person': {'ORCID': '0000-0002-9245-2543', 'first_name': 'Yoshito', 'last_name': 'Hirata', 'middle_name': None}, 'phone': None}\n",
      "    data : {'PMID': '27725694', 'SID': 41, 'basedon': 'Experiment', 'bdmlID': '54922f56-9ebc-4d36-8514-1daeadc717df', 'citation': None, 'contributors': 'Yoshito Hirata, Arisa Oda, Kunihiro Ohta, Kazuyuki Aihara', 'datatype': 'chromosome structure', 'dblink': None, 'description': 'quantitative information about X chromosome structure from Hi-C data at 250-kb resolution for a male mouse T helper (TH1) cell #6', 'gene': None, 'license': 'CC BY-NC-SA', 'localID': 'FigS2_C6', 'method_summary': 'See details in Hirata et al. (2016) Sci. Rep. 6, 34982.', 'orf': None, 'organism': 'Mus musculus', 'release': '2017-12-20', 'schema_ver': '3.000', 'title': 'BDML file for quantitative information about X chromosome structure from Hi-C data at 250-kb resolution for a male mouse T helper (TH1) cell #6'}\n",
      "    person : {'ORCID': '0000-0002-9245-2543', 'first_name': 'Yoshito', 'last_name': 'Hirata', 'middle_name': None}\n",
      "No.: 20\n",
      "    affiliation : {'E_mail': 'yoshito@sat.t.u-tokyo.ac.jp', 'URL': None, 'address': '4-6-1 Komaba, Meguro-ku, Tokyo 153-8505, Japan', 'department': 'Institute of Industrial Science', 'laboratory': None, 'organization': 'University of Tokyo', 'person': {'ORCID': '0000-0002-9245-2543', 'first_name': 'Yoshito', 'last_name': 'Hirata', 'middle_name': None}, 'phone': None}\n",
      "    data : {'PMID': '27725694', 'SID': 41, 'basedon': 'Experiment', 'bdmlID': '7483c58d-8f00-432e-8679-b54d35fd7228', 'citation': None, 'contributors': 'Yoshito Hirata, Arisa Oda, Kunihiro Ohta, Kazuyuki Aihara', 'datatype': 'chromosome structure', 'dblink': None, 'description': 'quantitative information about X chromosome structure from Hi-C data at 250-kb resolution for a male mouse T helper (TH1) cell #7', 'gene': None, 'license': 'CC BY-NC-SA', 'localID': 'FigS2_C7', 'method_summary': 'See details in Hirata et al. (2016) Sci. Rep. 6, 34982.', 'orf': None, 'organism': 'Mus musculus', 'release': '2017-12-20', 'schema_ver': '3.000', 'title': 'BDML file for quantitative information about X chromosome structure from Hi-C data at 250-kb resolution for a male mouse T helper (TH1) cell #7'}\n",
      "    person : {'ORCID': '0000-0002-9245-2543', 'first_name': 'Yoshito', 'last_name': 'Hirata', 'middle_name': None}\n"
     ]
    }
   ],
   "source": [
    "q=ssbdapi.ssbd()\n",
    "q.set_display('on')\n",
    "resultdata = q.contact(field='affiliation__address', search='tokyo')"
   ]
  },
  {
   "cell_type": "markdown",
   "metadata": {},
   "source": [
    "## Return data is in JSON format"
   ]
  },
  {
   "cell_type": "code",
   "execution_count": 19,
   "metadata": {},
   "outputs": [
    {
     "name": "stdout",
     "output_type": "stream",
     "text": [
      "{'meta': {'limit': 20, 'next': '/SSBD/api/v3/contact/?affiliation__address__icontains=tokyo&limit=20&offset=20&format=json', 'offset': 0, 'previous': None, 'total_count': 222}, 'objects': [{'affiliation': {'E_mail': 'yoshito@sat.t.u-tokyo.ac.jp', 'URL': None, 'address': '4-6-1 Komaba, Meguro-ku, Tokyo 153-8505, Japan', 'department': 'Institute of Industrial Science', 'laboratory': None, 'organization': 'University of Tokyo', 'person': {'ORCID': '0000-0002-9245-2543', 'first_name': 'Yoshito', 'last_name': 'Hirata', 'middle_name': None}, 'phone': None}, 'data': {'PMID': '27725694', 'SID': 41, 'basedon': 'Experiment', 'bdmlID': '1927ea68-0479-4d4a-abfa-76c9dce8f314', 'citation': None, 'contributors': 'Yoshito Hirata, Arisa Oda, Kunihiro Ohta, Kazuyuki Aihara', 'datatype': 'chromosome structure', 'dblink': None, 'description': 'quantitative information about X chromosome structure from Hi-C data at 250-kb resolution for a male mouse T helper (TH1) cell #1', 'gene': None, 'license': 'CC BY-NC-SA', 'localID': 'Fig4c_C1', 'method_summary': 'See details in Hirata et al. (2016) Sci. Rep. 6, 34982.', 'orf': None, 'organism': 'Mus musculus', 'release': '2017-10-03', 'schema_ver': '3.000', 'title': 'BDML file for quantitative information about X chromosome structure from Hi-C data at 250-kb resolution for a male mouse T helper (TH1) cell #1'}, 'person': {'ORCID': '0000-0002-9245-2543', 'first_name': 'Yoshito', 'last_name': 'Hirata', 'middle_name': None}}, {'affiliation': {'E_mail': 'yoshito@sat.t.u-tokyo.ac.jp', 'URL': None, 'address': '4-6-1 Komaba, Meguro-ku, Tokyo 153-8505, Japan', 'department': 'Institute of Industrial Science', 'laboratory': None, 'organization': 'University of Tokyo', 'person': {'ORCID': '0000-0002-9245-2543', 'first_name': 'Yoshito', 'last_name': 'Hirata', 'middle_name': None}, 'phone': None}, 'data': {'PMID': '27725694', 'SID': 41, 'basedon': 'Experiment', 'bdmlID': '5be7d51e-06f3-4148-abea-66c539a382a6', 'citation': None, 'contributors': 'Yoshito Hirata, Arisa Oda, Kunihiro Ohta, Kazuyuki Aihara', 'datatype': 'chromosome structure', 'dblink': None, 'description': 'quantitative information about X chromosome structure from Hi-C data at 250-kb resolution for a male mouse T helper (TH1) cell #2', 'gene': None, 'license': 'CC BY-NC-SA', 'localID': 'Fig4c_C2', 'method_summary': 'See details in Hirata et al. (2016) Sci. Rep. 6, 34982.', 'orf': None, 'organism': 'Mus musculus', 'release': '2017-10-03', 'schema_ver': '3.000', 'title': 'BDML file for quantitative information about X chromosome structure from Hi-C data at 250-kb resolution for a male mouse T helper (TH1) cell #2'}, 'person': {'ORCID': '0000-0002-9245-2543', 'first_name': 'Yoshito', 'last_name': 'Hirata', 'middle_name': None}}, {'affiliation': {'E_mail': 'yoshito@sat.t.u-tokyo.ac.jp', 'URL': None, 'address': '4-6-1 Komaba, Meguro-ku, Tokyo 153-8505, Japan', 'department': 'Institute of Industrial Science', 'laboratory': None, 'organization': 'University of Tokyo', 'person': {'ORCID': '0000-0002-9245-2543', 'first_name': 'Yoshito', 'last_name': 'Hirata', 'middle_name': None}, 'phone': None}, 'data': {'PMID': '27725694', 'SID': 41, 'basedon': 'Experiment', 'bdmlID': '0e2690b6-7912-4de2-b58f-097f76ce5557', 'citation': None, 'contributors': 'Yoshito Hirata, Arisa Oda, Kunihiro Ohta, Kazuyuki Aihara', 'datatype': 'chromosome structure', 'dblink': None, 'description': 'quantitative information about X chromosome structure from Hi-C data at 250-kb resolution for a male mouse T helper (TH1) cell #3', 'gene': None, 'license': 'CC BY-NC-SA', 'localID': 'Fig4c_C3', 'method_summary': 'See details in Hirata et al. (2016) Sci. Rep. 6, 34982.', 'orf': None, 'organism': 'Mus musculus', 'release': '2017-10-03', 'schema_ver': '3.000', 'title': 'BDML file for quantitative information about X chromosome structure from Hi-C data at 250-kb resolution for a male mouse T helper (TH1) cell #3'}, 'person': {'ORCID': '0000-0002-9245-2543', 'first_name': 'Yoshito', 'last_name': 'Hirata', 'middle_name': None}}, {'affiliation': {'E_mail': 'yoshito@sat.t.u-tokyo.ac.jp', 'URL': None, 'address': '4-6-1 Komaba, Meguro-ku, Tokyo 153-8505, Japan', 'department': 'Institute of Industrial Science', 'laboratory': None, 'organization': 'University of Tokyo', 'person': {'ORCID': '0000-0002-9245-2543', 'first_name': 'Yoshito', 'last_name': 'Hirata', 'middle_name': None}, 'phone': None}, 'data': {'PMID': '27725694', 'SID': 41, 'basedon': 'Experiment', 'bdmlID': '331ce5e1-f5f5-486b-8598-7391ffffc9ab', 'citation': None, 'contributors': 'Yoshito Hirata, Arisa Oda, Kunihiro Ohta, Kazuyuki Aihara', 'datatype': 'chromosome structure', 'dblink': None, 'description': 'quantitative information about X chromosome structure from an ensemble (multi-cellular/population) Hi-C data at 250-kb resolution for male mouse T helper (TH1) cells', 'gene': None, 'license': 'CC BY-NC-SA', 'localID': 'Fig4c_E', 'method_summary': 'See details in Hirata et al. (2016) Sci. Rep. 6, 34982.', 'orf': None, 'organism': 'Mus musculus', 'release': '2017-10-03', 'schema_ver': '3.000', 'title': 'BDML file for quantitative information about X chromosome structure from an ensemble (multi-cellular/population) Hi-C data at 250-kb resolution for male mouse T helper (TH1) cells'}, 'person': {'ORCID': '0000-0002-9245-2543', 'first_name': 'Yoshito', 'last_name': 'Hirata', 'middle_name': None}}, {'affiliation': {'E_mail': 'yoshito@sat.t.u-tokyo.ac.jp', 'URL': None, 'address': '4-6-1 Komaba, Meguro-ku, Tokyo 153-8505, Japan', 'department': 'Institute of Industrial Science', 'laboratory': None, 'organization': 'University of Tokyo', 'person': {'ORCID': '0000-0002-9245-2543', 'first_name': 'Yoshito', 'last_name': 'Hirata', 'middle_name': None}, 'phone': None}, 'data': {'PMID': '27725694', 'SID': 41, 'basedon': 'Experiment', 'bdmlID': '7b83d08c-f707-48d1-9b90-959f2cfd4281', 'citation': None, 'contributors': 'Yoshito Hirata, Arisa Oda, Kunihiro Ohta, Kazuyuki Aihara', 'datatype': 'chromosome structure', 'dblink': None, 'description': 'quantitative information about X chromosome structure from Hi-C data at 250-kb resolution for a male mouse T helper (TH1) cell #10', 'gene': None, 'license': 'CC BY-NC-SA', 'localID': 'FigS2_C10', 'method_summary': 'See details in Hirata et al. (2016) Sci. Rep. 6, 34982.', 'orf': None, 'organism': 'Mus musculus', 'release': '2017-10-03', 'schema_ver': '3.000', 'title': 'BDML file for quantitative information about X chromosome structure from Hi-C data at 250-kb resolution for a male mouse T helper (TH1) cell #10'}, 'person': {'ORCID': '0000-0002-9245-2543', 'first_name': 'Yoshito', 'last_name': 'Hirata', 'middle_name': None}}, {'affiliation': {'E_mail': 'yoshito@sat.t.u-tokyo.ac.jp', 'URL': None, 'address': '4-6-1 Komaba, Meguro-ku, Tokyo 153-8505, Japan', 'department': 'Institute of Industrial Science', 'laboratory': None, 'organization': 'University of Tokyo', 'person': {'ORCID': '0000-0002-9245-2543', 'first_name': 'Yoshito', 'last_name': 'Hirata', 'middle_name': None}, 'phone': None}, 'data': {'PMID': '27725694', 'SID': 41, 'basedon': 'Experiment', 'bdmlID': '4fa3240f-7a1f-4de9-ac2b-bc15daedc906', 'citation': None, 'contributors': 'Yoshito Hirata, Arisa Oda, Kunihiro Ohta, Kazuyuki Aihara', 'datatype': 'chromosome structure', 'dblink': None, 'description': 'quantitative information about X chromosome structure from Hi-C data at 250-kb resolution for a male mouse T helper (TH1) cell #4', 'gene': None, 'license': 'CC BY-NC-SA', 'localID': 'FigS2_C4', 'method_summary': 'See details in Hirata et al. (2016) Sci. Rep. 6, 34982.', 'orf': None, 'organism': 'Mus musculus', 'release': '2017-10-03', 'schema_ver': '3.000', 'title': 'BDML file for quantitative information about X chromosome structure from Hi-C data at 250-kb resolution for a male mouse T helper (TH1) cell #4'}, 'person': {'ORCID': '0000-0002-9245-2543', 'first_name': 'Yoshito', 'last_name': 'Hirata', 'middle_name': None}}, {'affiliation': {'E_mail': 'yoshito@sat.t.u-tokyo.ac.jp', 'URL': None, 'address': '4-6-1 Komaba, Meguro-ku, Tokyo 153-8505, Japan', 'department': 'Institute of Industrial Science', 'laboratory': None, 'organization': 'University of Tokyo', 'person': {'ORCID': '0000-0002-9245-2543', 'first_name': 'Yoshito', 'last_name': 'Hirata', 'middle_name': None}, 'phone': None}, 'data': {'PMID': '27725694', 'SID': 41, 'basedon': 'Experiment', 'bdmlID': 'a4a7434b-7e2a-409e-ae75-4a491ee2d6f6', 'citation': None, 'contributors': 'Yoshito Hirata, Arisa Oda, Kunihiro Ohta, Kazuyuki Aihara', 'datatype': 'chromosome structure', 'dblink': None, 'description': 'quantitative information about X chromosome structure from Hi-C data at 250-kb resolution for a male mouse T helper (TH1) cell #5', 'gene': None, 'license': 'CC BY-NC-SA', 'localID': 'FigS2_C5', 'method_summary': 'See details in Hirata et al. (2016) Sci. Rep. 6, 34982.', 'orf': None, 'organism': 'Mus musculus', 'release': '2017-10-03', 'schema_ver': '3.000', 'title': 'BDML file for quantitative information about X chromosome structure from Hi-C data at 250-kb resolution for a male mouse T helper (TH1) cell #5'}, 'person': {'ORCID': '0000-0002-9245-2543', 'first_name': 'Yoshito', 'last_name': 'Hirata', 'middle_name': None}}, {'affiliation': {'E_mail': 'yoshito@sat.t.u-tokyo.ac.jp', 'URL': None, 'address': '4-6-1 Komaba, Meguro-ku, Tokyo 153-8505, Japan', 'department': 'Institute of Industrial Science', 'laboratory': None, 'organization': 'University of Tokyo', 'person': {'ORCID': '0000-0002-9245-2543', 'first_name': 'Yoshito', 'last_name': 'Hirata', 'middle_name': None}, 'phone': None}, 'data': {'PMID': '27725694', 'SID': 41, 'basedon': 'Experiment', 'bdmlID': '897d8212-f51a-410f-83b0-88a4d74efee6', 'citation': None, 'contributors': 'Yoshito Hirata, Arisa Oda, Kunihiro Ohta, Kazuyuki Aihara', 'datatype': 'chromosome structure', 'dblink': None, 'description': 'quantitative information about X chromosome structure from Hi-C data at 250-kb resolution for a male mouse T helper (TH1) cell #6', 'gene': None, 'license': 'CC BY-NC-SA', 'localID': 'FigS2_C6', 'method_summary': 'See details in Hirata et al. (2016) Sci. Rep. 6, 34982.', 'orf': None, 'organism': 'Mus musculus', 'release': '2017-10-03', 'schema_ver': '3.000', 'title': 'BDML file for quantitative information about X chromosome structure from Hi-C data at 250-kb resolution for a male mouse T helper (TH1) cell #6'}, 'person': {'ORCID': '0000-0002-9245-2543', 'first_name': 'Yoshito', 'last_name': 'Hirata', 'middle_name': None}}, {'affiliation': {'E_mail': 'yoshito@sat.t.u-tokyo.ac.jp', 'URL': None, 'address': '4-6-1 Komaba, Meguro-ku, Tokyo 153-8505, Japan', 'department': 'Institute of Industrial Science', 'laboratory': None, 'organization': 'University of Tokyo', 'person': {'ORCID': '0000-0002-9245-2543', 'first_name': 'Yoshito', 'last_name': 'Hirata', 'middle_name': None}, 'phone': None}, 'data': {'PMID': '27725694', 'SID': 41, 'basedon': 'Experiment', 'bdmlID': 'cae4a21c-52ff-4d16-9184-df378e38eb33', 'citation': None, 'contributors': 'Yoshito Hirata, Arisa Oda, Kunihiro Ohta, Kazuyuki Aihara', 'datatype': 'chromosome structure', 'dblink': None, 'description': 'quantitative information about X chromosome structure from Hi-C data at 250-kb resolution for a male mouse T helper (TH1) cell #7', 'gene': None, 'license': 'CC BY-NC-SA', 'localID': 'FigS2_C7', 'method_summary': 'See details in Hirata et al. (2016) Sci. Rep. 6, 34982.', 'orf': None, 'organism': 'Mus musculus', 'release': '2017-10-03', 'schema_ver': '3.000', 'title': 'BDML file for quantitative information about X chromosome structure from Hi-C data at 250-kb resolution for a male mouse T helper (TH1) cell #7'}, 'person': {'ORCID': '0000-0002-9245-2543', 'first_name': 'Yoshito', 'last_name': 'Hirata', 'middle_name': None}}, {'affiliation': {'E_mail': 'yoshito@sat.t.u-tokyo.ac.jp', 'URL': None, 'address': '4-6-1 Komaba, Meguro-ku, Tokyo 153-8505, Japan', 'department': 'Institute of Industrial Science', 'laboratory': None, 'organization': 'University of Tokyo', 'person': {'ORCID': '0000-0002-9245-2543', 'first_name': 'Yoshito', 'last_name': 'Hirata', 'middle_name': None}, 'phone': None}, 'data': {'PMID': '27725694', 'SID': 41, 'basedon': 'Experiment', 'bdmlID': '4e6be0f5-bf77-4dc4-9271-2e6c4c9a11fd', 'citation': None, 'contributors': 'Yoshito Hirata, Arisa Oda, Kunihiro Ohta, Kazuyuki Aihara', 'datatype': 'chromosome structure', 'dblink': None, 'description': 'quantitative information about X chromosome structure from Hi-C data at 250-kb resolution for a male mouse T helper (TH1) cell #8', 'gene': None, 'license': 'CC BY-NC-SA', 'localID': 'FigS2_C8', 'method_summary': 'See details in Hirata et al. (2016) Sci. Rep. 6, 34982.', 'orf': None, 'organism': 'Mus musculus', 'release': '2017-10-03', 'schema_ver': '3.000', 'title': 'BDML file for quantitative information about X chromosome structure from Hi-C data at 250-kb resolution for a male mouse T helper (TH1) cell #8'}, 'person': {'ORCID': '0000-0002-9245-2543', 'first_name': 'Yoshito', 'last_name': 'Hirata', 'middle_name': None}}, {'affiliation': {'E_mail': 'yoshito@sat.t.u-tokyo.ac.jp', 'URL': None, 'address': '4-6-1 Komaba, Meguro-ku, Tokyo 153-8505, Japan', 'department': 'Institute of Industrial Science', 'laboratory': None, 'organization': 'University of Tokyo', 'person': {'ORCID': '0000-0002-9245-2543', 'first_name': 'Yoshito', 'last_name': 'Hirata', 'middle_name': None}, 'phone': None}, 'data': {'PMID': '27725694', 'SID': 41, 'basedon': 'Experiment', 'bdmlID': '16cd9fbb-c4cd-4bfb-ab2d-5308eff0bff0', 'citation': None, 'contributors': 'Yoshito Hirata, Arisa Oda, Kunihiro Ohta, Kazuyuki Aihara', 'datatype': 'chromosome structure', 'dblink': None, 'description': 'quantitative information about X chromosome structure from Hi-C data at 250-kb resolution for a male mouse T helper (TH1) cell #9', 'gene': None, 'license': 'CC BY-NC-SA', 'localID': 'FigS2_C9', 'method_summary': 'See details in Hirata et al. (2016) Sci. Rep. 6, 34982.', 'orf': None, 'organism': 'Mus musculus', 'release': '2017-10-03', 'schema_ver': '3.000', 'title': 'BDML file for quantitative information about X chromosome structure from Hi-C data at 250-kb resolution for a male mouse T helper (TH1) cell #9'}, 'person': {'ORCID': '0000-0002-9245-2543', 'first_name': 'Yoshito', 'last_name': 'Hirata', 'middle_name': None}}, {'affiliation': {'E_mail': 'yoshito@sat.t.u-tokyo.ac.jp', 'URL': None, 'address': '4-6-1 Komaba, Meguro-ku, Tokyo 153-8505, Japan', 'department': 'Institute of Industrial Science', 'laboratory': None, 'organization': 'University of Tokyo', 'person': {'ORCID': '0000-0002-9245-2543', 'first_name': 'Yoshito', 'last_name': 'Hirata', 'middle_name': None}, 'phone': None}, 'data': {'PMID': '27725694', 'SID': 41, 'basedon': 'Experiment', 'bdmlID': '52eaaa54-9226-40b4-8a01-bc95a6d16be2', 'citation': None, 'contributors': 'Yoshito Hirata, Arisa Oda, Kunihiro Ohta, Kazuyuki Aihara', 'datatype': 'chromosome structure', 'dblink': None, 'description': 'quantitative information about X chromosome structure from Hi-C data at 250-kb resolution for a male mouse T helper (TH1) cell #1', 'gene': None, 'license': 'CC BY-NC-SA', 'localID': 'Fig4c_C1', 'method_summary': 'See details in Hirata et al. (2016) Sci. Rep. 6, 34982.', 'orf': None, 'organism': 'Mus musculus', 'release': '2017-12-20', 'schema_ver': '3.000', 'title': 'BDML file for quantitative information about X chromosome structure from Hi-C data at 250-kb resolution for a male mouse T helper (TH1) cell #1'}, 'person': {'ORCID': '0000-0002-9245-2543', 'first_name': 'Yoshito', 'last_name': 'Hirata', 'middle_name': None}}, {'affiliation': {'E_mail': 'yoshito@sat.t.u-tokyo.ac.jp', 'URL': None, 'address': '4-6-1 Komaba, Meguro-ku, Tokyo 153-8505, Japan', 'department': 'Institute of Industrial Science', 'laboratory': None, 'organization': 'University of Tokyo', 'person': {'ORCID': '0000-0002-9245-2543', 'first_name': 'Yoshito', 'last_name': 'Hirata', 'middle_name': None}, 'phone': None}, 'data': {'PMID': '27725694', 'SID': 41, 'basedon': 'Experiment', 'bdmlID': '4ca2e609-2b65-4644-8d63-5f9697d8f5ac', 'citation': None, 'contributors': 'Yoshito Hirata, Arisa Oda, Kunihiro Ohta, Kazuyuki Aihara', 'datatype': 'chromosome structure', 'dblink': None, 'description': 'quantitative information about X chromosome structure from Hi-C data at 250-kb resolution for a male mouse T helper (TH1) cell #2', 'gene': None, 'license': 'CC BY-NC-SA', 'localID': 'Fig4c_C2', 'method_summary': 'See details in Hirata et al. (2016) Sci. Rep. 6, 34982.', 'orf': None, 'organism': 'Mus musculus', 'release': '2017-12-20', 'schema_ver': '3.000', 'title': 'BDML file for quantitative information about X chromosome structure from Hi-C data at 250-kb resolution for a male mouse T helper (TH1) cell #2'}, 'person': {'ORCID': '0000-0002-9245-2543', 'first_name': 'Yoshito', 'last_name': 'Hirata', 'middle_name': None}}, {'affiliation': {'E_mail': 'yoshito@sat.t.u-tokyo.ac.jp', 'URL': None, 'address': '4-6-1 Komaba, Meguro-ku, Tokyo 153-8505, Japan', 'department': 'Institute of Industrial Science', 'laboratory': None, 'organization': 'University of Tokyo', 'person': {'ORCID': '0000-0002-9245-2543', 'first_name': 'Yoshito', 'last_name': 'Hirata', 'middle_name': None}, 'phone': None}, 'data': {'PMID': '27725694', 'SID': 41, 'basedon': 'Experiment', 'bdmlID': 'd0bd7730-2d40-43fb-af0c-be89e22643e2', 'citation': None, 'contributors': 'Yoshito Hirata, Arisa Oda, Kunihiro Ohta, Kazuyuki Aihara', 'datatype': 'chromosome structure', 'dblink': None, 'description': 'quantitative information about X chromosome structure from Hi-C data at 250-kb resolution for a male mouse T helper (TH1) cell #3', 'gene': None, 'license': 'CC BY-NC-SA', 'localID': 'Fig4c_C3', 'method_summary': 'See details in Hirata et al. (2016) Sci. Rep. 6, 34982.', 'orf': None, 'organism': 'Mus musculus', 'release': '2017-12-20', 'schema_ver': '3.000', 'title': 'BDML file for quantitative information about X chromosome structure from Hi-C data at 250-kb resolution for a male mouse T helper (TH1) cell #3'}, 'person': {'ORCID': '0000-0002-9245-2543', 'first_name': 'Yoshito', 'last_name': 'Hirata', 'middle_name': None}}, {'affiliation': {'E_mail': 'yoshito@sat.t.u-tokyo.ac.jp', 'URL': None, 'address': '4-6-1 Komaba, Meguro-ku, Tokyo 153-8505, Japan', 'department': 'Institute of Industrial Science', 'laboratory': None, 'organization': 'University of Tokyo', 'person': {'ORCID': '0000-0002-9245-2543', 'first_name': 'Yoshito', 'last_name': 'Hirata', 'middle_name': None}, 'phone': None}, 'data': {'PMID': '27725694', 'SID': 41, 'basedon': 'Experiment', 'bdmlID': 'dfe09a92-9115-4f22-9a30-3d87934d0839', 'citation': None, 'contributors': 'Yoshito Hirata, Arisa Oda, Kunihiro Ohta, Kazuyuki Aihara', 'datatype': 'chromosome structure', 'dblink': None, 'description': 'quantitative information about X chromosome structure from an ensemble (multi-cellular/population) Hi-C data at 250-kb resolution for male mouse T helper (TH1) cells', 'gene': None, 'license': 'CC BY-NC-SA', 'localID': 'Fig4c_E', 'method_summary': 'See details in Hirata et al. (2016) Sci. Rep. 6, 34982.', 'orf': None, 'organism': 'Mus musculus', 'release': '2017-12-20', 'schema_ver': '3.000', 'title': 'BDML file for quantitative information about X chromosome structure from an ensemble (multi-cellular/population) Hi-C data at 250-kb resolution for male mouse T helper (TH1) cells'}, 'person': {'ORCID': '0000-0002-9245-2543', 'first_name': 'Yoshito', 'last_name': 'Hirata', 'middle_name': None}}, {'affiliation': {'E_mail': 'yoshito@sat.t.u-tokyo.ac.jp', 'URL': None, 'address': '4-6-1 Komaba, Meguro-ku, Tokyo 153-8505, Japan', 'department': 'Institute of Industrial Science', 'laboratory': None, 'organization': 'University of Tokyo', 'person': {'ORCID': '0000-0002-9245-2543', 'first_name': 'Yoshito', 'last_name': 'Hirata', 'middle_name': None}, 'phone': None}, 'data': {'PMID': '27725694', 'SID': 41, 'basedon': 'Experiment', 'bdmlID': 'bbe8ed9c-605f-46e3-bc14-bd4f3093b405', 'citation': None, 'contributors': 'Yoshito Hirata, Arisa Oda, Kunihiro Ohta, Kazuyuki Aihara', 'datatype': 'chromosome structure', 'dblink': None, 'description': 'quantitative information about X chromosome structure from Hi-C data at 250-kb resolution for a male mouse T helper (TH1) cell #10', 'gene': None, 'license': 'CC BY-NC-SA', 'localID': 'FigS2_C10', 'method_summary': 'See details in Hirata et al. (2016) Sci. Rep. 6, 34982.', 'orf': None, 'organism': 'Mus musculus', 'release': '2017-12-20', 'schema_ver': '3.000', 'title': 'BDML file for quantitative information about X chromosome structure from Hi-C data at 250-kb resolution for a male mouse T helper (TH1) cell #10'}, 'person': {'ORCID': '0000-0002-9245-2543', 'first_name': 'Yoshito', 'last_name': 'Hirata', 'middle_name': None}}, {'affiliation': {'E_mail': 'yoshito@sat.t.u-tokyo.ac.jp', 'URL': None, 'address': '4-6-1 Komaba, Meguro-ku, Tokyo 153-8505, Japan', 'department': 'Institute of Industrial Science', 'laboratory': None, 'organization': 'University of Tokyo', 'person': {'ORCID': '0000-0002-9245-2543', 'first_name': 'Yoshito', 'last_name': 'Hirata', 'middle_name': None}, 'phone': None}, 'data': {'PMID': '27725694', 'SID': 41, 'basedon': 'Experiment', 'bdmlID': '336cfdbc-18cb-4a24-a9f9-04ab851410ac', 'citation': None, 'contributors': 'Yoshito Hirata, Arisa Oda, Kunihiro Ohta, Kazuyuki Aihara', 'datatype': 'chromosome structure', 'dblink': None, 'description': 'quantitative information about X chromosome structure from Hi-C data at 250-kb resolution for a male mouse T helper (TH1) cell #4', 'gene': None, 'license': 'CC BY-NC-SA', 'localID': 'FigS2_C4', 'method_summary': 'See details in Hirata et al. (2016) Sci. Rep. 6, 34982.', 'orf': None, 'organism': 'Mus musculus', 'release': '2017-12-20', 'schema_ver': '3.000', 'title': 'BDML file for quantitative information about X chromosome structure from Hi-C data at 250-kb resolution for a male mouse T helper (TH1) cell #4'}, 'person': {'ORCID': '0000-0002-9245-2543', 'first_name': 'Yoshito', 'last_name': 'Hirata', 'middle_name': None}}, {'affiliation': {'E_mail': 'yoshito@sat.t.u-tokyo.ac.jp', 'URL': None, 'address': '4-6-1 Komaba, Meguro-ku, Tokyo 153-8505, Japan', 'department': 'Institute of Industrial Science', 'laboratory': None, 'organization': 'University of Tokyo', 'person': {'ORCID': '0000-0002-9245-2543', 'first_name': 'Yoshito', 'last_name': 'Hirata', 'middle_name': None}, 'phone': None}, 'data': {'PMID': '27725694', 'SID': 41, 'basedon': 'Experiment', 'bdmlID': '1a0b3ab7-fc17-45a4-a1d6-29d4cc03f4d5', 'citation': None, 'contributors': 'Yoshito Hirata, Arisa Oda, Kunihiro Ohta, Kazuyuki Aihara', 'datatype': 'chromosome structure', 'dblink': None, 'description': 'quantitative information about X chromosome structure from Hi-C data at 250-kb resolution for a male mouse T helper (TH1) cell #5', 'gene': None, 'license': 'CC BY-NC-SA', 'localID': 'FigS2_C5', 'method_summary': 'See details in Hirata et al. (2016) Sci. Rep. 6, 34982.', 'orf': None, 'organism': 'Mus musculus', 'release': '2017-12-20', 'schema_ver': '3.000', 'title': 'BDML file for quantitative information about X chromosome structure from Hi-C data at 250-kb resolution for a male mouse T helper (TH1) cell #5'}, 'person': {'ORCID': '0000-0002-9245-2543', 'first_name': 'Yoshito', 'last_name': 'Hirata', 'middle_name': None}}, {'affiliation': {'E_mail': 'yoshito@sat.t.u-tokyo.ac.jp', 'URL': None, 'address': '4-6-1 Komaba, Meguro-ku, Tokyo 153-8505, Japan', 'department': 'Institute of Industrial Science', 'laboratory': None, 'organization': 'University of Tokyo', 'person': {'ORCID': '0000-0002-9245-2543', 'first_name': 'Yoshito', 'last_name': 'Hirata', 'middle_name': None}, 'phone': None}, 'data': {'PMID': '27725694', 'SID': 41, 'basedon': 'Experiment', 'bdmlID': '54922f56-9ebc-4d36-8514-1daeadc717df', 'citation': None, 'contributors': 'Yoshito Hirata, Arisa Oda, Kunihiro Ohta, Kazuyuki Aihara', 'datatype': 'chromosome structure', 'dblink': None, 'description': 'quantitative information about X chromosome structure from Hi-C data at 250-kb resolution for a male mouse T helper (TH1) cell #6', 'gene': None, 'license': 'CC BY-NC-SA', 'localID': 'FigS2_C6', 'method_summary': 'See details in Hirata et al. (2016) Sci. Rep. 6, 34982.', 'orf': None, 'organism': 'Mus musculus', 'release': '2017-12-20', 'schema_ver': '3.000', 'title': 'BDML file for quantitative information about X chromosome structure from Hi-C data at 250-kb resolution for a male mouse T helper (TH1) cell #6'}, 'person': {'ORCID': '0000-0002-9245-2543', 'first_name': 'Yoshito', 'last_name': 'Hirata', 'middle_name': None}}, {'affiliation': {'E_mail': 'yoshito@sat.t.u-tokyo.ac.jp', 'URL': None, 'address': '4-6-1 Komaba, Meguro-ku, Tokyo 153-8505, Japan', 'department': 'Institute of Industrial Science', 'laboratory': None, 'organization': 'University of Tokyo', 'person': {'ORCID': '0000-0002-9245-2543', 'first_name': 'Yoshito', 'last_name': 'Hirata', 'middle_name': None}, 'phone': None}, 'data': {'PMID': '27725694', 'SID': 41, 'basedon': 'Experiment', 'bdmlID': '7483c58d-8f00-432e-8679-b54d35fd7228', 'citation': None, 'contributors': 'Yoshito Hirata, Arisa Oda, Kunihiro Ohta, Kazuyuki Aihara', 'datatype': 'chromosome structure', 'dblink': None, 'description': 'quantitative information about X chromosome structure from Hi-C data at 250-kb resolution for a male mouse T helper (TH1) cell #7', 'gene': None, 'license': 'CC BY-NC-SA', 'localID': 'FigS2_C7', 'method_summary': 'See details in Hirata et al. (2016) Sci. Rep. 6, 34982.', 'orf': None, 'organism': 'Mus musculus', 'release': '2017-12-20', 'schema_ver': '3.000', 'title': 'BDML file for quantitative information about X chromosome structure from Hi-C data at 250-kb resolution for a male mouse T helper (TH1) cell #7'}, 'person': {'ORCID': '0000-0002-9245-2543', 'first_name': 'Yoshito', 'last_name': 'Hirata', 'middle_name': None}}]}\n"
     ]
    }
   ],
   "source": [
    "print(resultdata)"
   ]
  },
  {
   "cell_type": "markdown",
   "metadata": {},
   "source": [
    "## Retrieve function to get all the coordinates at a specific time point"
   ]
  },
  {
   "cell_type": "code",
   "execution_count": 20,
   "metadata": {},
   "outputs": [],
   "source": [
    "# Written as a recursive function. It may run out of stack space if not use carefully\n",
    "\n",
    "def retrieve_coord_tp(bdmlID, timept, offset=0, limit=20, display='on'):\n",
    "    #limit = 20 # default limit is set at 100\n",
    "    print(\"offset:\", offset)\n",
    "    print(\"limit:\", limit)\n",
    "    q=ssbdapi.ssbd()\n",
    "    q.set_display(display)\n",
    "    q.search_cond=\"=\"\n",
    "    q.offset=offset\n",
    "    tmp_result = q.bd5coords(bdmlID, timept, offset, limit)\n",
    "    total = int(tmp_result['meta']['total_count'])\n",
    "    limit = int(tmp_result['meta']['limit'])\n",
    "    #print \"total=\", total\n",
    "    result = []\n",
    "    result.extend(tmp_result['objects'])\n",
    "#    if int(total) < limit:\n",
    "    if tmp_result['meta']['next'] != None:\n",
    "        nextoffset = offset + limit\n",
    "        print(\"nextoffset:\", nextoffset)\n",
    "        tmp1_result=retrieve_coord_tp(bdmlID, timept, nextoffset, limit)\n",
    "        result.extend(tmp1_result)\n",
    "        total=total-limit\n",
    "    return(result)"
   ]
  },
  {
   "cell_type": "markdown",
   "metadata": {},
   "source": [
    "### Getting time points one at a time"
   ]
  },
  {
   "cell_type": "code",
   "execution_count": 21,
   "metadata": {},
   "outputs": [
    {
     "name": "stderr",
     "output_type": "stream",
     "text": [
      "(MainThread) Starting new HTTP connection (1): ssbd1.qbic.riken.jp\n"
     ]
    },
    {
     "name": "stdout",
     "output_type": "stream",
     "text": [
      "offset: 0\n",
      "limit: 1\n"
     ]
    },
    {
     "name": "stderr",
     "output_type": "stream",
     "text": [
      "(MainThread) http://ssbd1.qbic.riken.jp:80 \"GET /SSBD/api/v3/bd5coords/?format=json;bdmlID=800faa21-c28c-4b72-bd12-d41f2eed02e8;ts=1;offset=0;limit=1 HTTP/1.1\" 200 None\n",
      "(MainThread) Starting new HTTP connection (1): ssbd1.qbic.riken.jp\n"
     ]
    },
    {
     "name": "stdout",
     "output_type": "stream",
     "text": [
      "nextoffset: 1\n",
      "offset: 1\n",
      "limit: 1\n",
      "display=True\n",
      "display= True\n",
      "parameter= http://ssbd1.qbic.riken.jp/SSBD/api/v3/bd5coords/?format=json;bdmlID=800faa21-c28c-4b72-bd12-d41f2eed02e8;ts=1;offset=1;limit=1\n"
     ]
    },
    {
     "name": "stderr",
     "output_type": "stream",
     "text": [
      "(MainThread) http://ssbd1.qbic.riken.jp:80 \"GET /SSBD/api/v3/bd5coords/?format=json;bdmlID=800faa21-c28c-4b72-bd12-d41f2eed02e8;ts=1;offset=1;limit=1 HTTP/1.1\" 200 None\n",
      "(MainThread) Starting new HTTP connection (1): ssbd1.qbic.riken.jp\n"
     ]
    },
    {
     "name": "stdout",
     "output_type": "stream",
     "text": [
      "meta= {'limit': 1, 'next': '/SSBD/api/v3/bd5coords/?bdmlID=800faa21-c28c-4b72-bd12-d41f2eed02e8&format=json&limit=1&ts=1&offset=2', 'offset': 1, 'previous': '/SSBD/api/v3/bd5coords/?bdmlID=800faa21-c28c-4b72-bd12-d41f2eed02e8&format=json&limit=1&ts=1&offset=0', 'total_count': 5}\n",
      "found= 5\n",
      "limit= 1\n",
      "No.: 1\n",
      "    entity : sphere\n",
      "    id : 002002\n",
      "    label : ABp\n",
      "    radius : 4.095\n",
      "    sid : None\n",
      "    t : 2\n",
      "    x : 395\n",
      "    y : 163\n",
      "    z : 16.1\n",
      "nextoffset: 2\n",
      "offset: 2\n",
      "limit: 1\n",
      "display=True\n",
      "display= True\n",
      "parameter= http://ssbd1.qbic.riken.jp/SSBD/api/v3/bd5coords/?format=json;bdmlID=800faa21-c28c-4b72-bd12-d41f2eed02e8;ts=1;offset=2;limit=1\n"
     ]
    },
    {
     "name": "stderr",
     "output_type": "stream",
     "text": [
      "(MainThread) http://ssbd1.qbic.riken.jp:80 \"GET /SSBD/api/v3/bd5coords/?format=json;bdmlID=800faa21-c28c-4b72-bd12-d41f2eed02e8;ts=1;offset=2;limit=1 HTTP/1.1\" 200 None\n",
      "(MainThread) Starting new HTTP connection (1): ssbd1.qbic.riken.jp\n"
     ]
    },
    {
     "name": "stdout",
     "output_type": "stream",
     "text": [
      "meta= {'limit': 1, 'next': '/SSBD/api/v3/bd5coords/?bdmlID=800faa21-c28c-4b72-bd12-d41f2eed02e8&format=json&limit=1&ts=1&offset=3', 'offset': 2, 'previous': '/SSBD/api/v3/bd5coords/?bdmlID=800faa21-c28c-4b72-bd12-d41f2eed02e8&format=json&limit=1&ts=1&offset=1', 'total_count': 5}\n",
      "found= 5\n",
      "limit= 1\n",
      "No.: 1\n",
      "    entity : sphere\n",
      "    id : 002003\n",
      "    label : ABa\n",
      "    radius : 4.095\n",
      "    sid : None\n",
      "    t : 2\n",
      "    x : 190\n",
      "    y : 226\n",
      "    z : 17\n",
      "nextoffset: 3\n",
      "offset: 3\n",
      "limit: 1\n",
      "display=True\n",
      "display= True\n",
      "parameter= http://ssbd1.qbic.riken.jp/SSBD/api/v3/bd5coords/?format=json;bdmlID=800faa21-c28c-4b72-bd12-d41f2eed02e8;ts=1;offset=3;limit=1\n"
     ]
    },
    {
     "name": "stderr",
     "output_type": "stream",
     "text": [
      "(MainThread) http://ssbd1.qbic.riken.jp:80 \"GET /SSBD/api/v3/bd5coords/?format=json;bdmlID=800faa21-c28c-4b72-bd12-d41f2eed02e8;ts=1;offset=3;limit=1 HTTP/1.1\" 200 None\n",
      "(MainThread) Starting new HTTP connection (1): ssbd1.qbic.riken.jp\n"
     ]
    },
    {
     "name": "stdout",
     "output_type": "stream",
     "text": [
      "meta= {'limit': 1, 'next': '/SSBD/api/v3/bd5coords/?bdmlID=800faa21-c28c-4b72-bd12-d41f2eed02e8&format=json&limit=1&ts=1&offset=4', 'offset': 3, 'previous': '/SSBD/api/v3/bd5coords/?bdmlID=800faa21-c28c-4b72-bd12-d41f2eed02e8&format=json&limit=1&ts=1&offset=2', 'total_count': 5}\n",
      "found= 5\n",
      "limit= 1\n",
      "No.: 1\n",
      "    entity : sphere\n",
      "    id : 002004\n",
      "    label : EMS\n",
      "    radius : 3.735\n",
      "    sid : None\n",
      "    t : 2\n",
      "    x : 365\n",
      "    y : 385\n",
      "    z : 17.1\n",
      "nextoffset: 4\n",
      "offset: 4\n",
      "limit: 1\n",
      "display=True\n",
      "display= True\n",
      "parameter= http://ssbd1.qbic.riken.jp/SSBD/api/v3/bd5coords/?format=json;bdmlID=800faa21-c28c-4b72-bd12-d41f2eed02e8;ts=1;offset=4;limit=1\n"
     ]
    },
    {
     "name": "stderr",
     "output_type": "stream",
     "text": [
      "(MainThread) http://ssbd1.qbic.riken.jp:80 \"GET /SSBD/api/v3/bd5coords/?format=json;bdmlID=800faa21-c28c-4b72-bd12-d41f2eed02e8;ts=1;offset=4;limit=1 HTTP/1.1\" 200 None\n"
     ]
    },
    {
     "name": "stdout",
     "output_type": "stream",
     "text": [
      "meta= {'limit': 1, 'next': None, 'offset': 4, 'previous': '/SSBD/api/v3/bd5coords/?bdmlID=800faa21-c28c-4b72-bd12-d41f2eed02e8&format=json&limit=1&ts=1&offset=3', 'total_count': 5}\n",
      "found= 5\n",
      "limit= 1\n",
      "No.: 1\n",
      "    entity : sphere\n",
      "    id : 002005\n",
      "    label : P2\n",
      "    radius : 3.735\n",
      "    sid : None\n",
      "    t : 2\n",
      "    x : 556\n",
      "    y : 254\n",
      "    z : 18.1\n"
     ]
    },
    {
     "data": {
      "text/plain": [
       "[{'entity': 'sphere',\n",
       "  'id': '002001',\n",
       "  'label': 'polar1',\n",
       "  'radius': '1.665',\n",
       "  'sid': None,\n",
       "  't': '2',\n",
       "  'x': '163',\n",
       "  'y': '343',\n",
       "  'z': '6.1'},\n",
       " {'entity': 'sphere',\n",
       "  'id': '002002',\n",
       "  'label': 'ABp',\n",
       "  'radius': '4.095',\n",
       "  'sid': None,\n",
       "  't': '2',\n",
       "  'x': '395',\n",
       "  'y': '163',\n",
       "  'z': '16.1'},\n",
       " {'entity': 'sphere',\n",
       "  'id': '002003',\n",
       "  'label': 'ABa',\n",
       "  'radius': '4.095',\n",
       "  'sid': None,\n",
       "  't': '2',\n",
       "  'x': '190',\n",
       "  'y': '226',\n",
       "  'z': '17'},\n",
       " {'entity': 'sphere',\n",
       "  'id': '002004',\n",
       "  'label': 'EMS',\n",
       "  'radius': '3.735',\n",
       "  'sid': None,\n",
       "  't': '2',\n",
       "  'x': '365',\n",
       "  'y': '385',\n",
       "  'z': '17.1'},\n",
       " {'entity': 'sphere',\n",
       "  'id': '002005',\n",
       "  'label': 'P2',\n",
       "  'radius': '3.735',\n",
       "  'sid': None,\n",
       "  't': '2',\n",
       "  'x': '556',\n",
       "  'y': '254',\n",
       "  'z': '18.1'}]"
      ]
     },
     "execution_count": 21,
     "metadata": {},
     "output_type": "execute_result"
    }
   ],
   "source": [
    "tp = 1\n",
    "resultdata = retrieve_coord_tp('800faa21-c28c-4b72-bd12-d41f2eed02e8', tp, offset=0, limit=1, display='off')\n",
    "len(resultdata)\n",
    "resultdata\n"
   ]
  },
  {
   "cell_type": "code",
   "execution_count": 22,
   "metadata": {},
   "outputs": [
    {
     "data": {
      "text/plain": [
       "5"
      ]
     },
     "execution_count": 22,
     "metadata": {},
     "output_type": "execute_result"
    }
   ],
   "source": [
    "len(resultdata)"
   ]
  },
  {
   "cell_type": "markdown",
   "metadata": {},
   "source": [
    "## Call retrieve coordinates function to get the coordinates of BDMLID is  '800faa21-c28c-4b72-bd12-d41f2eed02e8' at time point 15"
   ]
  },
  {
   "cell_type": "code",
   "execution_count": 23,
   "metadata": {},
   "outputs": [
    {
     "name": "stderr",
     "output_type": "stream",
     "text": [
      "(MainThread) Starting new HTTP connection (1): ssbd1.qbic.riken.jp\n"
     ]
    },
    {
     "name": "stdout",
     "output_type": "stream",
     "text": [
      "offset: 0\n",
      "limit: 100\n",
      "display=True\n",
      "display= True\n",
      "parameter= http://ssbd1.qbic.riken.jp/SSBD/api/v3/bd5coords/?format=json;bdmlID=800faa21-c28c-4b72-bd12-d41f2eed02e8;ts=15;offset=0;limit=100\n"
     ]
    },
    {
     "name": "stderr",
     "output_type": "stream",
     "text": [
      "(MainThread) http://ssbd1.qbic.riken.jp:80 \"GET /SSBD/api/v3/bd5coords/?format=json;bdmlID=800faa21-c28c-4b72-bd12-d41f2eed02e8;ts=15;offset=0;limit=100 HTTP/1.1\" 200 None\n"
     ]
    },
    {
     "name": "stdout",
     "output_type": "stream",
     "text": [
      "meta= {'limit': 100, 'next': None, 'offset': 0, 'previous': None, 'total_count': 9}\n",
      "found= 9\n",
      "limit= 100\n",
      "No.: 1\n",
      "    entity : sphere\n",
      "    id : 016001\n",
      "    label : polar1\n",
      "    radius : 1.665\n",
      "    sid : None\n",
      "    t : 16\n",
      "    x : 161\n",
      "    y : 341\n",
      "    z : 6.1\n",
      "No.: 2\n",
      "    entity : sphere\n",
      "    id : 016002\n",
      "    label : C\n",
      "    radius : 3.195\n",
      "    sid : None\n",
      "    t : 16\n",
      "    x : 508\n",
      "    y : 249\n",
      "    z : 11.1\n",
      "No.: 3\n",
      "    entity : sphere\n",
      "    id : 016003\n",
      "    label : ABpl\n",
      "    radius : 3.555\n",
      "    sid : None\n",
      "    t : 16\n",
      "    x : 353\n",
      "    y : 358\n",
      "    z : 11.5\n",
      "No.: 4\n",
      "    entity : sphere\n",
      "    id : 016004\n",
      "    label : ABar\n",
      "    radius : 3.555\n",
      "    sid : None\n",
      "    t : 16\n",
      "    x : 272\n",
      "    y : 139\n",
      "    z : 13.7\n",
      "No.: 5\n",
      "    entity : sphere\n",
      "    id : 016005\n",
      "    label : ABal\n",
      "    radius : 3.375\n",
      "    sid : None\n",
      "    t : 16\n",
      "    x : 158\n",
      "    y : 306\n",
      "    z : 16.5\n",
      "No.: 6\n",
      "    entity : sphere\n",
      "    id : 016006\n",
      "    label : E\n",
      "    radius : 3.375\n",
      "    sid : None\n",
      "    t : 16\n",
      "    x : 481\n",
      "    y : 353\n",
      "    z : 20.3\n",
      "No.: 7\n",
      "    entity : sphere\n",
      "    id : 016007\n",
      "    label : P3\n",
      "    radius : 3.105\n",
      "    sid : None\n",
      "    t : 16\n",
      "    x : 577\n",
      "    y : 316\n",
      "    z : 21.2\n",
      "No.: 8\n",
      "    entity : sphere\n",
      "    id : 016008\n",
      "    label : ABpr\n",
      "    radius : 3.555\n",
      "    sid : None\n",
      "    t : 16\n",
      "    x : 459\n",
      "    y : 154\n",
      "    z : 23.4\n",
      "No.: 9\n",
      "    entity : sphere\n",
      "    id : 016009\n",
      "    label : MS\n",
      "    radius : 3.375\n",
      "    sid : None\n",
      "    t : 16\n",
      "    x : 311\n",
      "    y : 298\n",
      "    z : 23.2\n"
     ]
    }
   ],
   "source": [
    "resultdata=retrieve_coord_tp('800faa21-c28c-4b72-bd12-d41f2eed02e8', 15, 0, 100)"
   ]
  },
  {
   "cell_type": "markdown",
   "metadata": {},
   "source": [
    "## Using the ssbdapi function 'bd5scaleunit' and search for bdmlID using field 'bdmlID' "
   ]
  },
  {
   "cell_type": "code",
   "execution_count": 24,
   "metadata": {},
   "outputs": [
    {
     "name": "stderr",
     "output_type": "stream",
     "text": [
      "(MainThread) Starting new HTTP connection (1): ssbd1.qbic.riken.jp\n"
     ]
    },
    {
     "name": "stdout",
     "output_type": "stream",
     "text": [
      "display= True\n",
      "parameter= http://ssbd1.qbic.riken.jp/SSBD/api/v3/bd5scaleunit/?format=json;bdmlID=800faa21-c28c-4b72-bd12-d41f2eed02e8;\n"
     ]
    },
    {
     "name": "stderr",
     "output_type": "stream",
     "text": [
      "(MainThread) http://ssbd1.qbic.riken.jp:80 \"GET /SSBD/api/v3/bd5scaleunit/?format=json;bdmlID=800faa21-c28c-4b72-bd12-d41f2eed02e8; HTTP/1.1\" 200 None\n"
     ]
    },
    {
     "name": "stdout",
     "output_type": "stream",
     "text": [
      "meta= {'limit': 20, 'next': None, 'offset': 0, 'previous': None, 'total_count': 1}\n",
      "found= 1\n",
      "limit= 20\n",
      "No.: 1\n",
      "    dimension : 3D+T\n",
      "    sUnit : micrometer\n",
      "    tScale : 1\n",
      "    tUnit : minute\n",
      "    xScale : 0.09\n",
      "    yScale : 0.09\n",
      "    zScale : 1\n"
     ]
    },
    {
     "data": {
      "text/plain": [
       "{'meta': {'limit': 20,\n",
       "  'next': None,\n",
       "  'offset': 0,\n",
       "  'previous': None,\n",
       "  'total_count': 1},\n",
       " 'objects': [{'dimension': '3D+T',\n",
       "   'sUnit': 'micrometer',\n",
       "   'tScale': '1',\n",
       "   'tUnit': 'minute',\n",
       "   'xScale': '0.09',\n",
       "   'yScale': '0.09',\n",
       "   'zScale': '1'}]}"
      ]
     },
     "execution_count": 24,
     "metadata": {},
     "output_type": "execute_result"
    }
   ],
   "source": [
    "q.search_cond=\"=\"\n",
    "s=q.bd5scaleunit(field='bdmlID', search='800faa21-c28c-4b72-bd12-d41f2eed02e8') \n",
    "s"
   ]
  },
  {
   "cell_type": "markdown",
   "metadata": {},
   "source": [
    "## Setup a canvas to display 3D graphics"
   ]
  },
  {
   "cell_type": "code",
   "execution_count": 25,
   "metadata": {},
   "outputs": [
    {
     "data": {
      "text/html": [
       "<div id=\"scene0\"><div id=\"glowscript\" class=\"glowscript\"></div></div>"
      ],
      "text/plain": [
       "<IPython.core.display.HTML object>"
      ]
     },
     "metadata": {},
     "output_type": "display_data"
    },
    {
     "data": {
      "application/javascript": [
       "window.__context = { glowscript_container: $(\"#glowscript\").removeAttr(\"id\")}"
      ],
      "text/plain": [
       "<IPython.core.display.Javascript object>"
      ]
     },
     "metadata": {},
     "output_type": "display_data"
    }
   ],
   "source": [
    "canvas(title=\"Displaying 3D graphics\", background=(0.8,0.8,0.8) )\n",
    "c = color.red\n",
    "r = 0.1\n",
    "x = 0\n",
    "y = 0\n",
    "Z = 0"
   ]
  },
  {
   "cell_type": "markdown",
   "metadata": {},
   "source": [
    "## Visualization - displaying the coordinates as sphere in 3D"
   ]
  },
  {
   "cell_type": "code",
   "execution_count": 26,
   "metadata": {},
   "outputs": [],
   "source": [
    "for j in s['objects']:\n",
    "    xscale = float(j['xScale'])\n",
    "    yscale = float(j['yScale'])\n",
    "    zscale = float(j['zScale'])\n",
    "    tscale = float(j['tScale'])\n",
    "    tunit = j['tUnit']"
   ]
  },
  {
   "cell_type": "code",
   "execution_count": 27,
   "metadata": {},
   "outputs": [
    {
     "data": {
      "text/plain": [
       "[{'dimension': '3D+T',\n",
       "  'sUnit': 'micrometer',\n",
       "  'tScale': '1',\n",
       "  'tUnit': 'minute',\n",
       "  'xScale': '0.09',\n",
       "  'yScale': '0.09',\n",
       "  'zScale': '1'}]"
      ]
     },
     "execution_count": 27,
     "metadata": {},
     "output_type": "execute_result"
    }
   ],
   "source": [
    "s['objects']"
   ]
  },
  {
   "cell_type": "code",
   "execution_count": 28,
   "metadata": {},
   "outputs": [
    {
     "name": "stdout",
     "output_type": "stream",
     "text": [
      "is[x]= 14.49  is[y]= 30.689999999999998 is[z]= 6.1 i[t]= 16 i[radius]= 1.665\n",
      "is[x]= 45.72  is[y]= 22.41 is[z]= 11.1 i[t]= 16 i[radius]= 3.195\n",
      "is[x]= 31.77  is[y]= 32.22 is[z]= 11.5 i[t]= 16 i[radius]= 3.555\n",
      "is[x]= 24.48  is[y]= 12.51 is[z]= 13.7 i[t]= 16 i[radius]= 3.555\n",
      "is[x]= 14.219999999999999  is[y]= 27.54 is[z]= 16.5 i[t]= 16 i[radius]= 3.375\n",
      "is[x]= 43.29  is[y]= 31.77 is[z]= 20.3 i[t]= 16 i[radius]= 3.375\n",
      "is[x]= 51.93  is[y]= 28.439999999999998 is[z]= 21.2 i[t]= 16 i[radius]= 3.105\n",
      "is[x]= 41.309999999999995  is[y]= 13.86 is[z]= 23.4 i[t]= 16 i[radius]= 3.555\n",
      "is[x]= 27.99  is[y]= 26.82 is[z]= 23.2 i[t]= 16 i[radius]= 3.375\n"
     ]
    }
   ],
   "source": [
    "for i in resultdata:\n",
    "        print(\"is[x]=\", float(i['x'])*xscale,\" is[y]=\", float(i['y'])*yscale, \"is[z]=\", float(i['z'])*zscale, \"i[t]=\", i['t'], \"i[radius]=\", float(i['radius']))\n",
    "        nucleus = sphere()\n",
    "        nucleus.pos = vector(float(i['x'])*xscale, float(i['y'])*yscale, float(i['z'])*zscale)\n",
    "        nucleus.size = float(i['radius'])*vector(1,1,1)\n",
    "#        nucleus.size = count*2*vector(1,1,1)\n",
    "        nucleus.color = c"
   ]
  },
  {
   "cell_type": "markdown",
   "metadata": {},
   "source": [
    "## Analysis - plotting the proliferation curve\n",
    "\n",
    "It tries to get a data point from each time point and use the total_count to retrieve the number of nucleus in each time point. It then saves the number of nucleus in each time point a list no_of_nucleus. \n",
    "\n",
    "### This following routine will take some time to process as it tries to communicate with the SSBD sever to get the data for each time point."
   ]
  },
  {
   "cell_type": "code",
   "execution_count": 29,
   "metadata": {},
   "outputs": [
    {
     "name": "stderr",
     "output_type": "stream",
     "text": [
      "(MainThread) Starting new HTTP connection (1): ssbd1.qbic.riken.jp\n"
     ]
    },
    {
     "name": "stdout",
     "output_type": "stream",
     "text": [
      "display= True\n",
      "parameter= http://ssbd1.qbic.riken.jp/SSBD/api/v3/bd5coords/?format=json;bdmlID=800faa21-c28c-4b72-bd12-d41f2eed02e8;ts=0;offset=0;limit=1\n"
     ]
    },
    {
     "name": "stderr",
     "output_type": "stream",
     "text": [
      "(MainThread) http://ssbd1.qbic.riken.jp:80 \"GET /SSBD/api/v3/bd5coords/?format=json;bdmlID=800faa21-c28c-4b72-bd12-d41f2eed02e8;ts=0;offset=0;limit=1 HTTP/1.1\" 200 None\n",
      "(MainThread) Starting new HTTP connection (1): ssbd1.qbic.riken.jp\n"
     ]
    },
    {
     "name": "stdout",
     "output_type": "stream",
     "text": [
      "meta= {'limit': 1, 'next': '/SSBD/api/v3/bd5coords/?bdmlID=800faa21-c28c-4b72-bd12-d41f2eed02e8&format=json&limit=1&ts=0&offset=1', 'offset': 0, 'previous': None, 'total_count': 5}\n",
      "found= 5\n",
      "limit= 1\n",
      "No.: 1\n",
      "    entity : sphere\n",
      "    id : 001001\n",
      "    label : polar1\n",
      "    radius : 1.62\n",
      "    sid : None\n",
      "    t : 1\n",
      "    x : 163\n",
      "    y : 343\n",
      "    z : 6.1\n",
      "tp=0 nn=5\n",
      "display= True\n",
      "parameter= http://ssbd1.qbic.riken.jp/SSBD/api/v3/bd5coords/?format=json;bdmlID=800faa21-c28c-4b72-bd12-d41f2eed02e8;ts=1;offset=0;limit=1\n"
     ]
    },
    {
     "name": "stderr",
     "output_type": "stream",
     "text": [
      "(MainThread) http://ssbd1.qbic.riken.jp:80 \"GET /SSBD/api/v3/bd5coords/?format=json;bdmlID=800faa21-c28c-4b72-bd12-d41f2eed02e8;ts=1;offset=0;limit=1 HTTP/1.1\" 200 None\n",
      "(MainThread) Starting new HTTP connection (1): ssbd1.qbic.riken.jp\n"
     ]
    },
    {
     "name": "stdout",
     "output_type": "stream",
     "text": [
      "meta= {'limit': 1, 'next': '/SSBD/api/v3/bd5coords/?bdmlID=800faa21-c28c-4b72-bd12-d41f2eed02e8&format=json&limit=1&ts=1&offset=1', 'offset': 0, 'previous': None, 'total_count': 5}\n",
      "found= 5\n",
      "limit= 1\n",
      "No.: 1\n",
      "    entity : sphere\n",
      "    id : 002001\n",
      "    label : polar1\n",
      "    radius : 1.665\n",
      "    sid : None\n",
      "    t : 2\n",
      "    x : 163\n",
      "    y : 343\n",
      "    z : 6.1\n",
      "tp=1 nn=5\n",
      "display= True\n",
      "parameter= http://ssbd1.qbic.riken.jp/SSBD/api/v3/bd5coords/?format=json;bdmlID=800faa21-c28c-4b72-bd12-d41f2eed02e8;ts=2;offset=0;limit=1\n"
     ]
    },
    {
     "name": "stderr",
     "output_type": "stream",
     "text": [
      "(MainThread) http://ssbd1.qbic.riken.jp:80 \"GET /SSBD/api/v3/bd5coords/?format=json;bdmlID=800faa21-c28c-4b72-bd12-d41f2eed02e8;ts=2;offset=0;limit=1 HTTP/1.1\" 200 None\n",
      "(MainThread) Starting new HTTP connection (1): ssbd1.qbic.riken.jp\n"
     ]
    },
    {
     "name": "stdout",
     "output_type": "stream",
     "text": [
      "meta= {'limit': 1, 'next': '/SSBD/api/v3/bd5coords/?bdmlID=800faa21-c28c-4b72-bd12-d41f2eed02e8&format=json&limit=1&ts=2&offset=1', 'offset': 0, 'previous': None, 'total_count': 5}\n",
      "found= 5\n",
      "limit= 1\n",
      "No.: 1\n",
      "    entity : sphere\n",
      "    id : 003001\n",
      "    label : EMS\n",
      "    radius : 3.915\n",
      "    sid : None\n",
      "    t : 3\n",
      "    x : 347\n",
      "    y : 388\n",
      "    z : 17.2\n",
      "tp=2 nn=5\n",
      "display= True\n",
      "parameter= http://ssbd1.qbic.riken.jp/SSBD/api/v3/bd5coords/?format=json;bdmlID=800faa21-c28c-4b72-bd12-d41f2eed02e8;ts=3;offset=0;limit=1\n"
     ]
    },
    {
     "name": "stderr",
     "output_type": "stream",
     "text": [
      "(MainThread) http://ssbd1.qbic.riken.jp:80 \"GET /SSBD/api/v3/bd5coords/?format=json;bdmlID=800faa21-c28c-4b72-bd12-d41f2eed02e8;ts=3;offset=0;limit=1 HTTP/1.1\" 200 None\n",
      "(MainThread) Starting new HTTP connection (1): ssbd1.qbic.riken.jp\n"
     ]
    },
    {
     "name": "stdout",
     "output_type": "stream",
     "text": [
      "meta= {'limit': 1, 'next': '/SSBD/api/v3/bd5coords/?bdmlID=800faa21-c28c-4b72-bd12-d41f2eed02e8&format=json&limit=1&ts=3&offset=1', 'offset': 0, 'previous': None, 'total_count': 5}\n",
      "found= 5\n",
      "limit= 1\n",
      "No.: 1\n",
      "    entity : sphere\n",
      "    id : 004001\n",
      "    label : polar1\n",
      "    radius : 1.575\n",
      "    sid : None\n",
      "    t : 4\n",
      "    x : 162\n",
      "    y : 343\n",
      "    z : 6.1\n",
      "tp=3 nn=5\n",
      "display= True\n",
      "parameter= http://ssbd1.qbic.riken.jp/SSBD/api/v3/bd5coords/?format=json;bdmlID=800faa21-c28c-4b72-bd12-d41f2eed02e8;ts=4;offset=0;limit=1\n"
     ]
    },
    {
     "name": "stderr",
     "output_type": "stream",
     "text": [
      "(MainThread) http://ssbd1.qbic.riken.jp:80 \"GET /SSBD/api/v3/bd5coords/?format=json;bdmlID=800faa21-c28c-4b72-bd12-d41f2eed02e8;ts=4;offset=0;limit=1 HTTP/1.1\" 200 None\n",
      "(MainThread) Starting new HTTP connection (1): ssbd1.qbic.riken.jp\n"
     ]
    },
    {
     "name": "stdout",
     "output_type": "stream",
     "text": [
      "meta= {'limit': 1, 'next': '/SSBD/api/v3/bd5coords/?bdmlID=800faa21-c28c-4b72-bd12-d41f2eed02e8&format=json&limit=1&ts=4&offset=1', 'offset': 0, 'previous': None, 'total_count': 7}\n",
      "found= 7\n",
      "limit= 1\n",
      "No.: 1\n",
      "    entity : sphere\n",
      "    id : 005001\n",
      "    label : polar1\n",
      "    radius : 1.53\n",
      "    sid : None\n",
      "    t : 5\n",
      "    x : 162\n",
      "    y : 342\n",
      "    z : 6.3\n",
      "tp=4 nn=7\n",
      "display= True\n",
      "parameter= http://ssbd1.qbic.riken.jp/SSBD/api/v3/bd5coords/?format=json;bdmlID=800faa21-c28c-4b72-bd12-d41f2eed02e8;ts=5;offset=0;limit=1\n"
     ]
    },
    {
     "name": "stderr",
     "output_type": "stream",
     "text": [
      "(MainThread) http://ssbd1.qbic.riken.jp:80 \"GET /SSBD/api/v3/bd5coords/?format=json;bdmlID=800faa21-c28c-4b72-bd12-d41f2eed02e8;ts=5;offset=0;limit=1 HTTP/1.1\" 200 None\n",
      "(MainThread) Starting new HTTP connection (1): ssbd1.qbic.riken.jp\n"
     ]
    },
    {
     "name": "stdout",
     "output_type": "stream",
     "text": [
      "meta= {'limit': 1, 'next': '/SSBD/api/v3/bd5coords/?bdmlID=800faa21-c28c-4b72-bd12-d41f2eed02e8&format=json&limit=1&ts=5&offset=1', 'offset': 0, 'previous': None, 'total_count': 7}\n",
      "found= 7\n",
      "limit= 1\n",
      "No.: 1\n",
      "    entity : sphere\n",
      "    id : 006001\n",
      "    label : polar1\n",
      "    radius : 1.53\n",
      "    sid : None\n",
      "    t : 6\n",
      "    x : 162\n",
      "    y : 343\n",
      "    z : 6.1\n",
      "tp=5 nn=7\n",
      "display= True\n",
      "parameter= http://ssbd1.qbic.riken.jp/SSBD/api/v3/bd5coords/?format=json;bdmlID=800faa21-c28c-4b72-bd12-d41f2eed02e8;ts=6;offset=0;limit=1\n"
     ]
    },
    {
     "name": "stderr",
     "output_type": "stream",
     "text": [
      "(MainThread) http://ssbd1.qbic.riken.jp:80 \"GET /SSBD/api/v3/bd5coords/?format=json;bdmlID=800faa21-c28c-4b72-bd12-d41f2eed02e8;ts=6;offset=0;limit=1 HTTP/1.1\" 200 None\n",
      "(MainThread) Starting new HTTP connection (1): ssbd1.qbic.riken.jp\n"
     ]
    },
    {
     "name": "stdout",
     "output_type": "stream",
     "text": [
      "meta= {'limit': 1, 'next': '/SSBD/api/v3/bd5coords/?bdmlID=800faa21-c28c-4b72-bd12-d41f2eed02e8&format=json&limit=1&ts=6&offset=1', 'offset': 0, 'previous': None, 'total_count': 7}\n",
      "found= 7\n",
      "limit= 1\n",
      "No.: 1\n",
      "    entity : sphere\n",
      "    id : 007001\n",
      "    label : polar1\n",
      "    radius : 1.53\n",
      "    sid : None\n",
      "    t : 7\n",
      "    x : 162\n",
      "    y : 343\n",
      "    z : 6.2\n",
      "tp=6 nn=7\n",
      "display= True\n",
      "parameter= http://ssbd1.qbic.riken.jp/SSBD/api/v3/bd5coords/?format=json;bdmlID=800faa21-c28c-4b72-bd12-d41f2eed02e8;ts=7;offset=0;limit=1\n"
     ]
    },
    {
     "name": "stderr",
     "output_type": "stream",
     "text": [
      "(MainThread) http://ssbd1.qbic.riken.jp:80 \"GET /SSBD/api/v3/bd5coords/?format=json;bdmlID=800faa21-c28c-4b72-bd12-d41f2eed02e8;ts=7;offset=0;limit=1 HTTP/1.1\" 200 None\n",
      "(MainThread) Starting new HTTP connection (1): ssbd1.qbic.riken.jp\n"
     ]
    },
    {
     "name": "stdout",
     "output_type": "stream",
     "text": [
      "meta= {'limit': 1, 'next': '/SSBD/api/v3/bd5coords/?bdmlID=800faa21-c28c-4b72-bd12-d41f2eed02e8&format=json&limit=1&ts=7&offset=1', 'offset': 0, 'previous': None, 'total_count': 8}\n",
      "found= 8\n",
      "limit= 1\n",
      "No.: 1\n",
      "    entity : sphere\n",
      "    id : 008001\n",
      "    label : polar1\n",
      "    radius : 1.575\n",
      "    sid : None\n",
      "    t : 8\n",
      "    x : 162\n",
      "    y : 342\n",
      "    z : 6\n",
      "tp=7 nn=8\n",
      "display= True\n",
      "parameter= http://ssbd1.qbic.riken.jp/SSBD/api/v3/bd5coords/?format=json;bdmlID=800faa21-c28c-4b72-bd12-d41f2eed02e8;ts=8;offset=0;limit=1\n"
     ]
    },
    {
     "name": "stderr",
     "output_type": "stream",
     "text": [
      "(MainThread) http://ssbd1.qbic.riken.jp:80 \"GET /SSBD/api/v3/bd5coords/?format=json;bdmlID=800faa21-c28c-4b72-bd12-d41f2eed02e8;ts=8;offset=0;limit=1 HTTP/1.1\" 200 None\n",
      "(MainThread) Starting new HTTP connection (1): ssbd1.qbic.riken.jp\n"
     ]
    },
    {
     "name": "stdout",
     "output_type": "stream",
     "text": [
      "meta= {'limit': 1, 'next': '/SSBD/api/v3/bd5coords/?bdmlID=800faa21-c28c-4b72-bd12-d41f2eed02e8&format=json&limit=1&ts=8&offset=1', 'offset': 0, 'previous': None, 'total_count': 8}\n",
      "found= 8\n",
      "limit= 1\n",
      "No.: 1\n",
      "    entity : sphere\n",
      "    id : 009001\n",
      "    label : polar1\n",
      "    radius : 1.53\n",
      "    sid : None\n",
      "    t : 9\n",
      "    x : 162\n",
      "    y : 343\n",
      "    z : 6.1\n",
      "tp=8 nn=8\n",
      "display= True\n",
      "parameter= http://ssbd1.qbic.riken.jp/SSBD/api/v3/bd5coords/?format=json;bdmlID=800faa21-c28c-4b72-bd12-d41f2eed02e8;ts=9;offset=0;limit=1\n"
     ]
    },
    {
     "name": "stderr",
     "output_type": "stream",
     "text": [
      "(MainThread) http://ssbd1.qbic.riken.jp:80 \"GET /SSBD/api/v3/bd5coords/?format=json;bdmlID=800faa21-c28c-4b72-bd12-d41f2eed02e8;ts=9;offset=0;limit=1 HTTP/1.1\" 200 None\n",
      "(MainThread) Starting new HTTP connection (1): ssbd1.qbic.riken.jp\n"
     ]
    },
    {
     "name": "stdout",
     "output_type": "stream",
     "text": [
      "meta= {'limit': 1, 'next': '/SSBD/api/v3/bd5coords/?bdmlID=800faa21-c28c-4b72-bd12-d41f2eed02e8&format=json&limit=1&ts=9&offset=1', 'offset': 0, 'previous': None, 'total_count': 8}\n",
      "found= 8\n",
      "limit= 1\n",
      "No.: 1\n",
      "    entity : sphere\n",
      "    id : 010001\n",
      "    label : ABpl\n",
      "    radius : 3.06\n",
      "    sid : None\n",
      "    t : 10\n",
      "    x : 377\n",
      "    y : 274\n",
      "    z : 10.2\n",
      "tp=9 nn=8\n",
      "display= True\n",
      "parameter= http://ssbd1.qbic.riken.jp/SSBD/api/v3/bd5coords/?format=json;bdmlID=800faa21-c28c-4b72-bd12-d41f2eed02e8;ts=10;offset=0;limit=1\n"
     ]
    },
    {
     "name": "stderr",
     "output_type": "stream",
     "text": [
      "(MainThread) http://ssbd1.qbic.riken.jp:80 \"GET /SSBD/api/v3/bd5coords/?format=json;bdmlID=800faa21-c28c-4b72-bd12-d41f2eed02e8;ts=10;offset=0;limit=1 HTTP/1.1\" 200 None\n",
      "(MainThread) Starting new HTTP connection (1): ssbd1.qbic.riken.jp\n"
     ]
    },
    {
     "name": "stdout",
     "output_type": "stream",
     "text": [
      "meta= {'limit': 1, 'next': '/SSBD/api/v3/bd5coords/?bdmlID=800faa21-c28c-4b72-bd12-d41f2eed02e8&format=json&limit=1&ts=10&offset=1', 'offset': 0, 'previous': None, 'total_count': 8}\n",
      "found= 8\n",
      "limit= 1\n",
      "No.: 1\n",
      "    entity : sphere\n",
      "    id : 011001\n",
      "    label : ABpl\n",
      "    radius : 3.15\n",
      "    sid : None\n",
      "    t : 11\n",
      "    x : 366\n",
      "    y : 292\n",
      "    z : 10.5\n",
      "tp=10 nn=8\n",
      "display= True\n",
      "parameter= http://ssbd1.qbic.riken.jp/SSBD/api/v3/bd5coords/?format=json;bdmlID=800faa21-c28c-4b72-bd12-d41f2eed02e8;ts=11;offset=0;limit=1\n"
     ]
    },
    {
     "name": "stderr",
     "output_type": "stream",
     "text": [
      "(MainThread) http://ssbd1.qbic.riken.jp:80 \"GET /SSBD/api/v3/bd5coords/?format=json;bdmlID=800faa21-c28c-4b72-bd12-d41f2eed02e8;ts=11;offset=0;limit=1 HTTP/1.1\" 200 None\n",
      "(MainThread) Starting new HTTP connection (1): ssbd1.qbic.riken.jp\n"
     ]
    },
    {
     "name": "stdout",
     "output_type": "stream",
     "text": [
      "meta= {'limit': 1, 'next': '/SSBD/api/v3/bd5coords/?bdmlID=800faa21-c28c-4b72-bd12-d41f2eed02e8&format=json&limit=1&ts=11&offset=1', 'offset': 0, 'previous': None, 'total_count': 9}\n",
      "found= 9\n",
      "limit= 1\n",
      "No.: 1\n",
      "    entity : sphere\n",
      "    id : 012001\n",
      "    label : ABpl\n",
      "    radius : 3.195\n",
      "    sid : None\n",
      "    t : 12\n",
      "    x : 358\n",
      "    y : 309\n",
      "    z : 10.8\n",
      "tp=11 nn=9\n",
      "display= True\n",
      "parameter= http://ssbd1.qbic.riken.jp/SSBD/api/v3/bd5coords/?format=json;bdmlID=800faa21-c28c-4b72-bd12-d41f2eed02e8;ts=12;offset=0;limit=1\n"
     ]
    },
    {
     "name": "stderr",
     "output_type": "stream",
     "text": [
      "(MainThread) http://ssbd1.qbic.riken.jp:80 \"GET /SSBD/api/v3/bd5coords/?format=json;bdmlID=800faa21-c28c-4b72-bd12-d41f2eed02e8;ts=12;offset=0;limit=1 HTTP/1.1\" 200 None\n",
      "(MainThread) Starting new HTTP connection (1): ssbd1.qbic.riken.jp\n"
     ]
    },
    {
     "name": "stdout",
     "output_type": "stream",
     "text": [
      "meta= {'limit': 1, 'next': '/SSBD/api/v3/bd5coords/?bdmlID=800faa21-c28c-4b72-bd12-d41f2eed02e8&format=json&limit=1&ts=12&offset=1', 'offset': 0, 'previous': None, 'total_count': 9}\n",
      "found= 9\n",
      "limit= 1\n",
      "No.: 1\n",
      "    entity : sphere\n",
      "    id : 013001\n",
      "    label : ABpl\n",
      "    radius : 3.285\n",
      "    sid : None\n",
      "    t : 13\n",
      "    x : 357\n",
      "    y : 324\n",
      "    z : 10.3\n",
      "tp=12 nn=9\n",
      "display= True\n",
      "parameter= http://ssbd1.qbic.riken.jp/SSBD/api/v3/bd5coords/?format=json;bdmlID=800faa21-c28c-4b72-bd12-d41f2eed02e8;ts=13;offset=0;limit=1\n"
     ]
    },
    {
     "name": "stderr",
     "output_type": "stream",
     "text": [
      "(MainThread) http://ssbd1.qbic.riken.jp:80 \"GET /SSBD/api/v3/bd5coords/?format=json;bdmlID=800faa21-c28c-4b72-bd12-d41f2eed02e8;ts=13;offset=0;limit=1 HTTP/1.1\" 200 None\n",
      "(MainThread) Starting new HTTP connection (1): ssbd1.qbic.riken.jp\n"
     ]
    },
    {
     "name": "stdout",
     "output_type": "stream",
     "text": [
      "meta= {'limit': 1, 'next': '/SSBD/api/v3/bd5coords/?bdmlID=800faa21-c28c-4b72-bd12-d41f2eed02e8&format=json&limit=1&ts=13&offset=1', 'offset': 0, 'previous': None, 'total_count': 9}\n",
      "found= 9\n",
      "limit= 1\n",
      "No.: 1\n",
      "    entity : sphere\n",
      "    id : 014001\n",
      "    label : ABpl\n",
      "    radius : 3.24\n",
      "    sid : None\n",
      "    t : 14\n",
      "    x : 361\n",
      "    y : 344\n",
      "    z : 10.9\n",
      "tp=13 nn=9\n",
      "display= True\n",
      "parameter= http://ssbd1.qbic.riken.jp/SSBD/api/v3/bd5coords/?format=json;bdmlID=800faa21-c28c-4b72-bd12-d41f2eed02e8;ts=14;offset=0;limit=1\n"
     ]
    },
    {
     "name": "stderr",
     "output_type": "stream",
     "text": [
      "(MainThread) http://ssbd1.qbic.riken.jp:80 \"GET /SSBD/api/v3/bd5coords/?format=json;bdmlID=800faa21-c28c-4b72-bd12-d41f2eed02e8;ts=14;offset=0;limit=1 HTTP/1.1\" 200 None\n",
      "(MainThread) Starting new HTTP connection (1): ssbd1.qbic.riken.jp\n"
     ]
    },
    {
     "name": "stdout",
     "output_type": "stream",
     "text": [
      "meta= {'limit': 1, 'next': '/SSBD/api/v3/bd5coords/?bdmlID=800faa21-c28c-4b72-bd12-d41f2eed02e8&format=json&limit=1&ts=14&offset=1', 'offset': 0, 'previous': None, 'total_count': 9}\n",
      "found= 9\n",
      "limit= 1\n",
      "No.: 1\n",
      "    entity : sphere\n",
      "    id : 015001\n",
      "    label : polar1\n",
      "    radius : 1.62\n",
      "    sid : None\n",
      "    t : 15\n",
      "    x : 160\n",
      "    y : 342\n",
      "    z : 6.2\n",
      "tp=14 nn=9\n",
      "display= True\n",
      "parameter= http://ssbd1.qbic.riken.jp/SSBD/api/v3/bd5coords/?format=json;bdmlID=800faa21-c28c-4b72-bd12-d41f2eed02e8;ts=15;offset=0;limit=1\n"
     ]
    },
    {
     "name": "stderr",
     "output_type": "stream",
     "text": [
      "(MainThread) http://ssbd1.qbic.riken.jp:80 \"GET /SSBD/api/v3/bd5coords/?format=json;bdmlID=800faa21-c28c-4b72-bd12-d41f2eed02e8;ts=15;offset=0;limit=1 HTTP/1.1\" 200 None\n",
      "(MainThread) Starting new HTTP connection (1): ssbd1.qbic.riken.jp\n"
     ]
    },
    {
     "name": "stdout",
     "output_type": "stream",
     "text": [
      "meta= {'limit': 1, 'next': '/SSBD/api/v3/bd5coords/?bdmlID=800faa21-c28c-4b72-bd12-d41f2eed02e8&format=json&limit=1&ts=15&offset=1', 'offset': 0, 'previous': None, 'total_count': 9}\n",
      "found= 9\n",
      "limit= 1\n",
      "No.: 1\n",
      "    entity : sphere\n",
      "    id : 016001\n",
      "    label : polar1\n",
      "    radius : 1.665\n",
      "    sid : None\n",
      "    t : 16\n",
      "    x : 161\n",
      "    y : 341\n",
      "    z : 6.1\n",
      "tp=15 nn=9\n",
      "display= True\n",
      "parameter= http://ssbd1.qbic.riken.jp/SSBD/api/v3/bd5coords/?format=json;bdmlID=800faa21-c28c-4b72-bd12-d41f2eed02e8;ts=16;offset=0;limit=1\n"
     ]
    },
    {
     "name": "stderr",
     "output_type": "stream",
     "text": [
      "(MainThread) http://ssbd1.qbic.riken.jp:80 \"GET /SSBD/api/v3/bd5coords/?format=json;bdmlID=800faa21-c28c-4b72-bd12-d41f2eed02e8;ts=16;offset=0;limit=1 HTTP/1.1\" 200 None\n",
      "(MainThread) Starting new HTTP connection (1): ssbd1.qbic.riken.jp\n"
     ]
    },
    {
     "name": "stdout",
     "output_type": "stream",
     "text": [
      "meta= {'limit': 1, 'next': '/SSBD/api/v3/bd5coords/?bdmlID=800faa21-c28c-4b72-bd12-d41f2eed02e8&format=json&limit=1&ts=16&offset=1', 'offset': 0, 'previous': None, 'total_count': 9}\n",
      "found= 9\n",
      "limit= 1\n",
      "No.: 1\n",
      "    entity : sphere\n",
      "    id : 017001\n",
      "    label : polar1\n",
      "    radius : 1.575\n",
      "    sid : None\n",
      "    t : 17\n",
      "    x : 160\n",
      "    y : 342\n",
      "    z : 6.3\n",
      "tp=16 nn=9\n",
      "display= True\n",
      "parameter= http://ssbd1.qbic.riken.jp/SSBD/api/v3/bd5coords/?format=json;bdmlID=800faa21-c28c-4b72-bd12-d41f2eed02e8;ts=17;offset=0;limit=1\n"
     ]
    },
    {
     "name": "stderr",
     "output_type": "stream",
     "text": [
      "(MainThread) http://ssbd1.qbic.riken.jp:80 \"GET /SSBD/api/v3/bd5coords/?format=json;bdmlID=800faa21-c28c-4b72-bd12-d41f2eed02e8;ts=17;offset=0;limit=1 HTTP/1.1\" 200 None\n",
      "(MainThread) Starting new HTTP connection (1): ssbd1.qbic.riken.jp\n"
     ]
    },
    {
     "name": "stdout",
     "output_type": "stream",
     "text": [
      "meta= {'limit': 1, 'next': '/SSBD/api/v3/bd5coords/?bdmlID=800faa21-c28c-4b72-bd12-d41f2eed02e8&format=json&limit=1&ts=17&offset=1', 'offset': 0, 'previous': None, 'total_count': 9}\n",
      "found= 9\n",
      "limit= 1\n",
      "No.: 1\n",
      "    entity : sphere\n",
      "    id : 018001\n",
      "    label : polar1\n",
      "    radius : 1.53\n",
      "    sid : None\n",
      "    t : 18\n",
      "    x : 161\n",
      "    y : 341\n",
      "    z : 6.2\n",
      "tp=17 nn=9\n",
      "display= True\n",
      "parameter= http://ssbd1.qbic.riken.jp/SSBD/api/v3/bd5coords/?format=json;bdmlID=800faa21-c28c-4b72-bd12-d41f2eed02e8;ts=18;offset=0;limit=1\n"
     ]
    },
    {
     "name": "stderr",
     "output_type": "stream",
     "text": [
      "(MainThread) http://ssbd1.qbic.riken.jp:80 \"GET /SSBD/api/v3/bd5coords/?format=json;bdmlID=800faa21-c28c-4b72-bd12-d41f2eed02e8;ts=18;offset=0;limit=1 HTTP/1.1\" 200 None\n",
      "(MainThread) Starting new HTTP connection (1): ssbd1.qbic.riken.jp\n"
     ]
    },
    {
     "name": "stdout",
     "output_type": "stream",
     "text": [
      "meta= {'limit': 1, 'next': '/SSBD/api/v3/bd5coords/?bdmlID=800faa21-c28c-4b72-bd12-d41f2eed02e8&format=json&limit=1&ts=18&offset=1', 'offset': 0, 'previous': None, 'total_count': 11}\n",
      "found= 11\n",
      "limit= 1\n",
      "No.: 1\n",
      "    entity : sphere\n",
      "    id : 019001\n",
      "    label : polar1\n",
      "    radius : 1.575\n",
      "    sid : None\n",
      "    t : 19\n",
      "    x : 161\n",
      "    y : 342\n",
      "    z : 6.3\n",
      "tp=18 nn=11\n",
      "display= True\n",
      "parameter= http://ssbd1.qbic.riken.jp/SSBD/api/v3/bd5coords/?format=json;bdmlID=800faa21-c28c-4b72-bd12-d41f2eed02e8;ts=19;offset=0;limit=1\n"
     ]
    },
    {
     "name": "stderr",
     "output_type": "stream",
     "text": [
      "(MainThread) http://ssbd1.qbic.riken.jp:80 \"GET /SSBD/api/v3/bd5coords/?format=json;bdmlID=800faa21-c28c-4b72-bd12-d41f2eed02e8;ts=19;offset=0;limit=1 HTTP/1.1\" 200 None\n",
      "(MainThread) Starting new HTTP connection (1): ssbd1.qbic.riken.jp\n"
     ]
    },
    {
     "name": "stdout",
     "output_type": "stream",
     "text": [
      "meta= {'limit': 1, 'next': '/SSBD/api/v3/bd5coords/?bdmlID=800faa21-c28c-4b72-bd12-d41f2eed02e8&format=json&limit=1&ts=19&offset=1', 'offset': 0, 'previous': None, 'total_count': 13}\n",
      "found= 13\n",
      "limit= 1\n",
      "No.: 1\n",
      "    entity : sphere\n",
      "    id : 020001\n",
      "    label : polar1\n",
      "    radius : 1.53\n",
      "    sid : None\n",
      "    t : 20\n",
      "    x : 162\n",
      "    y : 342\n",
      "    z : 6.3\n",
      "tp=19 nn=13\n",
      "display= True\n",
      "parameter= http://ssbd1.qbic.riken.jp/SSBD/api/v3/bd5coords/?format=json;bdmlID=800faa21-c28c-4b72-bd12-d41f2eed02e8;ts=20;offset=0;limit=1\n"
     ]
    },
    {
     "name": "stderr",
     "output_type": "stream",
     "text": [
      "(MainThread) http://ssbd1.qbic.riken.jp:80 \"GET /SSBD/api/v3/bd5coords/?format=json;bdmlID=800faa21-c28c-4b72-bd12-d41f2eed02e8;ts=20;offset=0;limit=1 HTTP/1.1\" 200 None\n",
      "(MainThread) Starting new HTTP connection (1): ssbd1.qbic.riken.jp\n"
     ]
    },
    {
     "name": "stdout",
     "output_type": "stream",
     "text": [
      "meta= {'limit': 1, 'next': '/SSBD/api/v3/bd5coords/?bdmlID=800faa21-c28c-4b72-bd12-d41f2eed02e8&format=json&limit=1&ts=20&offset=1', 'offset': 0, 'previous': None, 'total_count': 13}\n",
      "found= 13\n",
      "limit= 1\n",
      "No.: 1\n",
      "    entity : sphere\n",
      "    id : 021001\n",
      "    label : polar1\n",
      "    radius : 1.53\n",
      "    sid : None\n",
      "    t : 21\n",
      "    x : 161\n",
      "    y : 342\n",
      "    z : 6.2\n",
      "tp=20 nn=13\n",
      "display= True\n",
      "parameter= http://ssbd1.qbic.riken.jp/SSBD/api/v3/bd5coords/?format=json;bdmlID=800faa21-c28c-4b72-bd12-d41f2eed02e8;ts=21;offset=0;limit=1\n"
     ]
    },
    {
     "name": "stderr",
     "output_type": "stream",
     "text": [
      "(MainThread) http://ssbd1.qbic.riken.jp:80 \"GET /SSBD/api/v3/bd5coords/?format=json;bdmlID=800faa21-c28c-4b72-bd12-d41f2eed02e8;ts=21;offset=0;limit=1 HTTP/1.1\" 200 None\n",
      "(MainThread) Starting new HTTP connection (1): ssbd1.qbic.riken.jp\n"
     ]
    },
    {
     "name": "stdout",
     "output_type": "stream",
     "text": [
      "meta= {'limit': 1, 'next': '/SSBD/api/v3/bd5coords/?bdmlID=800faa21-c28c-4b72-bd12-d41f2eed02e8&format=json&limit=1&ts=21&offset=1', 'offset': 0, 'previous': None, 'total_count': 13}\n",
      "found= 13\n",
      "limit= 1\n",
      "No.: 1\n",
      "    entity : sphere\n",
      "    id : 022001\n",
      "    label : polar1\n",
      "    radius : 1.575\n",
      "    sid : None\n",
      "    t : 22\n",
      "    x : 161\n",
      "    y : 341\n",
      "    z : 6.1\n",
      "tp=21 nn=13\n",
      "display= True\n",
      "parameter= http://ssbd1.qbic.riken.jp/SSBD/api/v3/bd5coords/?format=json;bdmlID=800faa21-c28c-4b72-bd12-d41f2eed02e8;ts=22;offset=0;limit=1\n"
     ]
    },
    {
     "name": "stderr",
     "output_type": "stream",
     "text": [
      "(MainThread) http://ssbd1.qbic.riken.jp:80 \"GET /SSBD/api/v3/bd5coords/?format=json;bdmlID=800faa21-c28c-4b72-bd12-d41f2eed02e8;ts=22;offset=0;limit=1 HTTP/1.1\" 200 None\n",
      "(MainThread) Starting new HTTP connection (1): ssbd1.qbic.riken.jp\n"
     ]
    },
    {
     "name": "stdout",
     "output_type": "stream",
     "text": [
      "meta= {'limit': 1, 'next': '/SSBD/api/v3/bd5coords/?bdmlID=800faa21-c28c-4b72-bd12-d41f2eed02e8&format=json&limit=1&ts=22&offset=1', 'offset': 0, 'previous': None, 'total_count': 13}\n",
      "found= 13\n",
      "limit= 1\n",
      "No.: 1\n",
      "    entity : sphere\n",
      "    id : 023001\n",
      "    label : polar1\n",
      "    radius : 1.575\n",
      "    sid : None\n",
      "    t : 23\n",
      "    x : 161\n",
      "    y : 342\n",
      "    z : 6.3\n",
      "tp=22 nn=13\n",
      "display= True\n",
      "parameter= http://ssbd1.qbic.riken.jp/SSBD/api/v3/bd5coords/?format=json;bdmlID=800faa21-c28c-4b72-bd12-d41f2eed02e8;ts=23;offset=0;limit=1\n"
     ]
    },
    {
     "name": "stderr",
     "output_type": "stream",
     "text": [
      "(MainThread) http://ssbd1.qbic.riken.jp:80 \"GET /SSBD/api/v3/bd5coords/?format=json;bdmlID=800faa21-c28c-4b72-bd12-d41f2eed02e8;ts=23;offset=0;limit=1 HTTP/1.1\" 200 None\n",
      "(MainThread) Starting new HTTP connection (1): ssbd1.qbic.riken.jp\n"
     ]
    },
    {
     "name": "stdout",
     "output_type": "stream",
     "text": [
      "meta= {'limit': 1, 'next': '/SSBD/api/v3/bd5coords/?bdmlID=800faa21-c28c-4b72-bd12-d41f2eed02e8&format=json&limit=1&ts=23&offset=1', 'offset': 0, 'previous': None, 'total_count': 13}\n",
      "found= 13\n",
      "limit= 1\n",
      "No.: 1\n",
      "    entity : sphere\n",
      "    id : 024001\n",
      "    label : polar1\n",
      "    radius : 1.575\n",
      "    sid : None\n",
      "    t : 24\n",
      "    x : 162\n",
      "    y : 343\n",
      "    z : 6.2\n",
      "tp=23 nn=13\n",
      "display= True\n",
      "parameter= http://ssbd1.qbic.riken.jp/SSBD/api/v3/bd5coords/?format=json;bdmlID=800faa21-c28c-4b72-bd12-d41f2eed02e8;ts=24;offset=0;limit=1\n"
     ]
    },
    {
     "name": "stderr",
     "output_type": "stream",
     "text": [
      "(MainThread) http://ssbd1.qbic.riken.jp:80 \"GET /SSBD/api/v3/bd5coords/?format=json;bdmlID=800faa21-c28c-4b72-bd12-d41f2eed02e8;ts=24;offset=0;limit=1 HTTP/1.1\" 200 None\n",
      "(MainThread) Starting new HTTP connection (1): ssbd1.qbic.riken.jp\n"
     ]
    },
    {
     "name": "stdout",
     "output_type": "stream",
     "text": [
      "meta= {'limit': 1, 'next': '/SSBD/api/v3/bd5coords/?bdmlID=800faa21-c28c-4b72-bd12-d41f2eed02e8&format=json&limit=1&ts=24&offset=1', 'offset': 0, 'previous': None, 'total_count': 14}\n",
      "found= 14\n",
      "limit= 1\n",
      "No.: 1\n",
      "    entity : sphere\n",
      "    id : 025001\n",
      "    label : polar1\n",
      "    radius : 1.575\n",
      "    sid : None\n",
      "    t : 25\n",
      "    x : 162\n",
      "    y : 343\n",
      "    z : 6.3\n",
      "tp=24 nn=14\n",
      "display= True\n",
      "parameter= http://ssbd1.qbic.riken.jp/SSBD/api/v3/bd5coords/?format=json;bdmlID=800faa21-c28c-4b72-bd12-d41f2eed02e8;ts=25;offset=0;limit=1\n"
     ]
    },
    {
     "name": "stderr",
     "output_type": "stream",
     "text": [
      "(MainThread) http://ssbd1.qbic.riken.jp:80 \"GET /SSBD/api/v3/bd5coords/?format=json;bdmlID=800faa21-c28c-4b72-bd12-d41f2eed02e8;ts=25;offset=0;limit=1 HTTP/1.1\" 200 None\n",
      "(MainThread) Starting new HTTP connection (1): ssbd1.qbic.riken.jp\n"
     ]
    },
    {
     "name": "stdout",
     "output_type": "stream",
     "text": [
      "meta= {'limit': 1, 'next': '/SSBD/api/v3/bd5coords/?bdmlID=800faa21-c28c-4b72-bd12-d41f2eed02e8&format=json&limit=1&ts=25&offset=1', 'offset': 0, 'previous': None, 'total_count': 15}\n",
      "found= 15\n",
      "limit= 1\n",
      "No.: 1\n",
      "    entity : sphere\n",
      "    id : 026001\n",
      "    label : polar1\n",
      "    radius : 1.575\n",
      "    sid : None\n",
      "    t : 26\n",
      "    x : 162\n",
      "    y : 342\n",
      "    z : 6.2\n",
      "tp=25 nn=15\n",
      "display= True\n",
      "parameter= http://ssbd1.qbic.riken.jp/SSBD/api/v3/bd5coords/?format=json;bdmlID=800faa21-c28c-4b72-bd12-d41f2eed02e8;ts=26;offset=0;limit=1\n"
     ]
    },
    {
     "name": "stderr",
     "output_type": "stream",
     "text": [
      "(MainThread) http://ssbd1.qbic.riken.jp:80 \"GET /SSBD/api/v3/bd5coords/?format=json;bdmlID=800faa21-c28c-4b72-bd12-d41f2eed02e8;ts=26;offset=0;limit=1 HTTP/1.1\" 200 None\n",
      "(MainThread) Starting new HTTP connection (1): ssbd1.qbic.riken.jp\n"
     ]
    },
    {
     "name": "stdout",
     "output_type": "stream",
     "text": [
      "meta= {'limit': 1, 'next': '/SSBD/api/v3/bd5coords/?bdmlID=800faa21-c28c-4b72-bd12-d41f2eed02e8&format=json&limit=1&ts=26&offset=1', 'offset': 0, 'previous': None, 'total_count': 15}\n",
      "found= 15\n",
      "limit= 1\n",
      "No.: 1\n",
      "    entity : sphere\n",
      "    id : 027001\n",
      "    label : polar1\n",
      "    radius : 1.53\n",
      "    sid : None\n",
      "    t : 27\n",
      "    x : 162\n",
      "    y : 342\n",
      "    z : 6.2\n",
      "tp=26 nn=15\n",
      "display= True\n",
      "parameter= http://ssbd1.qbic.riken.jp/SSBD/api/v3/bd5coords/?format=json;bdmlID=800faa21-c28c-4b72-bd12-d41f2eed02e8;ts=27;offset=0;limit=1\n"
     ]
    },
    {
     "name": "stderr",
     "output_type": "stream",
     "text": [
      "(MainThread) http://ssbd1.qbic.riken.jp:80 \"GET /SSBD/api/v3/bd5coords/?format=json;bdmlID=800faa21-c28c-4b72-bd12-d41f2eed02e8;ts=27;offset=0;limit=1 HTTP/1.1\" 200 None\n",
      "(MainThread) Starting new HTTP connection (1): ssbd1.qbic.riken.jp\n"
     ]
    },
    {
     "name": "stdout",
     "output_type": "stream",
     "text": [
      "meta= {'limit': 1, 'next': '/SSBD/api/v3/bd5coords/?bdmlID=800faa21-c28c-4b72-bd12-d41f2eed02e8&format=json&limit=1&ts=27&offset=1', 'offset': 0, 'previous': None, 'total_count': 15}\n",
      "found= 15\n",
      "limit= 1\n",
      "No.: 1\n",
      "    entity : sphere\n",
      "    id : 028001\n",
      "    label : polar1\n",
      "    radius : 1.575\n",
      "    sid : None\n",
      "    t : 28\n",
      "    x : 162\n",
      "    y : 342\n",
      "    z : 6.3\n",
      "tp=27 nn=15\n",
      "display= True\n",
      "parameter= http://ssbd1.qbic.riken.jp/SSBD/api/v3/bd5coords/?format=json;bdmlID=800faa21-c28c-4b72-bd12-d41f2eed02e8;ts=28;offset=0;limit=1\n"
     ]
    },
    {
     "name": "stderr",
     "output_type": "stream",
     "text": [
      "(MainThread) http://ssbd1.qbic.riken.jp:80 \"GET /SSBD/api/v3/bd5coords/?format=json;bdmlID=800faa21-c28c-4b72-bd12-d41f2eed02e8;ts=28;offset=0;limit=1 HTTP/1.1\" 200 None\n",
      "(MainThread) Starting new HTTP connection (1): ssbd1.qbic.riken.jp\n"
     ]
    },
    {
     "name": "stdout",
     "output_type": "stream",
     "text": [
      "meta= {'limit': 1, 'next': '/SSBD/api/v3/bd5coords/?bdmlID=800faa21-c28c-4b72-bd12-d41f2eed02e8&format=json&limit=1&ts=28&offset=1', 'offset': 0, 'previous': None, 'total_count': 15}\n",
      "found= 15\n",
      "limit= 1\n",
      "No.: 1\n",
      "    entity : sphere\n",
      "    id : 029001\n",
      "    label : polar1\n",
      "    radius : 1.53\n",
      "    sid : None\n",
      "    t : 29\n",
      "    x : 161\n",
      "    y : 343\n",
      "    z : 6.3\n",
      "tp=28 nn=15\n",
      "display= True\n",
      "parameter= http://ssbd1.qbic.riken.jp/SSBD/api/v3/bd5coords/?format=json;bdmlID=800faa21-c28c-4b72-bd12-d41f2eed02e8;ts=29;offset=0;limit=1\n"
     ]
    },
    {
     "name": "stderr",
     "output_type": "stream",
     "text": [
      "(MainThread) http://ssbd1.qbic.riken.jp:80 \"GET /SSBD/api/v3/bd5coords/?format=json;bdmlID=800faa21-c28c-4b72-bd12-d41f2eed02e8;ts=29;offset=0;limit=1 HTTP/1.1\" 200 None\n",
      "(MainThread) Starting new HTTP connection (1): ssbd1.qbic.riken.jp\n"
     ]
    },
    {
     "name": "stdout",
     "output_type": "stream",
     "text": [
      "meta= {'limit': 1, 'next': '/SSBD/api/v3/bd5coords/?bdmlID=800faa21-c28c-4b72-bd12-d41f2eed02e8&format=json&limit=1&ts=29&offset=1', 'offset': 0, 'previous': None, 'total_count': 16}\n",
      "found= 16\n",
      "limit= 1\n",
      "No.: 1\n",
      "    entity : sphere\n",
      "    id : 030001\n",
      "    label : polar1\n",
      "    radius : 1.575\n",
      "    sid : None\n",
      "    t : 30\n",
      "    x : 162\n",
      "    y : 342\n",
      "    z : 6.3\n",
      "tp=29 nn=16\n",
      "display= True\n",
      "parameter= http://ssbd1.qbic.riken.jp/SSBD/api/v3/bd5coords/?format=json;bdmlID=800faa21-c28c-4b72-bd12-d41f2eed02e8;ts=30;offset=0;limit=1\n"
     ]
    },
    {
     "name": "stderr",
     "output_type": "stream",
     "text": [
      "(MainThread) http://ssbd1.qbic.riken.jp:80 \"GET /SSBD/api/v3/bd5coords/?format=json;bdmlID=800faa21-c28c-4b72-bd12-d41f2eed02e8;ts=30;offset=0;limit=1 HTTP/1.1\" 200 None\n",
      "(MainThread) Starting new HTTP connection (1): ssbd1.qbic.riken.jp\n"
     ]
    },
    {
     "name": "stdout",
     "output_type": "stream",
     "text": [
      "meta= {'limit': 1, 'next': '/SSBD/api/v3/bd5coords/?bdmlID=800faa21-c28c-4b72-bd12-d41f2eed02e8&format=json&limit=1&ts=30&offset=1', 'offset': 0, 'previous': None, 'total_count': 16}\n",
      "found= 16\n",
      "limit= 1\n",
      "No.: 1\n",
      "    entity : sphere\n",
      "    id : 031001\n",
      "    label : polar1\n",
      "    radius : 1.575\n",
      "    sid : None\n",
      "    t : 31\n",
      "    x : 161\n",
      "    y : 342\n",
      "    z : 6.1\n",
      "tp=30 nn=16\n",
      "display= True\n",
      "parameter= http://ssbd1.qbic.riken.jp/SSBD/api/v3/bd5coords/?format=json;bdmlID=800faa21-c28c-4b72-bd12-d41f2eed02e8;ts=31;offset=0;limit=1\n"
     ]
    },
    {
     "name": "stderr",
     "output_type": "stream",
     "text": [
      "(MainThread) http://ssbd1.qbic.riken.jp:80 \"GET /SSBD/api/v3/bd5coords/?format=json;bdmlID=800faa21-c28c-4b72-bd12-d41f2eed02e8;ts=31;offset=0;limit=1 HTTP/1.1\" 200 None\n",
      "(MainThread) Starting new HTTP connection (1): ssbd1.qbic.riken.jp\n"
     ]
    },
    {
     "name": "stdout",
     "output_type": "stream",
     "text": [
      "meta= {'limit': 1, 'next': '/SSBD/api/v3/bd5coords/?bdmlID=800faa21-c28c-4b72-bd12-d41f2eed02e8&format=json&limit=1&ts=31&offset=1', 'offset': 0, 'previous': None, 'total_count': 16}\n",
      "found= 16\n",
      "limit= 1\n",
      "No.: 1\n",
      "    entity : sphere\n",
      "    id : 032001\n",
      "    label : polar1\n",
      "    radius : 1.53\n",
      "    sid : None\n",
      "    t : 32\n",
      "    x : 161\n",
      "    y : 343\n",
      "    z : 6.2\n",
      "tp=31 nn=16\n",
      "display= True\n",
      "parameter= http://ssbd1.qbic.riken.jp/SSBD/api/v3/bd5coords/?format=json;bdmlID=800faa21-c28c-4b72-bd12-d41f2eed02e8;ts=32;offset=0;limit=1\n"
     ]
    },
    {
     "name": "stderr",
     "output_type": "stream",
     "text": [
      "(MainThread) http://ssbd1.qbic.riken.jp:80 \"GET /SSBD/api/v3/bd5coords/?format=json;bdmlID=800faa21-c28c-4b72-bd12-d41f2eed02e8;ts=32;offset=0;limit=1 HTTP/1.1\" 200 None\n",
      "(MainThread) Starting new HTTP connection (1): ssbd1.qbic.riken.jp\n"
     ]
    },
    {
     "name": "stdout",
     "output_type": "stream",
     "text": [
      "meta= {'limit': 1, 'next': '/SSBD/api/v3/bd5coords/?bdmlID=800faa21-c28c-4b72-bd12-d41f2eed02e8&format=json&limit=1&ts=32&offset=1', 'offset': 0, 'previous': None, 'total_count': 16}\n",
      "found= 16\n",
      "limit= 1\n",
      "No.: 1\n",
      "    entity : sphere\n",
      "    id : 033001\n",
      "    label : polar1\n",
      "    radius : 1.53\n",
      "    sid : None\n",
      "    t : 33\n",
      "    x : 161\n",
      "    y : 342\n",
      "    z : 6.2\n",
      "tp=32 nn=16\n",
      "display= True\n",
      "parameter= http://ssbd1.qbic.riken.jp/SSBD/api/v3/bd5coords/?format=json;bdmlID=800faa21-c28c-4b72-bd12-d41f2eed02e8;ts=33;offset=0;limit=1\n"
     ]
    },
    {
     "name": "stderr",
     "output_type": "stream",
     "text": [
      "(MainThread) http://ssbd1.qbic.riken.jp:80 \"GET /SSBD/api/v3/bd5coords/?format=json;bdmlID=800faa21-c28c-4b72-bd12-d41f2eed02e8;ts=33;offset=0;limit=1 HTTP/1.1\" 200 None\n",
      "(MainThread) Starting new HTTP connection (1): ssbd1.qbic.riken.jp\n"
     ]
    },
    {
     "name": "stdout",
     "output_type": "stream",
     "text": [
      "meta= {'limit': 1, 'next': '/SSBD/api/v3/bd5coords/?bdmlID=800faa21-c28c-4b72-bd12-d41f2eed02e8&format=json&limit=1&ts=33&offset=1', 'offset': 0, 'previous': None, 'total_count': 16}\n",
      "found= 16\n",
      "limit= 1\n",
      "No.: 1\n",
      "    entity : sphere\n",
      "    id : 034001\n",
      "    label : polar1\n",
      "    radius : 1.53\n",
      "    sid : None\n",
      "    t : 34\n",
      "    x : 162\n",
      "    y : 343\n",
      "    z : 6.2\n",
      "tp=33 nn=16\n",
      "display= True\n",
      "parameter= http://ssbd1.qbic.riken.jp/SSBD/api/v3/bd5coords/?format=json;bdmlID=800faa21-c28c-4b72-bd12-d41f2eed02e8;ts=34;offset=0;limit=1\n"
     ]
    },
    {
     "name": "stderr",
     "output_type": "stream",
     "text": [
      "(MainThread) http://ssbd1.qbic.riken.jp:80 \"GET /SSBD/api/v3/bd5coords/?format=json;bdmlID=800faa21-c28c-4b72-bd12-d41f2eed02e8;ts=34;offset=0;limit=1 HTTP/1.1\" 200 None\n",
      "(MainThread) Starting new HTTP connection (1): ssbd1.qbic.riken.jp\n"
     ]
    },
    {
     "name": "stdout",
     "output_type": "stream",
     "text": [
      "meta= {'limit': 1, 'next': '/SSBD/api/v3/bd5coords/?bdmlID=800faa21-c28c-4b72-bd12-d41f2eed02e8&format=json&limit=1&ts=34&offset=1', 'offset': 0, 'previous': None, 'total_count': 16}\n",
      "found= 16\n",
      "limit= 1\n",
      "No.: 1\n",
      "    entity : sphere\n",
      "    id : 035001\n",
      "    label : polar1\n",
      "    radius : 1.575\n",
      "    sid : None\n",
      "    t : 35\n",
      "    x : 162\n",
      "    y : 342\n",
      "    z : 6.2\n",
      "tp=34 nn=16\n",
      "display= True\n",
      "parameter= http://ssbd1.qbic.riken.jp/SSBD/api/v3/bd5coords/?format=json;bdmlID=800faa21-c28c-4b72-bd12-d41f2eed02e8;ts=35;offset=0;limit=1\n"
     ]
    },
    {
     "name": "stderr",
     "output_type": "stream",
     "text": [
      "(MainThread) http://ssbd1.qbic.riken.jp:80 \"GET /SSBD/api/v3/bd5coords/?format=json;bdmlID=800faa21-c28c-4b72-bd12-d41f2eed02e8;ts=35;offset=0;limit=1 HTTP/1.1\" 200 None\n",
      "(MainThread) Starting new HTTP connection (1): ssbd1.qbic.riken.jp\n"
     ]
    },
    {
     "name": "stdout",
     "output_type": "stream",
     "text": [
      "meta= {'limit': 1, 'next': '/SSBD/api/v3/bd5coords/?bdmlID=800faa21-c28c-4b72-bd12-d41f2eed02e8&format=json&limit=1&ts=35&offset=1', 'offset': 0, 'previous': None, 'total_count': 25}\n",
      "found= 25\n",
      "limit= 1\n",
      "No.: 1\n",
      "    entity : sphere\n",
      "    id : 036001\n",
      "    label : polar1\n",
      "    radius : 1.485\n",
      "    sid : None\n",
      "    t : 36\n",
      "    x : 162\n",
      "    y : 343\n",
      "    z : 6.2\n",
      "tp=35 nn=25\n",
      "display= True\n",
      "parameter= http://ssbd1.qbic.riken.jp/SSBD/api/v3/bd5coords/?format=json;bdmlID=800faa21-c28c-4b72-bd12-d41f2eed02e8;ts=36;offset=0;limit=1\n"
     ]
    },
    {
     "name": "stderr",
     "output_type": "stream",
     "text": [
      "(MainThread) http://ssbd1.qbic.riken.jp:80 \"GET /SSBD/api/v3/bd5coords/?format=json;bdmlID=800faa21-c28c-4b72-bd12-d41f2eed02e8;ts=36;offset=0;limit=1 HTTP/1.1\" 200 None\n",
      "(MainThread) Starting new HTTP connection (1): ssbd1.qbic.riken.jp\n"
     ]
    },
    {
     "name": "stdout",
     "output_type": "stream",
     "text": [
      "meta= {'limit': 1, 'next': '/SSBD/api/v3/bd5coords/?bdmlID=800faa21-c28c-4b72-bd12-d41f2eed02e8&format=json&limit=1&ts=36&offset=1', 'offset': 0, 'previous': None, 'total_count': 25}\n",
      "found= 25\n",
      "limit= 1\n",
      "No.: 1\n",
      "    entity : sphere\n",
      "    id : 037001\n",
      "    label : polar1\n",
      "    radius : 1.485\n",
      "    sid : None\n",
      "    t : 37\n",
      "    x : 162\n",
      "    y : 343\n",
      "    z : 6.3\n",
      "tp=36 nn=25\n",
      "display= True\n",
      "parameter= http://ssbd1.qbic.riken.jp/SSBD/api/v3/bd5coords/?format=json;bdmlID=800faa21-c28c-4b72-bd12-d41f2eed02e8;ts=37;offset=0;limit=1\n"
     ]
    },
    {
     "name": "stderr",
     "output_type": "stream",
     "text": [
      "(MainThread) http://ssbd1.qbic.riken.jp:80 \"GET /SSBD/api/v3/bd5coords/?format=json;bdmlID=800faa21-c28c-4b72-bd12-d41f2eed02e8;ts=37;offset=0;limit=1 HTTP/1.1\" 200 None\n",
      "(MainThread) Starting new HTTP connection (1): ssbd1.qbic.riken.jp\n"
     ]
    },
    {
     "name": "stdout",
     "output_type": "stream",
     "text": [
      "meta= {'limit': 1, 'next': '/SSBD/api/v3/bd5coords/?bdmlID=800faa21-c28c-4b72-bd12-d41f2eed02e8&format=json&limit=1&ts=37&offset=1', 'offset': 0, 'previous': None, 'total_count': 25}\n",
      "found= 25\n",
      "limit= 1\n",
      "No.: 1\n",
      "    entity : sphere\n",
      "    id : 038001\n",
      "    label : polar1\n",
      "    radius : 1.395\n",
      "    sid : None\n",
      "    t : 38\n",
      "    x : 161\n",
      "    y : 343\n",
      "    z : 6.2\n",
      "tp=37 nn=25\n",
      "display= True\n",
      "parameter= http://ssbd1.qbic.riken.jp/SSBD/api/v3/bd5coords/?format=json;bdmlID=800faa21-c28c-4b72-bd12-d41f2eed02e8;ts=38;offset=0;limit=1\n"
     ]
    },
    {
     "name": "stderr",
     "output_type": "stream",
     "text": [
      "(MainThread) http://ssbd1.qbic.riken.jp:80 \"GET /SSBD/api/v3/bd5coords/?format=json;bdmlID=800faa21-c28c-4b72-bd12-d41f2eed02e8;ts=38;offset=0;limit=1 HTTP/1.1\" 200 None\n",
      "(MainThread) Starting new HTTP connection (1): ssbd1.qbic.riken.jp\n"
     ]
    },
    {
     "name": "stdout",
     "output_type": "stream",
     "text": [
      "meta= {'limit': 1, 'next': '/SSBD/api/v3/bd5coords/?bdmlID=800faa21-c28c-4b72-bd12-d41f2eed02e8&format=json&limit=1&ts=38&offset=1', 'offset': 0, 'previous': None, 'total_count': 25}\n",
      "found= 25\n",
      "limit= 1\n",
      "No.: 1\n",
      "    entity : sphere\n",
      "    id : 039001\n",
      "    label : polar1\n",
      "    radius : 1.44\n",
      "    sid : None\n",
      "    t : 39\n",
      "    x : 162\n",
      "    y : 343\n",
      "    z : 6.2\n",
      "tp=38 nn=25\n",
      "display= True\n",
      "parameter= http://ssbd1.qbic.riken.jp/SSBD/api/v3/bd5coords/?format=json;bdmlID=800faa21-c28c-4b72-bd12-d41f2eed02e8;ts=39;offset=0;limit=1\n"
     ]
    },
    {
     "name": "stderr",
     "output_type": "stream",
     "text": [
      "(MainThread) http://ssbd1.qbic.riken.jp:80 \"GET /SSBD/api/v3/bd5coords/?format=json;bdmlID=800faa21-c28c-4b72-bd12-d41f2eed02e8;ts=39;offset=0;limit=1 HTTP/1.1\" 200 None\n",
      "(MainThread) Starting new HTTP connection (1): ssbd1.qbic.riken.jp\n"
     ]
    },
    {
     "name": "stdout",
     "output_type": "stream",
     "text": [
      "meta= {'limit': 1, 'next': '/SSBD/api/v3/bd5coords/?bdmlID=800faa21-c28c-4b72-bd12-d41f2eed02e8&format=json&limit=1&ts=39&offset=1', 'offset': 0, 'previous': None, 'total_count': 25}\n",
      "found= 25\n",
      "limit= 1\n",
      "No.: 1\n",
      "    entity : sphere\n",
      "    id : 040001\n",
      "    label : polar1\n",
      "    radius : 1.44\n",
      "    sid : None\n",
      "    t : 40\n",
      "    x : 161\n",
      "    y : 342\n",
      "    z : 6.2\n",
      "tp=39 nn=25\n",
      "display= True\n",
      "parameter= http://ssbd1.qbic.riken.jp/SSBD/api/v3/bd5coords/?format=json;bdmlID=800faa21-c28c-4b72-bd12-d41f2eed02e8;ts=40;offset=0;limit=1\n"
     ]
    },
    {
     "name": "stderr",
     "output_type": "stream",
     "text": [
      "(MainThread) http://ssbd1.qbic.riken.jp:80 \"GET /SSBD/api/v3/bd5coords/?format=json;bdmlID=800faa21-c28c-4b72-bd12-d41f2eed02e8;ts=40;offset=0;limit=1 HTTP/1.1\" 200 None\n",
      "(MainThread) Starting new HTTP connection (1): ssbd1.qbic.riken.jp\n"
     ]
    },
    {
     "name": "stdout",
     "output_type": "stream",
     "text": [
      "meta= {'limit': 1, 'next': '/SSBD/api/v3/bd5coords/?bdmlID=800faa21-c28c-4b72-bd12-d41f2eed02e8&format=json&limit=1&ts=40&offset=1', 'offset': 0, 'previous': None, 'total_count': 25}\n",
      "found= 25\n",
      "limit= 1\n",
      "No.: 1\n",
      "    entity : sphere\n",
      "    id : 041001\n",
      "    label : polar1\n",
      "    radius : 1.35\n",
      "    sid : None\n",
      "    t : 41\n",
      "    x : 162\n",
      "    y : 344\n",
      "    z : 6.2\n",
      "tp=40 nn=25\n",
      "display= True\n",
      "parameter= http://ssbd1.qbic.riken.jp/SSBD/api/v3/bd5coords/?format=json;bdmlID=800faa21-c28c-4b72-bd12-d41f2eed02e8;ts=41;offset=0;limit=1\n"
     ]
    },
    {
     "name": "stderr",
     "output_type": "stream",
     "text": [
      "(MainThread) http://ssbd1.qbic.riken.jp:80 \"GET /SSBD/api/v3/bd5coords/?format=json;bdmlID=800faa21-c28c-4b72-bd12-d41f2eed02e8;ts=41;offset=0;limit=1 HTTP/1.1\" 200 None\n",
      "(MainThread) Starting new HTTP connection (1): ssbd1.qbic.riken.jp\n"
     ]
    },
    {
     "name": "stdout",
     "output_type": "stream",
     "text": [
      "meta= {'limit': 1, 'next': '/SSBD/api/v3/bd5coords/?bdmlID=800faa21-c28c-4b72-bd12-d41f2eed02e8&format=json&limit=1&ts=41&offset=1', 'offset': 0, 'previous': None, 'total_count': 25}\n",
      "found= 25\n",
      "limit= 1\n",
      "No.: 1\n",
      "    entity : sphere\n",
      "    id : 042001\n",
      "    label : polar1\n",
      "    radius : 1.395\n",
      "    sid : None\n",
      "    t : 42\n",
      "    x : 161\n",
      "    y : 343\n",
      "    z : 6.2\n",
      "tp=41 nn=25\n",
      "display= True\n",
      "parameter= http://ssbd1.qbic.riken.jp/SSBD/api/v3/bd5coords/?format=json;bdmlID=800faa21-c28c-4b72-bd12-d41f2eed02e8;ts=42;offset=0;limit=1\n"
     ]
    },
    {
     "name": "stderr",
     "output_type": "stream",
     "text": [
      "(MainThread) http://ssbd1.qbic.riken.jp:80 \"GET /SSBD/api/v3/bd5coords/?format=json;bdmlID=800faa21-c28c-4b72-bd12-d41f2eed02e8;ts=42;offset=0;limit=1 HTTP/1.1\" 200 None\n",
      "(MainThread) Starting new HTTP connection (1): ssbd1.qbic.riken.jp\n"
     ]
    },
    {
     "name": "stdout",
     "output_type": "stream",
     "text": [
      "meta= {'limit': 1, 'next': '/SSBD/api/v3/bd5coords/?bdmlID=800faa21-c28c-4b72-bd12-d41f2eed02e8&format=json&limit=1&ts=42&offset=1', 'offset': 0, 'previous': None, 'total_count': 25}\n",
      "found= 25\n",
      "limit= 1\n",
      "No.: 1\n",
      "    entity : sphere\n",
      "    id : 043001\n",
      "    label : polar1\n",
      "    radius : 1.485\n",
      "    sid : None\n",
      "    t : 43\n",
      "    x : 161\n",
      "    y : 343\n",
      "    z : 6.3\n",
      "tp=42 nn=25\n",
      "display= True\n",
      "parameter= http://ssbd1.qbic.riken.jp/SSBD/api/v3/bd5coords/?format=json;bdmlID=800faa21-c28c-4b72-bd12-d41f2eed02e8;ts=43;offset=0;limit=1\n"
     ]
    },
    {
     "name": "stderr",
     "output_type": "stream",
     "text": [
      "(MainThread) http://ssbd1.qbic.riken.jp:80 \"GET /SSBD/api/v3/bd5coords/?format=json;bdmlID=800faa21-c28c-4b72-bd12-d41f2eed02e8;ts=43;offset=0;limit=1 HTTP/1.1\" 200 None\n",
      "(MainThread) Starting new HTTP connection (1): ssbd1.qbic.riken.jp\n"
     ]
    },
    {
     "name": "stdout",
     "output_type": "stream",
     "text": [
      "meta= {'limit': 1, 'next': '/SSBD/api/v3/bd5coords/?bdmlID=800faa21-c28c-4b72-bd12-d41f2eed02e8&format=json&limit=1&ts=43&offset=1', 'offset': 0, 'previous': None, 'total_count': 25}\n",
      "found= 25\n",
      "limit= 1\n",
      "No.: 1\n",
      "    entity : sphere\n",
      "    id : 044001\n",
      "    label : polar1\n",
      "    radius : 1.44\n",
      "    sid : None\n",
      "    t : 44\n",
      "    x : 162\n",
      "    y : 343\n",
      "    z : 6.3\n",
      "tp=43 nn=25\n",
      "display= True\n",
      "parameter= http://ssbd1.qbic.riken.jp/SSBD/api/v3/bd5coords/?format=json;bdmlID=800faa21-c28c-4b72-bd12-d41f2eed02e8;ts=44;offset=0;limit=1\n"
     ]
    },
    {
     "name": "stderr",
     "output_type": "stream",
     "text": [
      "(MainThread) http://ssbd1.qbic.riken.jp:80 \"GET /SSBD/api/v3/bd5coords/?format=json;bdmlID=800faa21-c28c-4b72-bd12-d41f2eed02e8;ts=44;offset=0;limit=1 HTTP/1.1\" 200 None\n",
      "(MainThread) Starting new HTTP connection (1): ssbd1.qbic.riken.jp\n"
     ]
    },
    {
     "name": "stdout",
     "output_type": "stream",
     "text": [
      "meta= {'limit': 1, 'next': '/SSBD/api/v3/bd5coords/?bdmlID=800faa21-c28c-4b72-bd12-d41f2eed02e8&format=json&limit=1&ts=44&offset=1', 'offset': 0, 'previous': None, 'total_count': 25}\n",
      "found= 25\n",
      "limit= 1\n",
      "No.: 1\n",
      "    entity : sphere\n",
      "    id : 045001\n",
      "    label : polar1\n",
      "    radius : 1.44\n",
      "    sid : None\n",
      "    t : 45\n",
      "    x : 161\n",
      "    y : 343\n",
      "    z : 6.3\n",
      "tp=44 nn=25\n",
      "display= True\n",
      "parameter= http://ssbd1.qbic.riken.jp/SSBD/api/v3/bd5coords/?format=json;bdmlID=800faa21-c28c-4b72-bd12-d41f2eed02e8;ts=45;offset=0;limit=1\n"
     ]
    },
    {
     "name": "stderr",
     "output_type": "stream",
     "text": [
      "(MainThread) http://ssbd1.qbic.riken.jp:80 \"GET /SSBD/api/v3/bd5coords/?format=json;bdmlID=800faa21-c28c-4b72-bd12-d41f2eed02e8;ts=45;offset=0;limit=1 HTTP/1.1\" 200 None\n",
      "(MainThread) Starting new HTTP connection (1): ssbd1.qbic.riken.jp\n"
     ]
    },
    {
     "name": "stdout",
     "output_type": "stream",
     "text": [
      "meta= {'limit': 1, 'next': '/SSBD/api/v3/bd5coords/?bdmlID=800faa21-c28c-4b72-bd12-d41f2eed02e8&format=json&limit=1&ts=45&offset=1', 'offset': 0, 'previous': None, 'total_count': 27}\n",
      "found= 27\n",
      "limit= 1\n",
      "No.: 1\n",
      "    entity : sphere\n",
      "    id : 046001\n",
      "    label : polar1\n",
      "    radius : 1.53\n",
      "    sid : None\n",
      "    t : 46\n",
      "    x : 162\n",
      "    y : 343\n",
      "    z : 6.1\n",
      "tp=45 nn=27\n",
      "display= True\n",
      "parameter= http://ssbd1.qbic.riken.jp/SSBD/api/v3/bd5coords/?format=json;bdmlID=800faa21-c28c-4b72-bd12-d41f2eed02e8;ts=46;offset=0;limit=1\n"
     ]
    },
    {
     "name": "stderr",
     "output_type": "stream",
     "text": [
      "(MainThread) http://ssbd1.qbic.riken.jp:80 \"GET /SSBD/api/v3/bd5coords/?format=json;bdmlID=800faa21-c28c-4b72-bd12-d41f2eed02e8;ts=46;offset=0;limit=1 HTTP/1.1\" 200 None\n",
      "(MainThread) Starting new HTTP connection (1): ssbd1.qbic.riken.jp\n"
     ]
    },
    {
     "name": "stdout",
     "output_type": "stream",
     "text": [
      "meta= {'limit': 1, 'next': '/SSBD/api/v3/bd5coords/?bdmlID=800faa21-c28c-4b72-bd12-d41f2eed02e8&format=json&limit=1&ts=46&offset=1', 'offset': 0, 'previous': None, 'total_count': 27}\n",
      "found= 27\n",
      "limit= 1\n",
      "No.: 1\n",
      "    entity : sphere\n",
      "    id : 047001\n",
      "    label : polar1\n",
      "    radius : 1.44\n",
      "    sid : None\n",
      "    t : 47\n",
      "    x : 162\n",
      "    y : 343\n",
      "    z : 6.3\n",
      "tp=46 nn=27\n",
      "display= True\n",
      "parameter= http://ssbd1.qbic.riken.jp/SSBD/api/v3/bd5coords/?format=json;bdmlID=800faa21-c28c-4b72-bd12-d41f2eed02e8;ts=47;offset=0;limit=1\n"
     ]
    },
    {
     "name": "stderr",
     "output_type": "stream",
     "text": [
      "(MainThread) http://ssbd1.qbic.riken.jp:80 \"GET /SSBD/api/v3/bd5coords/?format=json;bdmlID=800faa21-c28c-4b72-bd12-d41f2eed02e8;ts=47;offset=0;limit=1 HTTP/1.1\" 200 None\n",
      "(MainThread) Starting new HTTP connection (1): ssbd1.qbic.riken.jp\n"
     ]
    },
    {
     "name": "stdout",
     "output_type": "stream",
     "text": [
      "meta= {'limit': 1, 'next': '/SSBD/api/v3/bd5coords/?bdmlID=800faa21-c28c-4b72-bd12-d41f2eed02e8&format=json&limit=1&ts=47&offset=1', 'offset': 0, 'previous': None, 'total_count': 27}\n",
      "found= 27\n",
      "limit= 1\n",
      "No.: 1\n",
      "    entity : sphere\n",
      "    id : 048001\n",
      "    label : polar1\n",
      "    radius : 1.485\n",
      "    sid : None\n",
      "    t : 48\n",
      "    x : 161\n",
      "    y : 343\n",
      "    z : 6.2\n",
      "tp=47 nn=27\n",
      "display= True\n",
      "parameter= http://ssbd1.qbic.riken.jp/SSBD/api/v3/bd5coords/?format=json;bdmlID=800faa21-c28c-4b72-bd12-d41f2eed02e8;ts=48;offset=0;limit=1\n"
     ]
    },
    {
     "name": "stderr",
     "output_type": "stream",
     "text": [
      "(MainThread) http://ssbd1.qbic.riken.jp:80 \"GET /SSBD/api/v3/bd5coords/?format=json;bdmlID=800faa21-c28c-4b72-bd12-d41f2eed02e8;ts=48;offset=0;limit=1 HTTP/1.1\" 200 None\n",
      "(MainThread) Starting new HTTP connection (1): ssbd1.qbic.riken.jp\n"
     ]
    },
    {
     "name": "stdout",
     "output_type": "stream",
     "text": [
      "meta= {'limit': 1, 'next': '/SSBD/api/v3/bd5coords/?bdmlID=800faa21-c28c-4b72-bd12-d41f2eed02e8&format=json&limit=1&ts=48&offset=1', 'offset': 0, 'previous': None, 'total_count': 27}\n",
      "found= 27\n",
      "limit= 1\n",
      "No.: 1\n",
      "    entity : sphere\n",
      "    id : 049001\n",
      "    label : polar1\n",
      "    radius : 1.485\n",
      "    sid : None\n",
      "    t : 49\n",
      "    x : 162\n",
      "    y : 344\n",
      "    z : 6.3\n",
      "tp=48 nn=27\n",
      "display= True\n",
      "parameter= http://ssbd1.qbic.riken.jp/SSBD/api/v3/bd5coords/?format=json;bdmlID=800faa21-c28c-4b72-bd12-d41f2eed02e8;ts=49;offset=0;limit=1\n"
     ]
    },
    {
     "name": "stderr",
     "output_type": "stream",
     "text": [
      "(MainThread) http://ssbd1.qbic.riken.jp:80 \"GET /SSBD/api/v3/bd5coords/?format=json;bdmlID=800faa21-c28c-4b72-bd12-d41f2eed02e8;ts=49;offset=0;limit=1 HTTP/1.1\" 200 None\n",
      "(MainThread) Starting new HTTP connection (1): ssbd1.qbic.riken.jp\n"
     ]
    },
    {
     "name": "stdout",
     "output_type": "stream",
     "text": [
      "meta= {'limit': 1, 'next': '/SSBD/api/v3/bd5coords/?bdmlID=800faa21-c28c-4b72-bd12-d41f2eed02e8&format=json&limit=1&ts=49&offset=1', 'offset': 0, 'previous': None, 'total_count': 27}\n",
      "found= 27\n",
      "limit= 1\n",
      "No.: 1\n",
      "    entity : sphere\n",
      "    id : 050001\n",
      "    label : polar1\n",
      "    radius : 1.395\n",
      "    sid : None\n",
      "    t : 50\n",
      "    x : 163\n",
      "    y : 343\n",
      "    z : 6.3\n",
      "tp=49 nn=27\n",
      "display= True\n",
      "parameter= http://ssbd1.qbic.riken.jp/SSBD/api/v3/bd5coords/?format=json;bdmlID=800faa21-c28c-4b72-bd12-d41f2eed02e8;ts=50;offset=0;limit=1\n"
     ]
    },
    {
     "name": "stderr",
     "output_type": "stream",
     "text": [
      "(MainThread) http://ssbd1.qbic.riken.jp:80 \"GET /SSBD/api/v3/bd5coords/?format=json;bdmlID=800faa21-c28c-4b72-bd12-d41f2eed02e8;ts=50;offset=0;limit=1 HTTP/1.1\" 200 None\n",
      "(MainThread) Starting new HTTP connection (1): ssbd1.qbic.riken.jp\n"
     ]
    },
    {
     "name": "stdout",
     "output_type": "stream",
     "text": [
      "meta= {'limit': 1, 'next': '/SSBD/api/v3/bd5coords/?bdmlID=800faa21-c28c-4b72-bd12-d41f2eed02e8&format=json&limit=1&ts=50&offset=1', 'offset': 0, 'previous': None, 'total_count': 27}\n",
      "found= 27\n",
      "limit= 1\n",
      "No.: 1\n",
      "    entity : sphere\n",
      "    id : 051001\n",
      "    label : polar1\n",
      "    radius : 1.44\n",
      "    sid : None\n",
      "    t : 51\n",
      "    x : 163\n",
      "    y : 343\n",
      "    z : 6.2\n",
      "tp=50 nn=27\n",
      "display= True\n",
      "parameter= http://ssbd1.qbic.riken.jp/SSBD/api/v3/bd5coords/?format=json;bdmlID=800faa21-c28c-4b72-bd12-d41f2eed02e8;ts=51;offset=0;limit=1\n"
     ]
    },
    {
     "name": "stderr",
     "output_type": "stream",
     "text": [
      "(MainThread) http://ssbd1.qbic.riken.jp:80 \"GET /SSBD/api/v3/bd5coords/?format=json;bdmlID=800faa21-c28c-4b72-bd12-d41f2eed02e8;ts=51;offset=0;limit=1 HTTP/1.1\" 200 None\n",
      "(MainThread) Starting new HTTP connection (1): ssbd1.qbic.riken.jp\n"
     ]
    },
    {
     "name": "stdout",
     "output_type": "stream",
     "text": [
      "meta= {'limit': 1, 'next': '/SSBD/api/v3/bd5coords/?bdmlID=800faa21-c28c-4b72-bd12-d41f2eed02e8&format=json&limit=1&ts=51&offset=1', 'offset': 0, 'previous': None, 'total_count': 27}\n",
      "found= 27\n",
      "limit= 1\n",
      "No.: 1\n",
      "    entity : sphere\n",
      "    id : 052001\n",
      "    label : polar1\n",
      "    radius : 1.44\n",
      "    sid : None\n",
      "    t : 52\n",
      "    x : 163\n",
      "    y : 343\n",
      "    z : 6.2\n",
      "tp=51 nn=27\n",
      "display= True\n",
      "parameter= http://ssbd1.qbic.riken.jp/SSBD/api/v3/bd5coords/?format=json;bdmlID=800faa21-c28c-4b72-bd12-d41f2eed02e8;ts=52;offset=0;limit=1\n"
     ]
    },
    {
     "name": "stderr",
     "output_type": "stream",
     "text": [
      "(MainThread) http://ssbd1.qbic.riken.jp:80 \"GET /SSBD/api/v3/bd5coords/?format=json;bdmlID=800faa21-c28c-4b72-bd12-d41f2eed02e8;ts=52;offset=0;limit=1 HTTP/1.1\" 200 None\n",
      "(MainThread) Starting new HTTP connection (1): ssbd1.qbic.riken.jp\n"
     ]
    },
    {
     "name": "stdout",
     "output_type": "stream",
     "text": [
      "meta= {'limit': 1, 'next': '/SSBD/api/v3/bd5coords/?bdmlID=800faa21-c28c-4b72-bd12-d41f2eed02e8&format=json&limit=1&ts=52&offset=1', 'offset': 0, 'previous': None, 'total_count': 29}\n",
      "found= 29\n",
      "limit= 1\n",
      "No.: 1\n",
      "    entity : sphere\n",
      "    id : 053001\n",
      "    label : polar1\n",
      "    radius : 1.485\n",
      "    sid : None\n",
      "    t : 53\n",
      "    x : 162\n",
      "    y : 343\n",
      "    z : 6.2\n",
      "tp=52 nn=29\n",
      "display= True\n",
      "parameter= http://ssbd1.qbic.riken.jp/SSBD/api/v3/bd5coords/?format=json;bdmlID=800faa21-c28c-4b72-bd12-d41f2eed02e8;ts=53;offset=0;limit=1\n"
     ]
    },
    {
     "name": "stderr",
     "output_type": "stream",
     "text": [
      "(MainThread) http://ssbd1.qbic.riken.jp:80 \"GET /SSBD/api/v3/bd5coords/?format=json;bdmlID=800faa21-c28c-4b72-bd12-d41f2eed02e8;ts=53;offset=0;limit=1 HTTP/1.1\" 200 None\n",
      "(MainThread) Starting new HTTP connection (1): ssbd1.qbic.riken.jp\n"
     ]
    },
    {
     "name": "stdout",
     "output_type": "stream",
     "text": [
      "meta= {'limit': 1, 'next': '/SSBD/api/v3/bd5coords/?bdmlID=800faa21-c28c-4b72-bd12-d41f2eed02e8&format=json&limit=1&ts=53&offset=1', 'offset': 0, 'previous': None, 'total_count': 29}\n",
      "found= 29\n",
      "limit= 1\n",
      "No.: 1\n",
      "    entity : sphere\n",
      "    id : 054001\n",
      "    label : polar1\n",
      "    radius : 1.395\n",
      "    sid : None\n",
      "    t : 54\n",
      "    x : 162\n",
      "    y : 344\n",
      "    z : 6.2\n",
      "tp=53 nn=29\n",
      "display= True\n",
      "parameter= http://ssbd1.qbic.riken.jp/SSBD/api/v3/bd5coords/?format=json;bdmlID=800faa21-c28c-4b72-bd12-d41f2eed02e8;ts=54;offset=0;limit=1\n"
     ]
    },
    {
     "name": "stderr",
     "output_type": "stream",
     "text": [
      "(MainThread) http://ssbd1.qbic.riken.jp:80 \"GET /SSBD/api/v3/bd5coords/?format=json;bdmlID=800faa21-c28c-4b72-bd12-d41f2eed02e8;ts=54;offset=0;limit=1 HTTP/1.1\" 200 None\n",
      "(MainThread) Starting new HTTP connection (1): ssbd1.qbic.riken.jp\n"
     ]
    },
    {
     "name": "stdout",
     "output_type": "stream",
     "text": [
      "meta= {'limit': 1, 'next': '/SSBD/api/v3/bd5coords/?bdmlID=800faa21-c28c-4b72-bd12-d41f2eed02e8&format=json&limit=1&ts=54&offset=1', 'offset': 0, 'previous': None, 'total_count': 29}\n",
      "found= 29\n",
      "limit= 1\n",
      "No.: 1\n",
      "    entity : sphere\n",
      "    id : 055001\n",
      "    label : polar1\n",
      "    radius : 1.35\n",
      "    sid : None\n",
      "    t : 55\n",
      "    x : 162\n",
      "    y : 344\n",
      "    z : 6.2\n",
      "tp=54 nn=29\n",
      "display= True\n",
      "parameter= http://ssbd1.qbic.riken.jp/SSBD/api/v3/bd5coords/?format=json;bdmlID=800faa21-c28c-4b72-bd12-d41f2eed02e8;ts=55;offset=0;limit=1\n"
     ]
    },
    {
     "name": "stderr",
     "output_type": "stream",
     "text": [
      "(MainThread) http://ssbd1.qbic.riken.jp:80 \"GET /SSBD/api/v3/bd5coords/?format=json;bdmlID=800faa21-c28c-4b72-bd12-d41f2eed02e8;ts=55;offset=0;limit=1 HTTP/1.1\" 200 None\n",
      "(MainThread) Starting new HTTP connection (1): ssbd1.qbic.riken.jp\n"
     ]
    },
    {
     "name": "stdout",
     "output_type": "stream",
     "text": [
      "meta= {'limit': 1, 'next': '/SSBD/api/v3/bd5coords/?bdmlID=800faa21-c28c-4b72-bd12-d41f2eed02e8&format=json&limit=1&ts=55&offset=1', 'offset': 0, 'previous': None, 'total_count': 29}\n",
      "found= 29\n",
      "limit= 1\n",
      "No.: 1\n",
      "    entity : sphere\n",
      "    id : 056001\n",
      "    label : polar1\n",
      "    radius : 1.44\n",
      "    sid : None\n",
      "    t : 56\n",
      "    x : 161\n",
      "    y : 344\n",
      "    z : 6.3\n",
      "tp=55 nn=29\n",
      "display= True\n",
      "parameter= http://ssbd1.qbic.riken.jp/SSBD/api/v3/bd5coords/?format=json;bdmlID=800faa21-c28c-4b72-bd12-d41f2eed02e8;ts=56;offset=0;limit=1\n"
     ]
    },
    {
     "name": "stderr",
     "output_type": "stream",
     "text": [
      "(MainThread) http://ssbd1.qbic.riken.jp:80 \"GET /SSBD/api/v3/bd5coords/?format=json;bdmlID=800faa21-c28c-4b72-bd12-d41f2eed02e8;ts=56;offset=0;limit=1 HTTP/1.1\" 200 None\n",
      "(MainThread) Starting new HTTP connection (1): ssbd1.qbic.riken.jp\n"
     ]
    },
    {
     "name": "stdout",
     "output_type": "stream",
     "text": [
      "meta= {'limit': 1, 'next': '/SSBD/api/v3/bd5coords/?bdmlID=800faa21-c28c-4b72-bd12-d41f2eed02e8&format=json&limit=1&ts=56&offset=1', 'offset': 0, 'previous': None, 'total_count': 29}\n",
      "found= 29\n",
      "limit= 1\n",
      "No.: 1\n",
      "    entity : sphere\n",
      "    id : 057001\n",
      "    label : polar1\n",
      "    radius : 1.44\n",
      "    sid : None\n",
      "    t : 57\n",
      "    x : 162\n",
      "    y : 343\n",
      "    z : 6.3\n",
      "tp=56 nn=29\n",
      "display= True\n",
      "parameter= http://ssbd1.qbic.riken.jp/SSBD/api/v3/bd5coords/?format=json;bdmlID=800faa21-c28c-4b72-bd12-d41f2eed02e8;ts=57;offset=0;limit=1\n"
     ]
    },
    {
     "name": "stderr",
     "output_type": "stream",
     "text": [
      "(MainThread) http://ssbd1.qbic.riken.jp:80 \"GET /SSBD/api/v3/bd5coords/?format=json;bdmlID=800faa21-c28c-4b72-bd12-d41f2eed02e8;ts=57;offset=0;limit=1 HTTP/1.1\" 200 None\n",
      "(MainThread) Starting new HTTP connection (1): ssbd1.qbic.riken.jp\n"
     ]
    },
    {
     "name": "stdout",
     "output_type": "stream",
     "text": [
      "meta= {'limit': 1, 'next': '/SSBD/api/v3/bd5coords/?bdmlID=800faa21-c28c-4b72-bd12-d41f2eed02e8&format=json&limit=1&ts=57&offset=1', 'offset': 0, 'previous': None, 'total_count': 29}\n",
      "found= 29\n",
      "limit= 1\n",
      "No.: 1\n",
      "    entity : sphere\n",
      "    id : 058001\n",
      "    label : polar1\n",
      "    radius : 1.44\n",
      "    sid : None\n",
      "    t : 58\n",
      "    x : 163\n",
      "    y : 344\n",
      "    z : 6.3\n",
      "tp=57 nn=29\n",
      "display= True\n",
      "parameter= http://ssbd1.qbic.riken.jp/SSBD/api/v3/bd5coords/?format=json;bdmlID=800faa21-c28c-4b72-bd12-d41f2eed02e8;ts=58;offset=0;limit=1\n"
     ]
    },
    {
     "name": "stderr",
     "output_type": "stream",
     "text": [
      "(MainThread) http://ssbd1.qbic.riken.jp:80 \"GET /SSBD/api/v3/bd5coords/?format=json;bdmlID=800faa21-c28c-4b72-bd12-d41f2eed02e8;ts=58;offset=0;limit=1 HTTP/1.1\" 200 None\n",
      "(MainThread) Starting new HTTP connection (1): ssbd1.qbic.riken.jp\n"
     ]
    },
    {
     "name": "stdout",
     "output_type": "stream",
     "text": [
      "meta= {'limit': 1, 'next': '/SSBD/api/v3/bd5coords/?bdmlID=800faa21-c28c-4b72-bd12-d41f2eed02e8&format=json&limit=1&ts=58&offset=1', 'offset': 0, 'previous': None, 'total_count': 31}\n",
      "found= 31\n",
      "limit= 1\n",
      "No.: 1\n",
      "    entity : sphere\n",
      "    id : 059001\n",
      "    label : polar1\n",
      "    radius : 1.485\n",
      "    sid : None\n",
      "    t : 59\n",
      "    x : 162\n",
      "    y : 344\n",
      "    z : 6.2\n",
      "tp=58 nn=31\n",
      "display= True\n",
      "parameter= http://ssbd1.qbic.riken.jp/SSBD/api/v3/bd5coords/?format=json;bdmlID=800faa21-c28c-4b72-bd12-d41f2eed02e8;ts=59;offset=0;limit=1\n"
     ]
    },
    {
     "name": "stderr",
     "output_type": "stream",
     "text": [
      "(MainThread) http://ssbd1.qbic.riken.jp:80 \"GET /SSBD/api/v3/bd5coords/?format=json;bdmlID=800faa21-c28c-4b72-bd12-d41f2eed02e8;ts=59;offset=0;limit=1 HTTP/1.1\" 200 None\n",
      "(MainThread) Starting new HTTP connection (1): ssbd1.qbic.riken.jp\n"
     ]
    },
    {
     "name": "stdout",
     "output_type": "stream",
     "text": [
      "meta= {'limit': 1, 'next': '/SSBD/api/v3/bd5coords/?bdmlID=800faa21-c28c-4b72-bd12-d41f2eed02e8&format=json&limit=1&ts=59&offset=1', 'offset': 0, 'previous': None, 'total_count': 38}\n",
      "found= 38\n",
      "limit= 1\n",
      "No.: 1\n",
      "    entity : sphere\n",
      "    id : 060001\n",
      "    label : polar1\n",
      "    radius : 1.485\n",
      "    sid : None\n",
      "    t : 60\n",
      "    x : 162\n",
      "    y : 343\n",
      "    z : 6.2\n",
      "tp=59 nn=38\n",
      "display= True\n",
      "parameter= http://ssbd1.qbic.riken.jp/SSBD/api/v3/bd5coords/?format=json;bdmlID=800faa21-c28c-4b72-bd12-d41f2eed02e8;ts=60;offset=0;limit=1\n"
     ]
    },
    {
     "name": "stderr",
     "output_type": "stream",
     "text": [
      "(MainThread) http://ssbd1.qbic.riken.jp:80 \"GET /SSBD/api/v3/bd5coords/?format=json;bdmlID=800faa21-c28c-4b72-bd12-d41f2eed02e8;ts=60;offset=0;limit=1 HTTP/1.1\" 200 None\n",
      "(MainThread) Starting new HTTP connection (1): ssbd1.qbic.riken.jp\n"
     ]
    },
    {
     "name": "stdout",
     "output_type": "stream",
     "text": [
      "meta= {'limit': 1, 'next': '/SSBD/api/v3/bd5coords/?bdmlID=800faa21-c28c-4b72-bd12-d41f2eed02e8&format=json&limit=1&ts=60&offset=1', 'offset': 0, 'previous': None, 'total_count': 44}\n",
      "found= 44\n",
      "limit= 1\n",
      "No.: 1\n",
      "    entity : sphere\n",
      "    id : 061001\n",
      "    label : polar1\n",
      "    radius : 1.53\n",
      "    sid : None\n",
      "    t : 61\n",
      "    x : 162\n",
      "    y : 344\n",
      "    z : 6.2\n",
      "tp=60 nn=44\n",
      "display= True\n",
      "parameter= http://ssbd1.qbic.riken.jp/SSBD/api/v3/bd5coords/?format=json;bdmlID=800faa21-c28c-4b72-bd12-d41f2eed02e8;ts=61;offset=0;limit=1\n"
     ]
    },
    {
     "name": "stderr",
     "output_type": "stream",
     "text": [
      "(MainThread) http://ssbd1.qbic.riken.jp:80 \"GET /SSBD/api/v3/bd5coords/?format=json;bdmlID=800faa21-c28c-4b72-bd12-d41f2eed02e8;ts=61;offset=0;limit=1 HTTP/1.1\" 200 None\n",
      "(MainThread) Starting new HTTP connection (1): ssbd1.qbic.riken.jp\n"
     ]
    },
    {
     "name": "stdout",
     "output_type": "stream",
     "text": [
      "meta= {'limit': 1, 'next': '/SSBD/api/v3/bd5coords/?bdmlID=800faa21-c28c-4b72-bd12-d41f2eed02e8&format=json&limit=1&ts=61&offset=1', 'offset': 0, 'previous': None, 'total_count': 46}\n",
      "found= 46\n",
      "limit= 1\n",
      "No.: 1\n",
      "    entity : sphere\n",
      "    id : 062001\n",
      "    label : polar1\n",
      "    radius : 1.485\n",
      "    sid : None\n",
      "    t : 62\n",
      "    x : 162\n",
      "    y : 344\n",
      "    z : 6.3\n",
      "tp=61 nn=46\n",
      "display= True\n",
      "parameter= http://ssbd1.qbic.riken.jp/SSBD/api/v3/bd5coords/?format=json;bdmlID=800faa21-c28c-4b72-bd12-d41f2eed02e8;ts=62;offset=0;limit=1\n"
     ]
    },
    {
     "name": "stderr",
     "output_type": "stream",
     "text": [
      "(MainThread) http://ssbd1.qbic.riken.jp:80 \"GET /SSBD/api/v3/bd5coords/?format=json;bdmlID=800faa21-c28c-4b72-bd12-d41f2eed02e8;ts=62;offset=0;limit=1 HTTP/1.1\" 200 None\n",
      "(MainThread) Starting new HTTP connection (1): ssbd1.qbic.riken.jp\n"
     ]
    },
    {
     "name": "stdout",
     "output_type": "stream",
     "text": [
      "meta= {'limit': 1, 'next': '/SSBD/api/v3/bd5coords/?bdmlID=800faa21-c28c-4b72-bd12-d41f2eed02e8&format=json&limit=1&ts=62&offset=1', 'offset': 0, 'previous': None, 'total_count': 46}\n",
      "found= 46\n",
      "limit= 1\n",
      "No.: 1\n",
      "    entity : sphere\n",
      "    id : 063001\n",
      "    label : polar1\n",
      "    radius : 1.485\n",
      "    sid : None\n",
      "    t : 63\n",
      "    x : 162\n",
      "    y : 345\n",
      "    z : 6.3\n",
      "tp=62 nn=46\n",
      "display= True\n",
      "parameter= http://ssbd1.qbic.riken.jp/SSBD/api/v3/bd5coords/?format=json;bdmlID=800faa21-c28c-4b72-bd12-d41f2eed02e8;ts=63;offset=0;limit=1\n"
     ]
    },
    {
     "name": "stderr",
     "output_type": "stream",
     "text": [
      "(MainThread) http://ssbd1.qbic.riken.jp:80 \"GET /SSBD/api/v3/bd5coords/?format=json;bdmlID=800faa21-c28c-4b72-bd12-d41f2eed02e8;ts=63;offset=0;limit=1 HTTP/1.1\" 200 None\n",
      "(MainThread) Starting new HTTP connection (1): ssbd1.qbic.riken.jp\n"
     ]
    },
    {
     "name": "stdout",
     "output_type": "stream",
     "text": [
      "meta= {'limit': 1, 'next': '/SSBD/api/v3/bd5coords/?bdmlID=800faa21-c28c-4b72-bd12-d41f2eed02e8&format=json&limit=1&ts=63&offset=1', 'offset': 0, 'previous': None, 'total_count': 46}\n",
      "found= 46\n",
      "limit= 1\n",
      "No.: 1\n",
      "    entity : sphere\n",
      "    id : 064001\n",
      "    label : polar1\n",
      "    radius : 1.485\n",
      "    sid : None\n",
      "    t : 64\n",
      "    x : 164\n",
      "    y : 345\n",
      "    z : 6.3\n",
      "tp=63 nn=46\n",
      "display= True\n",
      "parameter= http://ssbd1.qbic.riken.jp/SSBD/api/v3/bd5coords/?format=json;bdmlID=800faa21-c28c-4b72-bd12-d41f2eed02e8;ts=64;offset=0;limit=1\n"
     ]
    },
    {
     "name": "stderr",
     "output_type": "stream",
     "text": [
      "(MainThread) http://ssbd1.qbic.riken.jp:80 \"GET /SSBD/api/v3/bd5coords/?format=json;bdmlID=800faa21-c28c-4b72-bd12-d41f2eed02e8;ts=64;offset=0;limit=1 HTTP/1.1\" 200 None\n",
      "(MainThread) Starting new HTTP connection (1): ssbd1.qbic.riken.jp\n"
     ]
    },
    {
     "name": "stdout",
     "output_type": "stream",
     "text": [
      "meta= {'limit': 1, 'next': '/SSBD/api/v3/bd5coords/?bdmlID=800faa21-c28c-4b72-bd12-d41f2eed02e8&format=json&limit=1&ts=64&offset=1', 'offset': 0, 'previous': None, 'total_count': 47}\n",
      "found= 47\n",
      "limit= 1\n",
      "No.: 1\n",
      "    entity : sphere\n",
      "    id : 065001\n",
      "    label : polar1\n",
      "    radius : 1.485\n",
      "    sid : None\n",
      "    t : 65\n",
      "    x : 162\n",
      "    y : 344\n",
      "    z : 6.3\n",
      "tp=64 nn=47\n",
      "display= True\n",
      "parameter= http://ssbd1.qbic.riken.jp/SSBD/api/v3/bd5coords/?format=json;bdmlID=800faa21-c28c-4b72-bd12-d41f2eed02e8;ts=65;offset=0;limit=1\n"
     ]
    },
    {
     "name": "stderr",
     "output_type": "stream",
     "text": [
      "(MainThread) http://ssbd1.qbic.riken.jp:80 \"GET /SSBD/api/v3/bd5coords/?format=json;bdmlID=800faa21-c28c-4b72-bd12-d41f2eed02e8;ts=65;offset=0;limit=1 HTTP/1.1\" 200 None\n",
      "(MainThread) Starting new HTTP connection (1): ssbd1.qbic.riken.jp\n"
     ]
    },
    {
     "name": "stdout",
     "output_type": "stream",
     "text": [
      "meta= {'limit': 1, 'next': '/SSBD/api/v3/bd5coords/?bdmlID=800faa21-c28c-4b72-bd12-d41f2eed02e8&format=json&limit=1&ts=65&offset=1', 'offset': 0, 'previous': None, 'total_count': 47}\n",
      "found= 47\n",
      "limit= 1\n",
      "No.: 1\n",
      "    entity : sphere\n",
      "    id : 066001\n",
      "    label : polar1\n",
      "    radius : 1.44\n",
      "    sid : None\n",
      "    t : 66\n",
      "    x : 162\n",
      "    y : 345\n",
      "    z : 6.3\n",
      "tp=65 nn=47\n",
      "display= True\n",
      "parameter= http://ssbd1.qbic.riken.jp/SSBD/api/v3/bd5coords/?format=json;bdmlID=800faa21-c28c-4b72-bd12-d41f2eed02e8;ts=66;offset=0;limit=1\n"
     ]
    },
    {
     "name": "stderr",
     "output_type": "stream",
     "text": [
      "(MainThread) http://ssbd1.qbic.riken.jp:80 \"GET /SSBD/api/v3/bd5coords/?format=json;bdmlID=800faa21-c28c-4b72-bd12-d41f2eed02e8;ts=66;offset=0;limit=1 HTTP/1.1\" 200 None\n",
      "(MainThread) Starting new HTTP connection (1): ssbd1.qbic.riken.jp\n"
     ]
    },
    {
     "name": "stdout",
     "output_type": "stream",
     "text": [
      "meta= {'limit': 1, 'next': '/SSBD/api/v3/bd5coords/?bdmlID=800faa21-c28c-4b72-bd12-d41f2eed02e8&format=json&limit=1&ts=66&offset=1', 'offset': 0, 'previous': None, 'total_count': 48}\n",
      "found= 48\n",
      "limit= 1\n",
      "No.: 1\n",
      "    entity : sphere\n",
      "    id : 067001\n",
      "    label : polar1\n",
      "    radius : 1.44\n",
      "    sid : None\n",
      "    t : 67\n",
      "    x : 163\n",
      "    y : 344\n",
      "    z : 6.2\n",
      "tp=66 nn=48\n",
      "display= True\n",
      "parameter= http://ssbd1.qbic.riken.jp/SSBD/api/v3/bd5coords/?format=json;bdmlID=800faa21-c28c-4b72-bd12-d41f2eed02e8;ts=67;offset=0;limit=1\n"
     ]
    },
    {
     "name": "stderr",
     "output_type": "stream",
     "text": [
      "(MainThread) http://ssbd1.qbic.riken.jp:80 \"GET /SSBD/api/v3/bd5coords/?format=json;bdmlID=800faa21-c28c-4b72-bd12-d41f2eed02e8;ts=67;offset=0;limit=1 HTTP/1.1\" 200 None\n",
      "(MainThread) Starting new HTTP connection (1): ssbd1.qbic.riken.jp\n"
     ]
    },
    {
     "name": "stdout",
     "output_type": "stream",
     "text": [
      "meta= {'limit': 1, 'next': '/SSBD/api/v3/bd5coords/?bdmlID=800faa21-c28c-4b72-bd12-d41f2eed02e8&format=json&limit=1&ts=67&offset=1', 'offset': 0, 'previous': None, 'total_count': 48}\n",
      "found= 48\n",
      "limit= 1\n",
      "No.: 1\n",
      "    entity : sphere\n",
      "    id : 068001\n",
      "    label : polar1\n",
      "    radius : 1.44\n",
      "    sid : None\n",
      "    t : 68\n",
      "    x : 162\n",
      "    y : 345\n",
      "    z : 6.2\n",
      "tp=67 nn=48\n",
      "display= True\n",
      "parameter= http://ssbd1.qbic.riken.jp/SSBD/api/v3/bd5coords/?format=json;bdmlID=800faa21-c28c-4b72-bd12-d41f2eed02e8;ts=68;offset=0;limit=1\n"
     ]
    },
    {
     "name": "stderr",
     "output_type": "stream",
     "text": [
      "(MainThread) http://ssbd1.qbic.riken.jp:80 \"GET /SSBD/api/v3/bd5coords/?format=json;bdmlID=800faa21-c28c-4b72-bd12-d41f2eed02e8;ts=68;offset=0;limit=1 HTTP/1.1\" 200 None\n",
      "(MainThread) Starting new HTTP connection (1): ssbd1.qbic.riken.jp\n"
     ]
    },
    {
     "name": "stdout",
     "output_type": "stream",
     "text": [
      "meta= {'limit': 1, 'next': '/SSBD/api/v3/bd5coords/?bdmlID=800faa21-c28c-4b72-bd12-d41f2eed02e8&format=json&limit=1&ts=68&offset=1', 'offset': 0, 'previous': None, 'total_count': 49}\n",
      "found= 49\n",
      "limit= 1\n",
      "No.: 1\n",
      "    entity : sphere\n",
      "    id : 069001\n",
      "    label : polar1\n",
      "    radius : 1.44\n",
      "    sid : None\n",
      "    t : 69\n",
      "    x : 162\n",
      "    y : 344\n",
      "    z : 6.3\n",
      "tp=68 nn=49\n",
      "display= True\n",
      "parameter= http://ssbd1.qbic.riken.jp/SSBD/api/v3/bd5coords/?format=json;bdmlID=800faa21-c28c-4b72-bd12-d41f2eed02e8;ts=69;offset=0;limit=1\n"
     ]
    },
    {
     "name": "stderr",
     "output_type": "stream",
     "text": [
      "(MainThread) http://ssbd1.qbic.riken.jp:80 \"GET /SSBD/api/v3/bd5coords/?format=json;bdmlID=800faa21-c28c-4b72-bd12-d41f2eed02e8;ts=69;offset=0;limit=1 HTTP/1.1\" 200 None\n",
      "(MainThread) Starting new HTTP connection (1): ssbd1.qbic.riken.jp\n"
     ]
    },
    {
     "name": "stdout",
     "output_type": "stream",
     "text": [
      "meta= {'limit': 1, 'next': '/SSBD/api/v3/bd5coords/?bdmlID=800faa21-c28c-4b72-bd12-d41f2eed02e8&format=json&limit=1&ts=69&offset=1', 'offset': 0, 'previous': None, 'total_count': 50}\n",
      "found= 50\n",
      "limit= 1\n",
      "No.: 1\n",
      "    entity : sphere\n",
      "    id : 070001\n",
      "    label : polar1\n",
      "    radius : 1.35\n",
      "    sid : None\n",
      "    t : 70\n",
      "    x : 163\n",
      "    y : 344\n",
      "    z : 6.2\n",
      "tp=69 nn=50\n",
      "display= True\n",
      "parameter= http://ssbd1.qbic.riken.jp/SSBD/api/v3/bd5coords/?format=json;bdmlID=800faa21-c28c-4b72-bd12-d41f2eed02e8;ts=70;offset=0;limit=1\n"
     ]
    },
    {
     "name": "stderr",
     "output_type": "stream",
     "text": [
      "(MainThread) http://ssbd1.qbic.riken.jp:80 \"GET /SSBD/api/v3/bd5coords/?format=json;bdmlID=800faa21-c28c-4b72-bd12-d41f2eed02e8;ts=70;offset=0;limit=1 HTTP/1.1\" 200 None\n",
      "(MainThread) Starting new HTTP connection (1): ssbd1.qbic.riken.jp\n"
     ]
    },
    {
     "name": "stdout",
     "output_type": "stream",
     "text": [
      "meta= {'limit': 1, 'next': '/SSBD/api/v3/bd5coords/?bdmlID=800faa21-c28c-4b72-bd12-d41f2eed02e8&format=json&limit=1&ts=70&offset=1', 'offset': 0, 'previous': None, 'total_count': 51}\n",
      "found= 51\n",
      "limit= 1\n",
      "No.: 1\n",
      "    entity : sphere\n",
      "    id : 071001\n",
      "    label : polar1\n",
      "    radius : 1.485\n",
      "    sid : None\n",
      "    t : 71\n",
      "    x : 163\n",
      "    y : 345\n",
      "    z : 6.3\n",
      "tp=70 nn=51\n",
      "display= True\n",
      "parameter= http://ssbd1.qbic.riken.jp/SSBD/api/v3/bd5coords/?format=json;bdmlID=800faa21-c28c-4b72-bd12-d41f2eed02e8;ts=71;offset=0;limit=1\n"
     ]
    },
    {
     "name": "stderr",
     "output_type": "stream",
     "text": [
      "(MainThread) http://ssbd1.qbic.riken.jp:80 \"GET /SSBD/api/v3/bd5coords/?format=json;bdmlID=800faa21-c28c-4b72-bd12-d41f2eed02e8;ts=71;offset=0;limit=1 HTTP/1.1\" 200 None\n",
      "(MainThread) Starting new HTTP connection (1): ssbd1.qbic.riken.jp\n"
     ]
    },
    {
     "name": "stdout",
     "output_type": "stream",
     "text": [
      "meta= {'limit': 1, 'next': '/SSBD/api/v3/bd5coords/?bdmlID=800faa21-c28c-4b72-bd12-d41f2eed02e8&format=json&limit=1&ts=71&offset=1', 'offset': 0, 'previous': None, 'total_count': 52}\n",
      "found= 52\n",
      "limit= 1\n",
      "No.: 1\n",
      "    entity : sphere\n",
      "    id : 072001\n",
      "    label : ABplaaa\n",
      "    radius : 2.34\n",
      "    sid : None\n",
      "    t : 72\n",
      "    x : 184\n",
      "    y : 261\n",
      "    z : 9\n",
      "tp=71 nn=52\n",
      "display= True\n",
      "parameter= http://ssbd1.qbic.riken.jp/SSBD/api/v3/bd5coords/?format=json;bdmlID=800faa21-c28c-4b72-bd12-d41f2eed02e8;ts=72;offset=0;limit=1\n"
     ]
    },
    {
     "name": "stderr",
     "output_type": "stream",
     "text": [
      "(MainThread) http://ssbd1.qbic.riken.jp:80 \"GET /SSBD/api/v3/bd5coords/?format=json;bdmlID=800faa21-c28c-4b72-bd12-d41f2eed02e8;ts=72;offset=0;limit=1 HTTP/1.1\" 200 None\n",
      "(MainThread) Starting new HTTP connection (1): ssbd1.qbic.riken.jp\n"
     ]
    },
    {
     "name": "stdout",
     "output_type": "stream",
     "text": [
      "meta= {'limit': 1, 'next': '/SSBD/api/v3/bd5coords/?bdmlID=800faa21-c28c-4b72-bd12-d41f2eed02e8&format=json&limit=1&ts=72&offset=1', 'offset': 0, 'previous': None, 'total_count': 52}\n",
      "found= 52\n",
      "limit= 1\n",
      "No.: 1\n",
      "    entity : sphere\n",
      "    id : 073001\n",
      "    label : ABplaaa\n",
      "    radius : 2.34\n",
      "    sid : None\n",
      "    t : 73\n",
      "    x : 187\n",
      "    y : 273\n",
      "    z : 9.1\n",
      "tp=72 nn=52\n",
      "display= True\n",
      "parameter= http://ssbd1.qbic.riken.jp/SSBD/api/v3/bd5coords/?format=json;bdmlID=800faa21-c28c-4b72-bd12-d41f2eed02e8;ts=73;offset=0;limit=1\n"
     ]
    },
    {
     "name": "stderr",
     "output_type": "stream",
     "text": [
      "(MainThread) http://ssbd1.qbic.riken.jp:80 \"GET /SSBD/api/v3/bd5coords/?format=json;bdmlID=800faa21-c28c-4b72-bd12-d41f2eed02e8;ts=73;offset=0;limit=1 HTTP/1.1\" 200 None\n",
      "(MainThread) Starting new HTTP connection (1): ssbd1.qbic.riken.jp\n"
     ]
    },
    {
     "name": "stdout",
     "output_type": "stream",
     "text": [
      "meta= {'limit': 1, 'next': '/SSBD/api/v3/bd5coords/?bdmlID=800faa21-c28c-4b72-bd12-d41f2eed02e8&format=json&limit=1&ts=73&offset=1', 'offset': 0, 'previous': None, 'total_count': 52}\n",
      "found= 52\n",
      "limit= 1\n",
      "No.: 1\n",
      "    entity : sphere\n",
      "    id : 074001\n",
      "    label : polar1\n",
      "    radius : 1.53\n",
      "    sid : None\n",
      "    t : 74\n",
      "    x : 163\n",
      "    y : 345\n",
      "    z : 6.2\n",
      "tp=73 nn=52\n",
      "display= True\n",
      "parameter= http://ssbd1.qbic.riken.jp/SSBD/api/v3/bd5coords/?format=json;bdmlID=800faa21-c28c-4b72-bd12-d41f2eed02e8;ts=74;offset=0;limit=1\n"
     ]
    },
    {
     "name": "stderr",
     "output_type": "stream",
     "text": [
      "(MainThread) http://ssbd1.qbic.riken.jp:80 \"GET /SSBD/api/v3/bd5coords/?format=json;bdmlID=800faa21-c28c-4b72-bd12-d41f2eed02e8;ts=74;offset=0;limit=1 HTTP/1.1\" 200 None\n",
      "(MainThread) Starting new HTTP connection (1): ssbd1.qbic.riken.jp\n"
     ]
    },
    {
     "name": "stdout",
     "output_type": "stream",
     "text": [
      "meta= {'limit': 1, 'next': '/SSBD/api/v3/bd5coords/?bdmlID=800faa21-c28c-4b72-bd12-d41f2eed02e8&format=json&limit=1&ts=74&offset=1', 'offset': 0, 'previous': None, 'total_count': 52}\n",
      "found= 52\n",
      "limit= 1\n",
      "No.: 1\n",
      "    entity : sphere\n",
      "    id : 075001\n",
      "    label : polar1\n",
      "    radius : 1.44\n",
      "    sid : None\n",
      "    t : 75\n",
      "    x : 164\n",
      "    y : 345\n",
      "    z : 6.2\n",
      "tp=74 nn=52\n",
      "display= True\n",
      "parameter= http://ssbd1.qbic.riken.jp/SSBD/api/v3/bd5coords/?format=json;bdmlID=800faa21-c28c-4b72-bd12-d41f2eed02e8;ts=75;offset=0;limit=1\n"
     ]
    },
    {
     "name": "stderr",
     "output_type": "stream",
     "text": [
      "(MainThread) http://ssbd1.qbic.riken.jp:80 \"GET /SSBD/api/v3/bd5coords/?format=json;bdmlID=800faa21-c28c-4b72-bd12-d41f2eed02e8;ts=75;offset=0;limit=1 HTTP/1.1\" 200 None\n",
      "(MainThread) Starting new HTTP connection (1): ssbd1.qbic.riken.jp\n"
     ]
    },
    {
     "name": "stdout",
     "output_type": "stream",
     "text": [
      "meta= {'limit': 1, 'next': '/SSBD/api/v3/bd5coords/?bdmlID=800faa21-c28c-4b72-bd12-d41f2eed02e8&format=json&limit=1&ts=75&offset=1', 'offset': 0, 'previous': None, 'total_count': 52}\n",
      "found= 52\n",
      "limit= 1\n",
      "No.: 1\n",
      "    entity : sphere\n",
      "    id : 076001\n",
      "    label : polar1\n",
      "    radius : 1.53\n",
      "    sid : None\n",
      "    t : 76\n",
      "    x : 163\n",
      "    y : 344\n",
      "    z : 6.2\n",
      "tp=75 nn=52\n",
      "display= True\n",
      "parameter= http://ssbd1.qbic.riken.jp/SSBD/api/v3/bd5coords/?format=json;bdmlID=800faa21-c28c-4b72-bd12-d41f2eed02e8;ts=76;offset=0;limit=1\n"
     ]
    },
    {
     "name": "stderr",
     "output_type": "stream",
     "text": [
      "(MainThread) http://ssbd1.qbic.riken.jp:80 \"GET /SSBD/api/v3/bd5coords/?format=json;bdmlID=800faa21-c28c-4b72-bd12-d41f2eed02e8;ts=76;offset=0;limit=1 HTTP/1.1\" 200 None\n",
      "(MainThread) Starting new HTTP connection (1): ssbd1.qbic.riken.jp\n"
     ]
    },
    {
     "name": "stdout",
     "output_type": "stream",
     "text": [
      "meta= {'limit': 1, 'next': '/SSBD/api/v3/bd5coords/?bdmlID=800faa21-c28c-4b72-bd12-d41f2eed02e8&format=json&limit=1&ts=76&offset=1', 'offset': 0, 'previous': None, 'total_count': 52}\n",
      "found= 52\n",
      "limit= 1\n",
      "No.: 1\n",
      "    entity : sphere\n",
      "    id : 077001\n",
      "    label : polar1\n",
      "    radius : 1.53\n",
      "    sid : None\n",
      "    t : 77\n",
      "    x : 163\n",
      "    y : 344\n",
      "    z : 6.3\n",
      "tp=76 nn=52\n",
      "display= True\n",
      "parameter= http://ssbd1.qbic.riken.jp/SSBD/api/v3/bd5coords/?format=json;bdmlID=800faa21-c28c-4b72-bd12-d41f2eed02e8;ts=77;offset=0;limit=1\n"
     ]
    },
    {
     "name": "stderr",
     "output_type": "stream",
     "text": [
      "(MainThread) http://ssbd1.qbic.riken.jp:80 \"GET /SSBD/api/v3/bd5coords/?format=json;bdmlID=800faa21-c28c-4b72-bd12-d41f2eed02e8;ts=77;offset=0;limit=1 HTTP/1.1\" 200 None\n",
      "(MainThread) Starting new HTTP connection (1): ssbd1.qbic.riken.jp\n"
     ]
    },
    {
     "name": "stdout",
     "output_type": "stream",
     "text": [
      "meta= {'limit': 1, 'next': '/SSBD/api/v3/bd5coords/?bdmlID=800faa21-c28c-4b72-bd12-d41f2eed02e8&format=json&limit=1&ts=77&offset=1', 'offset': 0, 'previous': None, 'total_count': 52}\n",
      "found= 52\n",
      "limit= 1\n",
      "No.: 1\n",
      "    entity : sphere\n",
      "    id : 078001\n",
      "    label : polar1\n",
      "    radius : 1.44\n",
      "    sid : None\n",
      "    t : 78\n",
      "    x : 163\n",
      "    y : 345\n",
      "    z : 6.3\n",
      "tp=77 nn=52\n",
      "display= True\n",
      "parameter= http://ssbd1.qbic.riken.jp/SSBD/api/v3/bd5coords/?format=json;bdmlID=800faa21-c28c-4b72-bd12-d41f2eed02e8;ts=78;offset=0;limit=1\n"
     ]
    },
    {
     "name": "stderr",
     "output_type": "stream",
     "text": [
      "(MainThread) http://ssbd1.qbic.riken.jp:80 \"GET /SSBD/api/v3/bd5coords/?format=json;bdmlID=800faa21-c28c-4b72-bd12-d41f2eed02e8;ts=78;offset=0;limit=1 HTTP/1.1\" 200 None\n",
      "(MainThread) Starting new HTTP connection (1): ssbd1.qbic.riken.jp\n"
     ]
    },
    {
     "name": "stdout",
     "output_type": "stream",
     "text": [
      "meta= {'limit': 1, 'next': '/SSBD/api/v3/bd5coords/?bdmlID=800faa21-c28c-4b72-bd12-d41f2eed02e8&format=json&limit=1&ts=78&offset=1', 'offset': 0, 'previous': None, 'total_count': 52}\n",
      "found= 52\n",
      "limit= 1\n",
      "No.: 1\n",
      "    entity : sphere\n",
      "    id : 079001\n",
      "    label : polar1\n",
      "    radius : 1.485\n",
      "    sid : None\n",
      "    t : 79\n",
      "    x : 163\n",
      "    y : 345\n",
      "    z : 6.3\n",
      "tp=78 nn=52\n",
      "display= True\n",
      "parameter= http://ssbd1.qbic.riken.jp/SSBD/api/v3/bd5coords/?format=json;bdmlID=800faa21-c28c-4b72-bd12-d41f2eed02e8;ts=79;offset=0;limit=1\n"
     ]
    },
    {
     "name": "stderr",
     "output_type": "stream",
     "text": [
      "(MainThread) http://ssbd1.qbic.riken.jp:80 \"GET /SSBD/api/v3/bd5coords/?format=json;bdmlID=800faa21-c28c-4b72-bd12-d41f2eed02e8;ts=79;offset=0;limit=1 HTTP/1.1\" 200 None\n",
      "(MainThread) Starting new HTTP connection (1): ssbd1.qbic.riken.jp\n"
     ]
    },
    {
     "name": "stdout",
     "output_type": "stream",
     "text": [
      "meta= {'limit': 1, 'next': '/SSBD/api/v3/bd5coords/?bdmlID=800faa21-c28c-4b72-bd12-d41f2eed02e8&format=json&limit=1&ts=79&offset=1', 'offset': 0, 'previous': None, 'total_count': 52}\n",
      "found= 52\n",
      "limit= 1\n",
      "No.: 1\n",
      "    entity : sphere\n",
      "    id : 080001\n",
      "    label : polar1\n",
      "    radius : 1.44\n",
      "    sid : None\n",
      "    t : 80\n",
      "    x : 163\n",
      "    y : 345\n",
      "    z : 6.4\n",
      "tp=79 nn=52\n",
      "display= True\n",
      "parameter= http://ssbd1.qbic.riken.jp/SSBD/api/v3/bd5coords/?format=json;bdmlID=800faa21-c28c-4b72-bd12-d41f2eed02e8;ts=80;offset=0;limit=1\n"
     ]
    },
    {
     "name": "stderr",
     "output_type": "stream",
     "text": [
      "(MainThread) http://ssbd1.qbic.riken.jp:80 \"GET /SSBD/api/v3/bd5coords/?format=json;bdmlID=800faa21-c28c-4b72-bd12-d41f2eed02e8;ts=80;offset=0;limit=1 HTTP/1.1\" 200 None\n",
      "(MainThread) Starting new HTTP connection (1): ssbd1.qbic.riken.jp\n"
     ]
    },
    {
     "name": "stdout",
     "output_type": "stream",
     "text": [
      "meta= {'limit': 1, 'next': '/SSBD/api/v3/bd5coords/?bdmlID=800faa21-c28c-4b72-bd12-d41f2eed02e8&format=json&limit=1&ts=80&offset=1', 'offset': 0, 'previous': None, 'total_count': 54}\n",
      "found= 54\n",
      "limit= 1\n",
      "No.: 1\n",
      "    entity : sphere\n",
      "    id : 081001\n",
      "    label : polar1\n",
      "    radius : 1.44\n",
      "    sid : None\n",
      "    t : 81\n",
      "    x : 164\n",
      "    y : 346\n",
      "    z : 6.3\n",
      "tp=80 nn=54\n",
      "display= True\n",
      "parameter= http://ssbd1.qbic.riken.jp/SSBD/api/v3/bd5coords/?format=json;bdmlID=800faa21-c28c-4b72-bd12-d41f2eed02e8;ts=81;offset=0;limit=1\n"
     ]
    },
    {
     "name": "stderr",
     "output_type": "stream",
     "text": [
      "(MainThread) http://ssbd1.qbic.riken.jp:80 \"GET /SSBD/api/v3/bd5coords/?format=json;bdmlID=800faa21-c28c-4b72-bd12-d41f2eed02e8;ts=81;offset=0;limit=1 HTTP/1.1\" 200 None\n",
      "(MainThread) Starting new HTTP connection (1): ssbd1.qbic.riken.jp\n"
     ]
    },
    {
     "name": "stdout",
     "output_type": "stream",
     "text": [
      "meta= {'limit': 1, 'next': '/SSBD/api/v3/bd5coords/?bdmlID=800faa21-c28c-4b72-bd12-d41f2eed02e8&format=json&limit=1&ts=81&offset=1', 'offset': 0, 'previous': None, 'total_count': 54}\n",
      "found= 54\n",
      "limit= 1\n",
      "No.: 1\n",
      "    entity : sphere\n",
      "    id : 082001\n",
      "    label : polar1\n",
      "    radius : 1.305\n",
      "    sid : None\n",
      "    t : 82\n",
      "    x : 163\n",
      "    y : 346\n",
      "    z : 6.3\n",
      "tp=81 nn=54\n",
      "display= True\n",
      "parameter= http://ssbd1.qbic.riken.jp/SSBD/api/v3/bd5coords/?format=json;bdmlID=800faa21-c28c-4b72-bd12-d41f2eed02e8;ts=82;offset=0;limit=1\n"
     ]
    },
    {
     "name": "stderr",
     "output_type": "stream",
     "text": [
      "(MainThread) http://ssbd1.qbic.riken.jp:80 \"GET /SSBD/api/v3/bd5coords/?format=json;bdmlID=800faa21-c28c-4b72-bd12-d41f2eed02e8;ts=82;offset=0;limit=1 HTTP/1.1\" 200 None\n",
      "(MainThread) Starting new HTTP connection (1): ssbd1.qbic.riken.jp\n"
     ]
    },
    {
     "name": "stdout",
     "output_type": "stream",
     "text": [
      "meta= {'limit': 1, 'next': '/SSBD/api/v3/bd5coords/?bdmlID=800faa21-c28c-4b72-bd12-d41f2eed02e8&format=json&limit=1&ts=82&offset=1', 'offset': 0, 'previous': None, 'total_count': 55}\n",
      "found= 55\n",
      "limit= 1\n",
      "No.: 1\n",
      "    entity : sphere\n",
      "    id : 083001\n",
      "    label : polar1\n",
      "    radius : 1.485\n",
      "    sid : None\n",
      "    t : 83\n",
      "    x : 163\n",
      "    y : 346\n",
      "    z : 6.3\n",
      "tp=82 nn=55\n",
      "display= True\n",
      "parameter= http://ssbd1.qbic.riken.jp/SSBD/api/v3/bd5coords/?format=json;bdmlID=800faa21-c28c-4b72-bd12-d41f2eed02e8;ts=83;offset=0;limit=1\n"
     ]
    },
    {
     "name": "stderr",
     "output_type": "stream",
     "text": [
      "(MainThread) http://ssbd1.qbic.riken.jp:80 \"GET /SSBD/api/v3/bd5coords/?format=json;bdmlID=800faa21-c28c-4b72-bd12-d41f2eed02e8;ts=83;offset=0;limit=1 HTTP/1.1\" 200 None\n",
      "(MainThread) Starting new HTTP connection (1): ssbd1.qbic.riken.jp\n"
     ]
    },
    {
     "name": "stdout",
     "output_type": "stream",
     "text": [
      "meta= {'limit': 1, 'next': '/SSBD/api/v3/bd5coords/?bdmlID=800faa21-c28c-4b72-bd12-d41f2eed02e8&format=json&limit=1&ts=83&offset=1', 'offset': 0, 'previous': None, 'total_count': 55}\n",
      "found= 55\n",
      "limit= 1\n",
      "No.: 1\n",
      "    entity : sphere\n",
      "    id : 084001\n",
      "    label : polar1\n",
      "    radius : 1.395\n",
      "    sid : None\n",
      "    t : 84\n",
      "    x : 164\n",
      "    y : 345\n",
      "    z : 6.3\n",
      "tp=83 nn=55\n",
      "display= True\n",
      "parameter= http://ssbd1.qbic.riken.jp/SSBD/api/v3/bd5coords/?format=json;bdmlID=800faa21-c28c-4b72-bd12-d41f2eed02e8;ts=84;offset=0;limit=1\n"
     ]
    },
    {
     "name": "stderr",
     "output_type": "stream",
     "text": [
      "(MainThread) http://ssbd1.qbic.riken.jp:80 \"GET /SSBD/api/v3/bd5coords/?format=json;bdmlID=800faa21-c28c-4b72-bd12-d41f2eed02e8;ts=84;offset=0;limit=1 HTTP/1.1\" 200 None\n",
      "(MainThread) Starting new HTTP connection (1): ssbd1.qbic.riken.jp\n"
     ]
    },
    {
     "name": "stdout",
     "output_type": "stream",
     "text": [
      "meta= {'limit': 1, 'next': '/SSBD/api/v3/bd5coords/?bdmlID=800faa21-c28c-4b72-bd12-d41f2eed02e8&format=json&limit=1&ts=84&offset=1', 'offset': 0, 'previous': None, 'total_count': 56}\n",
      "found= 56\n",
      "limit= 1\n",
      "No.: 1\n",
      "    entity : sphere\n",
      "    id : 085001\n",
      "    label : Cpap\n",
      "    radius : 2.295\n",
      "    sid : None\n",
      "    t : 85\n",
      "    x : 506\n",
      "    y : 236\n",
      "    z : 8.2\n",
      "tp=84 nn=56\n",
      "display= True\n",
      "parameter= http://ssbd1.qbic.riken.jp/SSBD/api/v3/bd5coords/?format=json;bdmlID=800faa21-c28c-4b72-bd12-d41f2eed02e8;ts=85;offset=0;limit=1\n"
     ]
    },
    {
     "name": "stderr",
     "output_type": "stream",
     "text": [
      "(MainThread) http://ssbd1.qbic.riken.jp:80 \"GET /SSBD/api/v3/bd5coords/?format=json;bdmlID=800faa21-c28c-4b72-bd12-d41f2eed02e8;ts=85;offset=0;limit=1 HTTP/1.1\" 200 None\n",
      "(MainThread) Starting new HTTP connection (1): ssbd1.qbic.riken.jp\n"
     ]
    },
    {
     "name": "stdout",
     "output_type": "stream",
     "text": [
      "meta= {'limit': 1, 'next': '/SSBD/api/v3/bd5coords/?bdmlID=800faa21-c28c-4b72-bd12-d41f2eed02e8&format=json&limit=1&ts=85&offset=1', 'offset': 0, 'previous': None, 'total_count': 61}\n",
      "found= 61\n",
      "limit= 1\n",
      "No.: 1\n",
      "    entity : sphere\n",
      "    id : 086001\n",
      "    label : Cpaa\n",
      "    radius : 2.385\n",
      "    sid : None\n",
      "    t : 86\n",
      "    x : 464\n",
      "    y : 160\n",
      "    z : 9\n",
      "tp=85 nn=61\n",
      "display= True\n",
      "parameter= http://ssbd1.qbic.riken.jp/SSBD/api/v3/bd5coords/?format=json;bdmlID=800faa21-c28c-4b72-bd12-d41f2eed02e8;ts=86;offset=0;limit=1\n"
     ]
    },
    {
     "name": "stderr",
     "output_type": "stream",
     "text": [
      "(MainThread) http://ssbd1.qbic.riken.jp:80 \"GET /SSBD/api/v3/bd5coords/?format=json;bdmlID=800faa21-c28c-4b72-bd12-d41f2eed02e8;ts=86;offset=0;limit=1 HTTP/1.1\" 200 None\n",
      "(MainThread) Starting new HTTP connection (1): ssbd1.qbic.riken.jp\n"
     ]
    },
    {
     "name": "stdout",
     "output_type": "stream",
     "text": [
      "meta= {'limit': 1, 'next': '/SSBD/api/v3/bd5coords/?bdmlID=800faa21-c28c-4b72-bd12-d41f2eed02e8&format=json&limit=1&ts=86&offset=1', 'offset': 0, 'previous': None, 'total_count': 68}\n",
      "found= 68\n",
      "limit= 1\n",
      "No.: 1\n",
      "    entity : sphere\n",
      "    id : 087001\n",
      "    label : polar1\n",
      "    radius : 1.44\n",
      "    sid : None\n",
      "    t : 87\n",
      "    x : 164\n",
      "    y : 346\n",
      "    z : 6.4\n",
      "tp=86 nn=68\n",
      "display= True\n",
      "parameter= http://ssbd1.qbic.riken.jp/SSBD/api/v3/bd5coords/?format=json;bdmlID=800faa21-c28c-4b72-bd12-d41f2eed02e8;ts=87;offset=0;limit=1\n"
     ]
    },
    {
     "name": "stderr",
     "output_type": "stream",
     "text": [
      "(MainThread) http://ssbd1.qbic.riken.jp:80 \"GET /SSBD/api/v3/bd5coords/?format=json;bdmlID=800faa21-c28c-4b72-bd12-d41f2eed02e8;ts=87;offset=0;limit=1 HTTP/1.1\" 200 None\n",
      "(MainThread) Starting new HTTP connection (1): ssbd1.qbic.riken.jp\n"
     ]
    },
    {
     "name": "stdout",
     "output_type": "stream",
     "text": [
      "meta= {'limit': 1, 'next': '/SSBD/api/v3/bd5coords/?bdmlID=800faa21-c28c-4b72-bd12-d41f2eed02e8&format=json&limit=1&ts=87&offset=1', 'offset': 0, 'previous': None, 'total_count': 78}\n",
      "found= 78\n",
      "limit= 1\n",
      "No.: 1\n",
      "    entity : sphere\n",
      "    id : 088001\n",
      "    label : polar1\n",
      "    radius : 1.485\n",
      "    sid : None\n",
      "    t : 88\n",
      "    x : 165\n",
      "    y : 344\n",
      "    z : 6.3\n",
      "tp=87 nn=78\n",
      "display= True\n",
      "parameter= http://ssbd1.qbic.riken.jp/SSBD/api/v3/bd5coords/?format=json;bdmlID=800faa21-c28c-4b72-bd12-d41f2eed02e8;ts=88;offset=0;limit=1\n"
     ]
    },
    {
     "name": "stderr",
     "output_type": "stream",
     "text": [
      "(MainThread) http://ssbd1.qbic.riken.jp:80 \"GET /SSBD/api/v3/bd5coords/?format=json;bdmlID=800faa21-c28c-4b72-bd12-d41f2eed02e8;ts=88;offset=0;limit=1 HTTP/1.1\" 200 None\n",
      "(MainThread) Starting new HTTP connection (1): ssbd1.qbic.riken.jp\n"
     ]
    },
    {
     "name": "stdout",
     "output_type": "stream",
     "text": [
      "meta= {'limit': 1, 'next': '/SSBD/api/v3/bd5coords/?bdmlID=800faa21-c28c-4b72-bd12-d41f2eed02e8&format=json&limit=1&ts=88&offset=1', 'offset': 0, 'previous': None, 'total_count': 83}\n",
      "found= 83\n",
      "limit= 1\n",
      "No.: 1\n",
      "    entity : sphere\n",
      "    id : 089001\n",
      "    label : polar1\n",
      "    radius : 1.485\n",
      "    sid : None\n",
      "    t : 89\n",
      "    x : 164\n",
      "    y : 346\n",
      "    z : 6.3\n",
      "tp=88 nn=83\n",
      "display= True\n",
      "parameter= http://ssbd1.qbic.riken.jp/SSBD/api/v3/bd5coords/?format=json;bdmlID=800faa21-c28c-4b72-bd12-d41f2eed02e8;ts=89;offset=0;limit=1\n"
     ]
    },
    {
     "name": "stderr",
     "output_type": "stream",
     "text": [
      "(MainThread) http://ssbd1.qbic.riken.jp:80 \"GET /SSBD/api/v3/bd5coords/?format=json;bdmlID=800faa21-c28c-4b72-bd12-d41f2eed02e8;ts=89;offset=0;limit=1 HTTP/1.1\" 200 None\n",
      "(MainThread) Starting new HTTP connection (1): ssbd1.qbic.riken.jp\n"
     ]
    },
    {
     "name": "stdout",
     "output_type": "stream",
     "text": [
      "meta= {'limit': 1, 'next': '/SSBD/api/v3/bd5coords/?bdmlID=800faa21-c28c-4b72-bd12-d41f2eed02e8&format=json&limit=1&ts=89&offset=1', 'offset': 0, 'previous': None, 'total_count': 88}\n",
      "found= 88\n",
      "limit= 1\n",
      "No.: 1\n",
      "    entity : sphere\n",
      "    id : 090001\n",
      "    label : polar1\n",
      "    radius : 1.485\n",
      "    sid : None\n",
      "    t : 90\n",
      "    x : 165\n",
      "    y : 346\n",
      "    z : 6.4\n",
      "tp=89 nn=88\n",
      "display= True\n",
      "parameter= http://ssbd1.qbic.riken.jp/SSBD/api/v3/bd5coords/?format=json;bdmlID=800faa21-c28c-4b72-bd12-d41f2eed02e8;ts=90;offset=0;limit=1\n"
     ]
    },
    {
     "name": "stderr",
     "output_type": "stream",
     "text": [
      "(MainThread) http://ssbd1.qbic.riken.jp:80 \"GET /SSBD/api/v3/bd5coords/?format=json;bdmlID=800faa21-c28c-4b72-bd12-d41f2eed02e8;ts=90;offset=0;limit=1 HTTP/1.1\" 200 None\n",
      "(MainThread) Starting new HTTP connection (1): ssbd1.qbic.riken.jp\n"
     ]
    },
    {
     "name": "stdout",
     "output_type": "stream",
     "text": [
      "meta= {'limit': 1, 'next': '/SSBD/api/v3/bd5coords/?bdmlID=800faa21-c28c-4b72-bd12-d41f2eed02e8&format=json&limit=1&ts=90&offset=1', 'offset': 0, 'previous': None, 'total_count': 89}\n",
      "found= 89\n",
      "limit= 1\n",
      "No.: 1\n",
      "    entity : sphere\n",
      "    id : 091001\n",
      "    label : polar1\n",
      "    radius : 1.395\n",
      "    sid : None\n",
      "    t : 91\n",
      "    x : 164\n",
      "    y : 346\n",
      "    z : 6.4\n",
      "tp=90 nn=89\n",
      "display= True\n",
      "parameter= http://ssbd1.qbic.riken.jp/SSBD/api/v3/bd5coords/?format=json;bdmlID=800faa21-c28c-4b72-bd12-d41f2eed02e8;ts=91;offset=0;limit=1\n"
     ]
    },
    {
     "name": "stderr",
     "output_type": "stream",
     "text": [
      "(MainThread) http://ssbd1.qbic.riken.jp:80 \"GET /SSBD/api/v3/bd5coords/?format=json;bdmlID=800faa21-c28c-4b72-bd12-d41f2eed02e8;ts=91;offset=0;limit=1 HTTP/1.1\" 200 None\n",
      "(MainThread) Starting new HTTP connection (1): ssbd1.qbic.riken.jp\n"
     ]
    },
    {
     "name": "stdout",
     "output_type": "stream",
     "text": [
      "meta= {'limit': 1, 'next': '/SSBD/api/v3/bd5coords/?bdmlID=800faa21-c28c-4b72-bd12-d41f2eed02e8&format=json&limit=1&ts=91&offset=1', 'offset': 0, 'previous': None, 'total_count': 89}\n",
      "found= 89\n",
      "limit= 1\n",
      "No.: 1\n",
      "    entity : sphere\n",
      "    id : 092001\n",
      "    label : ABplapaa\n",
      "    radius : 1.98\n",
      "    sid : None\n",
      "    t : 92\n",
      "    x : 254\n",
      "    y : 235\n",
      "    z : 8\n",
      "tp=91 nn=89\n",
      "display= True\n",
      "parameter= http://ssbd1.qbic.riken.jp/SSBD/api/v3/bd5coords/?format=json;bdmlID=800faa21-c28c-4b72-bd12-d41f2eed02e8;ts=92;offset=0;limit=1\n"
     ]
    },
    {
     "name": "stderr",
     "output_type": "stream",
     "text": [
      "(MainThread) http://ssbd1.qbic.riken.jp:80 \"GET /SSBD/api/v3/bd5coords/?format=json;bdmlID=800faa21-c28c-4b72-bd12-d41f2eed02e8;ts=92;offset=0;limit=1 HTTP/1.1\" 200 None\n",
      "(MainThread) Starting new HTTP connection (1): ssbd1.qbic.riken.jp\n"
     ]
    },
    {
     "name": "stdout",
     "output_type": "stream",
     "text": [
      "meta= {'limit': 1, 'next': '/SSBD/api/v3/bd5coords/?bdmlID=800faa21-c28c-4b72-bd12-d41f2eed02e8&format=json&limit=1&ts=92&offset=1', 'offset': 0, 'previous': None, 'total_count': 89}\n",
      "found= 89\n",
      "limit= 1\n",
      "No.: 1\n",
      "    entity : sphere\n",
      "    id : 093001\n",
      "    label : ABplapaa\n",
      "    radius : 1.98\n",
      "    sid : None\n",
      "    t : 93\n",
      "    x : 248\n",
      "    y : 238\n",
      "    z : 8\n",
      "tp=92 nn=89\n",
      "display= True\n",
      "parameter= http://ssbd1.qbic.riken.jp/SSBD/api/v3/bd5coords/?format=json;bdmlID=800faa21-c28c-4b72-bd12-d41f2eed02e8;ts=93;offset=0;limit=1\n"
     ]
    },
    {
     "name": "stderr",
     "output_type": "stream",
     "text": [
      "(MainThread) http://ssbd1.qbic.riken.jp:80 \"GET /SSBD/api/v3/bd5coords/?format=json;bdmlID=800faa21-c28c-4b72-bd12-d41f2eed02e8;ts=93;offset=0;limit=1 HTTP/1.1\" 200 None\n",
      "(MainThread) Starting new HTTP connection (1): ssbd1.qbic.riken.jp\n"
     ]
    },
    {
     "name": "stdout",
     "output_type": "stream",
     "text": [
      "meta= {'limit': 1, 'next': '/SSBD/api/v3/bd5coords/?bdmlID=800faa21-c28c-4b72-bd12-d41f2eed02e8&format=json&limit=1&ts=93&offset=1', 'offset': 0, 'previous': None, 'total_count': 89}\n",
      "found= 89\n",
      "limit= 1\n",
      "No.: 1\n",
      "    entity : sphere\n",
      "    id : 094001\n",
      "    label : ABplapaa\n",
      "    radius : 1.98\n",
      "    sid : None\n",
      "    t : 94\n",
      "    x : 249\n",
      "    y : 234\n",
      "    z : 8\n",
      "tp=93 nn=89\n",
      "display= True\n",
      "parameter= http://ssbd1.qbic.riken.jp/SSBD/api/v3/bd5coords/?format=json;bdmlID=800faa21-c28c-4b72-bd12-d41f2eed02e8;ts=94;offset=0;limit=1\n"
     ]
    },
    {
     "name": "stderr",
     "output_type": "stream",
     "text": [
      "(MainThread) http://ssbd1.qbic.riken.jp:80 \"GET /SSBD/api/v3/bd5coords/?format=json;bdmlID=800faa21-c28c-4b72-bd12-d41f2eed02e8;ts=94;offset=0;limit=1 HTTP/1.1\" 200 None\n",
      "(MainThread) Starting new HTTP connection (1): ssbd1.qbic.riken.jp\n"
     ]
    },
    {
     "name": "stdout",
     "output_type": "stream",
     "text": [
      "meta= {'limit': 1, 'next': '/SSBD/api/v3/bd5coords/?bdmlID=800faa21-c28c-4b72-bd12-d41f2eed02e8&format=json&limit=1&ts=94&offset=1', 'offset': 0, 'previous': None, 'total_count': 89}\n",
      "found= 89\n",
      "limit= 1\n",
      "No.: 1\n",
      "    entity : sphere\n",
      "    id : 095001\n",
      "    label : ABplapaa\n",
      "    radius : 1.98\n",
      "    sid : None\n",
      "    t : 95\n",
      "    x : 252\n",
      "    y : 238\n",
      "    z : 8.1\n",
      "tp=94 nn=89\n",
      "display= True\n",
      "parameter= http://ssbd1.qbic.riken.jp/SSBD/api/v3/bd5coords/?format=json;bdmlID=800faa21-c28c-4b72-bd12-d41f2eed02e8;ts=95;offset=0;limit=1\n"
     ]
    },
    {
     "name": "stderr",
     "output_type": "stream",
     "text": [
      "(MainThread) http://ssbd1.qbic.riken.jp:80 \"GET /SSBD/api/v3/bd5coords/?format=json;bdmlID=800faa21-c28c-4b72-bd12-d41f2eed02e8;ts=95;offset=0;limit=1 HTTP/1.1\" 200 None\n",
      "(MainThread) Starting new HTTP connection (1): ssbd1.qbic.riken.jp\n"
     ]
    },
    {
     "name": "stdout",
     "output_type": "stream",
     "text": [
      "meta= {'limit': 1, 'next': '/SSBD/api/v3/bd5coords/?bdmlID=800faa21-c28c-4b72-bd12-d41f2eed02e8&format=json&limit=1&ts=95&offset=1', 'offset': 0, 'previous': None, 'total_count': 89}\n",
      "found= 89\n",
      "limit= 1\n",
      "No.: 1\n",
      "    entity : sphere\n",
      "    id : 096001\n",
      "    label : ABplapaa\n",
      "    radius : 1.98\n",
      "    sid : None\n",
      "    t : 96\n",
      "    x : 261\n",
      "    y : 243\n",
      "    z : 8.1\n",
      "tp=95 nn=89\n",
      "display= True\n",
      "parameter= http://ssbd1.qbic.riken.jp/SSBD/api/v3/bd5coords/?format=json;bdmlID=800faa21-c28c-4b72-bd12-d41f2eed02e8;ts=96;offset=0;limit=1\n"
     ]
    },
    {
     "name": "stderr",
     "output_type": "stream",
     "text": [
      "(MainThread) http://ssbd1.qbic.riken.jp:80 \"GET /SSBD/api/v3/bd5coords/?format=json;bdmlID=800faa21-c28c-4b72-bd12-d41f2eed02e8;ts=96;offset=0;limit=1 HTTP/1.1\" 200 None\n",
      "(MainThread) Starting new HTTP connection (1): ssbd1.qbic.riken.jp\n"
     ]
    },
    {
     "name": "stdout",
     "output_type": "stream",
     "text": [
      "meta= {'limit': 1, 'next': '/SSBD/api/v3/bd5coords/?bdmlID=800faa21-c28c-4b72-bd12-d41f2eed02e8&format=json&limit=1&ts=96&offset=1', 'offset': 0, 'previous': None, 'total_count': 89}\n",
      "found= 89\n",
      "limit= 1\n",
      "No.: 1\n",
      "    entity : sphere\n",
      "    id : 097001\n",
      "    label : ABplapaa\n",
      "    radius : 1.98\n",
      "    sid : None\n",
      "    t : 97\n",
      "    x : 265\n",
      "    y : 241\n",
      "    z : 8\n",
      "tp=96 nn=89\n",
      "display= True\n",
      "parameter= http://ssbd1.qbic.riken.jp/SSBD/api/v3/bd5coords/?format=json;bdmlID=800faa21-c28c-4b72-bd12-d41f2eed02e8;ts=97;offset=0;limit=1\n"
     ]
    },
    {
     "name": "stderr",
     "output_type": "stream",
     "text": [
      "(MainThread) http://ssbd1.qbic.riken.jp:80 \"GET /SSBD/api/v3/bd5coords/?format=json;bdmlID=800faa21-c28c-4b72-bd12-d41f2eed02e8;ts=97;offset=0;limit=1 HTTP/1.1\" 200 None\n",
      "(MainThread) Starting new HTTP connection (1): ssbd1.qbic.riken.jp\n"
     ]
    },
    {
     "name": "stdout",
     "output_type": "stream",
     "text": [
      "meta= {'limit': 1, 'next': '/SSBD/api/v3/bd5coords/?bdmlID=800faa21-c28c-4b72-bd12-d41f2eed02e8&format=json&limit=1&ts=97&offset=1', 'offset': 0, 'previous': None, 'total_count': 91}\n",
      "found= 91\n",
      "limit= 1\n",
      "No.: 1\n",
      "    entity : sphere\n",
      "    id : 098001\n",
      "    label : ABplapaa\n",
      "    radius : 1.98\n",
      "    sid : None\n",
      "    t : 98\n",
      "    x : 269\n",
      "    y : 242\n",
      "    z : 8.1\n",
      "tp=97 nn=91\n",
      "display= True\n",
      "parameter= http://ssbd1.qbic.riken.jp/SSBD/api/v3/bd5coords/?format=json;bdmlID=800faa21-c28c-4b72-bd12-d41f2eed02e8;ts=98;offset=0;limit=1\n"
     ]
    },
    {
     "name": "stderr",
     "output_type": "stream",
     "text": [
      "(MainThread) http://ssbd1.qbic.riken.jp:80 \"GET /SSBD/api/v3/bd5coords/?format=json;bdmlID=800faa21-c28c-4b72-bd12-d41f2eed02e8;ts=98;offset=0;limit=1 HTTP/1.1\" 200 None\n",
      "(MainThread) Starting new HTTP connection (1): ssbd1.qbic.riken.jp\n"
     ]
    },
    {
     "name": "stdout",
     "output_type": "stream",
     "text": [
      "meta= {'limit': 1, 'next': '/SSBD/api/v3/bd5coords/?bdmlID=800faa21-c28c-4b72-bd12-d41f2eed02e8&format=json&limit=1&ts=98&offset=1', 'offset': 0, 'previous': None, 'total_count': 93}\n",
      "found= 93\n",
      "limit= 1\n",
      "No.: 1\n",
      "    entity : sphere\n",
      "    id : 099001\n",
      "    label : ABarppaa\n",
      "    radius : 1.98\n",
      "    sid : None\n",
      "    t : 99\n",
      "    x : 307\n",
      "    y : 180\n",
      "    z : 8.1\n",
      "tp=98 nn=93\n",
      "display= True\n",
      "parameter= http://ssbd1.qbic.riken.jp/SSBD/api/v3/bd5coords/?format=json;bdmlID=800faa21-c28c-4b72-bd12-d41f2eed02e8;ts=99;offset=0;limit=1\n"
     ]
    },
    {
     "name": "stderr",
     "output_type": "stream",
     "text": [
      "(MainThread) http://ssbd1.qbic.riken.jp:80 \"GET /SSBD/api/v3/bd5coords/?format=json;bdmlID=800faa21-c28c-4b72-bd12-d41f2eed02e8;ts=99;offset=0;limit=1 HTTP/1.1\" 200 None\n",
      "(MainThread) Starting new HTTP connection (1): ssbd1.qbic.riken.jp\n"
     ]
    },
    {
     "name": "stdout",
     "output_type": "stream",
     "text": [
      "meta= {'limit': 1, 'next': '/SSBD/api/v3/bd5coords/?bdmlID=800faa21-c28c-4b72-bd12-d41f2eed02e8&format=json&limit=1&ts=99&offset=1', 'offset': 0, 'previous': None, 'total_count': 94}\n",
      "found= 94\n",
      "limit= 1\n",
      "No.: 1\n",
      "    entity : sphere\n",
      "    id : 100001\n",
      "    label : ABarppaa\n",
      "    radius : 1.98\n",
      "    sid : None\n",
      "    t : 100\n",
      "    x : 311\n",
      "    y : 187\n",
      "    z : 8.2\n",
      "tp=99 nn=94\n",
      "display= True\n",
      "parameter= http://ssbd1.qbic.riken.jp/SSBD/api/v3/bd5coords/?format=json;bdmlID=800faa21-c28c-4b72-bd12-d41f2eed02e8;ts=100;offset=0;limit=1\n"
     ]
    },
    {
     "name": "stderr",
     "output_type": "stream",
     "text": [
      "(MainThread) http://ssbd1.qbic.riken.jp:80 \"GET /SSBD/api/v3/bd5coords/?format=json;bdmlID=800faa21-c28c-4b72-bd12-d41f2eed02e8;ts=100;offset=0;limit=1 HTTP/1.1\" 200 None\n",
      "(MainThread) Starting new HTTP connection (1): ssbd1.qbic.riken.jp\n"
     ]
    },
    {
     "name": "stdout",
     "output_type": "stream",
     "text": [
      "meta= {'limit': 1, 'next': '/SSBD/api/v3/bd5coords/?bdmlID=800faa21-c28c-4b72-bd12-d41f2eed02e8&format=json&limit=1&ts=100&offset=1', 'offset': 0, 'previous': None, 'total_count': 94}\n",
      "found= 94\n",
      "limit= 1\n",
      "No.: 1\n",
      "    entity : sphere\n",
      "    id : 101001\n",
      "    label : ABplapaa\n",
      "    radius : 1.98\n",
      "    sid : None\n",
      "    t : 101\n",
      "    x : 282\n",
      "    y : 282\n",
      "    z : 8.2\n",
      "tp=100 nn=94\n",
      "display= True\n",
      "parameter= http://ssbd1.qbic.riken.jp/SSBD/api/v3/bd5coords/?format=json;bdmlID=800faa21-c28c-4b72-bd12-d41f2eed02e8;ts=101;offset=0;limit=1\n"
     ]
    },
    {
     "name": "stderr",
     "output_type": "stream",
     "text": [
      "(MainThread) http://ssbd1.qbic.riken.jp:80 \"GET /SSBD/api/v3/bd5coords/?format=json;bdmlID=800faa21-c28c-4b72-bd12-d41f2eed02e8;ts=101;offset=0;limit=1 HTTP/1.1\" 200 None\n",
      "(MainThread) Starting new HTTP connection (1): ssbd1.qbic.riken.jp\n"
     ]
    },
    {
     "name": "stdout",
     "output_type": "stream",
     "text": [
      "meta= {'limit': 1, 'next': '/SSBD/api/v3/bd5coords/?bdmlID=800faa21-c28c-4b72-bd12-d41f2eed02e8&format=json&limit=1&ts=101&offset=1', 'offset': 0, 'previous': None, 'total_count': 96}\n",
      "found= 96\n",
      "limit= 1\n",
      "No.: 1\n",
      "    entity : sphere\n",
      "    id : 102001\n",
      "    label : ABplapaa\n",
      "    radius : 1.98\n",
      "    sid : None\n",
      "    t : 102\n",
      "    x : 286\n",
      "    y : 284\n",
      "    z : 8.1\n",
      "tp=101 nn=96\n",
      "display= True\n",
      "parameter= http://ssbd1.qbic.riken.jp/SSBD/api/v3/bd5coords/?format=json;bdmlID=800faa21-c28c-4b72-bd12-d41f2eed02e8;ts=102;offset=0;limit=1\n"
     ]
    },
    {
     "name": "stderr",
     "output_type": "stream",
     "text": [
      "(MainThread) http://ssbd1.qbic.riken.jp:80 \"GET /SSBD/api/v3/bd5coords/?format=json;bdmlID=800faa21-c28c-4b72-bd12-d41f2eed02e8;ts=102;offset=0;limit=1 HTTP/1.1\" 200 None\n",
      "(MainThread) Starting new HTTP connection (1): ssbd1.qbic.riken.jp\n"
     ]
    },
    {
     "name": "stdout",
     "output_type": "stream",
     "text": [
      "meta= {'limit': 1, 'next': '/SSBD/api/v3/bd5coords/?bdmlID=800faa21-c28c-4b72-bd12-d41f2eed02e8&format=json&limit=1&ts=102&offset=1', 'offset': 0, 'previous': None, 'total_count': 97}\n",
      "found= 97\n",
      "limit= 1\n",
      "No.: 1\n",
      "    entity : sphere\n",
      "    id : 103001\n",
      "    label : ABarpaap\n",
      "    radius : 1.98\n",
      "    sid : None\n",
      "    t : 103\n",
      "    x : 259\n",
      "    y : 194\n",
      "    z : 9\n",
      "tp=102 nn=97\n",
      "display= True\n",
      "parameter= http://ssbd1.qbic.riken.jp/SSBD/api/v3/bd5coords/?format=json;bdmlID=800faa21-c28c-4b72-bd12-d41f2eed02e8;ts=103;offset=0;limit=1\n"
     ]
    },
    {
     "name": "stderr",
     "output_type": "stream",
     "text": [
      "(MainThread) http://ssbd1.qbic.riken.jp:80 \"GET /SSBD/api/v3/bd5coords/?format=json;bdmlID=800faa21-c28c-4b72-bd12-d41f2eed02e8;ts=103;offset=0;limit=1 HTTP/1.1\" 200 None\n",
      "(MainThread) Starting new HTTP connection (1): ssbd1.qbic.riken.jp\n"
     ]
    },
    {
     "name": "stdout",
     "output_type": "stream",
     "text": [
      "meta= {'limit': 1, 'next': '/SSBD/api/v3/bd5coords/?bdmlID=800faa21-c28c-4b72-bd12-d41f2eed02e8&format=json&limit=1&ts=103&offset=1', 'offset': 0, 'previous': None, 'total_count': 98}\n",
      "found= 98\n",
      "limit= 1\n",
      "No.: 1\n",
      "    entity : sphere\n",
      "    id : 104001\n",
      "    label : ABarpaap\n",
      "    radius : 1.98\n",
      "    sid : None\n",
      "    t : 104\n",
      "    x : 258\n",
      "    y : 203\n",
      "    z : 9\n",
      "tp=103 nn=98\n",
      "display= True\n",
      "parameter= http://ssbd1.qbic.riken.jp/SSBD/api/v3/bd5coords/?format=json;bdmlID=800faa21-c28c-4b72-bd12-d41f2eed02e8;ts=104;offset=0;limit=1\n"
     ]
    },
    {
     "name": "stderr",
     "output_type": "stream",
     "text": [
      "(MainThread) http://ssbd1.qbic.riken.jp:80 \"GET /SSBD/api/v3/bd5coords/?format=json;bdmlID=800faa21-c28c-4b72-bd12-d41f2eed02e8;ts=104;offset=0;limit=1 HTTP/1.1\" 200 None\n",
      "(MainThread) Starting new HTTP connection (1): ssbd1.qbic.riken.jp\n"
     ]
    },
    {
     "name": "stdout",
     "output_type": "stream",
     "text": [
      "meta= {'limit': 1, 'next': '/SSBD/api/v3/bd5coords/?bdmlID=800faa21-c28c-4b72-bd12-d41f2eed02e8&format=json&limit=1&ts=104&offset=1', 'offset': 0, 'previous': None, 'total_count': 98}\n",
      "found= 98\n",
      "limit= 1\n",
      "No.: 1\n",
      "    entity : sphere\n",
      "    id : 105001\n",
      "    label : polar1\n",
      "    radius : 1.44\n",
      "    sid : None\n",
      "    t : 105\n",
      "    x : 165\n",
      "    y : 346\n",
      "    z : 6.3\n",
      "tp=104 nn=98\n",
      "display= True\n",
      "parameter= http://ssbd1.qbic.riken.jp/SSBD/api/v3/bd5coords/?format=json;bdmlID=800faa21-c28c-4b72-bd12-d41f2eed02e8;ts=105;offset=0;limit=1\n"
     ]
    },
    {
     "name": "stderr",
     "output_type": "stream",
     "text": [
      "(MainThread) http://ssbd1.qbic.riken.jp:80 \"GET /SSBD/api/v3/bd5coords/?format=json;bdmlID=800faa21-c28c-4b72-bd12-d41f2eed02e8;ts=105;offset=0;limit=1 HTTP/1.1\" 200 None\n",
      "(MainThread) Starting new HTTP connection (1): ssbd1.qbic.riken.jp\n"
     ]
    },
    {
     "name": "stdout",
     "output_type": "stream",
     "text": [
      "meta= {'limit': 1, 'next': '/SSBD/api/v3/bd5coords/?bdmlID=800faa21-c28c-4b72-bd12-d41f2eed02e8&format=json&limit=1&ts=105&offset=1', 'offset': 0, 'previous': None, 'total_count': 99}\n",
      "found= 99\n",
      "limit= 1\n",
      "No.: 1\n",
      "    entity : sphere\n",
      "    id : 106001\n",
      "    label : ABarpaap\n",
      "    radius : 1.98\n",
      "    sid : None\n",
      "    t : 106\n",
      "    x : 269\n",
      "    y : 208\n",
      "    z : 8.9\n",
      "tp=105 nn=99\n",
      "display= True\n",
      "parameter= http://ssbd1.qbic.riken.jp/SSBD/api/v3/bd5coords/?format=json;bdmlID=800faa21-c28c-4b72-bd12-d41f2eed02e8;ts=106;offset=0;limit=1\n"
     ]
    },
    {
     "name": "stderr",
     "output_type": "stream",
     "text": [
      "(MainThread) http://ssbd1.qbic.riken.jp:80 \"GET /SSBD/api/v3/bd5coords/?format=json;bdmlID=800faa21-c28c-4b72-bd12-d41f2eed02e8;ts=106;offset=0;limit=1 HTTP/1.1\" 200 None\n",
      "(MainThread) Starting new HTTP connection (1): ssbd1.qbic.riken.jp\n"
     ]
    },
    {
     "name": "stdout",
     "output_type": "stream",
     "text": [
      "meta= {'limit': 1, 'next': '/SSBD/api/v3/bd5coords/?bdmlID=800faa21-c28c-4b72-bd12-d41f2eed02e8&format=json&limit=1&ts=106&offset=1', 'offset': 0, 'previous': None, 'total_count': 101}\n",
      "found= 101\n",
      "limit= 1\n",
      "No.: 1\n",
      "    entity : sphere\n",
      "    id : 107001\n",
      "    label : ABplaaap\n",
      "    radius : 1.98\n",
      "    sid : None\n",
      "    t : 107\n",
      "    x : 251\n",
      "    y : 302\n",
      "    z : 8.1\n",
      "tp=106 nn=101\n",
      "display= True\n",
      "parameter= http://ssbd1.qbic.riken.jp/SSBD/api/v3/bd5coords/?format=json;bdmlID=800faa21-c28c-4b72-bd12-d41f2eed02e8;ts=107;offset=0;limit=1\n"
     ]
    },
    {
     "name": "stderr",
     "output_type": "stream",
     "text": [
      "(MainThread) http://ssbd1.qbic.riken.jp:80 \"GET /SSBD/api/v3/bd5coords/?format=json;bdmlID=800faa21-c28c-4b72-bd12-d41f2eed02e8;ts=107;offset=0;limit=1 HTTP/1.1\" 200 None\n",
      "(MainThread) Starting new HTTP connection (1): ssbd1.qbic.riken.jp\n"
     ]
    },
    {
     "name": "stdout",
     "output_type": "stream",
     "text": [
      "meta= {'limit': 1, 'next': '/SSBD/api/v3/bd5coords/?bdmlID=800faa21-c28c-4b72-bd12-d41f2eed02e8&format=json&limit=1&ts=107&offset=1', 'offset': 0, 'previous': None, 'total_count': 101}\n",
      "found= 101\n",
      "limit= 1\n",
      "No.: 1\n",
      "    entity : sphere\n",
      "    id : 108001\n",
      "    label : ABarpaap\n",
      "    radius : 1.98\n",
      "    sid : None\n",
      "    t : 108\n",
      "    x : 283\n",
      "    y : 214\n",
      "    z : 8.9\n",
      "tp=107 nn=101\n",
      "display= True\n",
      "parameter= http://ssbd1.qbic.riken.jp/SSBD/api/v3/bd5coords/?format=json;bdmlID=800faa21-c28c-4b72-bd12-d41f2eed02e8;ts=108;offset=0;limit=1\n"
     ]
    },
    {
     "name": "stderr",
     "output_type": "stream",
     "text": [
      "(MainThread) http://ssbd1.qbic.riken.jp:80 \"GET /SSBD/api/v3/bd5coords/?format=json;bdmlID=800faa21-c28c-4b72-bd12-d41f2eed02e8;ts=108;offset=0;limit=1 HTTP/1.1\" 200 None\n",
      "(MainThread) Starting new HTTP connection (1): ssbd1.qbic.riken.jp\n"
     ]
    },
    {
     "name": "stdout",
     "output_type": "stream",
     "text": [
      "meta= {'limit': 1, 'next': '/SSBD/api/v3/bd5coords/?bdmlID=800faa21-c28c-4b72-bd12-d41f2eed02e8&format=json&limit=1&ts=108&offset=1', 'offset': 0, 'previous': None, 'total_count': 102}\n",
      "found= 102\n",
      "limit= 1\n",
      "No.: 1\n",
      "    entity : sphere\n",
      "    id : 109001\n",
      "    label : ABarpaap\n",
      "    radius : 1.98\n",
      "    sid : None\n",
      "    t : 109\n",
      "    x : 281\n",
      "    y : 211\n",
      "    z : 9\n",
      "tp=108 nn=102\n",
      "display= True\n",
      "parameter= http://ssbd1.qbic.riken.jp/SSBD/api/v3/bd5coords/?format=json;bdmlID=800faa21-c28c-4b72-bd12-d41f2eed02e8;ts=109;offset=0;limit=1\n"
     ]
    },
    {
     "name": "stderr",
     "output_type": "stream",
     "text": [
      "(MainThread) http://ssbd1.qbic.riken.jp:80 \"GET /SSBD/api/v3/bd5coords/?format=json;bdmlID=800faa21-c28c-4b72-bd12-d41f2eed02e8;ts=109;offset=0;limit=1 HTTP/1.1\" 200 None\n",
      "(MainThread) Starting new HTTP connection (1): ssbd1.qbic.riken.jp\n"
     ]
    },
    {
     "name": "stdout",
     "output_type": "stream",
     "text": [
      "meta= {'limit': 1, 'next': '/SSBD/api/v3/bd5coords/?bdmlID=800faa21-c28c-4b72-bd12-d41f2eed02e8&format=json&limit=1&ts=109&offset=1', 'offset': 0, 'previous': None, 'total_count': 103}\n",
      "found= 103\n",
      "limit= 1\n",
      "No.: 1\n",
      "    entity : sphere\n",
      "    id : 110001\n",
      "    label : ABarpaap\n",
      "    radius : 1.98\n",
      "    sid : None\n",
      "    t : 110\n",
      "    x : 280\n",
      "    y : 210\n",
      "    z : 9\n",
      "tp=109 nn=103\n",
      "display= True\n",
      "parameter= http://ssbd1.qbic.riken.jp/SSBD/api/v3/bd5coords/?format=json;bdmlID=800faa21-c28c-4b72-bd12-d41f2eed02e8;ts=110;offset=0;limit=1\n"
     ]
    },
    {
     "name": "stderr",
     "output_type": "stream",
     "text": [
      "(MainThread) http://ssbd1.qbic.riken.jp:80 \"GET /SSBD/api/v3/bd5coords/?format=json;bdmlID=800faa21-c28c-4b72-bd12-d41f2eed02e8;ts=110;offset=0;limit=1 HTTP/1.1\" 200 None\n",
      "(MainThread) Starting new HTTP connection (1): ssbd1.qbic.riken.jp\n"
     ]
    },
    {
     "name": "stdout",
     "output_type": "stream",
     "text": [
      "meta= {'limit': 1, 'next': '/SSBD/api/v3/bd5coords/?bdmlID=800faa21-c28c-4b72-bd12-d41f2eed02e8&format=json&limit=1&ts=110&offset=1', 'offset': 0, 'previous': None, 'total_count': 103}\n",
      "found= 103\n",
      "limit= 1\n",
      "No.: 1\n",
      "    entity : sphere\n",
      "    id : 111001\n",
      "    label : ABarppaa\n",
      "    radius : 1.98\n",
      "    sid : None\n",
      "    t : 111\n",
      "    x : 333\n",
      "    y : 240\n",
      "    z : 8.2\n",
      "tp=110 nn=103\n",
      "display= True\n",
      "parameter= http://ssbd1.qbic.riken.jp/SSBD/api/v3/bd5coords/?format=json;bdmlID=800faa21-c28c-4b72-bd12-d41f2eed02e8;ts=111;offset=0;limit=1\n"
     ]
    },
    {
     "name": "stderr",
     "output_type": "stream",
     "text": [
      "(MainThread) http://ssbd1.qbic.riken.jp:80 \"GET /SSBD/api/v3/bd5coords/?format=json;bdmlID=800faa21-c28c-4b72-bd12-d41f2eed02e8;ts=111;offset=0;limit=1 HTTP/1.1\" 200 None\n",
      "(MainThread) Starting new HTTP connection (1): ssbd1.qbic.riken.jp\n"
     ]
    },
    {
     "name": "stdout",
     "output_type": "stream",
     "text": [
      "meta= {'limit': 1, 'next': '/SSBD/api/v3/bd5coords/?bdmlID=800faa21-c28c-4b72-bd12-d41f2eed02e8&format=json&limit=1&ts=111&offset=1', 'offset': 0, 'previous': None, 'total_count': 104}\n",
      "found= 104\n",
      "limit= 1\n",
      "No.: 1\n",
      "    entity : sphere\n",
      "    id : 112001\n",
      "    label : ABarpaap\n",
      "    radius : 1.98\n",
      "    sid : None\n",
      "    t : 112\n",
      "    x : 282\n",
      "    y : 212\n",
      "    z : 9\n",
      "tp=111 nn=104\n",
      "display= True\n",
      "parameter= http://ssbd1.qbic.riken.jp/SSBD/api/v3/bd5coords/?format=json;bdmlID=800faa21-c28c-4b72-bd12-d41f2eed02e8;ts=112;offset=0;limit=1\n"
     ]
    },
    {
     "name": "stderr",
     "output_type": "stream",
     "text": [
      "(MainThread) http://ssbd1.qbic.riken.jp:80 \"GET /SSBD/api/v3/bd5coords/?format=json;bdmlID=800faa21-c28c-4b72-bd12-d41f2eed02e8;ts=112;offset=0;limit=1 HTTP/1.1\" 200 None\n",
      "(MainThread) Starting new HTTP connection (1): ssbd1.qbic.riken.jp\n"
     ]
    },
    {
     "name": "stdout",
     "output_type": "stream",
     "text": [
      "meta= {'limit': 1, 'next': '/SSBD/api/v3/bd5coords/?bdmlID=800faa21-c28c-4b72-bd12-d41f2eed02e8&format=json&limit=1&ts=112&offset=1', 'offset': 0, 'previous': None, 'total_count': 105}\n",
      "found= 105\n",
      "limit= 1\n",
      "No.: 1\n",
      "    entity : sphere\n",
      "    id : 113001\n",
      "    label : ABarpaaa\n",
      "    radius : 1.98\n",
      "    sid : None\n",
      "    t : 113\n",
      "    x : 189\n",
      "    y : 186\n",
      "    z : 9.2\n",
      "tp=112 nn=105\n",
      "display= True\n",
      "parameter= http://ssbd1.qbic.riken.jp/SSBD/api/v3/bd5coords/?format=json;bdmlID=800faa21-c28c-4b72-bd12-d41f2eed02e8;ts=113;offset=0;limit=1\n"
     ]
    },
    {
     "name": "stderr",
     "output_type": "stream",
     "text": [
      "(MainThread) http://ssbd1.qbic.riken.jp:80 \"GET /SSBD/api/v3/bd5coords/?format=json;bdmlID=800faa21-c28c-4b72-bd12-d41f2eed02e8;ts=113;offset=0;limit=1 HTTP/1.1\" 200 None\n",
      "(MainThread) Starting new HTTP connection (1): ssbd1.qbic.riken.jp\n"
     ]
    },
    {
     "name": "stdout",
     "output_type": "stream",
     "text": [
      "meta= {'limit': 1, 'next': '/SSBD/api/v3/bd5coords/?bdmlID=800faa21-c28c-4b72-bd12-d41f2eed02e8&format=json&limit=1&ts=113&offset=1', 'offset': 0, 'previous': None, 'total_count': 106}\n",
      "found= 106\n",
      "limit= 1\n",
      "No.: 1\n",
      "    entity : sphere\n",
      "    id : 114001\n",
      "    label : ABplapaa\n",
      "    radius : 2.07\n",
      "    sid : None\n",
      "    t : 114\n",
      "    x : 332\n",
      "    y : 311\n",
      "    z : 8.3\n",
      "tp=113 nn=106\n",
      "display= True\n",
      "parameter= http://ssbd1.qbic.riken.jp/SSBD/api/v3/bd5coords/?format=json;bdmlID=800faa21-c28c-4b72-bd12-d41f2eed02e8;ts=114;offset=0;limit=1\n"
     ]
    },
    {
     "name": "stderr",
     "output_type": "stream",
     "text": [
      "(MainThread) http://ssbd1.qbic.riken.jp:80 \"GET /SSBD/api/v3/bd5coords/?format=json;bdmlID=800faa21-c28c-4b72-bd12-d41f2eed02e8;ts=114;offset=0;limit=1 HTTP/1.1\" 200 None\n",
      "(MainThread) Starting new HTTP connection (1): ssbd1.qbic.riken.jp\n"
     ]
    },
    {
     "name": "stdout",
     "output_type": "stream",
     "text": [
      "meta= {'limit': 1, 'next': '/SSBD/api/v3/bd5coords/?bdmlID=800faa21-c28c-4b72-bd12-d41f2eed02e8&format=json&limit=1&ts=114&offset=1', 'offset': 0, 'previous': None, 'total_count': 106}\n",
      "found= 106\n",
      "limit= 1\n",
      "No.: 1\n",
      "    entity : sphere\n",
      "    id : 115001\n",
      "    label : polar1\n",
      "    radius : 1.44\n",
      "    sid : None\n",
      "    t : 115\n",
      "    x : 166\n",
      "    y : 345\n",
      "    z : 6.3\n",
      "tp=114 nn=106\n",
      "display= True\n",
      "parameter= http://ssbd1.qbic.riken.jp/SSBD/api/v3/bd5coords/?format=json;bdmlID=800faa21-c28c-4b72-bd12-d41f2eed02e8;ts=115;offset=0;limit=1\n"
     ]
    },
    {
     "name": "stderr",
     "output_type": "stream",
     "text": [
      "(MainThread) http://ssbd1.qbic.riken.jp:80 \"GET /SSBD/api/v3/bd5coords/?format=json;bdmlID=800faa21-c28c-4b72-bd12-d41f2eed02e8;ts=115;offset=0;limit=1 HTTP/1.1\" 200 None\n",
      "(MainThread) Starting new HTTP connection (1): ssbd1.qbic.riken.jp\n"
     ]
    },
    {
     "name": "stdout",
     "output_type": "stream",
     "text": [
      "meta= {'limit': 1, 'next': '/SSBD/api/v3/bd5coords/?bdmlID=800faa21-c28c-4b72-bd12-d41f2eed02e8&format=json&limit=1&ts=115&offset=1', 'offset': 0, 'previous': None, 'total_count': 107}\n",
      "found= 107\n",
      "limit= 1\n",
      "No.: 1\n",
      "    entity : sphere\n",
      "    id : 116001\n",
      "    label : polar1\n",
      "    radius : 1.26\n",
      "    sid : None\n",
      "    t : 116\n",
      "    x : 165\n",
      "    y : 347\n",
      "    z : 6.3\n",
      "tp=115 nn=107\n",
      "display= True\n",
      "parameter= http://ssbd1.qbic.riken.jp/SSBD/api/v3/bd5coords/?format=json;bdmlID=800faa21-c28c-4b72-bd12-d41f2eed02e8;ts=116;offset=0;limit=1\n"
     ]
    },
    {
     "name": "stderr",
     "output_type": "stream",
     "text": [
      "(MainThread) http://ssbd1.qbic.riken.jp:80 \"GET /SSBD/api/v3/bd5coords/?format=json;bdmlID=800faa21-c28c-4b72-bd12-d41f2eed02e8;ts=116;offset=0;limit=1 HTTP/1.1\" 200 None\n",
      "(MainThread) Starting new HTTP connection (1): ssbd1.qbic.riken.jp\n"
     ]
    },
    {
     "name": "stdout",
     "output_type": "stream",
     "text": [
      "meta= {'limit': 1, 'next': '/SSBD/api/v3/bd5coords/?bdmlID=800faa21-c28c-4b72-bd12-d41f2eed02e8&format=json&limit=1&ts=116&offset=1', 'offset': 0, 'previous': None, 'total_count': 107}\n",
      "found= 107\n",
      "limit= 1\n",
      "No.: 1\n",
      "    entity : sphere\n",
      "    id : 117001\n",
      "    label : polar1\n",
      "    radius : 1.26\n",
      "    sid : None\n",
      "    t : 117\n",
      "    x : 165\n",
      "    y : 346\n",
      "    z : 6.4\n",
      "tp=116 nn=107\n",
      "display= True\n",
      "parameter= http://ssbd1.qbic.riken.jp/SSBD/api/v3/bd5coords/?format=json;bdmlID=800faa21-c28c-4b72-bd12-d41f2eed02e8;ts=117;offset=0;limit=1\n"
     ]
    },
    {
     "name": "stderr",
     "output_type": "stream",
     "text": [
      "(MainThread) http://ssbd1.qbic.riken.jp:80 \"GET /SSBD/api/v3/bd5coords/?format=json;bdmlID=800faa21-c28c-4b72-bd12-d41f2eed02e8;ts=117;offset=0;limit=1 HTTP/1.1\" 200 None\n",
      "(MainThread) Starting new HTTP connection (1): ssbd1.qbic.riken.jp\n"
     ]
    },
    {
     "name": "stdout",
     "output_type": "stream",
     "text": [
      "meta= {'limit': 1, 'next': '/SSBD/api/v3/bd5coords/?bdmlID=800faa21-c28c-4b72-bd12-d41f2eed02e8&format=json&limit=1&ts=117&offset=1', 'offset': 0, 'previous': None, 'total_count': 109}\n",
      "found= 109\n",
      "limit= 1\n",
      "No.: 1\n",
      "    entity : sphere\n",
      "    id : 118001\n",
      "    label : polar1\n",
      "    radius : 1.35\n",
      "    sid : None\n",
      "    t : 118\n",
      "    x : 166\n",
      "    y : 346\n",
      "    z : 6.4\n",
      "tp=117 nn=109\n",
      "display= True\n",
      "parameter= http://ssbd1.qbic.riken.jp/SSBD/api/v3/bd5coords/?format=json;bdmlID=800faa21-c28c-4b72-bd12-d41f2eed02e8;ts=118;offset=0;limit=1\n"
     ]
    },
    {
     "name": "stderr",
     "output_type": "stream",
     "text": [
      "(MainThread) http://ssbd1.qbic.riken.jp:80 \"GET /SSBD/api/v3/bd5coords/?format=json;bdmlID=800faa21-c28c-4b72-bd12-d41f2eed02e8;ts=118;offset=0;limit=1 HTTP/1.1\" 200 None\n",
      "(MainThread) Starting new HTTP connection (1): ssbd1.qbic.riken.jp\n"
     ]
    },
    {
     "name": "stdout",
     "output_type": "stream",
     "text": [
      "meta= {'limit': 1, 'next': '/SSBD/api/v3/bd5coords/?bdmlID=800faa21-c28c-4b72-bd12-d41f2eed02e8&format=json&limit=1&ts=118&offset=1', 'offset': 0, 'previous': None, 'total_count': 112}\n",
      "found= 112\n",
      "limit= 1\n",
      "No.: 1\n",
      "    entity : sphere\n",
      "    id : 119001\n",
      "    label : polar1\n",
      "    radius : 1.53\n",
      "    sid : None\n",
      "    t : 119\n",
      "    x : 166\n",
      "    y : 347\n",
      "    z : 6.4\n",
      "tp=118 nn=112\n",
      "display= True\n",
      "parameter= http://ssbd1.qbic.riken.jp/SSBD/api/v3/bd5coords/?format=json;bdmlID=800faa21-c28c-4b72-bd12-d41f2eed02e8;ts=119;offset=0;limit=1\n"
     ]
    },
    {
     "name": "stderr",
     "output_type": "stream",
     "text": [
      "(MainThread) http://ssbd1.qbic.riken.jp:80 \"GET /SSBD/api/v3/bd5coords/?format=json;bdmlID=800faa21-c28c-4b72-bd12-d41f2eed02e8;ts=119;offset=0;limit=1 HTTP/1.1\" 200 None\n",
      "(MainThread) Starting new HTTP connection (1): ssbd1.qbic.riken.jp\n"
     ]
    },
    {
     "name": "stdout",
     "output_type": "stream",
     "text": [
      "meta= {'limit': 1, 'next': '/SSBD/api/v3/bd5coords/?bdmlID=800faa21-c28c-4b72-bd12-d41f2eed02e8&format=json&limit=1&ts=119&offset=1', 'offset': 0, 'previous': None, 'total_count': 117}\n",
      "found= 117\n",
      "limit= 1\n",
      "No.: 1\n",
      "    entity : sphere\n",
      "    id : 120001\n",
      "    label : Cpaaa\n",
      "    radius : 1.935\n",
      "    sid : None\n",
      "    t : 120\n",
      "    x : 480\n",
      "    y : 184\n",
      "    z : 8\n",
      "tp=119 nn=117\n",
      "display= True\n",
      "parameter= http://ssbd1.qbic.riken.jp/SSBD/api/v3/bd5coords/?format=json;bdmlID=800faa21-c28c-4b72-bd12-d41f2eed02e8;ts=120;offset=0;limit=1\n"
     ]
    },
    {
     "name": "stderr",
     "output_type": "stream",
     "text": [
      "(MainThread) http://ssbd1.qbic.riken.jp:80 \"GET /SSBD/api/v3/bd5coords/?format=json;bdmlID=800faa21-c28c-4b72-bd12-d41f2eed02e8;ts=120;offset=0;limit=1 HTTP/1.1\" 200 None\n",
      "(MainThread) Starting new HTTP connection (1): ssbd1.qbic.riken.jp\n"
     ]
    },
    {
     "name": "stdout",
     "output_type": "stream",
     "text": [
      "meta= {'limit': 1, 'next': '/SSBD/api/v3/bd5coords/?bdmlID=800faa21-c28c-4b72-bd12-d41f2eed02e8&format=json&limit=1&ts=120&offset=1', 'offset': 0, 'previous': None, 'total_count': 128}\n",
      "found= 128\n",
      "limit= 1\n",
      "No.: 1\n",
      "    entity : sphere\n",
      "    id : 121001\n",
      "    label : Cpaaa\n",
      "    radius : 1.89\n",
      "    sid : None\n",
      "    t : 121\n",
      "    x : 482\n",
      "    y : 177\n",
      "    z : 8\n",
      "tp=120 nn=128\n",
      "display= True\n",
      "parameter= http://ssbd1.qbic.riken.jp/SSBD/api/v3/bd5coords/?format=json;bdmlID=800faa21-c28c-4b72-bd12-d41f2eed02e8;ts=121;offset=0;limit=1\n"
     ]
    },
    {
     "name": "stderr",
     "output_type": "stream",
     "text": [
      "(MainThread) http://ssbd1.qbic.riken.jp:80 \"GET /SSBD/api/v3/bd5coords/?format=json;bdmlID=800faa21-c28c-4b72-bd12-d41f2eed02e8;ts=121;offset=0;limit=1 HTTP/1.1\" 200 None\n",
      "(MainThread) Starting new HTTP connection (1): ssbd1.qbic.riken.jp\n"
     ]
    },
    {
     "name": "stdout",
     "output_type": "stream",
     "text": [
      "meta= {'limit': 1, 'next': '/SSBD/api/v3/bd5coords/?bdmlID=800faa21-c28c-4b72-bd12-d41f2eed02e8&format=json&limit=1&ts=121&offset=1', 'offset': 0, 'previous': None, 'total_count': 140}\n",
      "found= 140\n",
      "limit= 1\n",
      "No.: 1\n",
      "    entity : sphere\n",
      "    id : 122001\n",
      "    label : Cpaaa\n",
      "    radius : 1.8\n",
      "    sid : None\n",
      "    t : 122\n",
      "    x : 486\n",
      "    y : 173\n",
      "    z : 8.1\n",
      "tp=121 nn=140\n",
      "display= True\n",
      "parameter= http://ssbd1.qbic.riken.jp/SSBD/api/v3/bd5coords/?format=json;bdmlID=800faa21-c28c-4b72-bd12-d41f2eed02e8;ts=122;offset=0;limit=1\n"
     ]
    },
    {
     "name": "stderr",
     "output_type": "stream",
     "text": [
      "(MainThread) http://ssbd1.qbic.riken.jp:80 \"GET /SSBD/api/v3/bd5coords/?format=json;bdmlID=800faa21-c28c-4b72-bd12-d41f2eed02e8;ts=122;offset=0;limit=1 HTTP/1.1\" 200 None\n",
      "(MainThread) Starting new HTTP connection (1): ssbd1.qbic.riken.jp\n"
     ]
    },
    {
     "name": "stdout",
     "output_type": "stream",
     "text": [
      "meta= {'limit': 1, 'next': '/SSBD/api/v3/bd5coords/?bdmlID=800faa21-c28c-4b72-bd12-d41f2eed02e8&format=json&limit=1&ts=122&offset=1', 'offset': 0, 'previous': None, 'total_count': 146}\n",
      "found= 146\n",
      "limit= 1\n",
      "No.: 1\n",
      "    entity : sphere\n",
      "    id : 123001\n",
      "    label : Cpaaa\n",
      "    radius : 1.71\n",
      "    sid : None\n",
      "    t : 123\n",
      "    x : 494\n",
      "    y : 170\n",
      "    z : 8.2\n",
      "tp=122 nn=146\n",
      "display= True\n",
      "parameter= http://ssbd1.qbic.riken.jp/SSBD/api/v3/bd5coords/?format=json;bdmlID=800faa21-c28c-4b72-bd12-d41f2eed02e8;ts=123;offset=0;limit=1\n"
     ]
    },
    {
     "name": "stderr",
     "output_type": "stream",
     "text": [
      "(MainThread) http://ssbd1.qbic.riken.jp:80 \"GET /SSBD/api/v3/bd5coords/?format=json;bdmlID=800faa21-c28c-4b72-bd12-d41f2eed02e8;ts=123;offset=0;limit=1 HTTP/1.1\" 200 None\n",
      "(MainThread) Starting new HTTP connection (1): ssbd1.qbic.riken.jp\n"
     ]
    },
    {
     "name": "stdout",
     "output_type": "stream",
     "text": [
      "meta= {'limit': 1, 'next': '/SSBD/api/v3/bd5coords/?bdmlID=800faa21-c28c-4b72-bd12-d41f2eed02e8&format=json&limit=1&ts=123&offset=1', 'offset': 0, 'previous': None, 'total_count': 152}\n",
      "found= 152\n",
      "limit= 1\n",
      "No.: 1\n",
      "    entity : sphere\n",
      "    id : 124001\n",
      "    label : ABarpaapa\n",
      "    radius : 1.71\n",
      "    sid : None\n",
      "    t : 124\n",
      "    x : 274\n",
      "    y : 245\n",
      "    z : 8.1\n",
      "tp=123 nn=152\n",
      "display= True\n",
      "parameter= http://ssbd1.qbic.riken.jp/SSBD/api/v3/bd5coords/?format=json;bdmlID=800faa21-c28c-4b72-bd12-d41f2eed02e8;ts=124;offset=0;limit=1\n"
     ]
    },
    {
     "name": "stderr",
     "output_type": "stream",
     "text": [
      "(MainThread) http://ssbd1.qbic.riken.jp:80 \"GET /SSBD/api/v3/bd5coords/?format=json;bdmlID=800faa21-c28c-4b72-bd12-d41f2eed02e8;ts=124;offset=0;limit=1 HTTP/1.1\" 200 None\n",
      "(MainThread) Starting new HTTP connection (1): ssbd1.qbic.riken.jp\n"
     ]
    },
    {
     "name": "stdout",
     "output_type": "stream",
     "text": [
      "meta= {'limit': 1, 'next': '/SSBD/api/v3/bd5coords/?bdmlID=800faa21-c28c-4b72-bd12-d41f2eed02e8&format=json&limit=1&ts=124&offset=1', 'offset': 0, 'previous': None, 'total_count': 158}\n",
      "found= 158\n",
      "limit= 1\n",
      "No.: 1\n",
      "    entity : sphere\n",
      "    id : 125001\n",
      "    label : ABarpapap\n",
      "    radius : 1.665\n",
      "    sid : None\n",
      "    t : 125\n",
      "    x : 244\n",
      "    y : 193\n",
      "    z : 8.1\n",
      "tp=124 nn=158\n",
      "display= True\n",
      "parameter= http://ssbd1.qbic.riken.jp/SSBD/api/v3/bd5coords/?format=json;bdmlID=800faa21-c28c-4b72-bd12-d41f2eed02e8;ts=125;offset=0;limit=1\n"
     ]
    },
    {
     "name": "stderr",
     "output_type": "stream",
     "text": [
      "(MainThread) http://ssbd1.qbic.riken.jp:80 \"GET /SSBD/api/v3/bd5coords/?format=json;bdmlID=800faa21-c28c-4b72-bd12-d41f2eed02e8;ts=125;offset=0;limit=1 HTTP/1.1\" 200 None\n",
      "(MainThread) Starting new HTTP connection (1): ssbd1.qbic.riken.jp\n"
     ]
    },
    {
     "name": "stdout",
     "output_type": "stream",
     "text": [
      "meta= {'limit': 1, 'next': '/SSBD/api/v3/bd5coords/?bdmlID=800faa21-c28c-4b72-bd12-d41f2eed02e8&format=json&limit=1&ts=125&offset=1', 'offset': 0, 'previous': None, 'total_count': 162}\n",
      "found= 162\n",
      "limit= 1\n",
      "No.: 1\n",
      "    entity : sphere\n",
      "    id : 126001\n",
      "    label : ABarpapap\n",
      "    radius : 1.62\n",
      "    sid : None\n",
      "    t : 126\n",
      "    x : 241\n",
      "    y : 193\n",
      "    z : 8\n",
      "tp=125 nn=162\n",
      "display= True\n",
      "parameter= http://ssbd1.qbic.riken.jp/SSBD/api/v3/bd5coords/?format=json;bdmlID=800faa21-c28c-4b72-bd12-d41f2eed02e8;ts=126;offset=0;limit=1\n"
     ]
    },
    {
     "name": "stderr",
     "output_type": "stream",
     "text": [
      "(MainThread) http://ssbd1.qbic.riken.jp:80 \"GET /SSBD/api/v3/bd5coords/?format=json;bdmlID=800faa21-c28c-4b72-bd12-d41f2eed02e8;ts=126;offset=0;limit=1 HTTP/1.1\" 200 None\n",
      "(MainThread) Starting new HTTP connection (1): ssbd1.qbic.riken.jp\n"
     ]
    },
    {
     "name": "stdout",
     "output_type": "stream",
     "text": [
      "meta= {'limit': 1, 'next': '/SSBD/api/v3/bd5coords/?bdmlID=800faa21-c28c-4b72-bd12-d41f2eed02e8&format=json&limit=1&ts=126&offset=1', 'offset': 0, 'previous': None, 'total_count': 164}\n",
      "found= 164\n",
      "limit= 1\n",
      "No.: 1\n",
      "    entity : sphere\n",
      "    id : 127001\n",
      "    label : ABarpapap\n",
      "    radius : 1.62\n",
      "    sid : None\n",
      "    t : 127\n",
      "    x : 245\n",
      "    y : 194\n",
      "    z : 8\n",
      "tp=126 nn=164\n",
      "display= True\n",
      "parameter= http://ssbd1.qbic.riken.jp/SSBD/api/v3/bd5coords/?format=json;bdmlID=800faa21-c28c-4b72-bd12-d41f2eed02e8;ts=127;offset=0;limit=1\n"
     ]
    },
    {
     "name": "stderr",
     "output_type": "stream",
     "text": [
      "(MainThread) http://ssbd1.qbic.riken.jp:80 \"GET /SSBD/api/v3/bd5coords/?format=json;bdmlID=800faa21-c28c-4b72-bd12-d41f2eed02e8;ts=127;offset=0;limit=1 HTTP/1.1\" 200 None\n",
      "(MainThread) Starting new HTTP connection (1): ssbd1.qbic.riken.jp\n"
     ]
    },
    {
     "name": "stdout",
     "output_type": "stream",
     "text": [
      "meta= {'limit': 1, 'next': '/SSBD/api/v3/bd5coords/?bdmlID=800faa21-c28c-4b72-bd12-d41f2eed02e8&format=json&limit=1&ts=127&offset=1', 'offset': 0, 'previous': None, 'total_count': 169}\n",
      "found= 169\n",
      "limit= 1\n",
      "No.: 1\n",
      "    entity : sphere\n",
      "    id : 128001\n",
      "    label : polar1\n",
      "    radius : 1.26\n",
      "    sid : None\n",
      "    t : 128\n",
      "    x : 166\n",
      "    y : 346\n",
      "    z : 6.3\n",
      "tp=127 nn=169\n",
      "display= True\n",
      "parameter= http://ssbd1.qbic.riken.jp/SSBD/api/v3/bd5coords/?format=json;bdmlID=800faa21-c28c-4b72-bd12-d41f2eed02e8;ts=128;offset=0;limit=1\n"
     ]
    },
    {
     "name": "stderr",
     "output_type": "stream",
     "text": [
      "(MainThread) http://ssbd1.qbic.riken.jp:80 \"GET /SSBD/api/v3/bd5coords/?format=json;bdmlID=800faa21-c28c-4b72-bd12-d41f2eed02e8;ts=128;offset=0;limit=1 HTTP/1.1\" 200 None\n",
      "(MainThread) Starting new HTTP connection (1): ssbd1.qbic.riken.jp\n"
     ]
    },
    {
     "name": "stdout",
     "output_type": "stream",
     "text": [
      "meta= {'limit': 1, 'next': '/SSBD/api/v3/bd5coords/?bdmlID=800faa21-c28c-4b72-bd12-d41f2eed02e8&format=json&limit=1&ts=128&offset=1', 'offset': 0, 'previous': None, 'total_count': 169}\n",
      "found= 169\n",
      "limit= 1\n",
      "No.: 1\n",
      "    entity : sphere\n",
      "    id : 129001\n",
      "    label : ABarpappa\n",
      "    radius : 1.62\n",
      "    sid : None\n",
      "    t : 129\n",
      "    x : 285\n",
      "    y : 193\n",
      "    z : 8.2\n",
      "tp=128 nn=169\n",
      "display= True\n",
      "parameter= http://ssbd1.qbic.riken.jp/SSBD/api/v3/bd5coords/?format=json;bdmlID=800faa21-c28c-4b72-bd12-d41f2eed02e8;ts=129;offset=0;limit=1\n"
     ]
    },
    {
     "name": "stderr",
     "output_type": "stream",
     "text": [
      "(MainThread) http://ssbd1.qbic.riken.jp:80 \"GET /SSBD/api/v3/bd5coords/?format=json;bdmlID=800faa21-c28c-4b72-bd12-d41f2eed02e8;ts=129;offset=0;limit=1 HTTP/1.1\" 200 None\n",
      "(MainThread) Starting new HTTP connection (1): ssbd1.qbic.riken.jp\n"
     ]
    },
    {
     "name": "stdout",
     "output_type": "stream",
     "text": [
      "meta= {'limit': 1, 'next': '/SSBD/api/v3/bd5coords/?bdmlID=800faa21-c28c-4b72-bd12-d41f2eed02e8&format=json&limit=1&ts=129&offset=1', 'offset': 0, 'previous': None, 'total_count': 175}\n",
      "found= 175\n",
      "limit= 1\n",
      "No.: 1\n",
      "    entity : sphere\n",
      "    id : 130001\n",
      "    label : ABarpappa\n",
      "    radius : 1.62\n",
      "    sid : None\n",
      "    t : 130\n",
      "    x : 287\n",
      "    y : 194\n",
      "    z : 8.1\n",
      "tp=129 nn=175\n",
      "display= True\n",
      "parameter= http://ssbd1.qbic.riken.jp/SSBD/api/v3/bd5coords/?format=json;bdmlID=800faa21-c28c-4b72-bd12-d41f2eed02e8;ts=130;offset=0;limit=1\n"
     ]
    },
    {
     "name": "stderr",
     "output_type": "stream",
     "text": [
      "(MainThread) http://ssbd1.qbic.riken.jp:80 \"GET /SSBD/api/v3/bd5coords/?format=json;bdmlID=800faa21-c28c-4b72-bd12-d41f2eed02e8;ts=130;offset=0;limit=1 HTTP/1.1\" 200 None\n",
      "(MainThread) Starting new HTTP connection (1): ssbd1.qbic.riken.jp\n"
     ]
    },
    {
     "name": "stdout",
     "output_type": "stream",
     "text": [
      "meta= {'limit': 1, 'next': '/SSBD/api/v3/bd5coords/?bdmlID=800faa21-c28c-4b72-bd12-d41f2eed02e8&format=json&limit=1&ts=130&offset=1', 'offset': 0, 'previous': None, 'total_count': 177}\n",
      "found= 177\n",
      "limit= 1\n",
      "No.: 1\n",
      "    entity : sphere\n",
      "    id : 131001\n",
      "    label : polar1\n",
      "    radius : 1.26\n",
      "    sid : None\n",
      "    t : 131\n",
      "    x : 166\n",
      "    y : 346\n",
      "    z : 6.3\n",
      "tp=130 nn=177\n",
      "display= True\n",
      "parameter= http://ssbd1.qbic.riken.jp/SSBD/api/v3/bd5coords/?format=json;bdmlID=800faa21-c28c-4b72-bd12-d41f2eed02e8;ts=131;offset=0;limit=1\n"
     ]
    },
    {
     "name": "stderr",
     "output_type": "stream",
     "text": [
      "(MainThread) http://ssbd1.qbic.riken.jp:80 \"GET /SSBD/api/v3/bd5coords/?format=json;bdmlID=800faa21-c28c-4b72-bd12-d41f2eed02e8;ts=131;offset=0;limit=1 HTTP/1.1\" 200 None\n",
      "(MainThread) Starting new HTTP connection (1): ssbd1.qbic.riken.jp\n"
     ]
    },
    {
     "name": "stdout",
     "output_type": "stream",
     "text": [
      "meta= {'limit': 1, 'next': '/SSBD/api/v3/bd5coords/?bdmlID=800faa21-c28c-4b72-bd12-d41f2eed02e8&format=json&limit=1&ts=131&offset=1', 'offset': 0, 'previous': None, 'total_count': 179}\n",
      "found= 179\n",
      "limit= 1\n",
      "No.: 1\n",
      "    entity : sphere\n",
      "    id : 132001\n",
      "    label : polar1\n",
      "    radius : 1.26\n",
      "    sid : None\n",
      "    t : 132\n",
      "    x : 164\n",
      "    y : 347\n",
      "    z : 6.3\n",
      "tp=131 nn=179\n",
      "display= True\n",
      "parameter= http://ssbd1.qbic.riken.jp/SSBD/api/v3/bd5coords/?format=json;bdmlID=800faa21-c28c-4b72-bd12-d41f2eed02e8;ts=132;offset=0;limit=1\n"
     ]
    },
    {
     "name": "stderr",
     "output_type": "stream",
     "text": [
      "(MainThread) http://ssbd1.qbic.riken.jp:80 \"GET /SSBD/api/v3/bd5coords/?format=json;bdmlID=800faa21-c28c-4b72-bd12-d41f2eed02e8;ts=132;offset=0;limit=1 HTTP/1.1\" 200 None\n",
      "(MainThread) Starting new HTTP connection (1): ssbd1.qbic.riken.jp\n"
     ]
    },
    {
     "name": "stdout",
     "output_type": "stream",
     "text": [
      "meta= {'limit': 1, 'next': '/SSBD/api/v3/bd5coords/?bdmlID=800faa21-c28c-4b72-bd12-d41f2eed02e8&format=json&limit=1&ts=132&offset=1', 'offset': 0, 'previous': None, 'total_count': 180}\n",
      "found= 180\n",
      "limit= 1\n",
      "No.: 1\n",
      "    entity : sphere\n",
      "    id : 133001\n",
      "    label : polar1\n",
      "    radius : 1.26\n",
      "    sid : None\n",
      "    t : 133\n",
      "    x : 166\n",
      "    y : 347\n",
      "    z : 6.3\n",
      "tp=132 nn=180\n",
      "display= True\n",
      "parameter= http://ssbd1.qbic.riken.jp/SSBD/api/v3/bd5coords/?format=json;bdmlID=800faa21-c28c-4b72-bd12-d41f2eed02e8;ts=133;offset=0;limit=1\n"
     ]
    },
    {
     "name": "stderr",
     "output_type": "stream",
     "text": [
      "(MainThread) http://ssbd1.qbic.riken.jp:80 \"GET /SSBD/api/v3/bd5coords/?format=json;bdmlID=800faa21-c28c-4b72-bd12-d41f2eed02e8;ts=133;offset=0;limit=1 HTTP/1.1\" 200 None\n",
      "(MainThread) Starting new HTTP connection (1): ssbd1.qbic.riken.jp\n"
     ]
    },
    {
     "name": "stdout",
     "output_type": "stream",
     "text": [
      "meta= {'limit': 1, 'next': '/SSBD/api/v3/bd5coords/?bdmlID=800faa21-c28c-4b72-bd12-d41f2eed02e8&format=json&limit=1&ts=133&offset=1', 'offset': 0, 'previous': None, 'total_count': 181}\n",
      "found= 181\n",
      "limit= 1\n",
      "No.: 1\n",
      "    entity : sphere\n",
      "    id : 134001\n",
      "    label : ABarpppap\n",
      "    radius : 1.62\n",
      "    sid : None\n",
      "    t : 134\n",
      "    x : 410\n",
      "    y : 177\n",
      "    z : 7.9\n",
      "tp=133 nn=181\n",
      "display= True\n",
      "parameter= http://ssbd1.qbic.riken.jp/SSBD/api/v3/bd5coords/?format=json;bdmlID=800faa21-c28c-4b72-bd12-d41f2eed02e8;ts=134;offset=0;limit=1\n"
     ]
    },
    {
     "name": "stderr",
     "output_type": "stream",
     "text": [
      "(MainThread) http://ssbd1.qbic.riken.jp:80 \"GET /SSBD/api/v3/bd5coords/?format=json;bdmlID=800faa21-c28c-4b72-bd12-d41f2eed02e8;ts=134;offset=0;limit=1 HTTP/1.1\" 200 None\n",
      "(MainThread) Starting new HTTP connection (1): ssbd1.qbic.riken.jp\n"
     ]
    },
    {
     "name": "stdout",
     "output_type": "stream",
     "text": [
      "meta= {'limit': 1, 'next': '/SSBD/api/v3/bd5coords/?bdmlID=800faa21-c28c-4b72-bd12-d41f2eed02e8&format=json&limit=1&ts=134&offset=1', 'offset': 0, 'previous': None, 'total_count': 181}\n",
      "found= 181\n",
      "limit= 1\n",
      "No.: 1\n",
      "    entity : sphere\n",
      "    id : 135001\n",
      "    label : ABarpppap\n",
      "    radius : 1.71\n",
      "    sid : None\n",
      "    t : 135\n",
      "    x : 410\n",
      "    y : 175\n",
      "    z : 8\n",
      "tp=134 nn=181\n",
      "display= True\n",
      "parameter= http://ssbd1.qbic.riken.jp/SSBD/api/v3/bd5coords/?format=json;bdmlID=800faa21-c28c-4b72-bd12-d41f2eed02e8;ts=135;offset=0;limit=1\n"
     ]
    },
    {
     "name": "stderr",
     "output_type": "stream",
     "text": [
      "(MainThread) http://ssbd1.qbic.riken.jp:80 \"GET /SSBD/api/v3/bd5coords/?format=json;bdmlID=800faa21-c28c-4b72-bd12-d41f2eed02e8;ts=135;offset=0;limit=1 HTTP/1.1\" 200 None\n",
      "(MainThread) Starting new HTTP connection (1): ssbd1.qbic.riken.jp\n"
     ]
    },
    {
     "name": "stdout",
     "output_type": "stream",
     "text": [
      "meta= {'limit': 1, 'next': '/SSBD/api/v3/bd5coords/?bdmlID=800faa21-c28c-4b72-bd12-d41f2eed02e8&format=json&limit=1&ts=135&offset=1', 'offset': 0, 'previous': None, 'total_count': 182}\n",
      "found= 182\n",
      "limit= 1\n",
      "No.: 1\n",
      "    entity : sphere\n",
      "    id : 136001\n",
      "    label : ABarpppap\n",
      "    radius : 1.62\n",
      "    sid : None\n",
      "    t : 136\n",
      "    x : 401\n",
      "    y : 175\n",
      "    z : 8.1\n",
      "tp=135 nn=182\n",
      "display= True\n",
      "parameter= http://ssbd1.qbic.riken.jp/SSBD/api/v3/bd5coords/?format=json;bdmlID=800faa21-c28c-4b72-bd12-d41f2eed02e8;ts=136;offset=0;limit=1\n"
     ]
    },
    {
     "name": "stderr",
     "output_type": "stream",
     "text": [
      "(MainThread) http://ssbd1.qbic.riken.jp:80 \"GET /SSBD/api/v3/bd5coords/?format=json;bdmlID=800faa21-c28c-4b72-bd12-d41f2eed02e8;ts=136;offset=0;limit=1 HTTP/1.1\" 200 None\n",
      "(MainThread) Starting new HTTP connection (1): ssbd1.qbic.riken.jp\n"
     ]
    },
    {
     "name": "stdout",
     "output_type": "stream",
     "text": [
      "meta= {'limit': 1, 'next': '/SSBD/api/v3/bd5coords/?bdmlID=800faa21-c28c-4b72-bd12-d41f2eed02e8&format=json&limit=1&ts=136&offset=1', 'offset': 0, 'previous': None, 'total_count': 183}\n",
      "found= 183\n",
      "limit= 1\n",
      "No.: 1\n",
      "    entity : sphere\n",
      "    id : 137001\n",
      "    label : ABarpppap\n",
      "    radius : 1.71\n",
      "    sid : None\n",
      "    t : 137\n",
      "    x : 402\n",
      "    y : 169\n",
      "    z : 8.2\n",
      "tp=136 nn=183\n",
      "display= True\n",
      "parameter= http://ssbd1.qbic.riken.jp/SSBD/api/v3/bd5coords/?format=json;bdmlID=800faa21-c28c-4b72-bd12-d41f2eed02e8;ts=137;offset=0;limit=1\n"
     ]
    },
    {
     "name": "stderr",
     "output_type": "stream",
     "text": [
      "(MainThread) http://ssbd1.qbic.riken.jp:80 \"GET /SSBD/api/v3/bd5coords/?format=json;bdmlID=800faa21-c28c-4b72-bd12-d41f2eed02e8;ts=137;offset=0;limit=1 HTTP/1.1\" 200 None\n",
      "(MainThread) Starting new HTTP connection (1): ssbd1.qbic.riken.jp\n"
     ]
    },
    {
     "name": "stdout",
     "output_type": "stream",
     "text": [
      "meta= {'limit': 1, 'next': '/SSBD/api/v3/bd5coords/?bdmlID=800faa21-c28c-4b72-bd12-d41f2eed02e8&format=json&limit=1&ts=137&offset=1', 'offset': 0, 'previous': None, 'total_count': 184}\n",
      "found= 184\n",
      "limit= 1\n",
      "No.: 1\n",
      "    entity : sphere\n",
      "    id : 138001\n",
      "    label : ABarpppap\n",
      "    radius : 1.62\n",
      "    sid : None\n",
      "    t : 138\n",
      "    x : 403\n",
      "    y : 169\n",
      "    z : 8.1\n",
      "tp=137 nn=184\n",
      "display= True\n",
      "parameter= http://ssbd1.qbic.riken.jp/SSBD/api/v3/bd5coords/?format=json;bdmlID=800faa21-c28c-4b72-bd12-d41f2eed02e8;ts=138;offset=0;limit=1\n"
     ]
    },
    {
     "name": "stderr",
     "output_type": "stream",
     "text": [
      "(MainThread) http://ssbd1.qbic.riken.jp:80 \"GET /SSBD/api/v3/bd5coords/?format=json;bdmlID=800faa21-c28c-4b72-bd12-d41f2eed02e8;ts=138;offset=0;limit=1 HTTP/1.1\" 200 None\n",
      "(MainThread) Starting new HTTP connection (1): ssbd1.qbic.riken.jp\n"
     ]
    },
    {
     "name": "stdout",
     "output_type": "stream",
     "text": [
      "meta= {'limit': 1, 'next': '/SSBD/api/v3/bd5coords/?bdmlID=800faa21-c28c-4b72-bd12-d41f2eed02e8&format=json&limit=1&ts=138&offset=1', 'offset': 0, 'previous': None, 'total_count': 186}\n",
      "found= 186\n",
      "limit= 1\n",
      "No.: 1\n",
      "    entity : sphere\n",
      "    id : 139001\n",
      "    label : ABarpppap\n",
      "    radius : 1.62\n",
      "    sid : None\n",
      "    t : 139\n",
      "    x : 404\n",
      "    y : 170\n",
      "    z : 8\n",
      "tp=138 nn=186\n",
      "display= True\n",
      "parameter= http://ssbd1.qbic.riken.jp/SSBD/api/v3/bd5coords/?format=json;bdmlID=800faa21-c28c-4b72-bd12-d41f2eed02e8;ts=139;offset=0;limit=1\n"
     ]
    },
    {
     "name": "stderr",
     "output_type": "stream",
     "text": [
      "(MainThread) http://ssbd1.qbic.riken.jp:80 \"GET /SSBD/api/v3/bd5coords/?format=json;bdmlID=800faa21-c28c-4b72-bd12-d41f2eed02e8;ts=139;offset=0;limit=1 HTTP/1.1\" 200 None\n",
      "(MainThread) Starting new HTTP connection (1): ssbd1.qbic.riken.jp\n"
     ]
    },
    {
     "name": "stdout",
     "output_type": "stream",
     "text": [
      "meta= {'limit': 1, 'next': '/SSBD/api/v3/bd5coords/?bdmlID=800faa21-c28c-4b72-bd12-d41f2eed02e8&format=json&limit=1&ts=139&offset=1', 'offset': 0, 'previous': None, 'total_count': 187}\n",
      "found= 187\n",
      "limit= 1\n",
      "No.: 1\n",
      "    entity : sphere\n",
      "    id : 140001\n",
      "    label : polar1\n",
      "    radius : 1.26\n",
      "    sid : None\n",
      "    t : 140\n",
      "    x : 166\n",
      "    y : 346\n",
      "    z : 6.2\n",
      "tp=139 nn=187\n",
      "display= True\n",
      "parameter= http://ssbd1.qbic.riken.jp/SSBD/api/v3/bd5coords/?format=json;bdmlID=800faa21-c28c-4b72-bd12-d41f2eed02e8;ts=140;offset=0;limit=1\n"
     ]
    },
    {
     "name": "stderr",
     "output_type": "stream",
     "text": [
      "(MainThread) http://ssbd1.qbic.riken.jp:80 \"GET /SSBD/api/v3/bd5coords/?format=json;bdmlID=800faa21-c28c-4b72-bd12-d41f2eed02e8;ts=140;offset=0;limit=1 HTTP/1.1\" 200 None\n",
      "(MainThread) Starting new HTTP connection (1): ssbd1.qbic.riken.jp\n"
     ]
    },
    {
     "name": "stdout",
     "output_type": "stream",
     "text": [
      "meta= {'limit': 1, 'next': '/SSBD/api/v3/bd5coords/?bdmlID=800faa21-c28c-4b72-bd12-d41f2eed02e8&format=json&limit=1&ts=140&offset=1', 'offset': 0, 'previous': None, 'total_count': 187}\n",
      "found= 187\n",
      "limit= 1\n",
      "No.: 1\n",
      "    entity : sphere\n",
      "    id : 141001\n",
      "    label : ABarpppap\n",
      "    radius : 1.665\n",
      "    sid : None\n",
      "    t : 141\n",
      "    x : 406\n",
      "    y : 170\n",
      "    z : 8.2\n",
      "tp=140 nn=187\n",
      "display= True\n",
      "parameter= http://ssbd1.qbic.riken.jp/SSBD/api/v3/bd5coords/?format=json;bdmlID=800faa21-c28c-4b72-bd12-d41f2eed02e8;ts=141;offset=0;limit=1\n"
     ]
    },
    {
     "name": "stderr",
     "output_type": "stream",
     "text": [
      "(MainThread) http://ssbd1.qbic.riken.jp:80 \"GET /SSBD/api/v3/bd5coords/?format=json;bdmlID=800faa21-c28c-4b72-bd12-d41f2eed02e8;ts=141;offset=0;limit=1 HTTP/1.1\" 200 None\n",
      "(MainThread) Starting new HTTP connection (1): ssbd1.qbic.riken.jp\n"
     ]
    },
    {
     "name": "stdout",
     "output_type": "stream",
     "text": [
      "meta= {'limit': 1, 'next': '/SSBD/api/v3/bd5coords/?bdmlID=800faa21-c28c-4b72-bd12-d41f2eed02e8&format=json&limit=1&ts=141&offset=1', 'offset': 0, 'previous': None, 'total_count': 187}\n",
      "found= 187\n",
      "limit= 1\n",
      "No.: 1\n",
      "    entity : sphere\n",
      "    id : 142001\n",
      "    label : Cpaaa\n",
      "    radius : 1.845\n",
      "    sid : None\n",
      "    t : 142\n",
      "    x : 487\n",
      "    y : 196\n",
      "    z : 7.3\n",
      "tp=141 nn=187\n",
      "display= True\n",
      "parameter= http://ssbd1.qbic.riken.jp/SSBD/api/v3/bd5coords/?format=json;bdmlID=800faa21-c28c-4b72-bd12-d41f2eed02e8;ts=142;offset=0;limit=1\n"
     ]
    },
    {
     "name": "stderr",
     "output_type": "stream",
     "text": [
      "(MainThread) http://ssbd1.qbic.riken.jp:80 \"GET /SSBD/api/v3/bd5coords/?format=json;bdmlID=800faa21-c28c-4b72-bd12-d41f2eed02e8;ts=142;offset=0;limit=1 HTTP/1.1\" 200 None\n",
      "(MainThread) Starting new HTTP connection (1): ssbd1.qbic.riken.jp\n"
     ]
    },
    {
     "name": "stdout",
     "output_type": "stream",
     "text": [
      "meta= {'limit': 1, 'next': '/SSBD/api/v3/bd5coords/?bdmlID=800faa21-c28c-4b72-bd12-d41f2eed02e8&format=json&limit=1&ts=142&offset=1', 'offset': 0, 'previous': None, 'total_count': 187}\n",
      "found= 187\n",
      "limit= 1\n",
      "No.: 1\n",
      "    entity : sphere\n",
      "    id : 143001\n",
      "    label : ABarpppaa\n",
      "    radius : 1.665\n",
      "    sid : None\n",
      "    t : 143\n",
      "    x : 378\n",
      "    y : 206\n",
      "    z : 8.1\n",
      "tp=142 nn=187\n",
      "display= True\n",
      "parameter= http://ssbd1.qbic.riken.jp/SSBD/api/v3/bd5coords/?format=json;bdmlID=800faa21-c28c-4b72-bd12-d41f2eed02e8;ts=143;offset=0;limit=1\n"
     ]
    },
    {
     "name": "stderr",
     "output_type": "stream",
     "text": [
      "(MainThread) http://ssbd1.qbic.riken.jp:80 \"GET /SSBD/api/v3/bd5coords/?format=json;bdmlID=800faa21-c28c-4b72-bd12-d41f2eed02e8;ts=143;offset=0;limit=1 HTTP/1.1\" 200 None\n",
      "(MainThread) Starting new HTTP connection (1): ssbd1.qbic.riken.jp\n"
     ]
    },
    {
     "name": "stdout",
     "output_type": "stream",
     "text": [
      "meta= {'limit': 1, 'next': '/SSBD/api/v3/bd5coords/?bdmlID=800faa21-c28c-4b72-bd12-d41f2eed02e8&format=json&limit=1&ts=143&offset=1', 'offset': 0, 'previous': None, 'total_count': 188}\n",
      "found= 188\n",
      "limit= 1\n",
      "No.: 1\n",
      "    entity : sphere\n",
      "    id : 144001\n",
      "    label : ABarpppaa\n",
      "    radius : 1.665\n",
      "    sid : None\n",
      "    t : 144\n",
      "    x : 376\n",
      "    y : 206\n",
      "    z : 8.1\n",
      "tp=143 nn=188\n",
      "display= True\n",
      "parameter= http://ssbd1.qbic.riken.jp/SSBD/api/v3/bd5coords/?format=json;bdmlID=800faa21-c28c-4b72-bd12-d41f2eed02e8;ts=144;offset=0;limit=1\n"
     ]
    },
    {
     "name": "stderr",
     "output_type": "stream",
     "text": [
      "(MainThread) http://ssbd1.qbic.riken.jp:80 \"GET /SSBD/api/v3/bd5coords/?format=json;bdmlID=800faa21-c28c-4b72-bd12-d41f2eed02e8;ts=144;offset=0;limit=1 HTTP/1.1\" 200 None\n",
      "(MainThread) Starting new HTTP connection (1): ssbd1.qbic.riken.jp\n"
     ]
    },
    {
     "name": "stdout",
     "output_type": "stream",
     "text": [
      "meta= {'limit': 1, 'next': '/SSBD/api/v3/bd5coords/?bdmlID=800faa21-c28c-4b72-bd12-d41f2eed02e8&format=json&limit=1&ts=144&offset=1', 'offset': 0, 'previous': None, 'total_count': 188}\n",
      "found= 188\n",
      "limit= 1\n",
      "No.: 1\n",
      "    entity : sphere\n",
      "    id : 145001\n",
      "    label : ABarpppap\n",
      "    radius : 1.755\n",
      "    sid : None\n",
      "    t : 145\n",
      "    x : 410\n",
      "    y : 173\n",
      "    z : 8.2\n",
      "tp=144 nn=188\n",
      "display= True\n",
      "parameter= http://ssbd1.qbic.riken.jp/SSBD/api/v3/bd5coords/?format=json;bdmlID=800faa21-c28c-4b72-bd12-d41f2eed02e8;ts=145;offset=0;limit=1\n"
     ]
    },
    {
     "name": "stderr",
     "output_type": "stream",
     "text": [
      "(MainThread) http://ssbd1.qbic.riken.jp:80 \"GET /SSBD/api/v3/bd5coords/?format=json;bdmlID=800faa21-c28c-4b72-bd12-d41f2eed02e8;ts=145;offset=0;limit=1 HTTP/1.1\" 200 None\n",
      "(MainThread) Starting new HTTP connection (1): ssbd1.qbic.riken.jp\n"
     ]
    },
    {
     "name": "stdout",
     "output_type": "stream",
     "text": [
      "meta= {'limit': 1, 'next': '/SSBD/api/v3/bd5coords/?bdmlID=800faa21-c28c-4b72-bd12-d41f2eed02e8&format=json&limit=1&ts=145&offset=1', 'offset': 0, 'previous': None, 'total_count': 189}\n",
      "found= 189\n",
      "limit= 1\n",
      "No.: 1\n",
      "    entity : sphere\n",
      "    id : 146001\n",
      "    label : polar1\n",
      "    radius : 1.395\n",
      "    sid : None\n",
      "    t : 146\n",
      "    x : 166\n",
      "    y : 345\n",
      "    z : 6.2\n",
      "tp=145 nn=189\n",
      "display= True\n",
      "parameter= http://ssbd1.qbic.riken.jp/SSBD/api/v3/bd5coords/?format=json;bdmlID=800faa21-c28c-4b72-bd12-d41f2eed02e8;ts=146;offset=0;limit=1\n"
     ]
    },
    {
     "name": "stderr",
     "output_type": "stream",
     "text": [
      "(MainThread) http://ssbd1.qbic.riken.jp:80 \"GET /SSBD/api/v3/bd5coords/?format=json;bdmlID=800faa21-c28c-4b72-bd12-d41f2eed02e8;ts=146;offset=0;limit=1 HTTP/1.1\" 200 None\n",
      "(MainThread) Starting new HTTP connection (1): ssbd1.qbic.riken.jp\n"
     ]
    },
    {
     "name": "stdout",
     "output_type": "stream",
     "text": [
      "meta= {'limit': 1, 'next': '/SSBD/api/v3/bd5coords/?bdmlID=800faa21-c28c-4b72-bd12-d41f2eed02e8&format=json&limit=1&ts=146&offset=1', 'offset': 0, 'previous': None, 'total_count': 191}\n",
      "found= 191\n",
      "limit= 1\n",
      "No.: 1\n",
      "    entity : sphere\n",
      "    id : 147001\n",
      "    label : ABarpppap\n",
      "    radius : 1.665\n",
      "    sid : None\n",
      "    t : 147\n",
      "    x : 405\n",
      "    y : 171\n",
      "    z : 8.1\n",
      "tp=146 nn=191\n",
      "display= True\n",
      "parameter= http://ssbd1.qbic.riken.jp/SSBD/api/v3/bd5coords/?format=json;bdmlID=800faa21-c28c-4b72-bd12-d41f2eed02e8;ts=147;offset=0;limit=1\n"
     ]
    },
    {
     "name": "stderr",
     "output_type": "stream",
     "text": [
      "(MainThread) http://ssbd1.qbic.riken.jp:80 \"GET /SSBD/api/v3/bd5coords/?format=json;bdmlID=800faa21-c28c-4b72-bd12-d41f2eed02e8;ts=147;offset=0;limit=1 HTTP/1.1\" 200 None\n",
      "(MainThread) Starting new HTTP connection (1): ssbd1.qbic.riken.jp\n"
     ]
    },
    {
     "name": "stdout",
     "output_type": "stream",
     "text": [
      "meta= {'limit': 1, 'next': '/SSBD/api/v3/bd5coords/?bdmlID=800faa21-c28c-4b72-bd12-d41f2eed02e8&format=json&limit=1&ts=147&offset=1', 'offset': 0, 'previous': None, 'total_count': 192}\n",
      "found= 192\n",
      "limit= 1\n",
      "No.: 1\n",
      "    entity : sphere\n",
      "    id : 148001\n",
      "    label : ABarpppap\n",
      "    radius : 1.665\n",
      "    sid : None\n",
      "    t : 148\n",
      "    x : 408\n",
      "    y : 174\n",
      "    z : 8\n",
      "tp=147 nn=192\n",
      "display= True\n",
      "parameter= http://ssbd1.qbic.riken.jp/SSBD/api/v3/bd5coords/?format=json;bdmlID=800faa21-c28c-4b72-bd12-d41f2eed02e8;ts=148;offset=0;limit=1\n"
     ]
    },
    {
     "name": "stderr",
     "output_type": "stream",
     "text": [
      "(MainThread) http://ssbd1.qbic.riken.jp:80 \"GET /SSBD/api/v3/bd5coords/?format=json;bdmlID=800faa21-c28c-4b72-bd12-d41f2eed02e8;ts=148;offset=0;limit=1 HTTP/1.1\" 200 None\n",
      "(MainThread) Starting new HTTP connection (1): ssbd1.qbic.riken.jp\n"
     ]
    },
    {
     "name": "stdout",
     "output_type": "stream",
     "text": [
      "meta= {'limit': 1, 'next': '/SSBD/api/v3/bd5coords/?bdmlID=800faa21-c28c-4b72-bd12-d41f2eed02e8&format=json&limit=1&ts=148&offset=1', 'offset': 0, 'previous': None, 'total_count': 193}\n",
      "found= 193\n",
      "limit= 1\n",
      "No.: 1\n",
      "    entity : sphere\n",
      "    id : 149001\n",
      "    label : ABarpppap\n",
      "    radius : 1.755\n",
      "    sid : None\n",
      "    t : 149\n",
      "    x : 407\n",
      "    y : 174\n",
      "    z : 8.3\n",
      "tp=148 nn=193\n",
      "display= True\n",
      "parameter= http://ssbd1.qbic.riken.jp/SSBD/api/v3/bd5coords/?format=json;bdmlID=800faa21-c28c-4b72-bd12-d41f2eed02e8;ts=149;offset=0;limit=1\n"
     ]
    },
    {
     "name": "stderr",
     "output_type": "stream",
     "text": [
      "(MainThread) http://ssbd1.qbic.riken.jp:80 \"GET /SSBD/api/v3/bd5coords/?format=json;bdmlID=800faa21-c28c-4b72-bd12-d41f2eed02e8;ts=149;offset=0;limit=1 HTTP/1.1\" 200 None\n",
      "(MainThread) Starting new HTTP connection (1): ssbd1.qbic.riken.jp\n"
     ]
    },
    {
     "name": "stdout",
     "output_type": "stream",
     "text": [
      "meta= {'limit': 1, 'next': '/SSBD/api/v3/bd5coords/?bdmlID=800faa21-c28c-4b72-bd12-d41f2eed02e8&format=json&limit=1&ts=149&offset=1', 'offset': 0, 'previous': None, 'total_count': 193}\n",
      "found= 193\n",
      "limit= 1\n",
      "No.: 1\n",
      "    entity : sphere\n",
      "    id : 150001\n",
      "    label : ABarpppap\n",
      "    radius : 1.755\n",
      "    sid : None\n",
      "    t : 150\n",
      "    x : 406\n",
      "    y : 167\n",
      "    z : 8.1\n",
      "tp=149 nn=193\n",
      "display= True\n",
      "parameter= http://ssbd1.qbic.riken.jp/SSBD/api/v3/bd5coords/?format=json;bdmlID=800faa21-c28c-4b72-bd12-d41f2eed02e8;ts=150;offset=0;limit=1\n"
     ]
    },
    {
     "name": "stderr",
     "output_type": "stream",
     "text": [
      "(MainThread) http://ssbd1.qbic.riken.jp:80 \"GET /SSBD/api/v3/bd5coords/?format=json;bdmlID=800faa21-c28c-4b72-bd12-d41f2eed02e8;ts=150;offset=0;limit=1 HTTP/1.1\" 200 None\n",
      "(MainThread) Starting new HTTP connection (1): ssbd1.qbic.riken.jp\n"
     ]
    },
    {
     "name": "stdout",
     "output_type": "stream",
     "text": [
      "meta= {'limit': 1, 'next': '/SSBD/api/v3/bd5coords/?bdmlID=800faa21-c28c-4b72-bd12-d41f2eed02e8&format=json&limit=1&ts=150&offset=1', 'offset': 0, 'previous': None, 'total_count': 193}\n",
      "found= 193\n",
      "limit= 1\n",
      "No.: 1\n",
      "    entity : sphere\n",
      "    id : 151001\n",
      "    label : ABarpppap\n",
      "    radius : 1.755\n",
      "    sid : None\n",
      "    t : 151\n",
      "    x : 408\n",
      "    y : 170\n",
      "    z : 8.1\n",
      "tp=150 nn=193\n",
      "display= True\n",
      "parameter= http://ssbd1.qbic.riken.jp/SSBD/api/v3/bd5coords/?format=json;bdmlID=800faa21-c28c-4b72-bd12-d41f2eed02e8;ts=151;offset=0;limit=1\n"
     ]
    },
    {
     "name": "stderr",
     "output_type": "stream",
     "text": [
      "(MainThread) http://ssbd1.qbic.riken.jp:80 \"GET /SSBD/api/v3/bd5coords/?format=json;bdmlID=800faa21-c28c-4b72-bd12-d41f2eed02e8;ts=151;offset=0;limit=1 HTTP/1.1\" 200 None\n",
      "(MainThread) Starting new HTTP connection (1): ssbd1.qbic.riken.jp\n"
     ]
    },
    {
     "name": "stdout",
     "output_type": "stream",
     "text": [
      "meta= {'limit': 1, 'next': '/SSBD/api/v3/bd5coords/?bdmlID=800faa21-c28c-4b72-bd12-d41f2eed02e8&format=json&limit=1&ts=151&offset=1', 'offset': 0, 'previous': None, 'total_count': 193}\n",
      "found= 193\n",
      "limit= 1\n",
      "No.: 1\n",
      "    entity : sphere\n",
      "    id : 152001\n",
      "    label : ABarpppaa\n",
      "    radius : 1.665\n",
      "    sid : None\n",
      "    t : 152\n",
      "    x : 370\n",
      "    y : 198\n",
      "    z : 8.1\n",
      "tp=151 nn=193\n",
      "display= True\n",
      "parameter= http://ssbd1.qbic.riken.jp/SSBD/api/v3/bd5coords/?format=json;bdmlID=800faa21-c28c-4b72-bd12-d41f2eed02e8;ts=152;offset=0;limit=1\n"
     ]
    },
    {
     "name": "stderr",
     "output_type": "stream",
     "text": [
      "(MainThread) http://ssbd1.qbic.riken.jp:80 \"GET /SSBD/api/v3/bd5coords/?format=json;bdmlID=800faa21-c28c-4b72-bd12-d41f2eed02e8;ts=152;offset=0;limit=1 HTTP/1.1\" 200 None\n",
      "(MainThread) Starting new HTTP connection (1): ssbd1.qbic.riken.jp\n"
     ]
    },
    {
     "name": "stdout",
     "output_type": "stream",
     "text": [
      "meta= {'limit': 1, 'next': '/SSBD/api/v3/bd5coords/?bdmlID=800faa21-c28c-4b72-bd12-d41f2eed02e8&format=json&limit=1&ts=152&offset=1', 'offset': 0, 'previous': None, 'total_count': 194}\n",
      "found= 194\n",
      "limit= 1\n",
      "No.: 1\n",
      "    entity : sphere\n",
      "    id : 153001\n",
      "    label : ABarpppap\n",
      "    radius : 1.755\n",
      "    sid : None\n",
      "    t : 153\n",
      "    x : 407\n",
      "    y : 170\n",
      "    z : 8.2\n",
      "tp=152 nn=194\n",
      "display= True\n",
      "parameter= http://ssbd1.qbic.riken.jp/SSBD/api/v3/bd5coords/?format=json;bdmlID=800faa21-c28c-4b72-bd12-d41f2eed02e8;ts=153;offset=0;limit=1\n"
     ]
    },
    {
     "name": "stderr",
     "output_type": "stream",
     "text": [
      "(MainThread) http://ssbd1.qbic.riken.jp:80 \"GET /SSBD/api/v3/bd5coords/?format=json;bdmlID=800faa21-c28c-4b72-bd12-d41f2eed02e8;ts=153;offset=0;limit=1 HTTP/1.1\" 200 None\n",
      "(MainThread) Starting new HTTP connection (1): ssbd1.qbic.riken.jp\n"
     ]
    },
    {
     "name": "stdout",
     "output_type": "stream",
     "text": [
      "meta= {'limit': 1, 'next': '/SSBD/api/v3/bd5coords/?bdmlID=800faa21-c28c-4b72-bd12-d41f2eed02e8&format=json&limit=1&ts=153&offset=1', 'offset': 0, 'previous': None, 'total_count': 194}\n",
      "found= 194\n",
      "limit= 1\n",
      "No.: 1\n",
      "    entity : sphere\n",
      "    id : 154001\n",
      "    label : ABarpppaa\n",
      "    radius : 1.665\n",
      "    sid : None\n",
      "    t : 154\n",
      "    x : 374\n",
      "    y : 190\n",
      "    z : 8.2\n",
      "tp=153 nn=194\n",
      "display= True\n",
      "parameter= http://ssbd1.qbic.riken.jp/SSBD/api/v3/bd5coords/?format=json;bdmlID=800faa21-c28c-4b72-bd12-d41f2eed02e8;ts=154;offset=0;limit=1\n"
     ]
    },
    {
     "name": "stderr",
     "output_type": "stream",
     "text": [
      "(MainThread) http://ssbd1.qbic.riken.jp:80 \"GET /SSBD/api/v3/bd5coords/?format=json;bdmlID=800faa21-c28c-4b72-bd12-d41f2eed02e8;ts=154;offset=0;limit=1 HTTP/1.1\" 200 None\n",
      "(MainThread) Starting new HTTP connection (1): ssbd1.qbic.riken.jp\n"
     ]
    },
    {
     "name": "stdout",
     "output_type": "stream",
     "text": [
      "meta= {'limit': 1, 'next': '/SSBD/api/v3/bd5coords/?bdmlID=800faa21-c28c-4b72-bd12-d41f2eed02e8&format=json&limit=1&ts=154&offset=1', 'offset': 0, 'previous': None, 'total_count': 196}\n",
      "found= 196\n",
      "limit= 1\n",
      "No.: 1\n",
      "    entity : sphere\n",
      "    id : 155001\n",
      "    label : ABarpppap\n",
      "    radius : 1.755\n",
      "    sid : None\n",
      "    t : 155\n",
      "    x : 418\n",
      "    y : 173\n",
      "    z : 8.2\n",
      "tp=154 nn=196\n",
      "display= True\n",
      "parameter= http://ssbd1.qbic.riken.jp/SSBD/api/v3/bd5coords/?format=json;bdmlID=800faa21-c28c-4b72-bd12-d41f2eed02e8;ts=155;offset=0;limit=1\n"
     ]
    },
    {
     "name": "stderr",
     "output_type": "stream",
     "text": [
      "(MainThread) http://ssbd1.qbic.riken.jp:80 \"GET /SSBD/api/v3/bd5coords/?format=json;bdmlID=800faa21-c28c-4b72-bd12-d41f2eed02e8;ts=155;offset=0;limit=1 HTTP/1.1\" 200 None\n",
      "(MainThread) Starting new HTTP connection (1): ssbd1.qbic.riken.jp\n"
     ]
    },
    {
     "name": "stdout",
     "output_type": "stream",
     "text": [
      "meta= {'limit': 1, 'next': '/SSBD/api/v3/bd5coords/?bdmlID=800faa21-c28c-4b72-bd12-d41f2eed02e8&format=json&limit=1&ts=155&offset=1', 'offset': 0, 'previous': None, 'total_count': 198}\n",
      "found= 198\n",
      "limit= 1\n",
      "No.: 1\n",
      "    entity : sphere\n",
      "    id : 156001\n",
      "    label : polar1\n",
      "    radius : 1.305\n",
      "    sid : None\n",
      "    t : 156\n",
      "    x : 165\n",
      "    y : 347\n",
      "    z : 6.3\n",
      "tp=155 nn=198\n",
      "display= True\n",
      "parameter= http://ssbd1.qbic.riken.jp/SSBD/api/v3/bd5coords/?format=json;bdmlID=800faa21-c28c-4b72-bd12-d41f2eed02e8;ts=156;offset=0;limit=1\n"
     ]
    },
    {
     "name": "stderr",
     "output_type": "stream",
     "text": [
      "(MainThread) http://ssbd1.qbic.riken.jp:80 \"GET /SSBD/api/v3/bd5coords/?format=json;bdmlID=800faa21-c28c-4b72-bd12-d41f2eed02e8;ts=156;offset=0;limit=1 HTTP/1.1\" 200 None\n",
      "(MainThread) Starting new HTTP connection (1): ssbd1.qbic.riken.jp\n"
     ]
    },
    {
     "name": "stdout",
     "output_type": "stream",
     "text": [
      "meta= {'limit': 1, 'next': '/SSBD/api/v3/bd5coords/?bdmlID=800faa21-c28c-4b72-bd12-d41f2eed02e8&format=json&limit=1&ts=156&offset=1', 'offset': 0, 'previous': None, 'total_count': 201}\n",
      "found= 201\n",
      "limit= 1\n",
      "No.: 1\n",
      "    entity : sphere\n",
      "    id : 157001\n",
      "    label : ABarpppaa\n",
      "    radius : 1.665\n",
      "    sid : None\n",
      "    t : 157\n",
      "    x : 375\n",
      "    y : 184\n",
      "    z : 8.1\n",
      "tp=156 nn=201\n",
      "display= True\n",
      "parameter= http://ssbd1.qbic.riken.jp/SSBD/api/v3/bd5coords/?format=json;bdmlID=800faa21-c28c-4b72-bd12-d41f2eed02e8;ts=157;offset=0;limit=1\n"
     ]
    },
    {
     "name": "stderr",
     "output_type": "stream",
     "text": [
      "(MainThread) http://ssbd1.qbic.riken.jp:80 \"GET /SSBD/api/v3/bd5coords/?format=json;bdmlID=800faa21-c28c-4b72-bd12-d41f2eed02e8;ts=157;offset=0;limit=1 HTTP/1.1\" 200 None\n",
      "(MainThread) Starting new HTTP connection (1): ssbd1.qbic.riken.jp\n"
     ]
    },
    {
     "name": "stdout",
     "output_type": "stream",
     "text": [
      "meta= {'limit': 1, 'next': '/SSBD/api/v3/bd5coords/?bdmlID=800faa21-c28c-4b72-bd12-d41f2eed02e8&format=json&limit=1&ts=157&offset=1', 'offset': 0, 'previous': None, 'total_count': 201}\n",
      "found= 201\n",
      "limit= 1\n",
      "No.: 1\n",
      "    entity : sphere\n",
      "    id : 158001\n",
      "    label : ABarpppaa\n",
      "    radius : 1.665\n",
      "    sid : None\n",
      "    t : 158\n",
      "    x : 378\n",
      "    y : 183\n",
      "    z : 8\n",
      "tp=157 nn=201\n",
      "display= True\n",
      "parameter= http://ssbd1.qbic.riken.jp/SSBD/api/v3/bd5coords/?format=json;bdmlID=800faa21-c28c-4b72-bd12-d41f2eed02e8;ts=158;offset=0;limit=1\n"
     ]
    },
    {
     "name": "stderr",
     "output_type": "stream",
     "text": [
      "(MainThread) http://ssbd1.qbic.riken.jp:80 \"GET /SSBD/api/v3/bd5coords/?format=json;bdmlID=800faa21-c28c-4b72-bd12-d41f2eed02e8;ts=158;offset=0;limit=1 HTTP/1.1\" 200 None\n",
      "(MainThread) Starting new HTTP connection (1): ssbd1.qbic.riken.jp\n"
     ]
    },
    {
     "name": "stdout",
     "output_type": "stream",
     "text": [
      "meta= {'limit': 1, 'next': '/SSBD/api/v3/bd5coords/?bdmlID=800faa21-c28c-4b72-bd12-d41f2eed02e8&format=json&limit=1&ts=158&offset=1', 'offset': 0, 'previous': None, 'total_count': 202}\n",
      "found= 202\n",
      "limit= 1\n",
      "No.: 1\n",
      "    entity : sphere\n",
      "    id : 159001\n",
      "    label : ABarpapaa\n",
      "    radius : 1.845\n",
      "    sid : None\n",
      "    t : 159\n",
      "    x : 225\n",
      "    y : 229\n",
      "    z : 7.2\n",
      "tp=158 nn=202\n",
      "display= True\n",
      "parameter= http://ssbd1.qbic.riken.jp/SSBD/api/v3/bd5coords/?format=json;bdmlID=800faa21-c28c-4b72-bd12-d41f2eed02e8;ts=159;offset=0;limit=1\n"
     ]
    },
    {
     "name": "stderr",
     "output_type": "stream",
     "text": [
      "(MainThread) http://ssbd1.qbic.riken.jp:80 \"GET /SSBD/api/v3/bd5coords/?format=json;bdmlID=800faa21-c28c-4b72-bd12-d41f2eed02e8;ts=159;offset=0;limit=1 HTTP/1.1\" 200 None\n",
      "(MainThread) Starting new HTTP connection (1): ssbd1.qbic.riken.jp\n"
     ]
    },
    {
     "name": "stdout",
     "output_type": "stream",
     "text": [
      "meta= {'limit': 1, 'next': '/SSBD/api/v3/bd5coords/?bdmlID=800faa21-c28c-4b72-bd12-d41f2eed02e8&format=json&limit=1&ts=159&offset=1', 'offset': 0, 'previous': None, 'total_count': 206}\n",
      "found= 206\n",
      "limit= 1\n",
      "No.: 1\n",
      "    entity : sphere\n",
      "    id : 160001\n",
      "    label : ABarpppaa\n",
      "    radius : 1.665\n",
      "    sid : None\n",
      "    t : 160\n",
      "    x : 382\n",
      "    y : 181\n",
      "    z : 8\n",
      "tp=159 nn=206\n",
      "display= True\n",
      "parameter= http://ssbd1.qbic.riken.jp/SSBD/api/v3/bd5coords/?format=json;bdmlID=800faa21-c28c-4b72-bd12-d41f2eed02e8;ts=160;offset=0;limit=1\n"
     ]
    },
    {
     "name": "stderr",
     "output_type": "stream",
     "text": [
      "(MainThread) http://ssbd1.qbic.riken.jp:80 \"GET /SSBD/api/v3/bd5coords/?format=json;bdmlID=800faa21-c28c-4b72-bd12-d41f2eed02e8;ts=160;offset=0;limit=1 HTTP/1.1\" 200 None\n",
      "(MainThread) Starting new HTTP connection (1): ssbd1.qbic.riken.jp\n"
     ]
    },
    {
     "name": "stdout",
     "output_type": "stream",
     "text": [
      "meta= {'limit': 1, 'next': '/SSBD/api/v3/bd5coords/?bdmlID=800faa21-c28c-4b72-bd12-d41f2eed02e8&format=json&limit=1&ts=160&offset=1', 'offset': 0, 'previous': None, 'total_count': 207}\n",
      "found= 207\n",
      "limit= 1\n",
      "No.: 1\n",
      "    entity : sphere\n",
      "    id : 161001\n",
      "    label : ABarpppaa\n",
      "    radius : 1.665\n",
      "    sid : None\n",
      "    t : 161\n",
      "    x : 381\n",
      "    y : 182\n",
      "    z : 8.1\n",
      "tp=160 nn=207\n",
      "display= True\n",
      "parameter= http://ssbd1.qbic.riken.jp/SSBD/api/v3/bd5coords/?format=json;bdmlID=800faa21-c28c-4b72-bd12-d41f2eed02e8;ts=161;offset=0;limit=1\n"
     ]
    },
    {
     "name": "stderr",
     "output_type": "stream",
     "text": [
      "(MainThread) http://ssbd1.qbic.riken.jp:80 \"GET /SSBD/api/v3/bd5coords/?format=json;bdmlID=800faa21-c28c-4b72-bd12-d41f2eed02e8;ts=161;offset=0;limit=1 HTTP/1.1\" 200 None\n",
      "(MainThread) Starting new HTTP connection (1): ssbd1.qbic.riken.jp\n"
     ]
    },
    {
     "name": "stdout",
     "output_type": "stream",
     "text": [
      "meta= {'limit': 1, 'next': '/SSBD/api/v3/bd5coords/?bdmlID=800faa21-c28c-4b72-bd12-d41f2eed02e8&format=json&limit=1&ts=161&offset=1', 'offset': 0, 'previous': None, 'total_count': 212}\n",
      "found= 212\n",
      "limit= 1\n",
      "No.: 1\n",
      "    entity : sphere\n",
      "    id : 162001\n",
      "    label : ABarpppaa\n",
      "    radius : 1.665\n",
      "    sid : None\n",
      "    t : 162\n",
      "    x : 383\n",
      "    y : 187\n",
      "    z : 8.1\n",
      "tp=161 nn=212\n",
      "display= True\n",
      "parameter= http://ssbd1.qbic.riken.jp/SSBD/api/v3/bd5coords/?format=json;bdmlID=800faa21-c28c-4b72-bd12-d41f2eed02e8;ts=162;offset=0;limit=1\n"
     ]
    },
    {
     "name": "stderr",
     "output_type": "stream",
     "text": [
      "(MainThread) http://ssbd1.qbic.riken.jp:80 \"GET /SSBD/api/v3/bd5coords/?format=json;bdmlID=800faa21-c28c-4b72-bd12-d41f2eed02e8;ts=162;offset=0;limit=1 HTTP/1.1\" 200 None\n",
      "(MainThread) Starting new HTTP connection (1): ssbd1.qbic.riken.jp\n"
     ]
    },
    {
     "name": "stdout",
     "output_type": "stream",
     "text": [
      "meta= {'limit': 1, 'next': '/SSBD/api/v3/bd5coords/?bdmlID=800faa21-c28c-4b72-bd12-d41f2eed02e8&format=json&limit=1&ts=162&offset=1', 'offset': 0, 'previous': None, 'total_count': 216}\n",
      "found= 216\n",
      "limit= 1\n",
      "No.: 1\n",
      "    entity : sphere\n",
      "    id : 163001\n",
      "    label : polar1\n",
      "    radius : 1.305\n",
      "    sid : None\n",
      "    t : 163\n",
      "    x : 166\n",
      "    y : 346\n",
      "    z : 6.2\n",
      "tp=162 nn=216\n",
      "display= True\n",
      "parameter= http://ssbd1.qbic.riken.jp/SSBD/api/v3/bd5coords/?format=json;bdmlID=800faa21-c28c-4b72-bd12-d41f2eed02e8;ts=163;offset=0;limit=1\n"
     ]
    },
    {
     "name": "stderr",
     "output_type": "stream",
     "text": [
      "(MainThread) http://ssbd1.qbic.riken.jp:80 \"GET /SSBD/api/v3/bd5coords/?format=json;bdmlID=800faa21-c28c-4b72-bd12-d41f2eed02e8;ts=163;offset=0;limit=1 HTTP/1.1\" 200 None\n",
      "(MainThread) Starting new HTTP connection (1): ssbd1.qbic.riken.jp\n"
     ]
    },
    {
     "name": "stdout",
     "output_type": "stream",
     "text": [
      "meta= {'limit': 1, 'next': '/SSBD/api/v3/bd5coords/?bdmlID=800faa21-c28c-4b72-bd12-d41f2eed02e8&format=json&limit=1&ts=163&offset=1', 'offset': 0, 'previous': None, 'total_count': 228}\n",
      "found= 228\n",
      "limit= 1\n",
      "No.: 1\n",
      "    entity : sphere\n",
      "    id : 164001\n",
      "    label : polar1\n",
      "    radius : 1.26\n",
      "    sid : None\n",
      "    t : 164\n",
      "    x : 165\n",
      "    y : 347\n",
      "    z : 6.2\n",
      "tp=163 nn=228\n",
      "display= True\n",
      "parameter= http://ssbd1.qbic.riken.jp/SSBD/api/v3/bd5coords/?format=json;bdmlID=800faa21-c28c-4b72-bd12-d41f2eed02e8;ts=164;offset=0;limit=1\n"
     ]
    },
    {
     "name": "stderr",
     "output_type": "stream",
     "text": [
      "(MainThread) http://ssbd1.qbic.riken.jp:80 \"GET /SSBD/api/v3/bd5coords/?format=json;bdmlID=800faa21-c28c-4b72-bd12-d41f2eed02e8;ts=164;offset=0;limit=1 HTTP/1.1\" 200 None\n",
      "(MainThread) Starting new HTTP connection (1): ssbd1.qbic.riken.jp\n"
     ]
    },
    {
     "name": "stdout",
     "output_type": "stream",
     "text": [
      "meta= {'limit': 1, 'next': '/SSBD/api/v3/bd5coords/?bdmlID=800faa21-c28c-4b72-bd12-d41f2eed02e8&format=json&limit=1&ts=164&offset=1', 'offset': 0, 'previous': None, 'total_count': 233}\n",
      "found= 233\n",
      "limit= 1\n",
      "No.: 1\n",
      "    entity : sphere\n",
      "    id : 165001\n",
      "    label : ABarpppaa\n",
      "    radius : 1.665\n",
      "    sid : None\n",
      "    t : 165\n",
      "    x : 392\n",
      "    y : 178\n",
      "    z : 8.2\n",
      "tp=164 nn=233\n",
      "display= True\n",
      "parameter= http://ssbd1.qbic.riken.jp/SSBD/api/v3/bd5coords/?format=json;bdmlID=800faa21-c28c-4b72-bd12-d41f2eed02e8;ts=165;offset=0;limit=1\n"
     ]
    },
    {
     "name": "stderr",
     "output_type": "stream",
     "text": [
      "(MainThread) http://ssbd1.qbic.riken.jp:80 \"GET /SSBD/api/v3/bd5coords/?format=json;bdmlID=800faa21-c28c-4b72-bd12-d41f2eed02e8;ts=165;offset=0;limit=1 HTTP/1.1\" 200 None\n",
      "(MainThread) Starting new HTTP connection (1): ssbd1.qbic.riken.jp\n"
     ]
    },
    {
     "name": "stdout",
     "output_type": "stream",
     "text": [
      "meta= {'limit': 1, 'next': '/SSBD/api/v3/bd5coords/?bdmlID=800faa21-c28c-4b72-bd12-d41f2eed02e8&format=json&limit=1&ts=165&offset=1', 'offset': 0, 'previous': None, 'total_count': 241}\n",
      "found= 241\n",
      "limit= 1\n",
      "No.: 1\n",
      "    entity : sphere\n",
      "    id : 166001\n",
      "    label : polar1\n",
      "    radius : 1.26\n",
      "    sid : None\n",
      "    t : 166\n",
      "    x : 165\n",
      "    y : 347\n",
      "    z : 6.2\n",
      "tp=165 nn=241\n",
      "display= True\n",
      "parameter= http://ssbd1.qbic.riken.jp/SSBD/api/v3/bd5coords/?format=json;bdmlID=800faa21-c28c-4b72-bd12-d41f2eed02e8;ts=166;offset=0;limit=1\n"
     ]
    },
    {
     "name": "stderr",
     "output_type": "stream",
     "text": [
      "(MainThread) http://ssbd1.qbic.riken.jp:80 \"GET /SSBD/api/v3/bd5coords/?format=json;bdmlID=800faa21-c28c-4b72-bd12-d41f2eed02e8;ts=166;offset=0;limit=1 HTTP/1.1\" 200 None\n",
      "(MainThread) Starting new HTTP connection (1): ssbd1.qbic.riken.jp\n"
     ]
    },
    {
     "name": "stdout",
     "output_type": "stream",
     "text": [
      "meta= {'limit': 1, 'next': '/SSBD/api/v3/bd5coords/?bdmlID=800faa21-c28c-4b72-bd12-d41f2eed02e8&format=json&limit=1&ts=166&offset=1', 'offset': 0, 'previous': None, 'total_count': 257}\n",
      "found= 257\n",
      "limit= 1\n",
      "No.: 1\n",
      "    entity : sphere\n",
      "    id : 167001\n",
      "    label : ABarpppaa\n",
      "    radius : 1.665\n",
      "    sid : None\n",
      "    t : 167\n",
      "    x : 394\n",
      "    y : 174\n",
      "    z : 8.1\n",
      "tp=166 nn=257\n",
      "display= True\n",
      "parameter= http://ssbd1.qbic.riken.jp/SSBD/api/v3/bd5coords/?format=json;bdmlID=800faa21-c28c-4b72-bd12-d41f2eed02e8;ts=167;offset=0;limit=1\n"
     ]
    },
    {
     "name": "stderr",
     "output_type": "stream",
     "text": [
      "(MainThread) http://ssbd1.qbic.riken.jp:80 \"GET /SSBD/api/v3/bd5coords/?format=json;bdmlID=800faa21-c28c-4b72-bd12-d41f2eed02e8;ts=167;offset=0;limit=1 HTTP/1.1\" 200 None\n",
      "(MainThread) Starting new HTTP connection (1): ssbd1.qbic.riken.jp\n"
     ]
    },
    {
     "name": "stdout",
     "output_type": "stream",
     "text": [
      "meta= {'limit': 1, 'next': '/SSBD/api/v3/bd5coords/?bdmlID=800faa21-c28c-4b72-bd12-d41f2eed02e8&format=json&limit=1&ts=167&offset=1', 'offset': 0, 'previous': None, 'total_count': 269}\n",
      "found= 269\n",
      "limit= 1\n",
      "No.: 1\n",
      "    entity : sphere\n",
      "    id : 168001\n",
      "    label : polar1\n",
      "    radius : 1.305\n",
      "    sid : None\n",
      "    t : 168\n",
      "    x : 165\n",
      "    y : 346\n",
      "    z : 6.3\n",
      "tp=167 nn=269\n",
      "display= True\n",
      "parameter= http://ssbd1.qbic.riken.jp/SSBD/api/v3/bd5coords/?format=json;bdmlID=800faa21-c28c-4b72-bd12-d41f2eed02e8;ts=168;offset=0;limit=1\n"
     ]
    },
    {
     "name": "stderr",
     "output_type": "stream",
     "text": [
      "(MainThread) http://ssbd1.qbic.riken.jp:80 \"GET /SSBD/api/v3/bd5coords/?format=json;bdmlID=800faa21-c28c-4b72-bd12-d41f2eed02e8;ts=168;offset=0;limit=1 HTTP/1.1\" 200 None\n",
      "(MainThread) Starting new HTTP connection (1): ssbd1.qbic.riken.jp\n"
     ]
    },
    {
     "name": "stdout",
     "output_type": "stream",
     "text": [
      "meta= {'limit': 1, 'next': '/SSBD/api/v3/bd5coords/?bdmlID=800faa21-c28c-4b72-bd12-d41f2eed02e8&format=json&limit=1&ts=168&offset=1', 'offset': 0, 'previous': None, 'total_count': 279}\n",
      "found= 279\n",
      "limit= 1\n",
      "No.: 1\n",
      "    entity : sphere\n",
      "    id : 169001\n",
      "    label : ABarpppaa\n",
      "    radius : 1.62\n",
      "    sid : None\n",
      "    t : 169\n",
      "    x : 398\n",
      "    y : 153\n",
      "    z : 8.2\n",
      "tp=168 nn=279\n",
      "display= True\n",
      "parameter= http://ssbd1.qbic.riken.jp/SSBD/api/v3/bd5coords/?format=json;bdmlID=800faa21-c28c-4b72-bd12-d41f2eed02e8;ts=169;offset=0;limit=1\n"
     ]
    },
    {
     "name": "stderr",
     "output_type": "stream",
     "text": [
      "(MainThread) http://ssbd1.qbic.riken.jp:80 \"GET /SSBD/api/v3/bd5coords/?format=json;bdmlID=800faa21-c28c-4b72-bd12-d41f2eed02e8;ts=169;offset=0;limit=1 HTTP/1.1\" 200 None\n",
      "(MainThread) Starting new HTTP connection (1): ssbd1.qbic.riken.jp\n"
     ]
    },
    {
     "name": "stdout",
     "output_type": "stream",
     "text": [
      "meta= {'limit': 1, 'next': '/SSBD/api/v3/bd5coords/?bdmlID=800faa21-c28c-4b72-bd12-d41f2eed02e8&format=json&limit=1&ts=169&offset=1', 'offset': 0, 'previous': None, 'total_count': 288}\n",
      "found= 288\n",
      "limit= 1\n",
      "No.: 1\n",
      "    entity : sphere\n",
      "    id : 170001\n",
      "    label : ABarpppaa\n",
      "    radius : 1.575\n",
      "    sid : None\n",
      "    t : 170\n",
      "    x : 405\n",
      "    y : 152\n",
      "    z : 8.2\n",
      "tp=169 nn=288\n",
      "display= True\n",
      "parameter= http://ssbd1.qbic.riken.jp/SSBD/api/v3/bd5coords/?format=json;bdmlID=800faa21-c28c-4b72-bd12-d41f2eed02e8;ts=170;offset=0;limit=1\n"
     ]
    },
    {
     "name": "stderr",
     "output_type": "stream",
     "text": [
      "(MainThread) http://ssbd1.qbic.riken.jp:80 \"GET /SSBD/api/v3/bd5coords/?format=json;bdmlID=800faa21-c28c-4b72-bd12-d41f2eed02e8;ts=170;offset=0;limit=1 HTTP/1.1\" 200 None\n",
      "(MainThread) Starting new HTTP connection (1): ssbd1.qbic.riken.jp\n"
     ]
    },
    {
     "name": "stdout",
     "output_type": "stream",
     "text": [
      "meta= {'limit': 1, 'next': '/SSBD/api/v3/bd5coords/?bdmlID=800faa21-c28c-4b72-bd12-d41f2eed02e8&format=json&limit=1&ts=170&offset=1', 'offset': 0, 'previous': None, 'total_count': 300}\n",
      "found= 300\n",
      "limit= 1\n",
      "No.: 1\n",
      "    entity : sphere\n",
      "    id : 171001\n",
      "    label : ABarpppaa\n",
      "    radius : 1.575\n",
      "    sid : None\n",
      "    t : 171\n",
      "    x : 397\n",
      "    y : 153\n",
      "    z : 8.1\n",
      "tp=170 nn=300\n",
      "display= True\n",
      "parameter= http://ssbd1.qbic.riken.jp/SSBD/api/v3/bd5coords/?format=json;bdmlID=800faa21-c28c-4b72-bd12-d41f2eed02e8;ts=171;offset=0;limit=1\n"
     ]
    },
    {
     "name": "stderr",
     "output_type": "stream",
     "text": [
      "(MainThread) http://ssbd1.qbic.riken.jp:80 \"GET /SSBD/api/v3/bd5coords/?format=json;bdmlID=800faa21-c28c-4b72-bd12-d41f2eed02e8;ts=171;offset=0;limit=1 HTTP/1.1\" 200 None\n",
      "(MainThread) Starting new HTTP connection (1): ssbd1.qbic.riken.jp\n"
     ]
    },
    {
     "name": "stdout",
     "output_type": "stream",
     "text": [
      "meta= {'limit': 1, 'next': '/SSBD/api/v3/bd5coords/?bdmlID=800faa21-c28c-4b72-bd12-d41f2eed02e8&format=json&limit=1&ts=171&offset=1', 'offset': 0, 'previous': None, 'total_count': 307}\n",
      "found= 307\n",
      "limit= 1\n",
      "No.: 1\n",
      "    entity : sphere\n",
      "    id : 172001\n",
      "    label : ABpraapaap\n",
      "    radius : 1.395\n",
      "    sid : None\n",
      "    t : 172\n",
      "    x : 265\n",
      "    y : 168\n",
      "    z : 8.2\n",
      "tp=171 nn=307\n",
      "display= True\n",
      "parameter= http://ssbd1.qbic.riken.jp/SSBD/api/v3/bd5coords/?format=json;bdmlID=800faa21-c28c-4b72-bd12-d41f2eed02e8;ts=172;offset=0;limit=1\n"
     ]
    },
    {
     "name": "stderr",
     "output_type": "stream",
     "text": [
      "(MainThread) http://ssbd1.qbic.riken.jp:80 \"GET /SSBD/api/v3/bd5coords/?format=json;bdmlID=800faa21-c28c-4b72-bd12-d41f2eed02e8;ts=172;offset=0;limit=1 HTTP/1.1\" 200 None\n",
      "(MainThread) Starting new HTTP connection (1): ssbd1.qbic.riken.jp\n"
     ]
    },
    {
     "name": "stdout",
     "output_type": "stream",
     "text": [
      "meta= {'limit': 1, 'next': '/SSBD/api/v3/bd5coords/?bdmlID=800faa21-c28c-4b72-bd12-d41f2eed02e8&format=json&limit=1&ts=172&offset=1', 'offset': 0, 'previous': None, 'total_count': 317}\n",
      "found= 317\n",
      "limit= 1\n",
      "No.: 1\n",
      "    entity : sphere\n",
      "    id : 173001\n",
      "    label : polar1\n",
      "    radius : 1.395\n",
      "    sid : None\n",
      "    t : 173\n",
      "    x : 167\n",
      "    y : 345\n",
      "    z : 6.9\n",
      "tp=172 nn=317\n",
      "display= True\n",
      "parameter= http://ssbd1.qbic.riken.jp/SSBD/api/v3/bd5coords/?format=json;bdmlID=800faa21-c28c-4b72-bd12-d41f2eed02e8;ts=173;offset=0;limit=1\n"
     ]
    },
    {
     "name": "stderr",
     "output_type": "stream",
     "text": [
      "(MainThread) http://ssbd1.qbic.riken.jp:80 \"GET /SSBD/api/v3/bd5coords/?format=json;bdmlID=800faa21-c28c-4b72-bd12-d41f2eed02e8;ts=173;offset=0;limit=1 HTTP/1.1\" 200 None\n",
      "(MainThread) Starting new HTTP connection (1): ssbd1.qbic.riken.jp\n"
     ]
    },
    {
     "name": "stdout",
     "output_type": "stream",
     "text": [
      "meta= {'limit': 1, 'next': '/SSBD/api/v3/bd5coords/?bdmlID=800faa21-c28c-4b72-bd12-d41f2eed02e8&format=json&limit=1&ts=173&offset=1', 'offset': 0, 'previous': None, 'total_count': 318}\n",
      "found= 318\n",
      "limit= 1\n",
      "No.: 1\n",
      "    entity : sphere\n",
      "    id : 174001\n",
      "    label : ABarpaappa\n",
      "    radius : 1.575\n",
      "    sid : None\n",
      "    t : 174\n",
      "    x : 361\n",
      "    y : 255\n",
      "    z : 7.2\n",
      "tp=173 nn=318\n",
      "display= True\n",
      "parameter= http://ssbd1.qbic.riken.jp/SSBD/api/v3/bd5coords/?format=json;bdmlID=800faa21-c28c-4b72-bd12-d41f2eed02e8;ts=174;offset=0;limit=1\n"
     ]
    },
    {
     "name": "stderr",
     "output_type": "stream",
     "text": [
      "(MainThread) http://ssbd1.qbic.riken.jp:80 \"GET /SSBD/api/v3/bd5coords/?format=json;bdmlID=800faa21-c28c-4b72-bd12-d41f2eed02e8;ts=174;offset=0;limit=1 HTTP/1.1\" 200 None\n",
      "(MainThread) Starting new HTTP connection (1): ssbd1.qbic.riken.jp\n"
     ]
    },
    {
     "name": "stdout",
     "output_type": "stream",
     "text": [
      "meta= {'limit': 1, 'next': '/SSBD/api/v3/bd5coords/?bdmlID=800faa21-c28c-4b72-bd12-d41f2eed02e8&format=json&limit=1&ts=174&offset=1', 'offset': 0, 'previous': None, 'total_count': 325}\n",
      "found= 325\n",
      "limit= 1\n",
      "No.: 1\n",
      "    entity : sphere\n",
      "    id : 175001\n",
      "    label : ABarpaappa\n",
      "    radius : 1.575\n",
      "    sid : None\n",
      "    t : 175\n",
      "    x : 362\n",
      "    y : 260\n",
      "    z : 7.3\n",
      "tp=174 nn=325\n",
      "display= True\n",
      "parameter= http://ssbd1.qbic.riken.jp/SSBD/api/v3/bd5coords/?format=json;bdmlID=800faa21-c28c-4b72-bd12-d41f2eed02e8;ts=175;offset=0;limit=1\n"
     ]
    },
    {
     "name": "stderr",
     "output_type": "stream",
     "text": [
      "(MainThread) http://ssbd1.qbic.riken.jp:80 \"GET /SSBD/api/v3/bd5coords/?format=json;bdmlID=800faa21-c28c-4b72-bd12-d41f2eed02e8;ts=175;offset=0;limit=1 HTTP/1.1\" 200 None\n",
      "(MainThread) Starting new HTTP connection (1): ssbd1.qbic.riken.jp\n"
     ]
    },
    {
     "name": "stdout",
     "output_type": "stream",
     "text": [
      "meta= {'limit': 1, 'next': '/SSBD/api/v3/bd5coords/?bdmlID=800faa21-c28c-4b72-bd12-d41f2eed02e8&format=json&limit=1&ts=175&offset=1', 'offset': 0, 'previous': None, 'total_count': 330}\n",
      "found= 330\n",
      "limit= 1\n",
      "No.: 1\n",
      "    entity : sphere\n",
      "    id : 176001\n",
      "    label : ABplaaaapa\n",
      "    radius : 1.395\n",
      "    sid : None\n",
      "    t : 176\n",
      "    x : 249\n",
      "    y : 324\n",
      "    z : 7.2\n",
      "tp=175 nn=330\n",
      "display= True\n",
      "parameter= http://ssbd1.qbic.riken.jp/SSBD/api/v3/bd5coords/?format=json;bdmlID=800faa21-c28c-4b72-bd12-d41f2eed02e8;ts=176;offset=0;limit=1\n"
     ]
    },
    {
     "name": "stderr",
     "output_type": "stream",
     "text": [
      "(MainThread) http://ssbd1.qbic.riken.jp:80 \"GET /SSBD/api/v3/bd5coords/?format=json;bdmlID=800faa21-c28c-4b72-bd12-d41f2eed02e8;ts=176;offset=0;limit=1 HTTP/1.1\" 200 None\n",
      "(MainThread) Starting new HTTP connection (1): ssbd1.qbic.riken.jp\n"
     ]
    },
    {
     "name": "stdout",
     "output_type": "stream",
     "text": [
      "meta= {'limit': 1, 'next': '/SSBD/api/v3/bd5coords/?bdmlID=800faa21-c28c-4b72-bd12-d41f2eed02e8&format=json&limit=1&ts=176&offset=1', 'offset': 0, 'previous': None, 'total_count': 335}\n",
      "found= 335\n",
      "limit= 1\n",
      "No.: 1\n",
      "    entity : sphere\n",
      "    id : 177001\n",
      "    label : ABplaaaapp\n",
      "    radius : 1.395\n",
      "    sid : None\n",
      "    t : 177\n",
      "    x : 295\n",
      "    y : 313\n",
      "    z : 7.2\n",
      "tp=176 nn=335\n",
      "display= True\n",
      "parameter= http://ssbd1.qbic.riken.jp/SSBD/api/v3/bd5coords/?format=json;bdmlID=800faa21-c28c-4b72-bd12-d41f2eed02e8;ts=177;offset=0;limit=1\n"
     ]
    },
    {
     "name": "stderr",
     "output_type": "stream",
     "text": [
      "(MainThread) http://ssbd1.qbic.riken.jp:80 \"GET /SSBD/api/v3/bd5coords/?format=json;bdmlID=800faa21-c28c-4b72-bd12-d41f2eed02e8;ts=177;offset=0;limit=1 HTTP/1.1\" 200 None\n",
      "(MainThread) Starting new HTTP connection (1): ssbd1.qbic.riken.jp\n"
     ]
    },
    {
     "name": "stdout",
     "output_type": "stream",
     "text": [
      "meta= {'limit': 1, 'next': '/SSBD/api/v3/bd5coords/?bdmlID=800faa21-c28c-4b72-bd12-d41f2eed02e8&format=json&limit=1&ts=177&offset=1', 'offset': 0, 'previous': None, 'total_count': 341}\n",
      "found= 341\n",
      "limit= 1\n",
      "No.: 1\n",
      "    entity : sphere\n",
      "    id : 178001\n",
      "    label : ABplaaaaaa\n",
      "    radius : 1.395\n",
      "    sid : None\n",
      "    t : 178\n",
      "    x : 166\n",
      "    y : 291\n",
      "    z : 7.2\n",
      "tp=177 nn=341\n",
      "display= True\n",
      "parameter= http://ssbd1.qbic.riken.jp/SSBD/api/v3/bd5coords/?format=json;bdmlID=800faa21-c28c-4b72-bd12-d41f2eed02e8;ts=178;offset=0;limit=1\n"
     ]
    },
    {
     "name": "stderr",
     "output_type": "stream",
     "text": [
      "(MainThread) http://ssbd1.qbic.riken.jp:80 \"GET /SSBD/api/v3/bd5coords/?format=json;bdmlID=800faa21-c28c-4b72-bd12-d41f2eed02e8;ts=178;offset=0;limit=1 HTTP/1.1\" 200 None\n",
      "(MainThread) Starting new HTTP connection (1): ssbd1.qbic.riken.jp\n"
     ]
    },
    {
     "name": "stdout",
     "output_type": "stream",
     "text": [
      "meta= {'limit': 1, 'next': '/SSBD/api/v3/bd5coords/?bdmlID=800faa21-c28c-4b72-bd12-d41f2eed02e8&format=json&limit=1&ts=178&offset=1', 'offset': 0, 'previous': None, 'total_count': 342}\n",
      "found= 342\n",
      "limit= 1\n",
      "No.: 1\n",
      "    entity : sphere\n",
      "    id : 179001\n",
      "    label : ABarpappaa\n",
      "    radius : 1.395\n",
      "    sid : None\n",
      "    t : 179\n",
      "    x : 282\n",
      "    y : 180\n",
      "    z : 7.9\n",
      "tp=178 nn=342\n",
      "display= True\n",
      "parameter= http://ssbd1.qbic.riken.jp/SSBD/api/v3/bd5coords/?format=json;bdmlID=800faa21-c28c-4b72-bd12-d41f2eed02e8;ts=179;offset=0;limit=1\n"
     ]
    },
    {
     "name": "stderr",
     "output_type": "stream",
     "text": [
      "(MainThread) http://ssbd1.qbic.riken.jp:80 \"GET /SSBD/api/v3/bd5coords/?format=json;bdmlID=800faa21-c28c-4b72-bd12-d41f2eed02e8;ts=179;offset=0;limit=1 HTTP/1.1\" 200 None\n",
      "(MainThread) Starting new HTTP connection (1): ssbd1.qbic.riken.jp\n"
     ]
    },
    {
     "name": "stdout",
     "output_type": "stream",
     "text": [
      "meta= {'limit': 1, 'next': '/SSBD/api/v3/bd5coords/?bdmlID=800faa21-c28c-4b72-bd12-d41f2eed02e8&format=json&limit=1&ts=179&offset=1', 'offset': 0, 'previous': None, 'total_count': 346}\n",
      "found= 346\n",
      "limit= 1\n",
      "No.: 1\n",
      "    entity : sphere\n",
      "    id : 180001\n",
      "    label : ABplaaaapa\n",
      "    radius : 1.485\n",
      "    sid : None\n",
      "    t : 180\n",
      "    x : 243\n",
      "    y : 316\n",
      "    z : 7.3\n",
      "tp=179 nn=346\n",
      "display= True\n",
      "parameter= http://ssbd1.qbic.riken.jp/SSBD/api/v3/bd5coords/?format=json;bdmlID=800faa21-c28c-4b72-bd12-d41f2eed02e8;ts=180;offset=0;limit=1\n"
     ]
    },
    {
     "name": "stderr",
     "output_type": "stream",
     "text": [
      "(MainThread) http://ssbd1.qbic.riken.jp:80 \"GET /SSBD/api/v3/bd5coords/?format=json;bdmlID=800faa21-c28c-4b72-bd12-d41f2eed02e8;ts=180;offset=0;limit=1 HTTP/1.1\" 200 None\n",
      "(MainThread) Starting new HTTP connection (1): ssbd1.qbic.riken.jp\n"
     ]
    },
    {
     "name": "stdout",
     "output_type": "stream",
     "text": [
      "meta= {'limit': 1, 'next': '/SSBD/api/v3/bd5coords/?bdmlID=800faa21-c28c-4b72-bd12-d41f2eed02e8&format=json&limit=1&ts=180&offset=1', 'offset': 0, 'previous': None, 'total_count': 348}\n",
      "found= 348\n",
      "limit= 1\n",
      "No.: 1\n",
      "    entity : sphere\n",
      "    id : 181001\n",
      "    label : ABarpappaa\n",
      "    radius : 1.485\n",
      "    sid : None\n",
      "    t : 181\n",
      "    x : 283\n",
      "    y : 180\n",
      "    z : 7.1\n",
      "tp=180 nn=348\n",
      "display= True\n",
      "parameter= http://ssbd1.qbic.riken.jp/SSBD/api/v3/bd5coords/?format=json;bdmlID=800faa21-c28c-4b72-bd12-d41f2eed02e8;ts=181;offset=0;limit=1\n"
     ]
    },
    {
     "name": "stderr",
     "output_type": "stream",
     "text": [
      "(MainThread) http://ssbd1.qbic.riken.jp:80 \"GET /SSBD/api/v3/bd5coords/?format=json;bdmlID=800faa21-c28c-4b72-bd12-d41f2eed02e8;ts=181;offset=0;limit=1 HTTP/1.1\" 200 None\n",
      "(MainThread) Starting new HTTP connection (1): ssbd1.qbic.riken.jp\n"
     ]
    },
    {
     "name": "stdout",
     "output_type": "stream",
     "text": [
      "meta= {'limit': 1, 'next': '/SSBD/api/v3/bd5coords/?bdmlID=800faa21-c28c-4b72-bd12-d41f2eed02e8&format=json&limit=1&ts=181&offset=1', 'offset': 0, 'previous': None, 'total_count': 350}\n",
      "found= 350\n",
      "limit= 1\n",
      "No.: 1\n",
      "    entity : sphere\n",
      "    id : 182001\n",
      "    label : ABpraapaap\n",
      "    radius : 1.575\n",
      "    sid : None\n",
      "    t : 182\n",
      "    x : 244\n",
      "    y : 168\n",
      "    z : 8.1\n",
      "tp=181 nn=350\n",
      "display= True\n",
      "parameter= http://ssbd1.qbic.riken.jp/SSBD/api/v3/bd5coords/?format=json;bdmlID=800faa21-c28c-4b72-bd12-d41f2eed02e8;ts=182;offset=0;limit=1\n"
     ]
    },
    {
     "name": "stderr",
     "output_type": "stream",
     "text": [
      "(MainThread) http://ssbd1.qbic.riken.jp:80 \"GET /SSBD/api/v3/bd5coords/?format=json;bdmlID=800faa21-c28c-4b72-bd12-d41f2eed02e8;ts=182;offset=0;limit=1 HTTP/1.1\" 200 None\n",
      "(MainThread) Starting new HTTP connection (1): ssbd1.qbic.riken.jp\n"
     ]
    },
    {
     "name": "stdout",
     "output_type": "stream",
     "text": [
      "meta= {'limit': 1, 'next': '/SSBD/api/v3/bd5coords/?bdmlID=800faa21-c28c-4b72-bd12-d41f2eed02e8&format=json&limit=1&ts=182&offset=1', 'offset': 0, 'previous': None, 'total_count': 352}\n",
      "found= 352\n",
      "limit= 1\n",
      "No.: 1\n",
      "    entity : sphere\n",
      "    id : 183001\n",
      "    label : ABarppaaaa\n",
      "    radius : 1.395\n",
      "    sid : None\n",
      "    t : 183\n",
      "    x : 379\n",
      "    y : 320\n",
      "    z : 7\n",
      "tp=182 nn=352\n",
      "display= True\n",
      "parameter= http://ssbd1.qbic.riken.jp/SSBD/api/v3/bd5coords/?format=json;bdmlID=800faa21-c28c-4b72-bd12-d41f2eed02e8;ts=183;offset=0;limit=1\n"
     ]
    },
    {
     "name": "stderr",
     "output_type": "stream",
     "text": [
      "(MainThread) http://ssbd1.qbic.riken.jp:80 \"GET /SSBD/api/v3/bd5coords/?format=json;bdmlID=800faa21-c28c-4b72-bd12-d41f2eed02e8;ts=183;offset=0;limit=1 HTTP/1.1\" 200 None\n",
      "(MainThread) Starting new HTTP connection (1): ssbd1.qbic.riken.jp\n"
     ]
    },
    {
     "name": "stdout",
     "output_type": "stream",
     "text": [
      "meta= {'limit': 1, 'next': '/SSBD/api/v3/bd5coords/?bdmlID=800faa21-c28c-4b72-bd12-d41f2eed02e8&format=json&limit=1&ts=183&offset=1', 'offset': 0, 'previous': None, 'total_count': 356}\n",
      "found= 356\n",
      "limit= 1\n",
      "No.: 1\n",
      "    entity : sphere\n",
      "    id : 184001\n",
      "    label : ABarpaappa\n",
      "    radius : 1.575\n",
      "    sid : None\n",
      "    t : 184\n",
      "    x : 354\n",
      "    y : 255\n",
      "    z : 7.2\n",
      "tp=183 nn=356\n",
      "display= True\n",
      "parameter= http://ssbd1.qbic.riken.jp/SSBD/api/v3/bd5coords/?format=json;bdmlID=800faa21-c28c-4b72-bd12-d41f2eed02e8;ts=184;offset=0;limit=1\n"
     ]
    },
    {
     "name": "stderr",
     "output_type": "stream",
     "text": [
      "(MainThread) http://ssbd1.qbic.riken.jp:80 \"GET /SSBD/api/v3/bd5coords/?format=json;bdmlID=800faa21-c28c-4b72-bd12-d41f2eed02e8;ts=184;offset=0;limit=1 HTTP/1.1\" 200 None\n",
      "(MainThread) Starting new HTTP connection (1): ssbd1.qbic.riken.jp\n"
     ]
    },
    {
     "name": "stdout",
     "output_type": "stream",
     "text": [
      "meta= {'limit': 1, 'next': '/SSBD/api/v3/bd5coords/?bdmlID=800faa21-c28c-4b72-bd12-d41f2eed02e8&format=json&limit=1&ts=184&offset=1', 'offset': 0, 'previous': None, 'total_count': 356}\n",
      "found= 356\n",
      "limit= 1\n",
      "No.: 1\n",
      "    entity : sphere\n",
      "    id : 185001\n",
      "    label : ABarppaaaa\n",
      "    radius : 1.44\n",
      "    sid : None\n",
      "    t : 185\n",
      "    x : 377\n",
      "    y : 306\n",
      "    z : 7.1\n",
      "tp=184 nn=356\n",
      "display= True\n",
      "parameter= http://ssbd1.qbic.riken.jp/SSBD/api/v3/bd5coords/?format=json;bdmlID=800faa21-c28c-4b72-bd12-d41f2eed02e8;ts=185;offset=0;limit=1\n"
     ]
    },
    {
     "name": "stderr",
     "output_type": "stream",
     "text": [
      "(MainThread) http://ssbd1.qbic.riken.jp:80 \"GET /SSBD/api/v3/bd5coords/?format=json;bdmlID=800faa21-c28c-4b72-bd12-d41f2eed02e8;ts=185;offset=0;limit=1 HTTP/1.1\" 200 None\n",
      "(MainThread) Starting new HTTP connection (1): ssbd1.qbic.riken.jp\n"
     ]
    },
    {
     "name": "stdout",
     "output_type": "stream",
     "text": [
      "meta= {'limit': 1, 'next': '/SSBD/api/v3/bd5coords/?bdmlID=800faa21-c28c-4b72-bd12-d41f2eed02e8&format=json&limit=1&ts=185&offset=1', 'offset': 0, 'previous': None, 'total_count': 357}\n",
      "found= 357\n",
      "limit= 1\n",
      "No.: 1\n",
      "    entity : sphere\n",
      "    id : 186001\n",
      "    label : ABarpppapa\n",
      "    radius : 1.53\n",
      "    sid : None\n",
      "    t : 186\n",
      "    x : 416\n",
      "    y : 154\n",
      "    z : 7.5\n",
      "tp=185 nn=357\n",
      "display= True\n",
      "parameter= http://ssbd1.qbic.riken.jp/SSBD/api/v3/bd5coords/?format=json;bdmlID=800faa21-c28c-4b72-bd12-d41f2eed02e8;ts=186;offset=0;limit=1\n"
     ]
    },
    {
     "name": "stderr",
     "output_type": "stream",
     "text": [
      "(MainThread) http://ssbd1.qbic.riken.jp:80 \"GET /SSBD/api/v3/bd5coords/?format=json;bdmlID=800faa21-c28c-4b72-bd12-d41f2eed02e8;ts=186;offset=0;limit=1 HTTP/1.1\" 200 None\n",
      "(MainThread) Starting new HTTP connection (1): ssbd1.qbic.riken.jp\n"
     ]
    },
    {
     "name": "stdout",
     "output_type": "stream",
     "text": [
      "meta= {'limit': 1, 'next': '/SSBD/api/v3/bd5coords/?bdmlID=800faa21-c28c-4b72-bd12-d41f2eed02e8&format=json&limit=1&ts=186&offset=1', 'offset': 0, 'previous': None, 'total_count': 359}\n",
      "found= 359\n",
      "limit= 1\n",
      "No.: 1\n",
      "    entity : sphere\n",
      "    id : 187001\n",
      "    label : ABarppaaaa\n",
      "    radius : 1.44\n",
      "    sid : None\n",
      "    t : 187\n",
      "    x : 378\n",
      "    y : 304\n",
      "    z : 7.1\n",
      "tp=186 nn=359\n",
      "display= True\n",
      "parameter= http://ssbd1.qbic.riken.jp/SSBD/api/v3/bd5coords/?format=json;bdmlID=800faa21-c28c-4b72-bd12-d41f2eed02e8;ts=187;offset=0;limit=1\n"
     ]
    },
    {
     "name": "stderr",
     "output_type": "stream",
     "text": [
      "(MainThread) http://ssbd1.qbic.riken.jp:80 \"GET /SSBD/api/v3/bd5coords/?format=json;bdmlID=800faa21-c28c-4b72-bd12-d41f2eed02e8;ts=187;offset=0;limit=1 HTTP/1.1\" 200 None\n",
      "(MainThread) Starting new HTTP connection (1): ssbd1.qbic.riken.jp\n"
     ]
    },
    {
     "name": "stdout",
     "output_type": "stream",
     "text": [
      "meta= {'limit': 1, 'next': '/SSBD/api/v3/bd5coords/?bdmlID=800faa21-c28c-4b72-bd12-d41f2eed02e8&format=json&limit=1&ts=187&offset=1', 'offset': 0, 'previous': None, 'total_count': 359}\n",
      "found= 359\n",
      "limit= 1\n",
      "No.: 1\n",
      "    entity : sphere\n",
      "    id : 188001\n",
      "    label : ABarpaaaap\n",
      "    radius : 1.53\n",
      "    sid : None\n",
      "    t : 188\n",
      "    x : 194\n",
      "    y : 259\n",
      "    z : 7.2\n",
      "tp=187 nn=359\n",
      "display= True\n",
      "parameter= http://ssbd1.qbic.riken.jp/SSBD/api/v3/bd5coords/?format=json;bdmlID=800faa21-c28c-4b72-bd12-d41f2eed02e8;ts=188;offset=0;limit=1\n"
     ]
    },
    {
     "name": "stderr",
     "output_type": "stream",
     "text": [
      "(MainThread) http://ssbd1.qbic.riken.jp:80 \"GET /SSBD/api/v3/bd5coords/?format=json;bdmlID=800faa21-c28c-4b72-bd12-d41f2eed02e8;ts=188;offset=0;limit=1 HTTP/1.1\" 200 None\n",
      "(MainThread) Starting new HTTP connection (1): ssbd1.qbic.riken.jp\n"
     ]
    },
    {
     "name": "stdout",
     "output_type": "stream",
     "text": [
      "meta= {'limit': 1, 'next': '/SSBD/api/v3/bd5coords/?bdmlID=800faa21-c28c-4b72-bd12-d41f2eed02e8&format=json&limit=1&ts=188&offset=1', 'offset': 0, 'previous': None, 'total_count': 359}\n",
      "found= 359\n",
      "limit= 1\n",
      "No.: 1\n",
      "    entity : sphere\n",
      "    id : 189001\n",
      "    label : ABarpaaaap\n",
      "    radius : 1.44\n",
      "    sid : None\n",
      "    t : 189\n",
      "    x : 190\n",
      "    y : 260\n",
      "    z : 7.2\n",
      "tp=188 nn=359\n",
      "display= True\n",
      "parameter= http://ssbd1.qbic.riken.jp/SSBD/api/v3/bd5coords/?format=json;bdmlID=800faa21-c28c-4b72-bd12-d41f2eed02e8;ts=189;offset=0;limit=1\n"
     ]
    },
    {
     "name": "stderr",
     "output_type": "stream",
     "text": [
      "(MainThread) http://ssbd1.qbic.riken.jp:80 \"GET /SSBD/api/v3/bd5coords/?format=json;bdmlID=800faa21-c28c-4b72-bd12-d41f2eed02e8;ts=189;offset=0;limit=1 HTTP/1.1\" 200 None\n",
      "(MainThread) Starting new HTTP connection (1): ssbd1.qbic.riken.jp\n"
     ]
    },
    {
     "name": "stdout",
     "output_type": "stream",
     "text": [
      "meta= {'limit': 1, 'next': '/SSBD/api/v3/bd5coords/?bdmlID=800faa21-c28c-4b72-bd12-d41f2eed02e8&format=json&limit=1&ts=189&offset=1', 'offset': 0, 'previous': None, 'total_count': 359}\n",
      "found= 359\n",
      "limit= 1\n",
      "No.: 1\n",
      "    entity : sphere\n",
      "    id : 190001\n",
      "    label : ABarpaaaap\n",
      "    radius : 1.44\n",
      "    sid : None\n",
      "    t : 190\n",
      "    x : 192\n",
      "    y : 254\n",
      "    z : 7.2\n",
      "tp=189 nn=359\n",
      "display= True\n",
      "parameter= http://ssbd1.qbic.riken.jp/SSBD/api/v3/bd5coords/?format=json;bdmlID=800faa21-c28c-4b72-bd12-d41f2eed02e8;ts=190;offset=0;limit=1\n"
     ]
    },
    {
     "name": "stderr",
     "output_type": "stream",
     "text": [
      "(MainThread) http://ssbd1.qbic.riken.jp:80 \"GET /SSBD/api/v3/bd5coords/?format=json;bdmlID=800faa21-c28c-4b72-bd12-d41f2eed02e8;ts=190;offset=0;limit=1 HTTP/1.1\" 200 None\n",
      "(MainThread) Starting new HTTP connection (1): ssbd1.qbic.riken.jp\n"
     ]
    },
    {
     "name": "stdout",
     "output_type": "stream",
     "text": [
      "meta= {'limit': 1, 'next': '/SSBD/api/v3/bd5coords/?bdmlID=800faa21-c28c-4b72-bd12-d41f2eed02e8&format=json&limit=1&ts=190&offset=1', 'offset': 0, 'previous': None, 'total_count': 360}\n",
      "found= 360\n",
      "limit= 1\n",
      "No.: 1\n",
      "    entity : sphere\n",
      "    id : 191001\n",
      "    label : ABarpaaaap\n",
      "    radius : 1.44\n",
      "    sid : None\n",
      "    t : 191\n",
      "    x : 190\n",
      "    y : 253\n",
      "    z : 7.2\n",
      "tp=190 nn=360\n",
      "display= True\n",
      "parameter= http://ssbd1.qbic.riken.jp/SSBD/api/v3/bd5coords/?format=json;bdmlID=800faa21-c28c-4b72-bd12-d41f2eed02e8;ts=191;offset=0;limit=1\n"
     ]
    },
    {
     "name": "stderr",
     "output_type": "stream",
     "text": [
      "(MainThread) http://ssbd1.qbic.riken.jp:80 \"GET /SSBD/api/v3/bd5coords/?format=json;bdmlID=800faa21-c28c-4b72-bd12-d41f2eed02e8;ts=191;offset=0;limit=1 HTTP/1.1\" 200 None\n",
      "(MainThread) Starting new HTTP connection (1): ssbd1.qbic.riken.jp\n"
     ]
    },
    {
     "name": "stdout",
     "output_type": "stream",
     "text": [
      "meta= {'limit': 1, 'next': '/SSBD/api/v3/bd5coords/?bdmlID=800faa21-c28c-4b72-bd12-d41f2eed02e8&format=json&limit=1&ts=191&offset=1', 'offset': 0, 'previous': None, 'total_count': 360}\n",
      "found= 360\n",
      "limit= 1\n",
      "No.: 1\n",
      "    entity : sphere\n",
      "    id : 192001\n",
      "    label : ABarppaaaa\n",
      "    radius : 1.44\n",
      "    sid : None\n",
      "    t : 192\n",
      "    x : 375\n",
      "    y : 307\n",
      "    z : 7.2\n",
      "tp=191 nn=360\n",
      "display= True\n",
      "parameter= http://ssbd1.qbic.riken.jp/SSBD/api/v3/bd5coords/?format=json;bdmlID=800faa21-c28c-4b72-bd12-d41f2eed02e8;ts=192;offset=0;limit=1\n"
     ]
    },
    {
     "name": "stderr",
     "output_type": "stream",
     "text": [
      "(MainThread) http://ssbd1.qbic.riken.jp:80 \"GET /SSBD/api/v3/bd5coords/?format=json;bdmlID=800faa21-c28c-4b72-bd12-d41f2eed02e8;ts=192;offset=0;limit=1 HTTP/1.1\" 200 None\n",
      "(MainThread) Starting new HTTP connection (1): ssbd1.qbic.riken.jp\n"
     ]
    },
    {
     "name": "stdout",
     "output_type": "stream",
     "text": [
      "meta= {'limit': 1, 'next': '/SSBD/api/v3/bd5coords/?bdmlID=800faa21-c28c-4b72-bd12-d41f2eed02e8&format=json&limit=1&ts=192&offset=1', 'offset': 0, 'previous': None, 'total_count': 362}\n",
      "found= 362\n",
      "limit= 1\n",
      "No.: 1\n",
      "    entity : sphere\n",
      "    id : 193001\n",
      "    label : ABarpaappp\n",
      "    radius : 1.44\n",
      "    sid : None\n",
      "    t : 193\n",
      "    x : 392\n",
      "    y : 231\n",
      "    z : 7.2\n",
      "tp=192 nn=362\n",
      "display= True\n",
      "parameter= http://ssbd1.qbic.riken.jp/SSBD/api/v3/bd5coords/?format=json;bdmlID=800faa21-c28c-4b72-bd12-d41f2eed02e8;ts=193;offset=0;limit=1\n"
     ]
    },
    {
     "name": "stderr",
     "output_type": "stream",
     "text": [
      "(MainThread) http://ssbd1.qbic.riken.jp:80 \"GET /SSBD/api/v3/bd5coords/?format=json;bdmlID=800faa21-c28c-4b72-bd12-d41f2eed02e8;ts=193;offset=0;limit=1 HTTP/1.1\" 200 None\n",
      "(MainThread) Starting new HTTP connection (1): ssbd1.qbic.riken.jp\n"
     ]
    },
    {
     "name": "stdout",
     "output_type": "stream",
     "text": [
      "meta= {'limit': 1, 'next': '/SSBD/api/v3/bd5coords/?bdmlID=800faa21-c28c-4b72-bd12-d41f2eed02e8&format=json&limit=1&ts=193&offset=1', 'offset': 0, 'previous': None, 'total_count': 362}\n",
      "found= 362\n",
      "limit= 1\n",
      "No.: 1\n",
      "    entity : sphere\n",
      "    id : 194001\n",
      "    label : ABarpaappp\n",
      "    radius : 1.44\n",
      "    sid : None\n",
      "    t : 194\n",
      "    x : 395\n",
      "    y : 225\n",
      "    z : 7.2\n",
      "tp=193 nn=362\n",
      "display= True\n",
      "parameter= http://ssbd1.qbic.riken.jp/SSBD/api/v3/bd5coords/?format=json;bdmlID=800faa21-c28c-4b72-bd12-d41f2eed02e8;ts=194;offset=0;limit=1\n"
     ]
    },
    {
     "name": "stderr",
     "output_type": "stream",
     "text": [
      "(MainThread) http://ssbd1.qbic.riken.jp:80 \"GET /SSBD/api/v3/bd5coords/?format=json;bdmlID=800faa21-c28c-4b72-bd12-d41f2eed02e8;ts=194;offset=0;limit=1 HTTP/1.1\" 200 None\n",
      "(MainThread) Starting new HTTP connection (1): ssbd1.qbic.riken.jp\n"
     ]
    },
    {
     "name": "stdout",
     "output_type": "stream",
     "text": [
      "meta= {'limit': 1, 'next': '/SSBD/api/v3/bd5coords/?bdmlID=800faa21-c28c-4b72-bd12-d41f2eed02e8&format=json&limit=1&ts=194&offset=1', 'offset': 0, 'previous': None, 'total_count': 362}\n",
      "found= 362\n",
      "limit= 1\n",
      "No.: 1\n",
      "    entity : sphere\n",
      "    id : 195001\n",
      "    label : ABarpaappp\n",
      "    radius : 1.44\n",
      "    sid : None\n",
      "    t : 195\n",
      "    x : 393\n",
      "    y : 225\n",
      "    z : 7.2\n",
      "tp=194 nn=362\n",
      "display= True\n",
      "parameter= http://ssbd1.qbic.riken.jp/SSBD/api/v3/bd5coords/?format=json;bdmlID=800faa21-c28c-4b72-bd12-d41f2eed02e8;ts=195;offset=0;limit=1\n"
     ]
    },
    {
     "name": "stderr",
     "output_type": "stream",
     "text": [
      "(MainThread) http://ssbd1.qbic.riken.jp:80 \"GET /SSBD/api/v3/bd5coords/?format=json;bdmlID=800faa21-c28c-4b72-bd12-d41f2eed02e8;ts=195;offset=0;limit=1 HTTP/1.1\" 403 None\n"
     ]
    },
    {
     "name": "stdout",
     "output_type": "stream",
     "text": [
      "finished\n"
     ]
    }
   ],
   "source": [
    "bdmlID='800faa21-c28c-4b72-bd12-d41f2eed02e8'\n",
    "no_of_nucleus = []\n",
    "timept = []\n",
    "tp = 0\n",
    "#resultdata = retrieve_coord_tp(bdmlID, tp, display='off')\n",
    "resultdata = q.bd5coords(bdmlID, tp, offset=0, limit=1)\n",
    "nn =resultdata['meta']['total_count']\n",
    "try:\n",
    "    while nn > 0:\n",
    "        no_of_nucleus.append(nn)\n",
    "        timept.append(tp)\n",
    "        print(\"tp=\"+str(tp)+\" nn=\"+str(nn))\n",
    "        tp=tp+1\n",
    "        resultdata = q.bd5coords(bdmlID, tp, offset=0, limit=1)\n",
    "        nn =resultdata['meta']['total_count']\n",
    "except:\n",
    "    print(\"finished\")"
   ]
  },
  {
   "cell_type": "code",
   "execution_count": 31,
   "metadata": {},
   "outputs": [
    {
     "data": {
      "text/plain": [
       "195"
      ]
     },
     "execution_count": 31,
     "metadata": {},
     "output_type": "execute_result"
    }
   ],
   "source": [
    "len(no_of_nucleus)"
   ]
  },
  {
   "cell_type": "markdown",
   "metadata": {},
   "source": [
    "## Get the title, organism and contact name of the dataset"
   ]
  },
  {
   "cell_type": "code",
   "execution_count": 32,
   "metadata": {},
   "outputs": [
    {
     "name": "stderr",
     "output_type": "stream",
     "text": [
      "(MainThread) Starting new HTTP connection (1): ssbd1.qbic.riken.jp\n",
      "(MainThread) http://ssbd1.qbic.riken.jp:80 \"GET /SSBD/api/v3/data/?format=json;bdmlID=800faa21-c28c-4b72-bd12-d41f2eed02e8; HTTP/1.1\" 200 None\n"
     ]
    }
   ],
   "source": [
    "q.set_display('off')\n",
    "resultmetadata = q.data(field='bdmlID', search='800faa21-c28c-4b72-bd12-d41f2eed02e8')\n",
    "for i in resultmetadata['objects']:\n",
    "    title= i['title']\n",
    "    name= i['contributors']\n",
    "    pmid = i['PMID']\n",
    "    organism = i['organism']"
   ]
  },
  {
   "cell_type": "markdown",
   "metadata": {},
   "source": [
    "## Plotting the curve"
   ]
  },
  {
   "cell_type": "code",
   "execution_count": 41,
   "metadata": {},
   "outputs": [
    {
     "name": "stderr",
     "output_type": "stream",
     "text": [
      "/usr/local/lib/python3.6/dist-packages/matplotlib/cbook/deprecation.py:107: MatplotlibDeprecationWarning: Adding an axes using the same arguments as a previous axes currently reuses the earlier instance.  In a future version, a new instance will always be created and returned.  Meanwhile, this warning can be suppressed, and the future behavior ensured, by passing a unique label to each axes instance.\n",
      "  warnings.warn(message, mplDeprecation, stacklevel=1)\n"
     ]
    },
    {
     "data": {
      "image/png": "[encoded data removed]",
      "text/plain": [
       "<Figure size 432x288 with 1 Axes>"
      ]
     },
     "metadata": {},
     "output_type": "display_data"
    }
   ],
   "source": [
    "fig=plt.figure()\n",
    "plt.plot(timept, no_of_nucleus, 'r')\n",
    "ax = fig.add_subplot(1,1,1)\n",
    "ax.set_ylabel('cellstage')\n",
    "ax.set_xlabel('timepoint')\n",
    "plottitle = title+'  ['+organism+'] '+'\\n'+' ('+name+') '+'\\n'+'  PMID: '+str(pmid)+'\\n'+' Cell divsion over time '\n",
    "plt.title(plottitle);"
   ]
  },
  {
   "cell_type": "markdown",
   "metadata": {},
   "source": [
    "### Plotting using actual time instead of time point"
   ]
  },
  {
   "cell_type": "code",
   "execution_count": 42,
   "metadata": {},
   "outputs": [
    {
     "name": "stderr",
     "output_type": "stream",
     "text": [
      "/usr/local/lib/python3.6/dist-packages/matplotlib/cbook/deprecation.py:107: MatplotlibDeprecationWarning: Adding an axes using the same arguments as a previous axes currently reuses the earlier instance.  In a future version, a new instance will always be created and returned.  Meanwhile, this warning can be suppressed, and the future behavior ensured, by passing a unique label to each axes instance.\n",
      "  warnings.warn(message, mplDeprecation, stacklevel=1)\n"
     ]
    },
    {
     "data": {
      "image/png": "[encoded data removed]",
      "text/plain": [
       "<Figure size 432x288 with 1 Axes>"
      ]
     },
     "metadata": {},
     "output_type": "display_data"
    }
   ],
   "source": [
    "tmp=np.array(timept)\n",
    "time=tmp*tscale\n",
    "fig=plt.figure()\n",
    "plt.plot(time, no_of_nucleus, 'r')\n",
    "ax = fig.add_subplot(1,1,1)\n",
    "ax.set_ylabel('cellstage')\n",
    "xlabel = 'time ( '+tunit+' )'\n",
    "ax.set_xlabel(xlabel)\n",
    "plottitle = title+'  ['+organism+'] '+'\\n'+' ('+name+') '+'\\n'+'  PMID: '+str(pmid)+'\\n'+' Cell divsion over time '\n",
    "plt.title(plottitle);"
   ]
  },
  {
   "cell_type": "code",
   "execution_count": null,
   "metadata": {},
   "outputs": [],
   "source": []
  },
  {
   "cell_type": "code",
   "execution_count": null,
   "metadata": {},
   "outputs": [],
   "source": []
  }
 ],
 "metadata": {
  "kernelspec": {
   "display_name": "Python 3",
   "language": "python",
   "name": "python3"
  },
  "language_info": {
   "codemirror_mode": {
    "name": "ipython",
    "version": 3
   },
   "file_extension": ".py",
   "mimetype": "text/x-python",
   "name": "python",
   "nbconvert_exporter": "python",
   "pygments_lexer": "ipython3",
   "version": "3.6.3"
  }
 },
 "nbformat": 4,
 "nbformat_minor": 1
}
