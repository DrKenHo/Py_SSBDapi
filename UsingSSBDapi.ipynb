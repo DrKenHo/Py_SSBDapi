{
 "cells": [
  {
   "cell_type": "markdown",
   "metadata": {},
   "source": [
    "# Using Python SSBDapi to access SSBD data for visualization and analysis"
   ]
  },
  {
   "cell_type": "code",
   "execution_count": 1,
   "metadata": {
    "collapsed": true
   },
   "outputs": [],
   "source": [
    "%config InlineBackend.figure_formats=['png']"
   ]
  },
  {
   "cell_type": "code",
   "execution_count": 2,
   "metadata": {
    "collapsed": false
   },
   "outputs": [],
   "source": [
    "from IPython.display import display"
   ]
  },
  {
   "cell_type": "code",
   "execution_count": 3,
   "metadata": {
    "collapsed": true
   },
   "outputs": [],
   "source": [
    "import matplotlib.pyplot as plt"
   ]
  },
  {
   "cell_type": "code",
   "execution_count": 4,
   "metadata": {
    "collapsed": true
   },
   "outputs": [],
   "source": [
    "import numpy as np\n",
    "import pandas as pd"
   ]
  },
  {
   "cell_type": "code",
   "execution_count": 5,
   "metadata": {
    "collapsed": true
   },
   "outputs": [],
   "source": [
    "from mpl_toolkits.mplot3d import Axes3D\n",
    "from mpl_toolkits.mplot3d import proj3d"
   ]
  },
  {
   "cell_type": "code",
   "execution_count": 6,
   "metadata": {
    "collapsed": true
   },
   "outputs": [],
   "source": [
    "%matplotlib inline"
   ]
  },
  {
   "cell_type": "markdown",
   "metadata": {},
   "source": [
    "## Loading ivisual library allows iPython to use VPython to display 3D graphics\n",
    "\n",
    "* Installing ivisual can be found here https://github.com/mwcraig/ivisual-notebook-info"
   ]
  },
  {
   "cell_type": "code",
   "execution_count": 7,
   "metadata": {
    "collapsed": false
   },
   "outputs": [
    {
     "data": {
      "text/html": [
       "<div id=\"scene0\"><div id=\"glowscript\" class=\"glowscript\"></div></div>"
      ],
      "text/plain": [
       "<IPython.core.display.HTML object>"
      ]
     },
     "metadata": {},
     "output_type": "display_data"
    },
    {
     "data": {
      "application/javascript": [
       "require.undef(\"nbextensions/glow.1.0.min\");"
      ],
      "text/plain": [
       "<IPython.core.display.Javascript object>"
      ]
     },
     "metadata": {},
     "output_type": "display_data"
    },
    {
     "data": {
      "application/javascript": [
       "require.undef(\"nbextensions/jquery-ui.custom.min\");"
      ],
      "text/plain": [
       "<IPython.core.display.Javascript object>"
      ]
     },
     "metadata": {},
     "output_type": "display_data"
    },
    {
     "data": {
      "application/javascript": [
       "require.undef(\"nbextensions/glow.1.1.min\");"
      ],
      "text/plain": [
       "<IPython.core.display.Javascript object>"
      ]
     },
     "metadata": {},
     "output_type": "display_data"
    },
    {
     "data": {
      "application/javascript": [
       "require.undef(\"nbextensions/glowcomm\");"
      ],
      "text/plain": [
       "<IPython.core.display.Javascript object>"
      ]
     },
     "metadata": {},
     "output_type": "display_data"
    },
    {
     "data": {
      "application/javascript": [
       "require([\"nbextensions/glowcomm\"], function(){console.log(\"glowcomm loaded\");})"
      ],
      "text/plain": [
       "<IPython.core.display.Javascript object>"
      ]
     },
     "metadata": {},
     "output_type": "display_data"
    }
   ],
   "source": [
    "from ivisual import *"
   ]
  },
  {
   "cell_type": "markdown",
   "metadata": {},
   "source": [
    "## Loading json library allows iPython to deal with JSON formatted data"
   ]
  },
  {
   "cell_type": "code",
   "execution_count": 8,
   "metadata": {
    "collapsed": true
   },
   "outputs": [],
   "source": [
    "import json"
   ]
  },
  {
   "cell_type": "markdown",
   "metadata": {},
   "source": [
    "# Loading SSBDapi Library"
   ]
  },
  {
   "cell_type": "code",
   "execution_count": 9,
   "metadata": {
    "collapsed": true
   },
   "outputs": [],
   "source": [
    "import SSBDapi as ssbdapi"
   ]
  },
  {
   "cell_type": "markdown",
   "metadata": {},
   "source": [
    "## Using ssbdapi function 'meta_data' to search for simulation 'sim' in the field 'basedon'"
   ]
  },
  {
   "cell_type": "code",
   "execution_count": 10,
   "metadata": {
    "collapsed": false
   },
   "outputs": [
    {
     "name": "stdout",
     "output_type": "stream",
     "text": [
      "display=True\n",
      "display= True\n",
      "parameter= http://ssbd.qbic.riken.jp/SSBD/api/v1/meta_data/?format=json;basedon__icontains=sim;\n",
      "meta= {u'previous': None, u'total_count': 105, u'offset': 0, u'limit': 20, u'next': u'/SSBD/api/v1/meta_data/?basedon__icontains=sim&offset=20&limit=20&format=json'}\n",
      "found= 105\n",
      "limit= 20\n",
      "No.: 1\n",
      "    license : CC BY-NC-SA\n",
      "    citation : None\n",
      "    description : quantitative single molecule dynamics of Min proteins (MinEE, MinDEE, MinDEED, and MinD) in E. coli wild-type\n",
      "    contributors : Arjunan, S. N. V. and Tomita, M.\n",
      "    phone : None\n",
      "    URL : None\n",
      "    organism : E. coli\n",
      "    E_mail : satya.arjunan@riken.jp\n",
      "    basedon : Simulation\n",
      "    name : Satya Nanda Vel Arjunan\n",
      "    dblink : http://www.ncbi.nlm.nih.gov/pubmed/20012222\n",
      "    datatype : single molecule dynamics\n",
      "    organization : RIKEN\n",
      "    title : BDML file for quantitative information about single molecule dynamics of E. coli wild-type\n",
      "    address : 6-2-3 Furuedai, Suita, Osaka 565-0874, Japan\n",
      "    department : Quantitative Biology Center\n",
      "    laboratory : Laboratory for Biochemical Simulation\n",
      "    PMID : 20012222\n",
      "    method_summary : See details in Arjunan et al. (2010) Syst Synth Biol 4, 35-53.\n",
      "    localid : Eco_MinE_AS\n",
      "No.: 2\n",
      "    license : CC BY-NC-SA\n",
      "    citation : None\n",
      "    description : the result of computer simulation of male pronuclear migration in C. elegans embryo (mechanism: pulling, MTDivision: 4, MT: 98, Vg_um: 0.118, Vs_um: 0.157, CatFreq: 0.011, ResFreq: 0.018, Fstall_pN: 1.1, Vmax_um: 2, M_mm: 100, EI_pNumum: 10, A_um: 0.118, B_pN: 0.032, H: 0.25, Stokes_rad: 10)\n",
      "    contributors : Kimura, A. and Onami, S.\n",
      "    phone : None\n",
      "    URL : None\n",
      "    organism : C. elegans\n",
      "    E_mail : sonami@riken.jp\n",
      "    basedon : Simulation\n",
      "    name : Shuichi Onami\n",
      "    dblink : None\n",
      "    datatype : cell simulation\n",
      "    organization : RIKEN\n",
      "    title : BDML file for the result of computer simulation of male pronuclear migration in C. elegans embryo\n",
      "    address : 2-2-3 Minatojima-minamimachi, Chuo-ku, Kobe 650-0047, Japan\n",
      "    department : Quantitative Biology Center\n",
      "    laboratory : Laboratory for Developmental Dynamics\n",
      "    PMID : 15866166\n",
      "    method_summary : See details in Kimura, A. and Onami, S. (2005) Dev Cell 8, 765-775.\n",
      "    localid : pull00-00000\n",
      "No.: 3\n",
      "    license : CC BY-NC-SA\n",
      "    citation : None\n",
      "    description : the result of computer simulation of male pronuclear migration in C. elegans embryo (mechanism: pulling, MTDivision: 4, MT: 98, Vg_um: 0.118, Vs_um: 0.157, CatFreq: 0.011, ResFreq: 0.018, Fstall_pN: 1.1, Vmax_um: 2, M_mm: 100, EI_pNumum: 10, A_um: 0.118, B_pN: 0.032, H: 0.25, Stokes_rad: 10)\n",
      "    contributors : Kimura, A. and Onami, S.\n",
      "    phone : None\n",
      "    URL : None\n",
      "    organism : C. elegans\n",
      "    E_mail : sonami@riken.jp\n",
      "    basedon : Simulation\n",
      "    name : Shuichi Onami\n",
      "    dblink : None\n",
      "    datatype : cell simulation\n",
      "    organization : RIKEN\n",
      "    title : BDML file for the result of computer simulation of male pronuclear migration in C. elegans embryo\n",
      "    address : 2-2-3 Minatojima-minamimachi, Chuo-ku, Kobe 650-0047, Japan\n",
      "    department : Quantitative Biology Center\n",
      "    laboratory : Laboratory for Developmental Dynamics\n",
      "    PMID : 15866166\n",
      "    method_summary : See details in Kimura, A. and Onami, S. (2005) Dev Cell 8, 765-775.\n",
      "    localid : pull00-00001\n",
      "No.: 4\n",
      "    license : CC BY-NC-SA\n",
      "    citation : None\n",
      "    description : the result of computer simulation of male pronuclear migration in C. elegans embryo (mechanism: pushing, MTDivision: 4, MT: 98, Vg_um: 0.118, Vs_um: 0.157, CatFreq: 0.011, ResFreq: 0.018, Fstall_pN: 1.1, Vmax_um: 2, M_mm: 100, EI_pNumum: 10, A_um: 0.118, B_pN: 0.032, H: 0.25, Stokes_rad: 10)\n",
      "    contributors : Kimura, A. and Onami, S.\n",
      "    phone : None\n",
      "    URL : None\n",
      "    organism : C. elegans\n",
      "    E_mail : sonami@riken.jp\n",
      "    basedon : Simulation\n",
      "    name : Shuichi Onami\n",
      "    dblink : None\n",
      "    datatype : cell simulation\n",
      "    organization : RIKEN\n",
      "    title : BDML file for the result of computer simulation of male pronuclear migration in C. elegans embryo\n",
      "    address : 2-2-3 Minatojima-minamimachi, Chuo-ku, Kobe 650-0047, Japan\n",
      "    department : Quantitative Biology Center\n",
      "    laboratory : Laboratory for Developmental Dynamics\n",
      "    PMID : 15866166\n",
      "    method_summary : See details in Kimura, A. and Onami, S. (2005) Dev Cell 8, 765-775.\n",
      "    localid : push00-00000\n",
      "No.: 5\n",
      "    license : CC BY-NC-SA\n",
      "    citation : None\n",
      "    description : the result of computer simulation of male pronuclear migration in C. elegans embryo (mechanism: pushing, MTDivision: 4, MT: 98, Vg_um: 0.118, Vs_um: 0.157, CatFreq: 0.011, ResFreq: 0.018, Fstall_pN: 1.1, Vmax_um: 2, M_mm: 100, EI_pNumum: 10, A_um: 0.118, B_pN: 0.032, H: 0.25, Stokes_rad: 10)\n",
      "    contributors : Kimura, A. and Onami, S.\n",
      "    phone : None\n",
      "    URL : None\n",
      "    organism : C. elegans\n",
      "    E_mail : sonami@riken.jp\n",
      "    basedon : Simulation\n",
      "    name : Shuichi Onami\n",
      "    dblink : None\n",
      "    datatype : cell simulation\n",
      "    organization : RIKEN\n",
      "    title : BDML file for the result of computer simulation of male pronuclear migration in C. elegans embryo\n",
      "    address : 2-2-3 Minatojima-minamimachi, Chuo-ku, Kobe 650-0047, Japan\n",
      "    department : Quantitative Biology Center\n",
      "    laboratory : Laboratory for Developmental Dynamics\n",
      "    PMID : 15866166\n",
      "    method_summary : See details in Kimura, A. and Onami, S. (2005) Dev Cell 8, 765-775.\n",
      "    localid : push00-00001\n",
      "No.: 6\n",
      "    license : CC BY-NC-SA\n",
      "    citation : None\n",
      "    description : the result of computer simulation of male pronuclear migration in C. elegans embryo (mechanism: pulling, MTDivision: 4, MT: 98, Vg_um: 0.118, Vs_um: 0.157, CatFreq: 0.011, ResFreq: 0.018, Fstall_pN: 1.1, Vmax_um: 2, M_mm: 100, EI_pNumum: 10, A_um: 0.118, B_pN: 0.032, H: 0.25, Stokes_rad: 10)\n",
      "    contributors : Kimura, A. and Onami, S.\n",
      "    phone : None\n",
      "    URL : None\n",
      "    organism : C. elegans\n",
      "    E_mail : sonami@riken.jp\n",
      "    basedon : Simulation\n",
      "    name : Shuichi Onami\n",
      "    dblink : None\n",
      "    datatype : cell simulation\n",
      "    organization : RIKEN\n",
      "    title : BDML file for the result of computer simulation of male pronuclear migration in C. elegans embryo\n",
      "    address : 2-2-3 Minatojima-minamimachi, Chuo-ku, Kobe 650-0047, Japan\n",
      "    department : Quantitative Biology Center\n",
      "    laboratory : Laboratory for Developmental Dynamics\n",
      "    PMID : 15866166\n",
      "    method_summary : See details in Kimura, A. and Onami, S. (2005) Dev Cell 8, 765-775.\n",
      "    localid : pull00-00002\n",
      "No.: 7\n",
      "    license : CC BY-NC-SA\n",
      "    citation : None\n",
      "    description : the result of computer simulation of male pronuclear migration in C. elegans embryo (mechanism: pushing, MTDivision: 4, MT: 98, Vg_um: 0.118, Vs_um: 0.157, CatFreq: 0.011, ResFreq: 0.018, Fstall_pN: 1.1, Vmax_um: 2, M_mm: 100, EI_pNumum: 10, A_um: 0.118, B_pN: 0.032, H: 0.25, Stokes_rad: 10)\n",
      "    contributors : Kimura, A. and Onami, S.\n",
      "    phone : None\n",
      "    URL : None\n",
      "    organism : C. elegans\n",
      "    E_mail : sonami@riken.jp\n",
      "    basedon : Simulation\n",
      "    name : Shuichi Onami\n",
      "    dblink : None\n",
      "    datatype : cell simulation\n",
      "    organization : RIKEN\n",
      "    title : BDML file for the result of computer simulation of male pronuclear migration in C. elegans embryo\n",
      "    address : 2-2-3 Minatojima-minamimachi, Chuo-ku, Kobe 650-0047, Japan\n",
      "    department : Quantitative Biology Center\n",
      "    laboratory : Laboratory for Developmental Dynamics\n",
      "    PMID : 15866166\n",
      "    method_summary : See details in Kimura, A. and Onami, S. (2005) Dev Cell 8, 765-775.\n",
      "    localid : push00-00002\n",
      "No.: 8\n",
      "    license : CC BY-NC-SA\n",
      "    citation : None\n",
      "    description : the result of computer simulation of male pronuclear migration in C. elegans embryo (mechanism: pushing, MTDivision: 4, MT: 98, Vg_um: 0.118, Vs_um: 0.157, CatFreq: 0.011, ResFreq: 0.018, Fstall_pN: 1.1, Vmax_um: 2, M_mm: 100, EI_pNumum: 10, A_um: 0.118, B_pN: 0.032, H: 0.25, Stokes_rad: 10)\n",
      "    contributors : Kimura, A. and Onami, S.\n",
      "    phone : None\n",
      "    URL : None\n",
      "    organism : C. elegans\n",
      "    E_mail : sonami@riken.jp\n",
      "    basedon : Simulation\n",
      "    name : Shuichi Onami\n",
      "    dblink : None\n",
      "    datatype : cell simulation\n",
      "    organization : RIKEN\n",
      "    title : BDML file for the result of computer simulation of male pronuclear migration in C. elegans embryo\n",
      "    address : 2-2-3 Minatojima-minamimachi, Chuo-ku, Kobe 650-0047, Japan\n",
      "    department : Quantitative Biology Center\n",
      "    laboratory : Laboratory for Developmental Dynamics\n",
      "    PMID : 15866166\n",
      "    method_summary : See details in Kimura, A. and Onami, S. (2005) Dev Cell 8, 765-775.\n",
      "    localid : push00-00003\n",
      "No.: 9\n",
      "    license : CC BY-NC-SA\n",
      "    citation : None\n",
      "    description : the result of computer simulation of male pronuclear migration in C. elegans embryo (mechanism: pulling, MTDivision: 4, MT: 98, Vg_um: 0.118, Vs_um: 0.157, CatFreq: 0.011, ResFreq: 0.018, Fstall_pN: 1.1, Vmax_um: 2, M_mm: 100, EI_pNumum: 10, A_um: 0.118, B_pN: 0.032, H: 0.25, Stokes_rad: 10)\n",
      "    contributors : Kimura, A. and Onami, S.\n",
      "    phone : None\n",
      "    URL : None\n",
      "    organism : C. elegans\n",
      "    E_mail : sonami@riken.jp\n",
      "    basedon : Simulation\n",
      "    name : Shuichi Onami\n",
      "    dblink : None\n",
      "    datatype : cell simulation\n",
      "    organization : RIKEN\n",
      "    title : BDML file for the result of computer simulation of male pronuclear migration in C. elegans embryo\n",
      "    address : 2-2-3 Minatojima-minamimachi, Chuo-ku, Kobe 650-0047, Japan\n",
      "    department : Quantitative Biology Center\n",
      "    laboratory : Laboratory for Developmental Dynamics\n",
      "    PMID : 15866166\n",
      "    method_summary : See details in Kimura, A. and Onami, S. (2005) Dev Cell 8, 765-775.\n",
      "    localid : pull00-00003\n",
      "No.: 10\n",
      "    license : CC BY-NC-SA\n",
      "    citation : None\n",
      "    description : the result of computer simulation of male pronuclear migration in C. elegans embryo (mechanism: pulling, MTDivision: 4, MT: 98, Vg_um: 0.118, Vs_um: 0.157, CatFreq: 0.011, ResFreq: 0.018, Fstall_pN: 1.1, Vmax_um: 2, M_mm: 100, EI_pNumum: 10, A_um: 0.118, B_pN: 0.032, H: 0.25, Stokes_rad: 10)\n",
      "    contributors : Kimura, A. and Onami, S.\n",
      "    phone : None\n",
      "    URL : None\n",
      "    organism : C. elegans\n",
      "    E_mail : sonami@riken.jp\n",
      "    basedon : Simulation\n",
      "    name : Shuichi Onami\n",
      "    dblink : None\n",
      "    datatype : cell simulation\n",
      "    organization : RIKEN\n",
      "    title : BDML file for the result of computer simulation of male pronuclear migration in C. elegans embryo\n",
      "    address : 2-2-3 Minatojima-minamimachi, Chuo-ku, Kobe 650-0047, Japan\n",
      "    department : Quantitative Biology Center\n",
      "    laboratory : Laboratory for Developmental Dynamics\n",
      "    PMID : 15866166\n",
      "    method_summary : See details in Kimura, A. and Onami, S. (2005) Dev Cell 8, 765-775.\n",
      "    localid : pull00-00004\n",
      "No.: 11\n",
      "    license : CC BY-NC-SA\n",
      "    citation : None\n",
      "    description : the result of computer simulation of male pronuclear migration in C. elegans embryo (mechanism: pushing, MTDivision: 4, MT: 98, Vg_um: 0.118, Vs_um: 0.157, CatFreq: 0.011, ResFreq: 0.018, Fstall_pN: 1.1, Vmax_um: 2, M_mm: 100, EI_pNumum: 10, A_um: 0.118, B_pN: 0.032, H: 0.25, Stokes_rad: 10)\n",
      "    contributors : Kimura, A. and Onami, S.\n",
      "    phone : None\n",
      "    URL : None\n",
      "    organism : C. elegans\n",
      "    E_mail : sonami@riken.jp\n",
      "    basedon : Simulation\n",
      "    name : Shuichi Onami\n",
      "    dblink : None\n",
      "    datatype : cell simulation\n",
      "    organization : RIKEN\n",
      "    title : BDML file for the result of computer simulation of male pronuclear migration in C. elegans embryo\n",
      "    address : 2-2-3 Minatojima-minamimachi, Chuo-ku, Kobe 650-0047, Japan\n",
      "    department : Quantitative Biology Center\n",
      "    laboratory : Laboratory for Developmental Dynamics\n",
      "    PMID : 15866166\n",
      "    method_summary : See details in Kimura, A. and Onami, S. (2005) Dev Cell 8, 765-775.\n",
      "    localid : push00-00004\n",
      "No.: 12\n",
      "    license : CC BY-NC-SA\n",
      "    citation : None\n",
      "    description : the result of computer simulation of male pronuclear migration in C. elegans embryo (mechanism: pushing, MTDivision: 4, MT: 98, Vg_um: 0.118, Vs_um: 0.157, CatFreq: 0.011, ResFreq: 0.018, Fstall_pN: 1.1, Vmax_um: 2, M_mm: 100, EI_pNumum: 10, A_um: 0.118, B_pN: 0.032, H: 0.25, Stokes_rad: 10)\n",
      "    contributors : Kimura, A. and Onami, S.\n",
      "    phone : None\n",
      "    URL : None\n",
      "    organism : C. elegans\n",
      "    E_mail : sonami@riken.jp\n",
      "    basedon : Simulation\n",
      "    name : Shuichi Onami\n",
      "    dblink : None\n",
      "    datatype : cell simulation\n",
      "    organization : RIKEN\n",
      "    title : BDML file for the result of computer simulation of male pronuclear migration in C. elegans embryo\n",
      "    address : 2-2-3 Minatojima-minamimachi, Chuo-ku, Kobe 650-0047, Japan\n",
      "    department : Quantitative Biology Center\n",
      "    laboratory : Laboratory for Developmental Dynamics\n",
      "    PMID : 15866166\n",
      "    method_summary : See details in Kimura, A. and Onami, S. (2005) Dev Cell 8, 765-775.\n",
      "    localid : push00-00005\n",
      "No.: 13\n",
      "    license : CC BY-NC-SA\n",
      "    citation : None\n",
      "    description : the result of computer simulation of male pronuclear migration in C. elegans embryo (mechanism: pulling, MTDivision: 4, MT: 98, Vg_um: 0.118, Vs_um: 0.157, CatFreq: 0.011, ResFreq: 0.018, Fstall_pN: 1.1, Vmax_um: 2, M_mm: 100, EI_pNumum: 10, A_um: 0.118, B_pN: 0.032, H: 0.25, Stokes_rad: 10)\n",
      "    contributors : Kimura, A. and Onami, S.\n",
      "    phone : None\n",
      "    URL : None\n",
      "    organism : C. elegans\n",
      "    E_mail : sonami@riken.jp\n",
      "    basedon : Simulation\n",
      "    name : Shuichi Onami\n",
      "    dblink : None\n",
      "    datatype : cell simulation\n",
      "    organization : RIKEN\n",
      "    title : BDML file for the result of computer simulation of male pronuclear migration in C. elegans embryo\n",
      "    address : 2-2-3 Minatojima-minamimachi, Chuo-ku, Kobe 650-0047, Japan\n",
      "    department : Quantitative Biology Center\n",
      "    laboratory : Laboratory for Developmental Dynamics\n",
      "    PMID : 15866166\n",
      "    method_summary : See details in Kimura, A. and Onami, S. (2005) Dev Cell 8, 765-775.\n",
      "    localid : pull00-00005\n",
      "No.: 14\n",
      "    license : CC BY-NC-SA\n",
      "    citation : None\n",
      "    description : the result of computer simulation of male pronuclear migration in C. elegans embryo (mechanism: pulling, MTDivision: 4, MT: 98, Vg_um: 0.118, Vs_um: 0.157, CatFreq: 0.011, ResFreq: 0.018, Fstall_pN: 1.1, Vmax_um: 2, M_mm: 100, EI_pNumum: 10, A_um: 0.118, B_pN: 0.032, H: 0.25, Stokes_rad: 10)\n",
      "    contributors : Kimura, A. and Onami, S.\n",
      "    phone : None\n",
      "    URL : None\n",
      "    organism : C. elegans\n",
      "    E_mail : sonami@riken.jp\n",
      "    basedon : Simulation\n",
      "    name : Shuichi Onami\n",
      "    dblink : None\n",
      "    datatype : cell simulation\n",
      "    organization : RIKEN\n",
      "    title : BDML file for the result of computer simulation of male pronuclear migration in C. elegans embryo\n",
      "    address : 2-2-3 Minatojima-minamimachi, Chuo-ku, Kobe 650-0047, Japan\n",
      "    department : Quantitative Biology Center\n",
      "    laboratory : Laboratory for Developmental Dynamics\n",
      "    PMID : 15866166\n",
      "    method_summary : See details in Kimura, A. and Onami, S. (2005) Dev Cell 8, 765-775.\n",
      "    localid : pull00-00006\n",
      "No.: 15\n",
      "    license : CC BY-NC-SA\n",
      "    citation : None\n",
      "    description : the result of computer simulation of male pronuclear migration in C. elegans embryo (mechanism: pushing, MTDivision: 4, MT: 98, Vg_um: 0.118, Vs_um: 0.157, CatFreq: 0.011, ResFreq: 0.018, Fstall_pN: 1.1, Vmax_um: 2, M_mm: 100, EI_pNumum: 10, A_um: 0.118, B_pN: 0.032, H: 0.25, Stokes_rad: 10)\n",
      "    contributors : Kimura, A. and Onami, S.\n",
      "    phone : None\n",
      "    URL : None\n",
      "    organism : C. elegans\n",
      "    E_mail : sonami@riken.jp\n",
      "    basedon : Simulation\n",
      "    name : Shuichi Onami\n",
      "    dblink : None\n",
      "    datatype : cell simulation\n",
      "    organization : RIKEN\n",
      "    title : BDML file for the result of computer simulation of male pronuclear migration in C. elegans embryo\n",
      "    address : 2-2-3 Minatojima-minamimachi, Chuo-ku, Kobe 650-0047, Japan\n",
      "    department : Quantitative Biology Center\n",
      "    laboratory : Laboratory for Developmental Dynamics\n",
      "    PMID : 15866166\n",
      "    method_summary : See details in Kimura, A. and Onami, S. (2005) Dev Cell 8, 765-775.\n",
      "    localid : push00-00006\n",
      "No.: 16\n",
      "    license : CC BY-NC-SA\n",
      "    citation : None\n",
      "    description : the result of computer simulation of male pronuclear migration in C. elegans embryo (mechanism: pulling, MTDivision: 4, MT: 98, Vg_um: 0.118, Vs_um: 0.157, CatFreq: 0.011, ResFreq: 0.018, Fstall_pN: 1.1, Vmax_um: 2, M_mm: 100, EI_pNumum: 10, A_um: 0.118, B_pN: 0.032, H: 0.25, Stokes_rad: 10)\n",
      "    contributors : Kimura, A. and Onami, S.\n",
      "    phone : None\n",
      "    URL : None\n",
      "    organism : C. elegans\n",
      "    E_mail : sonami@riken.jp\n",
      "    basedon : Simulation\n",
      "    name : Shuichi Onami\n",
      "    dblink : None\n",
      "    datatype : cell simulation\n",
      "    organization : RIKEN\n",
      "    title : BDML file for the result of computer simulation of male pronuclear migration in C. elegans embryo\n",
      "    address : 2-2-3 Minatojima-minamimachi, Chuo-ku, Kobe 650-0047, Japan\n",
      "    department : Quantitative Biology Center\n",
      "    laboratory : Laboratory for Developmental Dynamics\n",
      "    PMID : 15866166\n",
      "    method_summary : See details in Kimura, A. and Onami, S. (2005) Dev Cell 8, 765-775.\n",
      "    localid : pull00-00007\n",
      "No.: 17\n",
      "    license : CC BY-NC-SA\n",
      "    citation : None\n",
      "    description : the result of computer simulation of male pronuclear migration in C. elegans embryo (mechanism: pushing, MTDivision: 4, MT: 98, Vg_um: 0.118, Vs_um: 0.157, CatFreq: 0.011, ResFreq: 0.018, Fstall_pN: 1.1, Vmax_um: 2, M_mm: 100, EI_pNumum: 10, A_um: 0.118, B_pN: 0.032, H: 0.25, Stokes_rad: 10)\n",
      "    contributors : Kimura, A. and Onami, S.\n",
      "    phone : None\n",
      "    URL : None\n",
      "    organism : C. elegans\n",
      "    E_mail : sonami@riken.jp\n",
      "    basedon : Simulation\n",
      "    name : Shuichi Onami\n",
      "    dblink : None\n",
      "    datatype : cell simulation\n",
      "    organization : RIKEN\n",
      "    title : BDML file for the result of computer simulation of male pronuclear migration in C. elegans embryo\n",
      "    address : 2-2-3 Minatojima-minamimachi, Chuo-ku, Kobe 650-0047, Japan\n",
      "    department : Quantitative Biology Center\n",
      "    laboratory : Laboratory for Developmental Dynamics\n",
      "    PMID : 15866166\n",
      "    method_summary : See details in Kimura, A. and Onami, S. (2005) Dev Cell 8, 765-775.\n",
      "    localid : push00-00007\n",
      "No.: 18\n",
      "    license : CC BY-NC-SA\n",
      "    citation : None\n",
      "    description : the result of computer simulation of male pronuclear migration in C. elegans embryo (mechanism: pulling, MTDivision: 4, MT: 98, Vg_um: 0.118, Vs_um: 0.157, CatFreq: 0.011, ResFreq: 0.018, Fstall_pN: 1.1, Vmax_um: 2, M_mm: 100, EI_pNumum: 10, A_um: 0.118, B_pN: 0.032, H: 0.25, Stokes_rad: 10)\n",
      "    contributors : Kimura, A. and Onami, S.\n",
      "    phone : None\n",
      "    URL : None\n",
      "    organism : C. elegans\n",
      "    E_mail : sonami@riken.jp\n",
      "    basedon : Simulation\n",
      "    name : Shuichi Onami\n",
      "    dblink : None\n",
      "    datatype : cell simulation\n",
      "    organization : RIKEN\n",
      "    title : BDML file for the result of computer simulation of male pronuclear migration in C. elegans embryo\n",
      "    address : 2-2-3 Minatojima-minamimachi, Chuo-ku, Kobe 650-0047, Japan\n",
      "    department : Quantitative Biology Center\n",
      "    laboratory : Laboratory for Developmental Dynamics\n",
      "    PMID : 15866166\n",
      "    method_summary : See details in Kimura, A. and Onami, S. (2005) Dev Cell 8, 765-775.\n",
      "    localid : pull00-00008\n",
      "No.: 19\n",
      "    license : CC BY-NC-SA\n",
      "    citation : None\n",
      "    description : the result of computer simulation of male pronuclear migration in C. elegans embryo (mechanism: pushing, MTDivision: 4, MT: 98, Vg_um: 0.118, Vs_um: 0.157, CatFreq: 0.011, ResFreq: 0.018, Fstall_pN: 1.1, Vmax_um: 2, M_mm: 100, EI_pNumum: 10, A_um: 0.118, B_pN: 0.032, H: 0.25, Stokes_rad: 10)\n",
      "    contributors : Kimura, A. and Onami, S.\n",
      "    phone : None\n",
      "    URL : None\n",
      "    organism : C. elegans\n",
      "    E_mail : sonami@riken.jp\n",
      "    basedon : Simulation\n",
      "    name : Shuichi Onami\n",
      "    dblink : None\n",
      "    datatype : cell simulation\n",
      "    organization : RIKEN\n",
      "    title : BDML file for the result of computer simulation of male pronuclear migration in C. elegans embryo\n",
      "    address : 2-2-3 Minatojima-minamimachi, Chuo-ku, Kobe 650-0047, Japan\n",
      "    department : Quantitative Biology Center\n",
      "    laboratory : Laboratory for Developmental Dynamics\n",
      "    PMID : 15866166\n",
      "    method_summary : See details in Kimura, A. and Onami, S. (2005) Dev Cell 8, 765-775.\n",
      "    localid : push00-00008\n",
      "No.: 20\n",
      "    license : CC BY-NC-SA\n",
      "    citation : None\n",
      "    description : the result of computer simulation of male pronuclear migration in C. elegans embryo (mechanism: pulling, MTDivision: 4, MT: 98, Vg_um: 0.118, Vs_um: 0.157, CatFreq: 0.011, ResFreq: 0.018, Fstall_pN: 1.1, Vmax_um: 2, M_mm: 100, EI_pNumum: 10, A_um: 0.118, B_pN: 0.032, H: 0.25, Stokes_rad: 10)\n",
      "    contributors : Kimura, A. and Onami, S.\n",
      "    phone : None\n",
      "    URL : None\n",
      "    organism : C. elegans\n",
      "    E_mail : sonami@riken.jp\n",
      "    basedon : Simulation\n",
      "    name : Shuichi Onami\n",
      "    dblink : None\n",
      "    datatype : cell simulation\n",
      "    organization : RIKEN\n",
      "    title : BDML file for the result of computer simulation of male pronuclear migration in C. elegans embryo\n",
      "    address : 2-2-3 Minatojima-minamimachi, Chuo-ku, Kobe 650-0047, Japan\n",
      "    department : Quantitative Biology Center\n",
      "    laboratory : Laboratory for Developmental Dynamics\n",
      "    PMID : 15866166\n",
      "    method_summary : See details in Kimura, A. and Onami, S. (2005) Dev Cell 8, 765-775.\n",
      "    localid : pull00-00009\n"
     ]
    }
   ],
   "source": [
    "q=ssbdapi.ssbd()\n",
    "q.set_display('on')\n",
    "resultdata = q.meta_data('basedon', 'sim')"
   ]
  },
  {
   "cell_type": "markdown",
   "metadata": {},
   "source": [
    "## Using ssbdapi function 'meta_data' to search for 'osaka' in the field 'address'"
   ]
  },
  {
   "cell_type": "code",
   "execution_count": 11,
   "metadata": {
    "collapsed": false
   },
   "outputs": [
    {
     "name": "stdout",
     "output_type": "stream",
     "text": [
      "display= True\n",
      "parameter= http://ssbd.qbic.riken.jp/SSBD/api/v1/meta_data/?format=json;address__icontains=osaka;\n",
      "meta= {u'previous': None, u'total_count': 8, u'offset': 0, u'limit': 20, u'next': None}\n",
      "found= 8\n",
      "limit= 20\n",
      "No.: 1\n",
      "    license : CC BY-NC-SA\n",
      "    citation : None\n",
      "    description : quantitative single molecule dynamics of Min proteins (MinEE, MinDEE, MinDEED, and MinD) in E. coli wild-type\n",
      "    contributors : Arjunan, S. N. V. and Tomita, M.\n",
      "    phone : None\n",
      "    URL : None\n",
      "    organism : E. coli\n",
      "    E_mail : satya.arjunan@riken.jp\n",
      "    basedon : Simulation\n",
      "    name : Satya Nanda Vel Arjunan\n",
      "    dblink : http://www.ncbi.nlm.nih.gov/pubmed/20012222\n",
      "    datatype : single molecule dynamics\n",
      "    organization : RIKEN\n",
      "    title : BDML file for quantitative information about single molecule dynamics of E. coli wild-type\n",
      "    address : 6-2-3 Furuedai, Suita, Osaka 565-0874, Japan\n",
      "    department : Quantitative Biology Center\n",
      "    laboratory : Laboratory for Biochemical Simulation\n",
      "    PMID : 20012222\n",
      "    method_summary : See details in Arjunan et al. (2010) Syst Synth Biol 4, 35-53.\n",
      "    localid : Eco_MinE_AS\n",
      "No.: 2\n",
      "    license : CC BY-NC-SA\n",
      "    citation : None\n",
      "    description : quantitative single molecule dynamics of Min proteins (MinEE, MinDEE, MinDEED, and MinD) in E. coli wild-type\n",
      "    contributors : Arjunan, S. N. V. and Tomita, M.\n",
      "    phone : None\n",
      "    URL : None\n",
      "    organism : E. coli\n",
      "    E_mail : satya.arjunan@riken.jp\n",
      "    basedon : Simulation\n",
      "    name : Satya Nanda Vel Arjunan\n",
      "    dblink : http://www.ncbi.nlm.nih.gov/pubmed/20012222\n",
      "    datatype : single molecule dynamics\n",
      "    organization : RIKEN\n",
      "    title : BDML file for quantitative information about single molecule dynamics of E. coli wild-type\n",
      "    address : 6-2-3 Furuedai, Suita, Osaka 565-0874, Japan\n",
      "    department : Quantitative Biology Center\n",
      "    laboratory : Laboratory for Biochemical Simulation\n",
      "    PMID : 20012222\n",
      "    method_summary : See details in Arjunan et al. (2010) Syst Synth Biol 4, 35-53.\n",
      "    localid : Eco_MinE_AS\n",
      "No.: 3\n",
      "    license : CC BY-NC-SA\n",
      "    citation : None\n",
      "    description : quantitative information about red blood cells and platelets in Homo sapiens\n",
      "    contributors : Satoshi Ii, Kazuyasu Sugiyama, Shu Takagi, and Yoichiro Matsumoto\n",
      "    phone : None\n",
      "    URL : None\n",
      "    organism : H. sapiens\n",
      "    E_mail : kazuyasu.sugiyama@me.es.osaka-u.ac.jp\n",
      "    basedon : Simulation\n",
      "    name : Kazuyasu Sugiyama\n",
      "    dblink : None\n",
      "    datatype : cell dynamics\n",
      "    organization : Osaka University\n",
      "    title : BDML file for quantitative information about red blood cells and platelets in human\n",
      "    address : 1-3 Machikaneyama, Toyonaka, Osaka 560-0043, Japan\n",
      "    department : Department of Mechanical Science and Bioengineering\n",
      "    laboratory : Sugiyama Laboratory\n",
      "    PMID : None\n",
      "    method_summary : See details in Ii et al. (2012) J Biomech Sci Engrg 7(1):72-83 and Matsumoto et al. (2014) Procedia IUTAM 10:193-200\n",
      "    localid : Man_RBC_IS\n",
      "No.: 4\n",
      "    license : CC BY-NC-SA\n",
      "    citation : None\n",
      "    description : quantitative information about single molecule dynamics in D. discoideum\n",
      "    contributors : Akihiro Komatsuzaki, Tatsuya Ohyanagi, Yoshikazu Tsukasaki, Yukihiro Miyanaga, Masahiro Ueda, Takashi Jin\n",
      "    phone : None\n",
      "    URL : None\n",
      "    organism : D. discoideum\n",
      "    E_mail : tjin@riken.jp\n",
      "    basedon : Measurement\n",
      "    name : Takashi Jin\n",
      "    dblink : http://www.ncbi.nlm.nih.gov/pubmed/25504902\n",
      "    datatype : single molecule dynamics\n",
      "    organization : RIKEN\n",
      "    title : BDML file for quantitative information about single molecule dynamics of D. discoideum\n",
      "    address : 6-2-3 Furuedai, Suita, Osaka 565-0874, Japan\n",
      "    department : Quantitative Biology Center\n",
      "    laboratory : Laboratory for Nano-Bio Probes\n",
      "    PMID : 25504902\n",
      "    method_summary : See details in Komatsuzaki et al. (2015) Small, 11(12):1396-1401\n",
      "    localid : Ddi_cAR1_JT\n",
      "No.: 5\n",
      "    license : CC BY\n",
      "    citation : None\n",
      "    description : time-lapse laser-scanning confocal microscopy (LSCM) images of PTEN molecules in D. discoideum cell obtained from in vivo experiments\n",
      "    contributors : Masaki Watabe, Satya N. V. Arjunan, Seiya Fukushima, Kazunari Iwamoto, Jun Kozuka, Satomi Matsuoka, Yuki Shindo, Masahiro Ueda, Koichi Takahashi\n",
      "    phone : None\n",
      "    URL : None\n",
      "    organism : D. discoideum\n",
      "    E_mail : ktakahashi@riken.jp\n",
      "    basedon : Measurement\n",
      "    name : Koichi Takahashi\n",
      "    dblink : http://www.ncbi.nlm.nih.gov/pubmed/26147508\n",
      "    datatype : single molecule dynamics\n",
      "    organization : RIKEN\n",
      "    title : BDML file for time-lapse laser-scanning confocal microscopy (LSCM) images of PTEN molecules in D. discoideum cell obtained from in vivo experiments\n",
      "    address : 6-2-3 Furuedai, Suita, Osaka 565-0874, Japan\n",
      "    department : Quantitative Biology Center\n",
      "    laboratory : Laboratory for Biochemical Simulation\n",
      "    PMID : 26147508\n",
      "    method_summary : See details in Watabe et al. (2015) PLoS One, 10(7): e0130089\n",
      "    localid : Ddi_PTEN_LSCM_EXP\n",
      "No.: 6\n",
      "    license : CC BY\n",
      "    citation : None\n",
      "    description : time-lapse images of the self-organizing wave model of PTEN observed using the laser-scanning confocal microscopy (LSCM) simulation module\n",
      "    contributors : Masaki Watabe, Satya N. V. Arjunan, Seiya Fukushima, Kazunari Iwamoto, Jun Kozuka, Satomi Matsuoka, Yuki Shindo, Masahiro Ueda, Koichi Takahashi\n",
      "    phone : None\n",
      "    URL : None\n",
      "    organism : D. discoideum\n",
      "    E_mail : ktakahashi@riken.jp\n",
      "    basedon : Simulation\n",
      "    name : Koichi Takahashi\n",
      "    dblink : http://www.ncbi.nlm.nih.gov/pubmed/26147508\n",
      "    datatype : single molecule dynamics\n",
      "    organization : RIKEN\n",
      "    title : BDML file for time-lapse images of the self-organizing wave model of PTEN observed using the laser-scanning confocal microscopy (LSCM) simulation module\n",
      "    address : 6-2-3 Furuedai, Suita, Osaka 565-0874, Japan\n",
      "    department : Quantitative Biology Center\n",
      "    laboratory : Laboratory for Biochemical Simulation\n",
      "    PMID : 26147508\n",
      "    method_summary : See details in Watabe et al. (2015) PLoS One, 10(7): e0130089\n",
      "    localid : Ddi_PTEN_LSCM_SIM\n",
      "No.: 7\n",
      "    license : CC BY\n",
      "    citation : None\n",
      "    description : time-lapse laser-scanning confocal microscopy (LSCM) images of ERK molecules in PC-12 cell obtained from in vivo experiments\n",
      "    contributors : Masaki Watabe, Satya N. V. Arjunan, Seiya Fukushima, Kazunari Iwamoto, Jun Kozuka, Satomi Matsuoka, Yuki Shindo, Masahiro Ueda, Koichi Takahashi\n",
      "    phone : None\n",
      "    URL : None\n",
      "    organism : R. norvegicus\n",
      "    E_mail : ktakahashi@riken.jp\n",
      "    basedon : Measurement\n",
      "    name : Koichi Takahashi\n",
      "    dblink : http://www.ncbi.nlm.nih.gov/pubmed/26147508\n",
      "    datatype : single molecule dynamics\n",
      "    organization : RIKEN\n",
      "    title : BDML file for time-lapse laser-scanning confocal microscopy (LSCM) images of ERK molecules in PC-12 cell obtained from in vivo experiments\n",
      "    address : 6-2-3 Furuedai, Suita, Osaka 565-0874, Japan\n",
      "    department : Quantitative Biology Center\n",
      "    laboratory : Laboratory for Biochemical Simulation\n",
      "    PMID : 26147508\n",
      "    method_summary : See details in Watabe et al. (2015) PLoS One, 10(7): e0130089\n",
      "    localid : Rat_ERK_LSCM_EXP\n",
      "No.: 8\n",
      "    license : CC BY\n",
      "    citation : None\n",
      "    description : time-lapse images of the ERK nuclear translocation model using the laser-scanning confocal microscopy (LSCM) simulation module\n",
      "    contributors : Masaki Watabe, Satya N. V. Arjunan, Seiya Fukushima, Kazunari Iwamoto, Jun Kozuka, Satomi Matsuoka, Yuki Shindo, Masahiro Ueda, Koichi Takahashi\n",
      "    phone : None\n",
      "    URL : None\n",
      "    organism : R. norvegicus\n",
      "    E_mail : ktakahashi@riken.jp\n",
      "    basedon : Simulation\n",
      "    name : Koichi Takahashi\n",
      "    dblink : http://www.ncbi.nlm.nih.gov/pubmed/26147508\n",
      "    datatype : single molecule dynamics\n",
      "    organization : RIKEN\n",
      "    title : BDML file for time-lapse images of the ERK nuclear translocation model using the laser-scanning confocal microscopy (LSCM) simulation module\n",
      "    address : 6-2-3 Furuedai, Suita, Osaka 565-0874, Japan\n",
      "    department : Quantitative Biology Center\n",
      "    laboratory : Laboratory for Biochemical Simulation\n",
      "    PMID : 26147508\n",
      "    method_summary : See details in Watabe et al. (2015) PLoS One, 10(7): e0130089\n",
      "    localid : Rat_ERK_LSCM_SIM\n"
     ]
    }
   ],
   "source": [
    "resultdata = q.meta_data('address', 'osaka')"
   ]
  },
  {
   "cell_type": "markdown",
   "metadata": {},
   "source": [
    "## Using ssbdapi function 'meta_data' to search for 'osaka' in the field 'address'"
   ]
  },
  {
   "cell_type": "code",
   "execution_count": 12,
   "metadata": {
    "collapsed": false
   },
   "outputs": [
    {
     "name": "stdout",
     "output_type": "stream",
     "text": [
      "display= True\n",
      "parameter= http://ssbd.qbic.riken.jp/SSBD/api/v1/meta_data/?format=json;contributors__icontains=keller;\n",
      "meta= {u'previous': None, u'total_count': 9, u'offset': 0, u'limit': 20, u'next': None}\n",
      "found= 9\n",
      "limit= 20\n",
      "No.: 1\n",
      "    license : CC BY-NC-SA\n",
      "    citation : None\n",
      "    description : fused reconstruction of early Drosophila wild-type development\n",
      "    contributors : Keller, P.J., Schmidt, A.D., Santella, A., Khairy, K., Bao, Z., Wittbrodt, J., and Stelzer, E.H.K.\n",
      "    phone : None\n",
      "    URL : None\n",
      "    organism : D. melanogaster\n",
      "    E_mail : keller@embl.de\n",
      "    basedon : Measurement\n",
      "    name : Philipp J. Keller\n",
      "    dblink : http://www.embl.de/digitalembryo/fly.html\n",
      "    datatype : nuclear positions\n",
      "    organization : European Molecular Biology Laboratory\n",
      "    title : BDML file for fused reconstruction of early Drosophila wild-type development\n",
      "    address : None\n",
      "    department : Cell Biology and Biophysics Unit\n",
      "    laboratory : Stelzer Laboratory\n",
      "    PMID : 20601950\n",
      "    method_summary : See details in Keller et al. (2008) Science 322, 1065-1069.\n",
      "    localid : drosophila_fused.mat\n",
      "No.: 2\n",
      "    license : CC BY-NC-SA\n",
      "    citation : None\n",
      "    description : raw reconstruction of early Drosophila wild-type development\n",
      "    contributors : Keller, P.J., Schmidt, A.D., Santella, A., Khairy, K., Bao, Z., Wittbrodt, J., and Stelzer, E.H.K.\n",
      "    phone : None\n",
      "    URL : None\n",
      "    organism : D. melanogaster\n",
      "    E_mail : keller@embl.de\n",
      "    basedon : Measurement\n",
      "    name : Philipp J. Keller\n",
      "    dblink : http://www.embl.de/digitalembryo/fly.html\n",
      "    datatype : nuclear positions\n",
      "    organization : European Molecular Biology Laboratory\n",
      "    title : BDML file for raw reconstruction of early Drosophila wild-type development\n",
      "    address : None\n",
      "    department : Cell Biology and Biophysics Unit\n",
      "    laboratory : Stelzer Laboratory\n",
      "    PMID : 20601950\n",
      "    method_summary : See details in Keller et al. (2008) Science 322, 1065-1069.\n",
      "    localid : drosophila_raw.mat\n",
      "No.: 3\n",
      "    license : CC BY-NC-SA\n",
      "    citation : None\n",
      "    description : in toto reconstruction of zebrafish wild-type development\n",
      "    contributors : Keller, P.J., Schmidt, A.D., Wittbrodt, J. and Stelzer, E.H.K.\n",
      "    phone : None\n",
      "    URL : None\n",
      "    organism : zebrafish\n",
      "    E_mail : keller@embl.de\n",
      "    basedon : Measurement\n",
      "    name : Philipp J. Keller\n",
      "    dblink : http://www.embl.de/digitalembryo/fish.html\n",
      "    datatype : nuclear positions\n",
      "    organization : European Molecular Biology Laboratory\n",
      "    title : BDML file for in toto reconstruction of zebrafish wild-type development\n",
      "    address : None\n",
      "    department : Cell Biology and Biophysics Unit\n",
      "    laboratory : Stelzer Laboratory\n",
      "    PMID : 18845710\n",
      "    method_summary : See details in Keller et al. (2008) Science 322, 1065-1069.\n",
      "    localid : zebrafish_in_toto_wt.mat\n",
      "No.: 4\n",
      "    license : CC BY-NC-SA\n",
      "    citation : None\n",
      "    description : reconstruction of the zebrafish animal hemisphere (A)\n",
      "    contributors : Keller, P.J., Schmidt, A.D., Wittbrodt, J. and Stelzer, E.H.K.\n",
      "    phone : None\n",
      "    URL : None\n",
      "    organism : zebrafish\n",
      "    E_mail : keller@embl.de\n",
      "    basedon : Measurement\n",
      "    name : Philipp J. Keller\n",
      "    dblink : http://www.embl.de/digitalembryo/fish.html\n",
      "    datatype : nuclear positions\n",
      "    organization : European Molecular Biology Laboratory\n",
      "    title : BDML file for reconstruction of the zebrafish animal hemisphere (A)\n",
      "    address : None\n",
      "    department : Cell Biology and Biophysics Unit\n",
      "    laboratory : Stelzer Laboratory\n",
      "    PMID : 18845710\n",
      "    method_summary : See details in Keller et al. (2008) Science 322, 1065-1069.\n",
      "    localid : zebrafish_animal_a.mat\n",
      "No.: 5\n",
      "    license : CC BY-NC-SA\n",
      "    citation : None\n",
      "    description : reconstruction of the zebrafish animal hemisphere (B)\n",
      "    contributors : Keller, P.J., Schmidt, A.D., Wittbrodt, J. and Stelzer, E.H.K.\n",
      "    phone : None\n",
      "    URL : None\n",
      "    organism : zebrafish\n",
      "    E_mail : keller@embl.de\n",
      "    basedon : Measurement\n",
      "    name : Philipp J. Keller\n",
      "    dblink : http://www.embl.de/digitalembryo/fish.html\n",
      "    datatype : nuclear positions\n",
      "    organization : European Molecular Biology Laboratory\n",
      "    title : BDML file for reconstruction of the zebrafish animal hemisphere (B)\n",
      "    address : None\n",
      "    department : Cell Biology and Biophysics Unit\n",
      "    laboratory : Stelzer Laboratory\n",
      "    PMID : 18845710\n",
      "    method_summary : See details in Keller et al. (2008) Science 322, 1065-1069.\n",
      "    localid : zebrafish_animal_b.mat\n",
      "No.: 6\n",
      "    license : CC BY-NC-SA\n",
      "    citation : None\n",
      "    description : reconstruction of the zebrafish animal hemisphere (C)\n",
      "    contributors : Keller, P.J., Schmidt, A.D., Wittbrodt, J. and Stelzer, E.H.K.\n",
      "    phone : None\n",
      "    URL : None\n",
      "    organism : zebrafish\n",
      "    E_mail : keller@embl.de\n",
      "    basedon : Measurement\n",
      "    name : Philipp J. Keller\n",
      "    dblink : http://www.embl.de/digitalembryo/fish.html\n",
      "    datatype : nuclear positions\n",
      "    organization : European Molecular Biology Laboratory\n",
      "    title : BDML file for reconstruction of the zebrafish animal hemisphere (C)\n",
      "    address : None\n",
      "    department : Cell Biology and Biophysics Unit\n",
      "    laboratory : Stelzer Laboratory\n",
      "    PMID : 18845710\n",
      "    method_summary : See details in Keller et al. (2008) Science 322, 1065-1069.\n",
      "    localid : zebrafish_animal_c.mat\n",
      "No.: 7\n",
      "    license : CC BY-NC-SA\n",
      "    citation : None\n",
      "    description : reconstruction of the zebrafish dorsal hemisphere\n",
      "    contributors : Keller, P.J., Schmidt, A.D., Wittbrodt, J. and Stelzer, E.H.K.\n",
      "    phone : None\n",
      "    URL : None\n",
      "    organism : zebrafish\n",
      "    E_mail : keller@embl.de\n",
      "    basedon : Measurement\n",
      "    name : Philipp J. Keller\n",
      "    dblink : http://www.embl.de/digitalembryo/fish.html\n",
      "    datatype : nuclear positions\n",
      "    organization : European Molecular Biology Laboratory\n",
      "    title : BDML file for reconstruction of the zebrafish dorsal hemisphere\n",
      "    address : None\n",
      "    department : Cell Biology and Biophysics Unit\n",
      "    laboratory : Stelzer Laboratory\n",
      "    PMID : 18845710\n",
      "    method_summary : See details in Keller et al. (2008) Science 322, 1065-1069.\n",
      "    localid : zebrafish_dorsal.mat\n",
      "No.: 8\n",
      "    license : CC BY-NC-SA\n",
      "    citation : None\n",
      "    description : reconstruction of the zebrafish ventral hemisphere\n",
      "    contributors : Keller, P.J., Schmidt, A.D., Wittbrodt, J. and Stelzer, E.H.K.\n",
      "    phone : None\n",
      "    URL : None\n",
      "    organism : zebrafish\n",
      "    E_mail : keller@embl.de\n",
      "    basedon : Measurement\n",
      "    name : Philipp J. Keller\n",
      "    dblink : http://www.embl.de/digitalembryo/fish.html\n",
      "    datatype : nuclear positions\n",
      "    organization : European Molecular Biology Laboratory\n",
      "    title : BDML file for reconstruction of the zebrafish ventral hemisphere\n",
      "    address : None\n",
      "    department : Cell Biology and Biophysics Unit\n",
      "    laboratory : Stelzer Laboratory\n",
      "    PMID : 18845710\n",
      "    method_summary : See details in Keller et al. (2008) Science 322, 1065-1069.\n",
      "    localid : zebrafish_ventral.mat\n",
      "No.: 9\n",
      "    license : CC BY-NC-SA\n",
      "    citation : None\n",
      "    description : in toto reconstruction of zebrafish MZoep mutant development\n",
      "    contributors : Keller, P.J., Schmidt, A.D., Wittbrodt, J. and Stelzer, E.H.K.\n",
      "    phone : None\n",
      "    URL : None\n",
      "    organism : zebrafish\n",
      "    E_mail : keller@embl.de\n",
      "    basedon : Measurement\n",
      "    name : Philipp J. Keller\n",
      "    dblink : http://www.embl.de/digitalembryo/fish.html\n",
      "    datatype : nuclear positions\n",
      "    organization : European Molecular Biology Laboratory\n",
      "    title : BDML file for in toto reconstruction of zebrafish MZoep mutant development\n",
      "    address : None\n",
      "    department : Cell Biology and Biophysics Unit\n",
      "    laboratory : Stelzer Laboratory\n",
      "    PMID : 18845710\n",
      "    method_summary : See details in Keller et al. (2008) Science 322, 1065-1069.\n",
      "    localid : zebrafish_in_toto_mzoep.mat\n"
     ]
    }
   ],
   "source": [
    "resultdata = q.meta_data(field='contributors', search='keller')"
   ]
  },
  {
   "cell_type": "markdown",
   "metadata": {},
   "source": [
    "## Using ssbdapi function 'data' to search for string '505' in the field 'localid'"
   ]
  },
  {
   "cell_type": "code",
   "execution_count": 13,
   "metadata": {
    "collapsed": false
   },
   "outputs": [
    {
     "name": "stdout",
     "output_type": "stream",
     "text": [
      "display= True\n",
      "parameter= http://ssbd.qbic.riken.jp/SSBD/api/v1/data/?format=json;localid__icontains=505;\n",
      "meta= {u'previous': None, u'total_count': 4, u'offset': 0, u'limit': 20, u'next': None}\n",
      "found= 4\n",
      "limit= 20\n",
      "No.: 1\n",
      "    external_source : http://ssbd.qbic.riken.jp/data/source/Ce_ZB/081505_L1/\n",
      "    external_pdpml : http://ssbd.qbic.riken.jp/data/pdpml/bao2006.pdpml0.05.xml\n",
      "    localid : 081505_L1\n",
      "    schema_ver : 0.150\n",
      "    bdmlUUID : d13b27a7-a1dc-41ac-9f12-7b50b4a26e06\n",
      "    external_bdml : http://ssbd.qbic.riken.jp/data/bdml/Ce_ZB/081505_L1-t1_50.bdml0.15.xml\n",
      "    meta_data : {u'license': u'CC BY-NC-SA', u'citation': None, u'description': u'quantitative information about nuclear division dynamics in wild-type embryo', u'contributors': u'Bao, Z., Murray, J.I., Boyle, T., Ooi, S.L., Sandel, M.J., and Waterston, R.H.', u'phone': None, u'URL': None, u'organism': u'C. elegans', u'E_mail': u'waterston@gs.washington.edu', u'basedon': u'Measurement', u'name': u'Robert H. Waterston', u'dblink': u'http://waterston.gs.washington.edu/StarryNite.html', u'datatype': u'nuclear division dynamics', u'organization': u'University of Washington', u'title': u'BDML file for quantitative information about nuclear division dynamics of wild-type embryo', u'address': None, u'department': u'Department of Genome Sciences', u'laboratory': u'Waterston Laboratory', u'PMID': 16477039, u'method_summary': u'See details in Bao et al. (2006) Proc Natl Acad Sci USA 103, 2707-2712.', u'localid': u'081505_L1'}\n",
      "    status : available\n",
      "    bdml_multipart_type : 1\n",
      "    release : 2006-02-21\n",
      "    resource_uri : /SSBD/api/v1/data/108/\n",
      "No.: 2\n",
      "    external_source : None\n",
      "    external_pdpml : http://ssbd.qbic.riken.jp/data/pdpml/bao2006.pdpml0.05.xml\n",
      "    localid : 081505_L1\n",
      "    schema_ver : 0.150\n",
      "    bdmlUUID : a1a96ee3-fd58-48f8-a892-4f17c1d15115\n",
      "    external_bdml : http://ssbd.qbic.riken.jp/data/bdml/Ce_ZB/081505_L1.bdml0.15.xml\n",
      "    meta_data : {u'license': u'CC BY-NC-SA', u'citation': None, u'description': u'quantitative information about nuclear division dynamics in wild-type embryo', u'contributors': u'Bao, Z., Murray, J.I., Boyle, T., Ooi, S.L., Sandel, M.J., and Waterston, R.H.', u'phone': None, u'URL': None, u'organism': u'C. elegans', u'E_mail': u'waterston@gs.washington.edu', u'basedon': u'Measurement', u'name': u'Robert H. Waterston', u'dblink': u'http://waterston.gs.washington.edu/StarryNite.html', u'datatype': u'nuclear division dynamics', u'organization': u'University of Washington', u'title': u'BDML file for quantitative information about nuclear division dynamics of wild-type embryo', u'address': None, u'department': u'Department of Genome Sciences', u'laboratory': u'Waterston Laboratory', u'PMID': 16477039, u'method_summary': u'See details in Bao et al. (2006) Proc Natl Acad Sci USA 103, 2707-2712.', u'localid': u'081505_L1'}\n",
      "    status : available\n",
      "    bdml_multipart_type : 1\n",
      "    release : 2006-02-21\n",
      "    resource_uri : /SSBD/api/v1/data/109/\n",
      "No.: 3\n",
      "    external_source : None\n",
      "    external_pdpml : http://ssbd.qbic.riken.jp/data/pdpml/bao2006.pdpml0.06.xml\n",
      "    localid : 081505_L1\n",
      "    schema_ver : 0.180\n",
      "    bdmlUUID : c5b5f91c-71d3-4aab-964f-e2e810f297e3\n",
      "    external_bdml : http://ssbd.qbic.riken.jp/data/bdml/Ce_ZB/081505_L1.bdml0.18.xml\n",
      "    meta_data : {u'license': u'CC BY-NC-SA', u'citation': None, u'description': u'quantitative information about nuclear division dynamics in wild-type embryo', u'contributors': u'Bao, Z., Murray, J.I., Boyle, T., Ooi, S.L., Sandel, M.J., and Waterston, R.H.', u'phone': None, u'URL': None, u'organism': u'C. elegans', u'E_mail': u'waterston@gs.washington.edu', u'basedon': u'Measurement', u'name': u'Robert H. Waterston', u'dblink': u'http://waterston.gs.washington.edu/StarryNite.html', u'datatype': u'nuclear division dynamics', u'organization': u'University of Washington', u'title': u'BDML file for quantitative information about nuclear division dynamics of wild-type embryo', u'address': None, u'department': u'Department of Genome Sciences', u'laboratory': u'Waterston Laboratory', u'PMID': 16477039, u'method_summary': u'See details in Bao et al. (2006) Proc Natl Acad Sci USA 103, 2707-2712.', u'localid': u'081505_L1'}\n",
      "    status : available\n",
      "    bdml_multipart_type : 1\n",
      "    release : 2006-02-21\n",
      "    resource_uri : /SSBD/api/v1/data/159/\n",
      "No.: 4\n",
      "    external_source : None\n",
      "    external_pdpml : http://ssbd.qbic.riken.jp/data/pdpml/bao2006.pdpml0.06.xml\n",
      "    localid : 081505_L1\n",
      "    schema_ver : 0.180\n",
      "    bdmlUUID : ffec2fe1-34ae-4ddb-b644-55e28cf11e2f\n",
      "    external_bdml : http://ssbd.qbic.riken.jp/data/bdml/Ce_ZB/081505_L1-t1_50.bdml0.18.xml\n",
      "    meta_data : {u'license': u'CC BY-NC-SA', u'citation': None, u'description': u'quantitative information about nuclear division dynamics in wild-type embryo', u'contributors': u'Bao, Z., Murray, J.I., Boyle, T., Ooi, S.L., Sandel, M.J., and Waterston, R.H.', u'phone': None, u'URL': None, u'organism': u'C. elegans', u'E_mail': u'waterston@gs.washington.edu', u'basedon': u'Measurement', u'name': u'Robert H. Waterston', u'dblink': u'http://waterston.gs.washington.edu/StarryNite.html', u'datatype': u'nuclear division dynamics', u'organization': u'University of Washington', u'title': u'BDML file for quantitative information about nuclear division dynamics of wild-type embryo', u'address': None, u'department': u'Department of Genome Sciences', u'laboratory': u'Waterston Laboratory', u'PMID': 16477039, u'method_summary': u'See details in Bao et al. (2006) Proc Natl Acad Sci USA 103, 2707-2712.', u'localid': u'081505_L1'}\n",
      "    status : available\n",
      "    bdml_multipart_type : 1\n",
      "    release : 2006-02-21\n",
      "    resource_uri : /SSBD/api/v1/data/4767/\n"
     ]
    }
   ],
   "source": [
    "resultdata = q.data(field='localid', search='505')"
   ]
  },
  {
   "cell_type": "markdown",
   "metadata": {},
   "source": [
    "## Return data is in JSON format"
   ]
  },
  {
   "cell_type": "code",
   "execution_count": 14,
   "metadata": {
    "collapsed": false
   },
   "outputs": [
    {
     "name": "stdout",
     "output_type": "stream",
     "text": [
      "{u'meta': {u'previous': None, u'total_count': 4, u'offset': 0, u'limit': 20, u'next': None}, u'objects': [{u'external_source': u'http://ssbd.qbic.riken.jp/data/source/Ce_ZB/081505_L1/', u'external_pdpml': u'http://ssbd.qbic.riken.jp/data/pdpml/bao2006.pdpml0.05.xml', u'localid': u'081505_L1', u'schema_ver': u'0.150', u'bdmlUUID': u'd13b27a7-a1dc-41ac-9f12-7b50b4a26e06', u'external_bdml': u'http://ssbd.qbic.riken.jp/data/bdml/Ce_ZB/081505_L1-t1_50.bdml0.15.xml', u'meta_data': {u'license': u'CC BY-NC-SA', u'citation': None, u'description': u'quantitative information about nuclear division dynamics in wild-type embryo', u'contributors': u'Bao, Z., Murray, J.I., Boyle, T., Ooi, S.L., Sandel, M.J., and Waterston, R.H.', u'phone': None, u'URL': None, u'organism': u'C. elegans', u'E_mail': u'waterston@gs.washington.edu', u'basedon': u'Measurement', u'name': u'Robert H. Waterston', u'dblink': u'http://waterston.gs.washington.edu/StarryNite.html', u'datatype': u'nuclear division dynamics', u'organization': u'University of Washington', u'title': u'BDML file for quantitative information about nuclear division dynamics of wild-type embryo', u'address': None, u'department': u'Department of Genome Sciences', u'laboratory': u'Waterston Laboratory', u'PMID': 16477039, u'method_summary': u'See details in Bao et al. (2006) Proc Natl Acad Sci USA 103, 2707-2712.', u'localid': u'081505_L1'}, u'status': u'available', u'bdml_multipart_type': u'1', u'release': u'2006-02-21', u'resource_uri': u'/SSBD/api/v1/data/108/'}, {u'external_source': None, u'external_pdpml': u'http://ssbd.qbic.riken.jp/data/pdpml/bao2006.pdpml0.05.xml', u'localid': u'081505_L1', u'schema_ver': u'0.150', u'bdmlUUID': u'a1a96ee3-fd58-48f8-a892-4f17c1d15115', u'external_bdml': u'http://ssbd.qbic.riken.jp/data/bdml/Ce_ZB/081505_L1.bdml0.15.xml', u'meta_data': {u'license': u'CC BY-NC-SA', u'citation': None, u'description': u'quantitative information about nuclear division dynamics in wild-type embryo', u'contributors': u'Bao, Z., Murray, J.I., Boyle, T., Ooi, S.L., Sandel, M.J., and Waterston, R.H.', u'phone': None, u'URL': None, u'organism': u'C. elegans', u'E_mail': u'waterston@gs.washington.edu', u'basedon': u'Measurement', u'name': u'Robert H. Waterston', u'dblink': u'http://waterston.gs.washington.edu/StarryNite.html', u'datatype': u'nuclear division dynamics', u'organization': u'University of Washington', u'title': u'BDML file for quantitative information about nuclear division dynamics of wild-type embryo', u'address': None, u'department': u'Department of Genome Sciences', u'laboratory': u'Waterston Laboratory', u'PMID': 16477039, u'method_summary': u'See details in Bao et al. (2006) Proc Natl Acad Sci USA 103, 2707-2712.', u'localid': u'081505_L1'}, u'status': u'available', u'bdml_multipart_type': u'1', u'release': u'2006-02-21', u'resource_uri': u'/SSBD/api/v1/data/109/'}, {u'external_source': None, u'external_pdpml': u'http://ssbd.qbic.riken.jp/data/pdpml/bao2006.pdpml0.06.xml', u'localid': u'081505_L1', u'schema_ver': u'0.180', u'bdmlUUID': u'c5b5f91c-71d3-4aab-964f-e2e810f297e3', u'external_bdml': u'http://ssbd.qbic.riken.jp/data/bdml/Ce_ZB/081505_L1.bdml0.18.xml', u'meta_data': {u'license': u'CC BY-NC-SA', u'citation': None, u'description': u'quantitative information about nuclear division dynamics in wild-type embryo', u'contributors': u'Bao, Z., Murray, J.I., Boyle, T., Ooi, S.L., Sandel, M.J., and Waterston, R.H.', u'phone': None, u'URL': None, u'organism': u'C. elegans', u'E_mail': u'waterston@gs.washington.edu', u'basedon': u'Measurement', u'name': u'Robert H. Waterston', u'dblink': u'http://waterston.gs.washington.edu/StarryNite.html', u'datatype': u'nuclear division dynamics', u'organization': u'University of Washington', u'title': u'BDML file for quantitative information about nuclear division dynamics of wild-type embryo', u'address': None, u'department': u'Department of Genome Sciences', u'laboratory': u'Waterston Laboratory', u'PMID': 16477039, u'method_summary': u'See details in Bao et al. (2006) Proc Natl Acad Sci USA 103, 2707-2712.', u'localid': u'081505_L1'}, u'status': u'available', u'bdml_multipart_type': u'1', u'release': u'2006-02-21', u'resource_uri': u'/SSBD/api/v1/data/159/'}, {u'external_source': None, u'external_pdpml': u'http://ssbd.qbic.riken.jp/data/pdpml/bao2006.pdpml0.06.xml', u'localid': u'081505_L1', u'schema_ver': u'0.180', u'bdmlUUID': u'ffec2fe1-34ae-4ddb-b644-55e28cf11e2f', u'external_bdml': u'http://ssbd.qbic.riken.jp/data/bdml/Ce_ZB/081505_L1-t1_50.bdml0.18.xml', u'meta_data': {u'license': u'CC BY-NC-SA', u'citation': None, u'description': u'quantitative information about nuclear division dynamics in wild-type embryo', u'contributors': u'Bao, Z., Murray, J.I., Boyle, T., Ooi, S.L., Sandel, M.J., and Waterston, R.H.', u'phone': None, u'URL': None, u'organism': u'C. elegans', u'E_mail': u'waterston@gs.washington.edu', u'basedon': u'Measurement', u'name': u'Robert H. Waterston', u'dblink': u'http://waterston.gs.washington.edu/StarryNite.html', u'datatype': u'nuclear division dynamics', u'organization': u'University of Washington', u'title': u'BDML file for quantitative information about nuclear division dynamics of wild-type embryo', u'address': None, u'department': u'Department of Genome Sciences', u'laboratory': u'Waterston Laboratory', u'PMID': 16477039, u'method_summary': u'See details in Bao et al. (2006) Proc Natl Acad Sci USA 103, 2707-2712.', u'localid': u'081505_L1'}, u'status': u'available', u'bdml_multipart_type': u'1', u'release': u'2006-02-21', u'resource_uri': u'/SSBD/api/v1/data/4767/'}]}\n"
     ]
    }
   ],
   "source": [
    "print resultdata"
   ]
  },
  {
   "cell_type": "markdown",
   "metadata": {},
   "source": [
    "## Retrieve function to get all the coordinates at a specific time point"
   ]
  },
  {
   "cell_type": "code",
   "execution_count": 15,
   "metadata": {
    "collapsed": true
   },
   "outputs": [],
   "source": [
    "def retrieve_coord_tp(bdmlID, timept, display='on'):\n",
    "    q=ssbdapi.ssbd()\n",
    "    q.set_display(display)\n",
    "    tmp_result = q.coordXYZ(bdmlID, timept)\n",
    "    total = tmp_result['meta']['total_count']\n",
    "    #print \"total=\", total\n",
    "    result=tmp_result\n",
    "    tmp_offset=0\n",
    "    while total>0:\n",
    "        tmp_offset=tmp_offset+100\n",
    "        tmp_result=q.coordXYZ(bdmlID, timept, offset=tmp_offset)\n",
    "        result['objects']=result['objects']+tmp_result['objects']\n",
    "        total=total-100\n",
    "    return(result)"
   ]
  },
  {
   "cell_type": "markdown",
   "metadata": {},
   "source": [
    "## Call retrieve coordinates function to get the coordinates of BDMLID that contains string 'd15115' at time point 15"
   ]
  },
  {
   "cell_type": "code",
   "execution_count": 16,
   "metadata": {
    "collapsed": false
   },
   "outputs": [
    {
     "name": "stdout",
     "output_type": "stream",
     "text": [
      "display=True\n",
      "display= True\n",
      "parameter= http://ssbd.qbic.riken.jp/SSBD/api/v1/coordsXYZ/?format=json;bdml__bdml_ID__icontains=d15115;t=15;offset=0\n",
      "meta= {u'previous': None, u'total_count': 9, u'offset': 0, u'limit': 20, u'next': None}\n",
      "found= 9\n",
      "limit= 20\n",
      "No.: 1\n",
      "    bdml : {u'bdml_ID': u'a1a96ee3-fd58-48f8-a892-4f17c1d15115', u'id': 203, u'title': u'BDML file for quantitative information about nuclear division dynamics of wild-type embryo'}\n",
      "    entitytype : sphere\n",
      "    radius : 1.62\n",
      "    t : 15.0\n",
      "    y : 342.0\n",
      "    x : 160.0\n",
      "    z : 6.2\n",
      "No.: 2\n",
      "    bdml : {u'bdml_ID': u'a1a96ee3-fd58-48f8-a892-4f17c1d15115', u'id': 203, u'title': u'BDML file for quantitative information about nuclear division dynamics of wild-type embryo'}\n",
      "    entitytype : sphere\n",
      "    radius : 3.33\n",
      "    t : 15.0\n",
      "    y : 355.0\n",
      "    x : 363.0\n",
      "    z : 11.7\n",
      "No.: 3\n",
      "    bdml : {u'bdml_ID': u'a1a96ee3-fd58-48f8-a892-4f17c1d15115', u'id': 203, u'title': u'BDML file for quantitative information about nuclear division dynamics of wild-type embryo'}\n",
      "    entitytype : sphere\n",
      "    radius : 3.06\n",
      "    t : 15.0\n",
      "    y : 246.0\n",
      "    x : 514.0\n",
      "    z : 12.5\n",
      "No.: 4\n",
      "    bdml : {u'bdml_ID': u'a1a96ee3-fd58-48f8-a892-4f17c1d15115', u'id': 203, u'title': u'BDML file for quantitative information about nuclear division dynamics of wild-type embryo'}\n",
      "    entitytype : sphere\n",
      "    radius : 3.33\n",
      "    t : 15.0\n",
      "    y : 140.0\n",
      "    x : 264.0\n",
      "    z : 14.7\n",
      "No.: 5\n",
      "    bdml : {u'bdml_ID': u'a1a96ee3-fd58-48f8-a892-4f17c1d15115', u'id': 203, u'title': u'BDML file for quantitative information about nuclear division dynamics of wild-type embryo'}\n",
      "    entitytype : sphere\n",
      "    radius : 3.33\n",
      "    t : 15.0\n",
      "    y : 310.0\n",
      "    x : 161.0\n",
      "    z : 16.0\n",
      "No.: 6\n",
      "    bdml : {u'bdml_ID': u'a1a96ee3-fd58-48f8-a892-4f17c1d15115', u'id': 203, u'title': u'BDML file for quantitative information about nuclear division dynamics of wild-type embryo'}\n",
      "    entitytype : sphere\n",
      "    radius : 3.15\n",
      "    t : 15.0\n",
      "    y : 352.0\n",
      "    x : 479.0\n",
      "    z : 20.3\n",
      "No.: 7\n",
      "    bdml : {u'bdml_ID': u'a1a96ee3-fd58-48f8-a892-4f17c1d15115', u'id': 203, u'title': u'BDML file for quantitative information about nuclear division dynamics of wild-type embryo'}\n",
      "    entitytype : sphere\n",
      "    radius : 2.88\n",
      "    t : 15.0\n",
      "    y : 322.0\n",
      "    x : 555.0\n",
      "    z : 21.2\n",
      "No.: 8\n",
      "    bdml : {u'bdml_ID': u'a1a96ee3-fd58-48f8-a892-4f17c1d15115', u'id': 203, u'title': u'BDML file for quantitative information about nuclear division dynamics of wild-type embryo'}\n",
      "    entitytype : sphere\n",
      "    radius : 3.33\n",
      "    t : 15.0\n",
      "    y : 163.0\n",
      "    x : 448.0\n",
      "    z : 22.4\n",
      "No.: 9\n",
      "    bdml : {u'bdml_ID': u'a1a96ee3-fd58-48f8-a892-4f17c1d15115', u'id': 203, u'title': u'BDML file for quantitative information about nuclear division dynamics of wild-type embryo'}\n",
      "    entitytype : sphere\n",
      "    radius : 3.24\n",
      "    t : 15.0\n",
      "    y : 302.0\n",
      "    x : 306.0\n",
      "    z : 23.4\n",
      "display= True\n",
      "parameter= http://ssbd.qbic.riken.jp/SSBD/api/v1/coordsXYZ/?format=json;bdml__bdml_ID__icontains=d15115;t=15;offset=100\n",
      "meta= {u'previous': u'/SSBD/api/v1/coordsXYZ/?format=json&limit=20&t=15&bdml__bdml_ID__icontains=d15115&offset=80', u'total_count': 9, u'offset': 100, u'limit': 20, u'next': None}\n",
      "found= 9\n",
      "limit= 20\n"
     ]
    }
   ],
   "source": [
    "resultdata=retrieve_coord_tp('d15115', 15)"
   ]
  },
  {
   "cell_type": "markdown",
   "metadata": {},
   "source": [
    "## Using the ssbdapi function 'scale' and search for bdmlID using field 'bdml__bdml_ID' "
   ]
  },
  {
   "cell_type": "code",
   "execution_count": 17,
   "metadata": {
    "collapsed": false
   },
   "outputs": [
    {
     "name": "stdout",
     "output_type": "stream",
     "text": [
      "display= True\n",
      "parameter= http://ssbd.qbic.riken.jp/SSBD/api/v1/scale/?format=json;bdml__bdml_ID__icontains=d15115;\n",
      "meta= {u'previous': None, u'total_count': 1, u'offset': 0, u'limit': 20, u'next': None}\n",
      "found= 1\n",
      "limit= 20\n",
      "No.: 1\n",
      "    tScale : 1.0\n",
      "    yScale : 0.09\n",
      "    bdml : {u'bdml_ID': u'a1a96ee3-fd58-48f8-a892-4f17c1d15115', u'id': 203, u'title': u'BDML file for quantitative information about nuclear division dynamics of wild-type embryo'}\n",
      "    zScale : 1.0\n",
      "    tUnit : minute\n",
      "    xScale : 0.09\n",
      "    xyzUnit : micrometer\n"
     ]
    }
   ],
   "source": [
    "s=q.scale(field='bdml__bdml_ID', search='d15115') "
   ]
  },
  {
   "cell_type": "markdown",
   "metadata": {},
   "source": [
    "## Setup a canvas to display 3D graphics"
   ]
  },
  {
   "cell_type": "code",
   "execution_count": 18,
   "metadata": {
    "collapsed": false
   },
   "outputs": [
    {
     "data": {
      "text/html": [
       "<div id=\"scene0\"><div id=\"glowscript\" class=\"glowscript\"></div></div>"
      ],
      "text/plain": [
       "<IPython.core.display.HTML object>"
      ]
     },
     "metadata": {},
     "output_type": "display_data"
    },
    {
     "data": {
      "application/javascript": [
       "window.__context = { glowscript_container: $(\"#glowscript\").removeAttr(\"id\")}"
      ],
      "text/plain": [
       "<IPython.core.display.Javascript object>"
      ]
     },
     "metadata": {},
     "output_type": "display_data"
    }
   ],
   "source": [
    "canvas(title=\"Displaying 3D graphics\", background=(0.8,0.8,0.8) )\n",
    "c = color.red\n",
    "r = 0.1\n",
    "x = 0\n",
    "y = 0\n",
    "Z = 0"
   ]
  },
  {
   "cell_type": "markdown",
   "metadata": {},
   "source": [
    "## Visualization - displaying the coordinates as sphere in 3D"
   ]
  },
  {
   "cell_type": "code",
   "execution_count": 19,
   "metadata": {
    "collapsed": false
   },
   "outputs": [],
   "source": [
    "for j in s['objects']:\n",
    "    sx = j['xScale']\n",
    "    sy = j['yScale']\n",
    "    sz = j['zScale']\n",
    "    sr = j['xScale']\n",
    "    st = j['tScale']\n",
    "    tu = j['tUnit']"
   ]
  },
  {
   "cell_type": "code",
   "execution_count": 20,
   "metadata": {
    "collapsed": false
   },
   "outputs": [],
   "source": [
    "for i in resultdata['objects']:\n",
    "        sphere(pos=(i['x']*sx, i['y']*sy, i['z']*sz), color=c, radius=i['radius'])"
   ]
  },
  {
   "cell_type": "markdown",
   "metadata": {},
   "source": [
    "## Analysis - plotting the proliferation curve"
   ]
  },
  {
   "cell_type": "code",
   "execution_count": 21,
   "metadata": {
    "collapsed": false
   },
   "outputs": [],
   "source": [
    "no_of_nucleus = []\n",
    "timept = []\n",
    "tp = 1\n",
    "resultdata = retrieve_coord_tp('d15115', tp, display='off')\n",
    "nn =resultdata['meta']['total_count']\n",
    "while nn > 0:\n",
    "    no_of_nucleus.append(nn)\n",
    "    timept.append(tp)\n",
    "    # print \"tp=\"+str(tp)+\" nn=\"+str(nn)\n",
    "    tp=tp+1\n",
    "    resultdata = retrieve_coord_tp('d15115', tp, display='off')\n",
    "    nn =resultdata['meta']['total_count']\n",
    "    \n",
    "    "
   ]
  },
  {
   "cell_type": "markdown",
   "metadata": {},
   "source": [
    "## Get the title, organism and contact name of the dataset"
   ]
  },
  {
   "cell_type": "code",
   "execution_count": 22,
   "metadata": {
    "collapsed": false
   },
   "outputs": [],
   "source": [
    "q.set_display('off')\n",
    "resultmetadata = q.data(field='bdmlUUID', search='d15115')\n",
    "for i in resultmetadata['objects']:\n",
    "    title= i['meta_data']['title']\n",
    "    name= i['meta_data']['name']\n",
    "    organism = i['meta_data']['organism']"
   ]
  },
  {
   "cell_type": "markdown",
   "metadata": {},
   "source": [
    "## Plotting the curve"
   ]
  },
  {
   "cell_type": "code",
   "execution_count": 23,
   "metadata": {
    "collapsed": false
   },
   "outputs": [
    {
     "data": {
      "image/png": "[encoded data removed]",
      "text/plain": [
       "<matplotlib.figure.Figure at 0x10ae1d550>"
      ]
     },
     "metadata": {},
     "output_type": "display_data"
    }
   ],
   "source": [
    "fig=plt.figure()\n",
    "label=['Cell_Divsion_Stage', 'Time(sec)']\n",
    "plt.plot(timept, no_of_nucleus, 'r')\n",
    "ax = fig.add_subplot(1,1,1)\n",
    "ax.set_ylabel('cellstage')\n",
    "ax.set_xlabel('timepoint')\n",
    "plottitle = title+'  ['+organism+']  ('+name+')  '+' Cell divsion over time '\n",
    "plt.title(plottitle);"
   ]
  },
  {
   "cell_type": "markdown",
   "metadata": {},
   "source": [
    "### Plotting using actual time instead of time point"
   ]
  },
  {
   "cell_type": "code",
   "execution_count": 24,
   "metadata": {
    "collapsed": false
   },
   "outputs": [
    {
     "data": {
      "image/png": "[encoded data removed]",
      "text/plain": [
       "<matplotlib.figure.Figure at 0x10afb75d0>"
      ]
     },
     "metadata": {},
     "output_type": "display_data"
    }
   ],
   "source": [
    "tmp=np.array(timept)\n",
    "time=tmp*st\n",
    "fig=plt.figure()\n",
    "label=['Cell_Divsion_Stage', 'Time(sec)']\n",
    "plt.plot(time, no_of_nucleus, 'r')\n",
    "ax = fig.add_subplot(1,1,1)\n",
    "ax.set_ylabel('cellstage')\n",
    "xlabel = 'time ( '+tu+' )'\n",
    "ax.set_xlabel(xlabel)\n",
    "plottitle = title+'  ('+name+')  '+' Cell divsion over time '\n",
    "plt.title(plottitle);"
   ]
  },
  {
   "cell_type": "code",
   "execution_count": null,
   "metadata": {
    "collapsed": true
   },
   "outputs": [],
   "source": []
  }
 ],
 "metadata": {
  "kernelspec": {
   "display_name": "Python 2",
   "language": "python",
   "name": "python2"
  },
  "language_info": {
   "codemirror_mode": {
    "name": "ipython",
    "version": 2
   },
   "file_extension": ".py",
   "mimetype": "text/x-python",
   "name": "python",
   "nbconvert_exporter": "python",
   "pygments_lexer": "ipython2",
   "version": "2.7.10"
  }
 },
 "nbformat": 4,
 "nbformat_minor": 0
}
